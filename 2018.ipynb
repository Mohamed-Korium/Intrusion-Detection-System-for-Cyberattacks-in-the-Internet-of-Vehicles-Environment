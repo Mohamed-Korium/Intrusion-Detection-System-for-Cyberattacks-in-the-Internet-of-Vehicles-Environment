{
 "cells": [
  {
   "cell_type": "markdown",
   "metadata": {
    "id": "WKWZTWdPyDPm"
   },
   "source": [
    "### Install "
   ]
  },
  {
   "cell_type": "code",
   "execution_count": null,
   "metadata": {
    "id": "b6VVlo6Bm5vs"
   },
   "outputs": [],
   "source": [
    "import numpy as np\n",
    "import pandas as pd\n",
    "import matplotlib.pyplot as plt\n",
    "import seaborn as sns\n",
    "import pickle\n",
    "import glob\n",
    "import os\n",
    "from sklearn.ensemble import RandomForestClassifier\n",
    "import xgboost as xgb\n",
    "import lightgbm as lgb\n",
    "from sklearn import preprocessing\n",
    "LabelEncoder = preprocessing.LabelEncoder()\n",
    "import time\n",
    "import lightgbm as LGBMClassifier\n",
    "from sklearn.ensemble import ExtraTreesClassifier\n",
    "from sklearn.model_selection import RandomizedSearchCV, GridSearchCV\n",
    "import scikitplot as skplt\n",
    "from sklearn.model_selection import train_test_split\n",
    "from sklearn.preprocessing import StandardScaler\n",
    "from sklearn.dummy import DummyClassifier\n",
    "from sklearn.linear_model import LogisticRegression\n",
    "from sklearn.ensemble import RandomForestClassifier\n",
    "from sklearn.metrics import classification_report, precision_recall_curve, average_precision_score\n",
    "from sklearn.metrics import classification_report,confusion_matrix,accuracy_score,precision_recall_fscore_support\n",
    "from catboost import CatBoostClassifier\n",
    "from catboost import Pool\n",
    "from scipy.stats import spearmanr\n",
    "from scipy.cluster import hierarchy\n",
    "from collections import defaultdict\n",
    "from scipy.stats import ks_2samp\n",
    "from scipy.stats import describe\n",
    "from imblearn.over_sampling import SMOTENC\n",
    "from collections import Counter\n",
    "from IPython.display import display"
   ]
  },
  {
   "cell_type": "code",
   "execution_count": null,
   "metadata": {
    "id": "1zVUwC1Gufpw"
   },
   "outputs": [],
   "source": [
    "dataset_base_path = '/content/drive/My Drive/Colab Notebooks/Newi/2021Project3/Dataupdate' "
   ]
  },
  {
   "cell_type": "code",
   "execution_count": null,
   "metadata": {
    "colab": {
     "base_uri": "https://localhost:8080/"
    },
    "executionInfo": {
     "elapsed": 11,
     "status": "ok",
     "timestamp": 1637445428329,
     "user": {
      "displayName": "code ai",
      "photoUrl": "https://lh3.googleusercontent.com/a/default-user=s64",
      "userId": "17345359434679870937"
     },
     "user_tz": -120
    },
    "id": "Kmf3TsH63ynU",
    "outputId": "1e922ca4-a031-4f83-fc5b-5339fd2dcf89"
   },
   "outputs": [
    {
     "name": "stdout",
     "output_type": "stream",
     "text": [
      "Filesystem      Size  Used Avail Use% Mounted on\n",
      "overlay         226G   43G  184G  19% /\n",
      "tmpfs            64M     0   64M   0% /dev\n",
      "tmpfs            18G     0   18G   0% /sys/fs/cgroup\n",
      "shm              17G     0   17G   0% /dev/shm\n",
      "/dev/root       2.0G  1.2G  821M  59% /sbin/docker-init\n",
      "tmpfs            18G   28K   18G   1% /var/colab\n",
      "/dev/sda1       233G   45G  188G  20% /etc/hosts\n",
      "tmpfs            18G     0   18G   0% /proc/acpi\n",
      "tmpfs            18G     0   18G   0% /proc/scsi\n",
      "tmpfs            18G     0   18G   0% /sys/firmware\n",
      "drive           100G   24G   77G  24% /content/drive\n"
     ]
    }
   ],
   "source": [
    "!df -h"
   ]
  },
  {
   "cell_type": "code",
   "execution_count": null,
   "metadata": {
    "colab": {
     "base_uri": "https://localhost:8080/"
    },
    "executionInfo": {
     "elapsed": 11,
     "status": "ok",
     "timestamp": 1637445428330,
     "user": {
      "displayName": "code ai",
      "photoUrl": "https://lh3.googleusercontent.com/a/default-user=s64",
      "userId": "17345359434679870937"
     },
     "user_tz": -120
    },
    "id": "9xVb-aLF5D-B",
    "outputId": "796e6bc9-aec7-4a61-fb28-0404c02ac831"
   },
   "outputs": [
    {
     "name": "stdout",
     "output_type": "stream",
     "text": [
      "processor\t: 0\n",
      "vendor_id\t: GenuineIntel\n",
      "cpu family\t: 6\n",
      "model\t\t: 63\n",
      "model name\t: Intel(R) Xeon(R) CPU @ 2.30GHz\n",
      "stepping\t: 0\n",
      "microcode\t: 0x1\n",
      "cpu MHz\t\t: 2299.998\n",
      "cache size\t: 46080 KB\n",
      "physical id\t: 0\n",
      "siblings\t: 40\n",
      "core id\t\t: 0\n",
      "cpu cores\t: 20\n",
      "apicid\t\t: 0\n",
      "initial apicid\t: 0\n",
      "fpu\t\t: yes\n",
      "fpu_exception\t: yes\n",
      "cpuid level\t: 13\n",
      "wp\t\t: yes\n",
      "flags\t\t: fpu vme de pse tsc msr pae mce cx8 apic sep mtrr pge mca cmov pat pse36 clflush mmx fxsr sse sse2 ss ht syscall nx pdpe1gb rdtscp lm constant_tsc rep_good nopl xtopology nonstop_tsc cpuid tsc_known_freq pni pclmulqdq ssse3 fma cx16 pcid sse4_1 sse4_2 x2apic movbe popcnt aes xsave avx f16c rdrand hypervisor lahf_lm abm invpcid_single ssbd ibrs ibpb stibp fsgsbase tsc_adjust bmi1 avx2 smep bmi2 erms invpcid xsaveopt arat md_clear arch_capabilities\n",
      "bugs\t\t: cpu_meltdown spectre_v1 spectre_v2 spec_store_bypass l1tf mds swapgs\n",
      "bogomips\t: 4599.99\n",
      "clflush size\t: 64\n",
      "cache_alignment\t: 64\n",
      "address sizes\t: 46 bits physical, 48 bits virtual\n",
      "power management:\n",
      "\n",
      "processor\t: 1\n",
      "vendor_id\t: GenuineIntel\n",
      "cpu family\t: 6\n",
      "model\t\t: 63\n",
      "model name\t: Intel(R) Xeon(R) CPU @ 2.30GHz\n",
      "stepping\t: 0\n",
      "microcode\t: 0x1\n",
      "cpu MHz\t\t: 2299.998\n",
      "cache size\t: 46080 KB\n",
      "physical id\t: 0\n",
      "siblings\t: 40\n",
      "core id\t\t: 1\n",
      "cpu cores\t: 20\n",
      "apicid\t\t: 2\n",
      "initial apicid\t: 2\n",
      "fpu\t\t: yes\n",
      "fpu_exception\t: yes\n",
      "cpuid level\t: 13\n",
      "wp\t\t: yes\n",
      "flags\t\t: fpu vme de pse tsc msr pae mce cx8 apic sep mtrr pge mca cmov pat pse36 clflush mmx fxsr sse sse2 ss ht syscall nx pdpe1gb rdtscp lm constant_tsc rep_good nopl xtopology nonstop_tsc cpuid tsc_known_freq pni pclmulqdq ssse3 fma cx16 pcid sse4_1 sse4_2 x2apic movbe popcnt aes xsave avx f16c rdrand hypervisor lahf_lm abm invpcid_single ssbd ibrs ibpb stibp fsgsbase tsc_adjust bmi1 avx2 smep bmi2 erms invpcid xsaveopt arat md_clear arch_capabilities\n",
      "bugs\t\t: cpu_meltdown spectre_v1 spectre_v2 spec_store_bypass l1tf mds swapgs\n",
      "bogomips\t: 4599.99\n",
      "clflush size\t: 64\n",
      "cache_alignment\t: 64\n",
      "address sizes\t: 46 bits physical, 48 bits virtual\n",
      "power management:\n",
      "\n",
      "processor\t: 2\n",
      "vendor_id\t: GenuineIntel\n",
      "cpu family\t: 6\n",
      "model\t\t: 63\n",
      "model name\t: Intel(R) Xeon(R) CPU @ 2.30GHz\n",
      "stepping\t: 0\n",
      "microcode\t: 0x1\n",
      "cpu MHz\t\t: 2299.998\n",
      "cache size\t: 46080 KB\n",
      "physical id\t: 0\n",
      "siblings\t: 40\n",
      "core id\t\t: 2\n",
      "cpu cores\t: 20\n",
      "apicid\t\t: 4\n",
      "initial apicid\t: 4\n",
      "fpu\t\t: yes\n",
      "fpu_exception\t: yes\n",
      "cpuid level\t: 13\n",
      "wp\t\t: yes\n",
      "flags\t\t: fpu vme de pse tsc msr pae mce cx8 apic sep mtrr pge mca cmov pat pse36 clflush mmx fxsr sse sse2 ss ht syscall nx pdpe1gb rdtscp lm constant_tsc rep_good nopl xtopology nonstop_tsc cpuid tsc_known_freq pni pclmulqdq ssse3 fma cx16 pcid sse4_1 sse4_2 x2apic movbe popcnt aes xsave avx f16c rdrand hypervisor lahf_lm abm invpcid_single ssbd ibrs ibpb stibp fsgsbase tsc_adjust bmi1 avx2 smep bmi2 erms invpcid xsaveopt arat md_clear arch_capabilities\n",
      "bugs\t\t: cpu_meltdown spectre_v1 spectre_v2 spec_store_bypass l1tf mds swapgs\n",
      "bogomips\t: 4599.99\n",
      "clflush size\t: 64\n",
      "cache_alignment\t: 64\n",
      "address sizes\t: 46 bits physical, 48 bits virtual\n",
      "power management:\n",
      "\n",
      "processor\t: 3\n",
      "vendor_id\t: GenuineIntel\n",
      "cpu family\t: 6\n",
      "model\t\t: 63\n",
      "model name\t: Intel(R) Xeon(R) CPU @ 2.30GHz\n",
      "stepping\t: 0\n",
      "microcode\t: 0x1\n",
      "cpu MHz\t\t: 2299.998\n",
      "cache size\t: 46080 KB\n",
      "physical id\t: 0\n",
      "siblings\t: 40\n",
      "core id\t\t: 3\n",
      "cpu cores\t: 20\n",
      "apicid\t\t: 6\n",
      "initial apicid\t: 6\n",
      "fpu\t\t: yes\n",
      "fpu_exception\t: yes\n",
      "cpuid level\t: 13\n",
      "wp\t\t: yes\n",
      "flags\t\t: fpu vme de pse tsc msr pae mce cx8 apic sep mtrr pge mca cmov pat pse36 clflush mmx fxsr sse sse2 ss ht syscall nx pdpe1gb rdtscp lm constant_tsc rep_good nopl xtopology nonstop_tsc cpuid tsc_known_freq pni pclmulqdq ssse3 fma cx16 pcid sse4_1 sse4_2 x2apic movbe popcnt aes xsave avx f16c rdrand hypervisor lahf_lm abm invpcid_single ssbd ibrs ibpb stibp fsgsbase tsc_adjust bmi1 avx2 smep bmi2 erms invpcid xsaveopt arat md_clear arch_capabilities\n",
      "bugs\t\t: cpu_meltdown spectre_v1 spectre_v2 spec_store_bypass l1tf mds swapgs\n",
      "bogomips\t: 4599.99\n",
      "clflush size\t: 64\n",
      "cache_alignment\t: 64\n",
      "address sizes\t: 46 bits physical, 48 bits virtual\n",
      "power management:\n",
      "\n",
      "processor\t: 4\n",
      "vendor_id\t: GenuineIntel\n",
      "cpu family\t: 6\n",
      "model\t\t: 63\n",
      "model name\t: Intel(R) Xeon(R) CPU @ 2.30GHz\n",
      "stepping\t: 0\n",
      "microcode\t: 0x1\n",
      "cpu MHz\t\t: 2299.998\n",
      "cache size\t: 46080 KB\n",
      "physical id\t: 0\n",
      "siblings\t: 40\n",
      "core id\t\t: 4\n",
      "cpu cores\t: 20\n",
      "apicid\t\t: 8\n",
      "initial apicid\t: 8\n",
      "fpu\t\t: yes\n",
      "fpu_exception\t: yes\n",
      "cpuid level\t: 13\n",
      "wp\t\t: yes\n",
      "flags\t\t: fpu vme de pse tsc msr pae mce cx8 apic sep mtrr pge mca cmov pat pse36 clflush mmx fxsr sse sse2 ss ht syscall nx pdpe1gb rdtscp lm constant_tsc rep_good nopl xtopology nonstop_tsc cpuid tsc_known_freq pni pclmulqdq ssse3 fma cx16 pcid sse4_1 sse4_2 x2apic movbe popcnt aes xsave avx f16c rdrand hypervisor lahf_lm abm invpcid_single ssbd ibrs ibpb stibp fsgsbase tsc_adjust bmi1 avx2 smep bmi2 erms invpcid xsaveopt arat md_clear arch_capabilities\n",
      "bugs\t\t: cpu_meltdown spectre_v1 spectre_v2 spec_store_bypass l1tf mds swapgs\n",
      "bogomips\t: 4599.99\n",
      "clflush size\t: 64\n",
      "cache_alignment\t: 64\n",
      "address sizes\t: 46 bits physical, 48 bits virtual\n",
      "power management:\n",
      "\n",
      "processor\t: 5\n",
      "vendor_id\t: GenuineIntel\n",
      "cpu family\t: 6\n",
      "model\t\t: 63\n",
      "model name\t: Intel(R) Xeon(R) CPU @ 2.30GHz\n",
      "stepping\t: 0\n",
      "microcode\t: 0x1\n",
      "cpu MHz\t\t: 2299.998\n",
      "cache size\t: 46080 KB\n",
      "physical id\t: 0\n",
      "siblings\t: 40\n",
      "core id\t\t: 5\n",
      "cpu cores\t: 20\n",
      "apicid\t\t: 10\n",
      "initial apicid\t: 10\n",
      "fpu\t\t: yes\n",
      "fpu_exception\t: yes\n",
      "cpuid level\t: 13\n",
      "wp\t\t: yes\n",
      "flags\t\t: fpu vme de pse tsc msr pae mce cx8 apic sep mtrr pge mca cmov pat pse36 clflush mmx fxsr sse sse2 ss ht syscall nx pdpe1gb rdtscp lm constant_tsc rep_good nopl xtopology nonstop_tsc cpuid tsc_known_freq pni pclmulqdq ssse3 fma cx16 pcid sse4_1 sse4_2 x2apic movbe popcnt aes xsave avx f16c rdrand hypervisor lahf_lm abm invpcid_single ssbd ibrs ibpb stibp fsgsbase tsc_adjust bmi1 avx2 smep bmi2 erms invpcid xsaveopt arat md_clear arch_capabilities\n",
      "bugs\t\t: cpu_meltdown spectre_v1 spectre_v2 spec_store_bypass l1tf mds swapgs\n",
      "bogomips\t: 4599.99\n",
      "clflush size\t: 64\n",
      "cache_alignment\t: 64\n",
      "address sizes\t: 46 bits physical, 48 bits virtual\n",
      "power management:\n",
      "\n",
      "processor\t: 6\n",
      "vendor_id\t: GenuineIntel\n",
      "cpu family\t: 6\n",
      "model\t\t: 63\n",
      "model name\t: Intel(R) Xeon(R) CPU @ 2.30GHz\n",
      "stepping\t: 0\n",
      "microcode\t: 0x1\n",
      "cpu MHz\t\t: 2299.998\n",
      "cache size\t: 46080 KB\n",
      "physical id\t: 0\n",
      "siblings\t: 40\n",
      "core id\t\t: 6\n",
      "cpu cores\t: 20\n",
      "apicid\t\t: 12\n",
      "initial apicid\t: 12\n",
      "fpu\t\t: yes\n",
      "fpu_exception\t: yes\n",
      "cpuid level\t: 13\n",
      "wp\t\t: yes\n",
      "flags\t\t: fpu vme de pse tsc msr pae mce cx8 apic sep mtrr pge mca cmov pat pse36 clflush mmx fxsr sse sse2 ss ht syscall nx pdpe1gb rdtscp lm constant_tsc rep_good nopl xtopology nonstop_tsc cpuid tsc_known_freq pni pclmulqdq ssse3 fma cx16 pcid sse4_1 sse4_2 x2apic movbe popcnt aes xsave avx f16c rdrand hypervisor lahf_lm abm invpcid_single ssbd ibrs ibpb stibp fsgsbase tsc_adjust bmi1 avx2 smep bmi2 erms invpcid xsaveopt arat md_clear arch_capabilities\n",
      "bugs\t\t: cpu_meltdown spectre_v1 spectre_v2 spec_store_bypass l1tf mds swapgs\n",
      "bogomips\t: 4599.99\n",
      "clflush size\t: 64\n",
      "cache_alignment\t: 64\n",
      "address sizes\t: 46 bits physical, 48 bits virtual\n",
      "power management:\n",
      "\n",
      "processor\t: 7\n",
      "vendor_id\t: GenuineIntel\n",
      "cpu family\t: 6\n",
      "model\t\t: 63\n",
      "model name\t: Intel(R) Xeon(R) CPU @ 2.30GHz\n",
      "stepping\t: 0\n",
      "microcode\t: 0x1\n",
      "cpu MHz\t\t: 2299.998\n",
      "cache size\t: 46080 KB\n",
      "physical id\t: 0\n",
      "siblings\t: 40\n",
      "core id\t\t: 7\n",
      "cpu cores\t: 20\n",
      "apicid\t\t: 14\n",
      "initial apicid\t: 14\n",
      "fpu\t\t: yes\n",
      "fpu_exception\t: yes\n",
      "cpuid level\t: 13\n",
      "wp\t\t: yes\n",
      "flags\t\t: fpu vme de pse tsc msr pae mce cx8 apic sep mtrr pge mca cmov pat pse36 clflush mmx fxsr sse sse2 ss ht syscall nx pdpe1gb rdtscp lm constant_tsc rep_good nopl xtopology nonstop_tsc cpuid tsc_known_freq pni pclmulqdq ssse3 fma cx16 pcid sse4_1 sse4_2 x2apic movbe popcnt aes xsave avx f16c rdrand hypervisor lahf_lm abm invpcid_single ssbd ibrs ibpb stibp fsgsbase tsc_adjust bmi1 avx2 smep bmi2 erms invpcid xsaveopt arat md_clear arch_capabilities\n",
      "bugs\t\t: cpu_meltdown spectre_v1 spectre_v2 spec_store_bypass l1tf mds swapgs\n",
      "bogomips\t: 4599.99\n",
      "clflush size\t: 64\n",
      "cache_alignment\t: 64\n",
      "address sizes\t: 46 bits physical, 48 bits virtual\n",
      "power management:\n",
      "\n",
      "processor\t: 8\n",
      "vendor_id\t: GenuineIntel\n",
      "cpu family\t: 6\n",
      "model\t\t: 63\n",
      "model name\t: Intel(R) Xeon(R) CPU @ 2.30GHz\n",
      "stepping\t: 0\n",
      "microcode\t: 0x1\n",
      "cpu MHz\t\t: 2299.998\n",
      "cache size\t: 46080 KB\n",
      "physical id\t: 0\n",
      "siblings\t: 40\n",
      "core id\t\t: 8\n",
      "cpu cores\t: 20\n",
      "apicid\t\t: 16\n",
      "initial apicid\t: 16\n",
      "fpu\t\t: yes\n",
      "fpu_exception\t: yes\n",
      "cpuid level\t: 13\n",
      "wp\t\t: yes\n",
      "flags\t\t: fpu vme de pse tsc msr pae mce cx8 apic sep mtrr pge mca cmov pat pse36 clflush mmx fxsr sse sse2 ss ht syscall nx pdpe1gb rdtscp lm constant_tsc rep_good nopl xtopology nonstop_tsc cpuid tsc_known_freq pni pclmulqdq ssse3 fma cx16 pcid sse4_1 sse4_2 x2apic movbe popcnt aes xsave avx f16c rdrand hypervisor lahf_lm abm invpcid_single ssbd ibrs ibpb stibp fsgsbase tsc_adjust bmi1 avx2 smep bmi2 erms invpcid xsaveopt arat md_clear arch_capabilities\n",
      "bugs\t\t: cpu_meltdown spectre_v1 spectre_v2 spec_store_bypass l1tf mds swapgs\n",
      "bogomips\t: 4599.99\n",
      "clflush size\t: 64\n",
      "cache_alignment\t: 64\n",
      "address sizes\t: 46 bits physical, 48 bits virtual\n",
      "power management:\n",
      "\n",
      "processor\t: 9\n",
      "vendor_id\t: GenuineIntel\n",
      "cpu family\t: 6\n",
      "model\t\t: 63\n",
      "model name\t: Intel(R) Xeon(R) CPU @ 2.30GHz\n",
      "stepping\t: 0\n",
      "microcode\t: 0x1\n",
      "cpu MHz\t\t: 2299.998\n",
      "cache size\t: 46080 KB\n",
      "physical id\t: 0\n",
      "siblings\t: 40\n",
      "core id\t\t: 9\n",
      "cpu cores\t: 20\n",
      "apicid\t\t: 18\n",
      "initial apicid\t: 18\n",
      "fpu\t\t: yes\n",
      "fpu_exception\t: yes\n",
      "cpuid level\t: 13\n",
      "wp\t\t: yes\n",
      "flags\t\t: fpu vme de pse tsc msr pae mce cx8 apic sep mtrr pge mca cmov pat pse36 clflush mmx fxsr sse sse2 ss ht syscall nx pdpe1gb rdtscp lm constant_tsc rep_good nopl xtopology nonstop_tsc cpuid tsc_known_freq pni pclmulqdq ssse3 fma cx16 pcid sse4_1 sse4_2 x2apic movbe popcnt aes xsave avx f16c rdrand hypervisor lahf_lm abm invpcid_single ssbd ibrs ibpb stibp fsgsbase tsc_adjust bmi1 avx2 smep bmi2 erms invpcid xsaveopt arat md_clear arch_capabilities\n",
      "bugs\t\t: cpu_meltdown spectre_v1 spectre_v2 spec_store_bypass l1tf mds swapgs\n",
      "bogomips\t: 4599.99\n",
      "clflush size\t: 64\n",
      "cache_alignment\t: 64\n",
      "address sizes\t: 46 bits physical, 48 bits virtual\n",
      "power management:\n",
      "\n",
      "processor\t: 10\n",
      "vendor_id\t: GenuineIntel\n",
      "cpu family\t: 6\n",
      "model\t\t: 63\n",
      "model name\t: Intel(R) Xeon(R) CPU @ 2.30GHz\n",
      "stepping\t: 0\n",
      "microcode\t: 0x1\n",
      "cpu MHz\t\t: 2299.998\n",
      "cache size\t: 46080 KB\n",
      "physical id\t: 0\n",
      "siblings\t: 40\n",
      "core id\t\t: 10\n",
      "cpu cores\t: 20\n",
      "apicid\t\t: 20\n",
      "initial apicid\t: 20\n",
      "fpu\t\t: yes\n",
      "fpu_exception\t: yes\n",
      "cpuid level\t: 13\n",
      "wp\t\t: yes\n",
      "flags\t\t: fpu vme de pse tsc msr pae mce cx8 apic sep mtrr pge mca cmov pat pse36 clflush mmx fxsr sse sse2 ss ht syscall nx pdpe1gb rdtscp lm constant_tsc rep_good nopl xtopology nonstop_tsc cpuid tsc_known_freq pni pclmulqdq ssse3 fma cx16 pcid sse4_1 sse4_2 x2apic movbe popcnt aes xsave avx f16c rdrand hypervisor lahf_lm abm invpcid_single ssbd ibrs ibpb stibp fsgsbase tsc_adjust bmi1 avx2 smep bmi2 erms invpcid xsaveopt arat md_clear arch_capabilities\n",
      "bugs\t\t: cpu_meltdown spectre_v1 spectre_v2 spec_store_bypass l1tf mds swapgs\n",
      "bogomips\t: 4599.99\n",
      "clflush size\t: 64\n",
      "cache_alignment\t: 64\n",
      "address sizes\t: 46 bits physical, 48 bits virtual\n",
      "power management:\n",
      "\n",
      "processor\t: 11\n",
      "vendor_id\t: GenuineIntel\n",
      "cpu family\t: 6\n",
      "model\t\t: 63\n",
      "model name\t: Intel(R) Xeon(R) CPU @ 2.30GHz\n",
      "stepping\t: 0\n",
      "microcode\t: 0x1\n",
      "cpu MHz\t\t: 2299.998\n",
      "cache size\t: 46080 KB\n",
      "physical id\t: 0\n",
      "siblings\t: 40\n",
      "core id\t\t: 11\n",
      "cpu cores\t: 20\n",
      "apicid\t\t: 22\n",
      "initial apicid\t: 22\n",
      "fpu\t\t: yes\n",
      "fpu_exception\t: yes\n",
      "cpuid level\t: 13\n",
      "wp\t\t: yes\n",
      "flags\t\t: fpu vme de pse tsc msr pae mce cx8 apic sep mtrr pge mca cmov pat pse36 clflush mmx fxsr sse sse2 ss ht syscall nx pdpe1gb rdtscp lm constant_tsc rep_good nopl xtopology nonstop_tsc cpuid tsc_known_freq pni pclmulqdq ssse3 fma cx16 pcid sse4_1 sse4_2 x2apic movbe popcnt aes xsave avx f16c rdrand hypervisor lahf_lm abm invpcid_single ssbd ibrs ibpb stibp fsgsbase tsc_adjust bmi1 avx2 smep bmi2 erms invpcid xsaveopt arat md_clear arch_capabilities\n",
      "bugs\t\t: cpu_meltdown spectre_v1 spectre_v2 spec_store_bypass l1tf mds swapgs\n",
      "bogomips\t: 4599.99\n",
      "clflush size\t: 64\n",
      "cache_alignment\t: 64\n",
      "address sizes\t: 46 bits physical, 48 bits virtual\n",
      "power management:\n",
      "\n",
      "processor\t: 12\n",
      "vendor_id\t: GenuineIntel\n",
      "cpu family\t: 6\n",
      "model\t\t: 63\n",
      "model name\t: Intel(R) Xeon(R) CPU @ 2.30GHz\n",
      "stepping\t: 0\n",
      "microcode\t: 0x1\n",
      "cpu MHz\t\t: 2299.998\n",
      "cache size\t: 46080 KB\n",
      "physical id\t: 0\n",
      "siblings\t: 40\n",
      "core id\t\t: 12\n",
      "cpu cores\t: 20\n",
      "apicid\t\t: 24\n",
      "initial apicid\t: 24\n",
      "fpu\t\t: yes\n",
      "fpu_exception\t: yes\n",
      "cpuid level\t: 13\n",
      "wp\t\t: yes\n",
      "flags\t\t: fpu vme de pse tsc msr pae mce cx8 apic sep mtrr pge mca cmov pat pse36 clflush mmx fxsr sse sse2 ss ht syscall nx pdpe1gb rdtscp lm constant_tsc rep_good nopl xtopology nonstop_tsc cpuid tsc_known_freq pni pclmulqdq ssse3 fma cx16 pcid sse4_1 sse4_2 x2apic movbe popcnt aes xsave avx f16c rdrand hypervisor lahf_lm abm invpcid_single ssbd ibrs ibpb stibp fsgsbase tsc_adjust bmi1 avx2 smep bmi2 erms invpcid xsaveopt arat md_clear arch_capabilities\n",
      "bugs\t\t: cpu_meltdown spectre_v1 spectre_v2 spec_store_bypass l1tf mds swapgs\n",
      "bogomips\t: 4599.99\n",
      "clflush size\t: 64\n",
      "cache_alignment\t: 64\n",
      "address sizes\t: 46 bits physical, 48 bits virtual\n",
      "power management:\n",
      "\n",
      "processor\t: 13\n",
      "vendor_id\t: GenuineIntel\n",
      "cpu family\t: 6\n",
      "model\t\t: 63\n",
      "model name\t: Intel(R) Xeon(R) CPU @ 2.30GHz\n",
      "stepping\t: 0\n",
      "microcode\t: 0x1\n",
      "cpu MHz\t\t: 2299.998\n",
      "cache size\t: 46080 KB\n",
      "physical id\t: 0\n",
      "siblings\t: 40\n",
      "core id\t\t: 13\n",
      "cpu cores\t: 20\n",
      "apicid\t\t: 26\n",
      "initial apicid\t: 26\n",
      "fpu\t\t: yes\n",
      "fpu_exception\t: yes\n",
      "cpuid level\t: 13\n",
      "wp\t\t: yes\n",
      "flags\t\t: fpu vme de pse tsc msr pae mce cx8 apic sep mtrr pge mca cmov pat pse36 clflush mmx fxsr sse sse2 ss ht syscall nx pdpe1gb rdtscp lm constant_tsc rep_good nopl xtopology nonstop_tsc cpuid tsc_known_freq pni pclmulqdq ssse3 fma cx16 pcid sse4_1 sse4_2 x2apic movbe popcnt aes xsave avx f16c rdrand hypervisor lahf_lm abm invpcid_single ssbd ibrs ibpb stibp fsgsbase tsc_adjust bmi1 avx2 smep bmi2 erms invpcid xsaveopt arat md_clear arch_capabilities\n",
      "bugs\t\t: cpu_meltdown spectre_v1 spectre_v2 spec_store_bypass l1tf mds swapgs\n",
      "bogomips\t: 4599.99\n",
      "clflush size\t: 64\n",
      "cache_alignment\t: 64\n",
      "address sizes\t: 46 bits physical, 48 bits virtual\n",
      "power management:\n",
      "\n",
      "processor\t: 14\n",
      "vendor_id\t: GenuineIntel\n",
      "cpu family\t: 6\n",
      "model\t\t: 63\n",
      "model name\t: Intel(R) Xeon(R) CPU @ 2.30GHz\n",
      "stepping\t: 0\n",
      "microcode\t: 0x1\n",
      "cpu MHz\t\t: 2299.998\n",
      "cache size\t: 46080 KB\n",
      "physical id\t: 0\n",
      "siblings\t: 40\n",
      "core id\t\t: 14\n",
      "cpu cores\t: 20\n",
      "apicid\t\t: 28\n",
      "initial apicid\t: 28\n",
      "fpu\t\t: yes\n",
      "fpu_exception\t: yes\n",
      "cpuid level\t: 13\n",
      "wp\t\t: yes\n",
      "flags\t\t: fpu vme de pse tsc msr pae mce cx8 apic sep mtrr pge mca cmov pat pse36 clflush mmx fxsr sse sse2 ss ht syscall nx pdpe1gb rdtscp lm constant_tsc rep_good nopl xtopology nonstop_tsc cpuid tsc_known_freq pni pclmulqdq ssse3 fma cx16 pcid sse4_1 sse4_2 x2apic movbe popcnt aes xsave avx f16c rdrand hypervisor lahf_lm abm invpcid_single ssbd ibrs ibpb stibp fsgsbase tsc_adjust bmi1 avx2 smep bmi2 erms invpcid xsaveopt arat md_clear arch_capabilities\n",
      "bugs\t\t: cpu_meltdown spectre_v1 spectre_v2 spec_store_bypass l1tf mds swapgs\n",
      "bogomips\t: 4599.99\n",
      "clflush size\t: 64\n",
      "cache_alignment\t: 64\n",
      "address sizes\t: 46 bits physical, 48 bits virtual\n",
      "power management:\n",
      "\n",
      "processor\t: 15\n",
      "vendor_id\t: GenuineIntel\n",
      "cpu family\t: 6\n",
      "model\t\t: 63\n",
      "model name\t: Intel(R) Xeon(R) CPU @ 2.30GHz\n",
      "stepping\t: 0\n",
      "microcode\t: 0x1\n",
      "cpu MHz\t\t: 2299.998\n",
      "cache size\t: 46080 KB\n",
      "physical id\t: 0\n",
      "siblings\t: 40\n",
      "core id\t\t: 15\n",
      "cpu cores\t: 20\n",
      "apicid\t\t: 30\n",
      "initial apicid\t: 30\n",
      "fpu\t\t: yes\n",
      "fpu_exception\t: yes\n",
      "cpuid level\t: 13\n",
      "wp\t\t: yes\n",
      "flags\t\t: fpu vme de pse tsc msr pae mce cx8 apic sep mtrr pge mca cmov pat pse36 clflush mmx fxsr sse sse2 ss ht syscall nx pdpe1gb rdtscp lm constant_tsc rep_good nopl xtopology nonstop_tsc cpuid tsc_known_freq pni pclmulqdq ssse3 fma cx16 pcid sse4_1 sse4_2 x2apic movbe popcnt aes xsave avx f16c rdrand hypervisor lahf_lm abm invpcid_single ssbd ibrs ibpb stibp fsgsbase tsc_adjust bmi1 avx2 smep bmi2 erms invpcid xsaveopt arat md_clear arch_capabilities\n",
      "bugs\t\t: cpu_meltdown spectre_v1 spectre_v2 spec_store_bypass l1tf mds swapgs\n",
      "bogomips\t: 4599.99\n",
      "clflush size\t: 64\n",
      "cache_alignment\t: 64\n",
      "address sizes\t: 46 bits physical, 48 bits virtual\n",
      "power management:\n",
      "\n",
      "processor\t: 16\n",
      "vendor_id\t: GenuineIntel\n",
      "cpu family\t: 6\n",
      "model\t\t: 63\n",
      "model name\t: Intel(R) Xeon(R) CPU @ 2.30GHz\n",
      "stepping\t: 0\n",
      "microcode\t: 0x1\n",
      "cpu MHz\t\t: 2299.998\n",
      "cache size\t: 46080 KB\n",
      "physical id\t: 0\n",
      "siblings\t: 40\n",
      "core id\t\t: 16\n",
      "cpu cores\t: 20\n",
      "apicid\t\t: 32\n",
      "initial apicid\t: 32\n",
      "fpu\t\t: yes\n",
      "fpu_exception\t: yes\n",
      "cpuid level\t: 13\n",
      "wp\t\t: yes\n",
      "flags\t\t: fpu vme de pse tsc msr pae mce cx8 apic sep mtrr pge mca cmov pat pse36 clflush mmx fxsr sse sse2 ss ht syscall nx pdpe1gb rdtscp lm constant_tsc rep_good nopl xtopology nonstop_tsc cpuid tsc_known_freq pni pclmulqdq ssse3 fma cx16 pcid sse4_1 sse4_2 x2apic movbe popcnt aes xsave avx f16c rdrand hypervisor lahf_lm abm invpcid_single ssbd ibrs ibpb stibp fsgsbase tsc_adjust bmi1 avx2 smep bmi2 erms invpcid xsaveopt arat md_clear arch_capabilities\n",
      "bugs\t\t: cpu_meltdown spectre_v1 spectre_v2 spec_store_bypass l1tf mds swapgs\n",
      "bogomips\t: 4599.99\n",
      "clflush size\t: 64\n",
      "cache_alignment\t: 64\n",
      "address sizes\t: 46 bits physical, 48 bits virtual\n",
      "power management:\n",
      "\n",
      "processor\t: 17\n",
      "vendor_id\t: GenuineIntel\n",
      "cpu family\t: 6\n",
      "model\t\t: 63\n",
      "model name\t: Intel(R) Xeon(R) CPU @ 2.30GHz\n",
      "stepping\t: 0\n",
      "microcode\t: 0x1\n",
      "cpu MHz\t\t: 2299.998\n",
      "cache size\t: 46080 KB\n",
      "physical id\t: 0\n",
      "siblings\t: 40\n",
      "core id\t\t: 17\n",
      "cpu cores\t: 20\n",
      "apicid\t\t: 34\n",
      "initial apicid\t: 34\n",
      "fpu\t\t: yes\n",
      "fpu_exception\t: yes\n",
      "cpuid level\t: 13\n",
      "wp\t\t: yes\n",
      "flags\t\t: fpu vme de pse tsc msr pae mce cx8 apic sep mtrr pge mca cmov pat pse36 clflush mmx fxsr sse sse2 ss ht syscall nx pdpe1gb rdtscp lm constant_tsc rep_good nopl xtopology nonstop_tsc cpuid tsc_known_freq pni pclmulqdq ssse3 fma cx16 pcid sse4_1 sse4_2 x2apic movbe popcnt aes xsave avx f16c rdrand hypervisor lahf_lm abm invpcid_single ssbd ibrs ibpb stibp fsgsbase tsc_adjust bmi1 avx2 smep bmi2 erms invpcid xsaveopt arat md_clear arch_capabilities\n",
      "bugs\t\t: cpu_meltdown spectre_v1 spectre_v2 spec_store_bypass l1tf mds swapgs\n",
      "bogomips\t: 4599.99\n",
      "clflush size\t: 64\n",
      "cache_alignment\t: 64\n",
      "address sizes\t: 46 bits physical, 48 bits virtual\n",
      "power management:\n",
      "\n",
      "processor\t: 18\n",
      "vendor_id\t: GenuineIntel\n",
      "cpu family\t: 6\n",
      "model\t\t: 63\n",
      "model name\t: Intel(R) Xeon(R) CPU @ 2.30GHz\n",
      "stepping\t: 0\n",
      "microcode\t: 0x1\n",
      "cpu MHz\t\t: 2299.998\n",
      "cache size\t: 46080 KB\n",
      "physical id\t: 0\n",
      "siblings\t: 40\n",
      "core id\t\t: 18\n",
      "cpu cores\t: 20\n",
      "apicid\t\t: 36\n",
      "initial apicid\t: 36\n",
      "fpu\t\t: yes\n",
      "fpu_exception\t: yes\n",
      "cpuid level\t: 13\n",
      "wp\t\t: yes\n",
      "flags\t\t: fpu vme de pse tsc msr pae mce cx8 apic sep mtrr pge mca cmov pat pse36 clflush mmx fxsr sse sse2 ss ht syscall nx pdpe1gb rdtscp lm constant_tsc rep_good nopl xtopology nonstop_tsc cpuid tsc_known_freq pni pclmulqdq ssse3 fma cx16 pcid sse4_1 sse4_2 x2apic movbe popcnt aes xsave avx f16c rdrand hypervisor lahf_lm abm invpcid_single ssbd ibrs ibpb stibp fsgsbase tsc_adjust bmi1 avx2 smep bmi2 erms invpcid xsaveopt arat md_clear arch_capabilities\n",
      "bugs\t\t: cpu_meltdown spectre_v1 spectre_v2 spec_store_bypass l1tf mds swapgs\n",
      "bogomips\t: 4599.99\n",
      "clflush size\t: 64\n",
      "cache_alignment\t: 64\n",
      "address sizes\t: 46 bits physical, 48 bits virtual\n",
      "power management:\n",
      "\n",
      "processor\t: 19\n",
      "vendor_id\t: GenuineIntel\n",
      "cpu family\t: 6\n",
      "model\t\t: 63\n",
      "model name\t: Intel(R) Xeon(R) CPU @ 2.30GHz\n",
      "stepping\t: 0\n",
      "microcode\t: 0x1\n",
      "cpu MHz\t\t: 2299.998\n",
      "cache size\t: 46080 KB\n",
      "physical id\t: 0\n",
      "siblings\t: 40\n",
      "core id\t\t: 19\n",
      "cpu cores\t: 20\n",
      "apicid\t\t: 38\n",
      "initial apicid\t: 38\n",
      "fpu\t\t: yes\n",
      "fpu_exception\t: yes\n",
      "cpuid level\t: 13\n",
      "wp\t\t: yes\n",
      "flags\t\t: fpu vme de pse tsc msr pae mce cx8 apic sep mtrr pge mca cmov pat pse36 clflush mmx fxsr sse sse2 ss ht syscall nx pdpe1gb rdtscp lm constant_tsc rep_good nopl xtopology nonstop_tsc cpuid tsc_known_freq pni pclmulqdq ssse3 fma cx16 pcid sse4_1 sse4_2 x2apic movbe popcnt aes xsave avx f16c rdrand hypervisor lahf_lm abm invpcid_single ssbd ibrs ibpb stibp fsgsbase tsc_adjust bmi1 avx2 smep bmi2 erms invpcid xsaveopt arat md_clear arch_capabilities\n",
      "bugs\t\t: cpu_meltdown spectre_v1 spectre_v2 spec_store_bypass l1tf mds swapgs\n",
      "bogomips\t: 4599.99\n",
      "clflush size\t: 64\n",
      "cache_alignment\t: 64\n",
      "address sizes\t: 46 bits physical, 48 bits virtual\n",
      "power management:\n",
      "\n",
      "processor\t: 20\n",
      "vendor_id\t: GenuineIntel\n",
      "cpu family\t: 6\n",
      "model\t\t: 63\n",
      "model name\t: Intel(R) Xeon(R) CPU @ 2.30GHz\n",
      "stepping\t: 0\n",
      "microcode\t: 0x1\n",
      "cpu MHz\t\t: 2299.998\n",
      "cache size\t: 46080 KB\n",
      "physical id\t: 0\n",
      "siblings\t: 40\n",
      "core id\t\t: 0\n",
      "cpu cores\t: 20\n",
      "apicid\t\t: 1\n",
      "initial apicid\t: 1\n",
      "fpu\t\t: yes\n",
      "fpu_exception\t: yes\n",
      "cpuid level\t: 13\n",
      "wp\t\t: yes\n",
      "flags\t\t: fpu vme de pse tsc msr pae mce cx8 apic sep mtrr pge mca cmov pat pse36 clflush mmx fxsr sse sse2 ss ht syscall nx pdpe1gb rdtscp lm constant_tsc rep_good nopl xtopology nonstop_tsc cpuid tsc_known_freq pni pclmulqdq ssse3 fma cx16 pcid sse4_1 sse4_2 x2apic movbe popcnt aes xsave avx f16c rdrand hypervisor lahf_lm abm invpcid_single ssbd ibrs ibpb stibp fsgsbase tsc_adjust bmi1 avx2 smep bmi2 erms invpcid xsaveopt arat md_clear arch_capabilities\n",
      "bugs\t\t: cpu_meltdown spectre_v1 spectre_v2 spec_store_bypass l1tf mds swapgs\n",
      "bogomips\t: 4599.99\n",
      "clflush size\t: 64\n",
      "cache_alignment\t: 64\n",
      "address sizes\t: 46 bits physical, 48 bits virtual\n",
      "power management:\n",
      "\n",
      "processor\t: 21\n",
      "vendor_id\t: GenuineIntel\n",
      "cpu family\t: 6\n",
      "model\t\t: 63\n",
      "model name\t: Intel(R) Xeon(R) CPU @ 2.30GHz\n",
      "stepping\t: 0\n",
      "microcode\t: 0x1\n",
      "cpu MHz\t\t: 2299.998\n",
      "cache size\t: 46080 KB\n",
      "physical id\t: 0\n",
      "siblings\t: 40\n",
      "core id\t\t: 1\n",
      "cpu cores\t: 20\n",
      "apicid\t\t: 3\n",
      "initial apicid\t: 3\n",
      "fpu\t\t: yes\n",
      "fpu_exception\t: yes\n",
      "cpuid level\t: 13\n",
      "wp\t\t: yes\n",
      "flags\t\t: fpu vme de pse tsc msr pae mce cx8 apic sep mtrr pge mca cmov pat pse36 clflush mmx fxsr sse sse2 ss ht syscall nx pdpe1gb rdtscp lm constant_tsc rep_good nopl xtopology nonstop_tsc cpuid tsc_known_freq pni pclmulqdq ssse3 fma cx16 pcid sse4_1 sse4_2 x2apic movbe popcnt aes xsave avx f16c rdrand hypervisor lahf_lm abm invpcid_single ssbd ibrs ibpb stibp fsgsbase tsc_adjust bmi1 avx2 smep bmi2 erms invpcid xsaveopt arat md_clear arch_capabilities\n",
      "bugs\t\t: cpu_meltdown spectre_v1 spectre_v2 spec_store_bypass l1tf mds swapgs\n",
      "bogomips\t: 4599.99\n",
      "clflush size\t: 64\n",
      "cache_alignment\t: 64\n",
      "address sizes\t: 46 bits physical, 48 bits virtual\n",
      "power management:\n",
      "\n",
      "processor\t: 22\n",
      "vendor_id\t: GenuineIntel\n",
      "cpu family\t: 6\n",
      "model\t\t: 63\n",
      "model name\t: Intel(R) Xeon(R) CPU @ 2.30GHz\n",
      "stepping\t: 0\n",
      "microcode\t: 0x1\n",
      "cpu MHz\t\t: 2299.998\n",
      "cache size\t: 46080 KB\n",
      "physical id\t: 0\n",
      "siblings\t: 40\n",
      "core id\t\t: 2\n",
      "cpu cores\t: 20\n",
      "apicid\t\t: 5\n",
      "initial apicid\t: 5\n",
      "fpu\t\t: yes\n",
      "fpu_exception\t: yes\n",
      "cpuid level\t: 13\n",
      "wp\t\t: yes\n",
      "flags\t\t: fpu vme de pse tsc msr pae mce cx8 apic sep mtrr pge mca cmov pat pse36 clflush mmx fxsr sse sse2 ss ht syscall nx pdpe1gb rdtscp lm constant_tsc rep_good nopl xtopology nonstop_tsc cpuid tsc_known_freq pni pclmulqdq ssse3 fma cx16 pcid sse4_1 sse4_2 x2apic movbe popcnt aes xsave avx f16c rdrand hypervisor lahf_lm abm invpcid_single ssbd ibrs ibpb stibp fsgsbase tsc_adjust bmi1 avx2 smep bmi2 erms invpcid xsaveopt arat md_clear arch_capabilities\n",
      "bugs\t\t: cpu_meltdown spectre_v1 spectre_v2 spec_store_bypass l1tf mds swapgs\n",
      "bogomips\t: 4599.99\n",
      "clflush size\t: 64\n",
      "cache_alignment\t: 64\n",
      "address sizes\t: 46 bits physical, 48 bits virtual\n",
      "power management:\n",
      "\n",
      "processor\t: 23\n",
      "vendor_id\t: GenuineIntel\n",
      "cpu family\t: 6\n",
      "model\t\t: 63\n",
      "model name\t: Intel(R) Xeon(R) CPU @ 2.30GHz\n",
      "stepping\t: 0\n",
      "microcode\t: 0x1\n",
      "cpu MHz\t\t: 2299.998\n",
      "cache size\t: 46080 KB\n",
      "physical id\t: 0\n",
      "siblings\t: 40\n",
      "core id\t\t: 3\n",
      "cpu cores\t: 20\n",
      "apicid\t\t: 7\n",
      "initial apicid\t: 7\n",
      "fpu\t\t: yes\n",
      "fpu_exception\t: yes\n",
      "cpuid level\t: 13\n",
      "wp\t\t: yes\n",
      "flags\t\t: fpu vme de pse tsc msr pae mce cx8 apic sep mtrr pge mca cmov pat pse36 clflush mmx fxsr sse sse2 ss ht syscall nx pdpe1gb rdtscp lm constant_tsc rep_good nopl xtopology nonstop_tsc cpuid tsc_known_freq pni pclmulqdq ssse3 fma cx16 pcid sse4_1 sse4_2 x2apic movbe popcnt aes xsave avx f16c rdrand hypervisor lahf_lm abm invpcid_single ssbd ibrs ibpb stibp fsgsbase tsc_adjust bmi1 avx2 smep bmi2 erms invpcid xsaveopt arat md_clear arch_capabilities\n",
      "bugs\t\t: cpu_meltdown spectre_v1 spectre_v2 spec_store_bypass l1tf mds swapgs\n",
      "bogomips\t: 4599.99\n",
      "clflush size\t: 64\n",
      "cache_alignment\t: 64\n",
      "address sizes\t: 46 bits physical, 48 bits virtual\n",
      "power management:\n",
      "\n",
      "processor\t: 24\n",
      "vendor_id\t: GenuineIntel\n",
      "cpu family\t: 6\n",
      "model\t\t: 63\n",
      "model name\t: Intel(R) Xeon(R) CPU @ 2.30GHz\n",
      "stepping\t: 0\n",
      "microcode\t: 0x1\n",
      "cpu MHz\t\t: 2299.998\n",
      "cache size\t: 46080 KB\n",
      "physical id\t: 0\n",
      "siblings\t: 40\n",
      "core id\t\t: 4\n",
      "cpu cores\t: 20\n",
      "apicid\t\t: 9\n",
      "initial apicid\t: 9\n",
      "fpu\t\t: yes\n",
      "fpu_exception\t: yes\n",
      "cpuid level\t: 13\n",
      "wp\t\t: yes\n",
      "flags\t\t: fpu vme de pse tsc msr pae mce cx8 apic sep mtrr pge mca cmov pat pse36 clflush mmx fxsr sse sse2 ss ht syscall nx pdpe1gb rdtscp lm constant_tsc rep_good nopl xtopology nonstop_tsc cpuid tsc_known_freq pni pclmulqdq ssse3 fma cx16 pcid sse4_1 sse4_2 x2apic movbe popcnt aes xsave avx f16c rdrand hypervisor lahf_lm abm invpcid_single ssbd ibrs ibpb stibp fsgsbase tsc_adjust bmi1 avx2 smep bmi2 erms invpcid xsaveopt arat md_clear arch_capabilities\n",
      "bugs\t\t: cpu_meltdown spectre_v1 spectre_v2 spec_store_bypass l1tf mds swapgs\n",
      "bogomips\t: 4599.99\n",
      "clflush size\t: 64\n",
      "cache_alignment\t: 64\n",
      "address sizes\t: 46 bits physical, 48 bits virtual\n",
      "power management:\n",
      "\n",
      "processor\t: 25\n",
      "vendor_id\t: GenuineIntel\n",
      "cpu family\t: 6\n",
      "model\t\t: 63\n",
      "model name\t: Intel(R) Xeon(R) CPU @ 2.30GHz\n",
      "stepping\t: 0\n",
      "microcode\t: 0x1\n",
      "cpu MHz\t\t: 2299.998\n",
      "cache size\t: 46080 KB\n",
      "physical id\t: 0\n",
      "siblings\t: 40\n",
      "core id\t\t: 5\n",
      "cpu cores\t: 20\n",
      "apicid\t\t: 11\n",
      "initial apicid\t: 11\n",
      "fpu\t\t: yes\n",
      "fpu_exception\t: yes\n",
      "cpuid level\t: 13\n",
      "wp\t\t: yes\n",
      "flags\t\t: fpu vme de pse tsc msr pae mce cx8 apic sep mtrr pge mca cmov pat pse36 clflush mmx fxsr sse sse2 ss ht syscall nx pdpe1gb rdtscp lm constant_tsc rep_good nopl xtopology nonstop_tsc cpuid tsc_known_freq pni pclmulqdq ssse3 fma cx16 pcid sse4_1 sse4_2 x2apic movbe popcnt aes xsave avx f16c rdrand hypervisor lahf_lm abm invpcid_single ssbd ibrs ibpb stibp fsgsbase tsc_adjust bmi1 avx2 smep bmi2 erms invpcid xsaveopt arat md_clear arch_capabilities\n",
      "bugs\t\t: cpu_meltdown spectre_v1 spectre_v2 spec_store_bypass l1tf mds swapgs\n",
      "bogomips\t: 4599.99\n",
      "clflush size\t: 64\n",
      "cache_alignment\t: 64\n",
      "address sizes\t: 46 bits physical, 48 bits virtual\n",
      "power management:\n",
      "\n",
      "processor\t: 26\n",
      "vendor_id\t: GenuineIntel\n",
      "cpu family\t: 6\n",
      "model\t\t: 63\n",
      "model name\t: Intel(R) Xeon(R) CPU @ 2.30GHz\n",
      "stepping\t: 0\n",
      "microcode\t: 0x1\n",
      "cpu MHz\t\t: 2299.998\n",
      "cache size\t: 46080 KB\n",
      "physical id\t: 0\n",
      "siblings\t: 40\n",
      "core id\t\t: 6\n",
      "cpu cores\t: 20\n",
      "apicid\t\t: 13\n",
      "initial apicid\t: 13\n",
      "fpu\t\t: yes\n",
      "fpu_exception\t: yes\n",
      "cpuid level\t: 13\n",
      "wp\t\t: yes\n",
      "flags\t\t: fpu vme de pse tsc msr pae mce cx8 apic sep mtrr pge mca cmov pat pse36 clflush mmx fxsr sse sse2 ss ht syscall nx pdpe1gb rdtscp lm constant_tsc rep_good nopl xtopology nonstop_tsc cpuid tsc_known_freq pni pclmulqdq ssse3 fma cx16 pcid sse4_1 sse4_2 x2apic movbe popcnt aes xsave avx f16c rdrand hypervisor lahf_lm abm invpcid_single ssbd ibrs ibpb stibp fsgsbase tsc_adjust bmi1 avx2 smep bmi2 erms invpcid xsaveopt arat md_clear arch_capabilities\n",
      "bugs\t\t: cpu_meltdown spectre_v1 spectre_v2 spec_store_bypass l1tf mds swapgs\n",
      "bogomips\t: 4599.99\n",
      "clflush size\t: 64\n",
      "cache_alignment\t: 64\n",
      "address sizes\t: 46 bits physical, 48 bits virtual\n",
      "power management:\n",
      "\n",
      "processor\t: 27\n",
      "vendor_id\t: GenuineIntel\n",
      "cpu family\t: 6\n",
      "model\t\t: 63\n",
      "model name\t: Intel(R) Xeon(R) CPU @ 2.30GHz\n",
      "stepping\t: 0\n",
      "microcode\t: 0x1\n",
      "cpu MHz\t\t: 2299.998\n",
      "cache size\t: 46080 KB\n",
      "physical id\t: 0\n",
      "siblings\t: 40\n",
      "core id\t\t: 7\n",
      "cpu cores\t: 20\n",
      "apicid\t\t: 15\n",
      "initial apicid\t: 15\n",
      "fpu\t\t: yes\n",
      "fpu_exception\t: yes\n",
      "cpuid level\t: 13\n",
      "wp\t\t: yes\n",
      "flags\t\t: fpu vme de pse tsc msr pae mce cx8 apic sep mtrr pge mca cmov pat pse36 clflush mmx fxsr sse sse2 ss ht syscall nx pdpe1gb rdtscp lm constant_tsc rep_good nopl xtopology nonstop_tsc cpuid tsc_known_freq pni pclmulqdq ssse3 fma cx16 pcid sse4_1 sse4_2 x2apic movbe popcnt aes xsave avx f16c rdrand hypervisor lahf_lm abm invpcid_single ssbd ibrs ibpb stibp fsgsbase tsc_adjust bmi1 avx2 smep bmi2 erms invpcid xsaveopt arat md_clear arch_capabilities\n",
      "bugs\t\t: cpu_meltdown spectre_v1 spectre_v2 spec_store_bypass l1tf mds swapgs\n",
      "bogomips\t: 4599.99\n",
      "clflush size\t: 64\n",
      "cache_alignment\t: 64\n",
      "address sizes\t: 46 bits physical, 48 bits virtual\n",
      "power management:\n",
      "\n",
      "processor\t: 28\n",
      "vendor_id\t: GenuineIntel\n",
      "cpu family\t: 6\n",
      "model\t\t: 63\n",
      "model name\t: Intel(R) Xeon(R) CPU @ 2.30GHz\n",
      "stepping\t: 0\n",
      "microcode\t: 0x1\n",
      "cpu MHz\t\t: 2299.998\n",
      "cache size\t: 46080 KB\n",
      "physical id\t: 0\n",
      "siblings\t: 40\n",
      "core id\t\t: 8\n",
      "cpu cores\t: 20\n",
      "apicid\t\t: 17\n",
      "initial apicid\t: 17\n",
      "fpu\t\t: yes\n",
      "fpu_exception\t: yes\n",
      "cpuid level\t: 13\n",
      "wp\t\t: yes\n",
      "flags\t\t: fpu vme de pse tsc msr pae mce cx8 apic sep mtrr pge mca cmov pat pse36 clflush mmx fxsr sse sse2 ss ht syscall nx pdpe1gb rdtscp lm constant_tsc rep_good nopl xtopology nonstop_tsc cpuid tsc_known_freq pni pclmulqdq ssse3 fma cx16 pcid sse4_1 sse4_2 x2apic movbe popcnt aes xsave avx f16c rdrand hypervisor lahf_lm abm invpcid_single ssbd ibrs ibpb stibp fsgsbase tsc_adjust bmi1 avx2 smep bmi2 erms invpcid xsaveopt arat md_clear arch_capabilities\n",
      "bugs\t\t: cpu_meltdown spectre_v1 spectre_v2 spec_store_bypass l1tf mds swapgs\n",
      "bogomips\t: 4599.99\n",
      "clflush size\t: 64\n",
      "cache_alignment\t: 64\n",
      "address sizes\t: 46 bits physical, 48 bits virtual\n",
      "power management:\n",
      "\n",
      "processor\t: 29\n",
      "vendor_id\t: GenuineIntel\n",
      "cpu family\t: 6\n",
      "model\t\t: 63\n",
      "model name\t: Intel(R) Xeon(R) CPU @ 2.30GHz\n",
      "stepping\t: 0\n",
      "microcode\t: 0x1\n",
      "cpu MHz\t\t: 2299.998\n",
      "cache size\t: 46080 KB\n",
      "physical id\t: 0\n",
      "siblings\t: 40\n",
      "core id\t\t: 9\n",
      "cpu cores\t: 20\n",
      "apicid\t\t: 19\n",
      "initial apicid\t: 19\n",
      "fpu\t\t: yes\n",
      "fpu_exception\t: yes\n",
      "cpuid level\t: 13\n",
      "wp\t\t: yes\n",
      "flags\t\t: fpu vme de pse tsc msr pae mce cx8 apic sep mtrr pge mca cmov pat pse36 clflush mmx fxsr sse sse2 ss ht syscall nx pdpe1gb rdtscp lm constant_tsc rep_good nopl xtopology nonstop_tsc cpuid tsc_known_freq pni pclmulqdq ssse3 fma cx16 pcid sse4_1 sse4_2 x2apic movbe popcnt aes xsave avx f16c rdrand hypervisor lahf_lm abm invpcid_single ssbd ibrs ibpb stibp fsgsbase tsc_adjust bmi1 avx2 smep bmi2 erms invpcid xsaveopt arat md_clear arch_capabilities\n",
      "bugs\t\t: cpu_meltdown spectre_v1 spectre_v2 spec_store_bypass l1tf mds swapgs\n",
      "bogomips\t: 4599.99\n",
      "clflush size\t: 64\n",
      "cache_alignment\t: 64\n",
      "address sizes\t: 46 bits physical, 48 bits virtual\n",
      "power management:\n",
      "\n",
      "processor\t: 30\n",
      "vendor_id\t: GenuineIntel\n",
      "cpu family\t: 6\n",
      "model\t\t: 63\n",
      "model name\t: Intel(R) Xeon(R) CPU @ 2.30GHz\n",
      "stepping\t: 0\n",
      "microcode\t: 0x1\n",
      "cpu MHz\t\t: 2299.998\n",
      "cache size\t: 46080 KB\n",
      "physical id\t: 0\n",
      "siblings\t: 40\n",
      "core id\t\t: 10\n",
      "cpu cores\t: 20\n",
      "apicid\t\t: 21\n",
      "initial apicid\t: 21\n",
      "fpu\t\t: yes\n",
      "fpu_exception\t: yes\n",
      "cpuid level\t: 13\n",
      "wp\t\t: yes\n",
      "flags\t\t: fpu vme de pse tsc msr pae mce cx8 apic sep mtrr pge mca cmov pat pse36 clflush mmx fxsr sse sse2 ss ht syscall nx pdpe1gb rdtscp lm constant_tsc rep_good nopl xtopology nonstop_tsc cpuid tsc_known_freq pni pclmulqdq ssse3 fma cx16 pcid sse4_1 sse4_2 x2apic movbe popcnt aes xsave avx f16c rdrand hypervisor lahf_lm abm invpcid_single ssbd ibrs ibpb stibp fsgsbase tsc_adjust bmi1 avx2 smep bmi2 erms invpcid xsaveopt arat md_clear arch_capabilities\n",
      "bugs\t\t: cpu_meltdown spectre_v1 spectre_v2 spec_store_bypass l1tf mds swapgs\n",
      "bogomips\t: 4599.99\n",
      "clflush size\t: 64\n",
      "cache_alignment\t: 64\n",
      "address sizes\t: 46 bits physical, 48 bits virtual\n",
      "power management:\n",
      "\n",
      "processor\t: 31\n",
      "vendor_id\t: GenuineIntel\n",
      "cpu family\t: 6\n",
      "model\t\t: 63\n",
      "model name\t: Intel(R) Xeon(R) CPU @ 2.30GHz\n",
      "stepping\t: 0\n",
      "microcode\t: 0x1\n",
      "cpu MHz\t\t: 2299.998\n",
      "cache size\t: 46080 KB\n",
      "physical id\t: 0\n",
      "siblings\t: 40\n",
      "core id\t\t: 11\n",
      "cpu cores\t: 20\n",
      "apicid\t\t: 23\n",
      "initial apicid\t: 23\n",
      "fpu\t\t: yes\n",
      "fpu_exception\t: yes\n",
      "cpuid level\t: 13\n",
      "wp\t\t: yes\n",
      "flags\t\t: fpu vme de pse tsc msr pae mce cx8 apic sep mtrr pge mca cmov pat pse36 clflush mmx fxsr sse sse2 ss ht syscall nx pdpe1gb rdtscp lm constant_tsc rep_good nopl xtopology nonstop_tsc cpuid tsc_known_freq pni pclmulqdq ssse3 fma cx16 pcid sse4_1 sse4_2 x2apic movbe popcnt aes xsave avx f16c rdrand hypervisor lahf_lm abm invpcid_single ssbd ibrs ibpb stibp fsgsbase tsc_adjust bmi1 avx2 smep bmi2 erms invpcid xsaveopt arat md_clear arch_capabilities\n",
      "bugs\t\t: cpu_meltdown spectre_v1 spectre_v2 spec_store_bypass l1tf mds swapgs\n",
      "bogomips\t: 4599.99\n",
      "clflush size\t: 64\n",
      "cache_alignment\t: 64\n",
      "address sizes\t: 46 bits physical, 48 bits virtual\n",
      "power management:\n",
      "\n",
      "processor\t: 32\n",
      "vendor_id\t: GenuineIntel\n",
      "cpu family\t: 6\n",
      "model\t\t: 63\n",
      "model name\t: Intel(R) Xeon(R) CPU @ 2.30GHz\n",
      "stepping\t: 0\n",
      "microcode\t: 0x1\n",
      "cpu MHz\t\t: 2299.998\n",
      "cache size\t: 46080 KB\n",
      "physical id\t: 0\n",
      "siblings\t: 40\n",
      "core id\t\t: 12\n",
      "cpu cores\t: 20\n",
      "apicid\t\t: 25\n",
      "initial apicid\t: 25\n",
      "fpu\t\t: yes\n",
      "fpu_exception\t: yes\n",
      "cpuid level\t: 13\n",
      "wp\t\t: yes\n",
      "flags\t\t: fpu vme de pse tsc msr pae mce cx8 apic sep mtrr pge mca cmov pat pse36 clflush mmx fxsr sse sse2 ss ht syscall nx pdpe1gb rdtscp lm constant_tsc rep_good nopl xtopology nonstop_tsc cpuid tsc_known_freq pni pclmulqdq ssse3 fma cx16 pcid sse4_1 sse4_2 x2apic movbe popcnt aes xsave avx f16c rdrand hypervisor lahf_lm abm invpcid_single ssbd ibrs ibpb stibp fsgsbase tsc_adjust bmi1 avx2 smep bmi2 erms invpcid xsaveopt arat md_clear arch_capabilities\n",
      "bugs\t\t: cpu_meltdown spectre_v1 spectre_v2 spec_store_bypass l1tf mds swapgs\n",
      "bogomips\t: 4599.99\n",
      "clflush size\t: 64\n",
      "cache_alignment\t: 64\n",
      "address sizes\t: 46 bits physical, 48 bits virtual\n",
      "power management:\n",
      "\n",
      "processor\t: 33\n",
      "vendor_id\t: GenuineIntel\n",
      "cpu family\t: 6\n",
      "model\t\t: 63\n",
      "model name\t: Intel(R) Xeon(R) CPU @ 2.30GHz\n",
      "stepping\t: 0\n",
      "microcode\t: 0x1\n",
      "cpu MHz\t\t: 2299.998\n",
      "cache size\t: 46080 KB\n",
      "physical id\t: 0\n",
      "siblings\t: 40\n",
      "core id\t\t: 13\n",
      "cpu cores\t: 20\n",
      "apicid\t\t: 27\n",
      "initial apicid\t: 27\n",
      "fpu\t\t: yes\n",
      "fpu_exception\t: yes\n",
      "cpuid level\t: 13\n",
      "wp\t\t: yes\n",
      "flags\t\t: fpu vme de pse tsc msr pae mce cx8 apic sep mtrr pge mca cmov pat pse36 clflush mmx fxsr sse sse2 ss ht syscall nx pdpe1gb rdtscp lm constant_tsc rep_good nopl xtopology nonstop_tsc cpuid tsc_known_freq pni pclmulqdq ssse3 fma cx16 pcid sse4_1 sse4_2 x2apic movbe popcnt aes xsave avx f16c rdrand hypervisor lahf_lm abm invpcid_single ssbd ibrs ibpb stibp fsgsbase tsc_adjust bmi1 avx2 smep bmi2 erms invpcid xsaveopt arat md_clear arch_capabilities\n",
      "bugs\t\t: cpu_meltdown spectre_v1 spectre_v2 spec_store_bypass l1tf mds swapgs\n",
      "bogomips\t: 4599.99\n",
      "clflush size\t: 64\n",
      "cache_alignment\t: 64\n",
      "address sizes\t: 46 bits physical, 48 bits virtual\n",
      "power management:\n",
      "\n",
      "processor\t: 34\n",
      "vendor_id\t: GenuineIntel\n",
      "cpu family\t: 6\n",
      "model\t\t: 63\n",
      "model name\t: Intel(R) Xeon(R) CPU @ 2.30GHz\n",
      "stepping\t: 0\n",
      "microcode\t: 0x1\n",
      "cpu MHz\t\t: 2299.998\n",
      "cache size\t: 46080 KB\n",
      "physical id\t: 0\n",
      "siblings\t: 40\n",
      "core id\t\t: 14\n",
      "cpu cores\t: 20\n",
      "apicid\t\t: 29\n",
      "initial apicid\t: 29\n",
      "fpu\t\t: yes\n",
      "fpu_exception\t: yes\n",
      "cpuid level\t: 13\n",
      "wp\t\t: yes\n",
      "flags\t\t: fpu vme de pse tsc msr pae mce cx8 apic sep mtrr pge mca cmov pat pse36 clflush mmx fxsr sse sse2 ss ht syscall nx pdpe1gb rdtscp lm constant_tsc rep_good nopl xtopology nonstop_tsc cpuid tsc_known_freq pni pclmulqdq ssse3 fma cx16 pcid sse4_1 sse4_2 x2apic movbe popcnt aes xsave avx f16c rdrand hypervisor lahf_lm abm invpcid_single ssbd ibrs ibpb stibp fsgsbase tsc_adjust bmi1 avx2 smep bmi2 erms invpcid xsaveopt arat md_clear arch_capabilities\n",
      "bugs\t\t: cpu_meltdown spectre_v1 spectre_v2 spec_store_bypass l1tf mds swapgs\n",
      "bogomips\t: 4599.99\n",
      "clflush size\t: 64\n",
      "cache_alignment\t: 64\n",
      "address sizes\t: 46 bits physical, 48 bits virtual\n",
      "power management:\n",
      "\n",
      "processor\t: 35\n",
      "vendor_id\t: GenuineIntel\n",
      "cpu family\t: 6\n",
      "model\t\t: 63\n",
      "model name\t: Intel(R) Xeon(R) CPU @ 2.30GHz\n",
      "stepping\t: 0\n",
      "microcode\t: 0x1\n",
      "cpu MHz\t\t: 2299.998\n",
      "cache size\t: 46080 KB\n",
      "physical id\t: 0\n",
      "siblings\t: 40\n",
      "core id\t\t: 15\n",
      "cpu cores\t: 20\n",
      "apicid\t\t: 31\n",
      "initial apicid\t: 31\n",
      "fpu\t\t: yes\n",
      "fpu_exception\t: yes\n",
      "cpuid level\t: 13\n",
      "wp\t\t: yes\n",
      "flags\t\t: fpu vme de pse tsc msr pae mce cx8 apic sep mtrr pge mca cmov pat pse36 clflush mmx fxsr sse sse2 ss ht syscall nx pdpe1gb rdtscp lm constant_tsc rep_good nopl xtopology nonstop_tsc cpuid tsc_known_freq pni pclmulqdq ssse3 fma cx16 pcid sse4_1 sse4_2 x2apic movbe popcnt aes xsave avx f16c rdrand hypervisor lahf_lm abm invpcid_single ssbd ibrs ibpb stibp fsgsbase tsc_adjust bmi1 avx2 smep bmi2 erms invpcid xsaveopt arat md_clear arch_capabilities\n",
      "bugs\t\t: cpu_meltdown spectre_v1 spectre_v2 spec_store_bypass l1tf mds swapgs\n",
      "bogomips\t: 4599.99\n",
      "clflush size\t: 64\n",
      "cache_alignment\t: 64\n",
      "address sizes\t: 46 bits physical, 48 bits virtual\n",
      "power management:\n",
      "\n",
      "processor\t: 36\n",
      "vendor_id\t: GenuineIntel\n",
      "cpu family\t: 6\n",
      "model\t\t: 63\n",
      "model name\t: Intel(R) Xeon(R) CPU @ 2.30GHz\n",
      "stepping\t: 0\n",
      "microcode\t: 0x1\n",
      "cpu MHz\t\t: 2299.998\n",
      "cache size\t: 46080 KB\n",
      "physical id\t: 0\n",
      "siblings\t: 40\n",
      "core id\t\t: 16\n",
      "cpu cores\t: 20\n",
      "apicid\t\t: 33\n",
      "initial apicid\t: 33\n",
      "fpu\t\t: yes\n",
      "fpu_exception\t: yes\n",
      "cpuid level\t: 13\n",
      "wp\t\t: yes\n",
      "flags\t\t: fpu vme de pse tsc msr pae mce cx8 apic sep mtrr pge mca cmov pat pse36 clflush mmx fxsr sse sse2 ss ht syscall nx pdpe1gb rdtscp lm constant_tsc rep_good nopl xtopology nonstop_tsc cpuid tsc_known_freq pni pclmulqdq ssse3 fma cx16 pcid sse4_1 sse4_2 x2apic movbe popcnt aes xsave avx f16c rdrand hypervisor lahf_lm abm invpcid_single ssbd ibrs ibpb stibp fsgsbase tsc_adjust bmi1 avx2 smep bmi2 erms invpcid xsaveopt arat md_clear arch_capabilities\n",
      "bugs\t\t: cpu_meltdown spectre_v1 spectre_v2 spec_store_bypass l1tf mds swapgs\n",
      "bogomips\t: 4599.99\n",
      "clflush size\t: 64\n",
      "cache_alignment\t: 64\n",
      "address sizes\t: 46 bits physical, 48 bits virtual\n",
      "power management:\n",
      "\n",
      "processor\t: 37\n",
      "vendor_id\t: GenuineIntel\n",
      "cpu family\t: 6\n",
      "model\t\t: 63\n",
      "model name\t: Intel(R) Xeon(R) CPU @ 2.30GHz\n",
      "stepping\t: 0\n",
      "microcode\t: 0x1\n",
      "cpu MHz\t\t: 2299.998\n",
      "cache size\t: 46080 KB\n",
      "physical id\t: 0\n",
      "siblings\t: 40\n",
      "core id\t\t: 17\n",
      "cpu cores\t: 20\n",
      "apicid\t\t: 35\n",
      "initial apicid\t: 35\n",
      "fpu\t\t: yes\n",
      "fpu_exception\t: yes\n",
      "cpuid level\t: 13\n",
      "wp\t\t: yes\n",
      "flags\t\t: fpu vme de pse tsc msr pae mce cx8 apic sep mtrr pge mca cmov pat pse36 clflush mmx fxsr sse sse2 ss ht syscall nx pdpe1gb rdtscp lm constant_tsc rep_good nopl xtopology nonstop_tsc cpuid tsc_known_freq pni pclmulqdq ssse3 fma cx16 pcid sse4_1 sse4_2 x2apic movbe popcnt aes xsave avx f16c rdrand hypervisor lahf_lm abm invpcid_single ssbd ibrs ibpb stibp fsgsbase tsc_adjust bmi1 avx2 smep bmi2 erms invpcid xsaveopt arat md_clear arch_capabilities\n",
      "bugs\t\t: cpu_meltdown spectre_v1 spectre_v2 spec_store_bypass l1tf mds swapgs\n",
      "bogomips\t: 4599.99\n",
      "clflush size\t: 64\n",
      "cache_alignment\t: 64\n",
      "address sizes\t: 46 bits physical, 48 bits virtual\n",
      "power management:\n",
      "\n",
      "processor\t: 38\n",
      "vendor_id\t: GenuineIntel\n",
      "cpu family\t: 6\n",
      "model\t\t: 63\n",
      "model name\t: Intel(R) Xeon(R) CPU @ 2.30GHz\n",
      "stepping\t: 0\n",
      "microcode\t: 0x1\n",
      "cpu MHz\t\t: 2299.998\n",
      "cache size\t: 46080 KB\n",
      "physical id\t: 0\n",
      "siblings\t: 40\n",
      "core id\t\t: 18\n",
      "cpu cores\t: 20\n",
      "apicid\t\t: 37\n",
      "initial apicid\t: 37\n",
      "fpu\t\t: yes\n",
      "fpu_exception\t: yes\n",
      "cpuid level\t: 13\n",
      "wp\t\t: yes\n",
      "flags\t\t: fpu vme de pse tsc msr pae mce cx8 apic sep mtrr pge mca cmov pat pse36 clflush mmx fxsr sse sse2 ss ht syscall nx pdpe1gb rdtscp lm constant_tsc rep_good nopl xtopology nonstop_tsc cpuid tsc_known_freq pni pclmulqdq ssse3 fma cx16 pcid sse4_1 sse4_2 x2apic movbe popcnt aes xsave avx f16c rdrand hypervisor lahf_lm abm invpcid_single ssbd ibrs ibpb stibp fsgsbase tsc_adjust bmi1 avx2 smep bmi2 erms invpcid xsaveopt arat md_clear arch_capabilities\n",
      "bugs\t\t: cpu_meltdown spectre_v1 spectre_v2 spec_store_bypass l1tf mds swapgs\n",
      "bogomips\t: 4599.99\n",
      "clflush size\t: 64\n",
      "cache_alignment\t: 64\n",
      "address sizes\t: 46 bits physical, 48 bits virtual\n",
      "power management:\n",
      "\n",
      "processor\t: 39\n",
      "vendor_id\t: GenuineIntel\n",
      "cpu family\t: 6\n",
      "model\t\t: 63\n",
      "model name\t: Intel(R) Xeon(R) CPU @ 2.30GHz\n",
      "stepping\t: 0\n",
      "microcode\t: 0x1\n",
      "cpu MHz\t\t: 2299.998\n",
      "cache size\t: 46080 KB\n",
      "physical id\t: 0\n",
      "siblings\t: 40\n",
      "core id\t\t: 19\n",
      "cpu cores\t: 20\n",
      "apicid\t\t: 39\n",
      "initial apicid\t: 39\n",
      "fpu\t\t: yes\n",
      "fpu_exception\t: yes\n",
      "cpuid level\t: 13\n",
      "wp\t\t: yes\n",
      "flags\t\t: fpu vme de pse tsc msr pae mce cx8 apic sep mtrr pge mca cmov pat pse36 clflush mmx fxsr sse sse2 ss ht syscall nx pdpe1gb rdtscp lm constant_tsc rep_good nopl xtopology nonstop_tsc cpuid tsc_known_freq pni pclmulqdq ssse3 fma cx16 pcid sse4_1 sse4_2 x2apic movbe popcnt aes xsave avx f16c rdrand hypervisor lahf_lm abm invpcid_single ssbd ibrs ibpb stibp fsgsbase tsc_adjust bmi1 avx2 smep bmi2 erms invpcid xsaveopt arat md_clear arch_capabilities\n",
      "bugs\t\t: cpu_meltdown spectre_v1 spectre_v2 spec_store_bypass l1tf mds swapgs\n",
      "bogomips\t: 4599.99\n",
      "clflush size\t: 64\n",
      "cache_alignment\t: 64\n",
      "address sizes\t: 46 bits physical, 48 bits virtual\n",
      "power management:\n",
      "\n"
     ]
    }
   ],
   "source": [
    "!cat /proc/cpuinfo "
   ]
  },
  {
   "cell_type": "code",
   "execution_count": null,
   "metadata": {
    "colab": {
     "base_uri": "https://localhost:8080/"
    },
    "executionInfo": {
     "elapsed": 1165,
     "status": "ok",
     "timestamp": 1637445429488,
     "user": {
      "displayName": "code ai",
      "photoUrl": "https://lh3.googleusercontent.com/a/default-user=s64",
      "userId": "17345359434679870937"
     },
     "user_tz": -120
    },
    "id": "JOFACHt-5iLK",
    "outputId": "3610fbe1-2137-4aa3-b217-a4b7eddc16e6"
   },
   "outputs": [
    {
     "name": "stdout",
     "output_type": "stream",
     "text": [
      "MemTotal:       36961172 kB\n",
      "MemFree:        33101052 kB\n",
      "MemAvailable:   35451928 kB\n",
      "Buffers:          146304 kB\n",
      "Cached:          2457120 kB\n",
      "SwapCached:            0 kB\n",
      "Active:          1072724 kB\n",
      "Inactive:        2051508 kB\n",
      "Active(anon):     475100 kB\n",
      "Inactive(anon):      568 kB\n",
      "Active(file):     597624 kB\n",
      "Inactive(file):  2050940 kB\n",
      "Unevictable:           0 kB\n",
      "Mlocked:               0 kB\n",
      "SwapTotal:             0 kB\n",
      "SwapFree:              0 kB\n",
      "Dirty:              3932 kB\n",
      "Writeback:             0 kB\n",
      "AnonPages:        520692 kB\n",
      "Mapped:           309788 kB\n",
      "Shmem:              1184 kB\n",
      "KReclaimable:     192872 kB\n",
      "Slab:             407588 kB\n",
      "SReclaimable:     192872 kB\n",
      "SUnreclaim:       214716 kB\n",
      "KernelStack:       13484 kB\n",
      "PageTables:         8960 kB\n",
      "NFS_Unstable:          0 kB\n",
      "Bounce:                0 kB\n",
      "WritebackTmp:          0 kB\n",
      "CommitLimit:    18480584 kB\n",
      "Committed_AS:   11112384 kB\n",
      "VmallocTotal:   34359738367 kB\n",
      "VmallocUsed:       16732 kB\n",
      "VmallocChunk:          0 kB\n",
      "Percpu:            31360 kB\n",
      "AnonHugePages:         0 kB\n",
      "ShmemHugePages:        0 kB\n",
      "ShmemPmdMapped:        0 kB\n",
      "FileHugePages:         0 kB\n",
      "FilePmdMapped:         0 kB\n",
      "CmaTotal:              0 kB\n",
      "CmaFree:               0 kB\n",
      "HugePages_Total:       0\n",
      "HugePages_Free:        0\n",
      "HugePages_Rsvd:        0\n",
      "HugePages_Surp:        0\n",
      "Hugepagesize:       2048 kB\n",
      "Hugetlb:               0 kB\n",
      "DirectMap4k:      179008 kB\n",
      "DirectMap2M:     7157760 kB\n",
      "DirectMap1G:    32505856 kB\n"
     ]
    }
   ],
   "source": [
    "!cat /proc/meminfo"
   ]
  },
  {
   "cell_type": "markdown",
   "metadata": {
    "id": "t0qdjkFuxi6A"
   },
   "source": [
    "### Preprocessing Dataset \n"
   ]
  },
  {
   "cell_type": "code",
   "execution_count": null,
   "metadata": {
    "id": "sciD2FKcYPlf"
   },
   "outputs": [],
   "source": [
    "df = pd.read_csv(\"all_data2018.csv\")"
   ]
  },
  {
   "cell_type": "code",
   "execution_count": null,
   "metadata": {
    "colab": {
     "base_uri": "https://localhost:8080/"
    },
    "executionInfo": {
     "elapsed": 41,
     "status": "ok",
     "timestamp": 1637352991008,
     "user": {
      "displayName": "code ai",
      "photoUrl": "https://lh3.googleusercontent.com/a/default-user=s64",
      "userId": "17345359434679870937"
     },
     "user_tz": -120
    },
    "id": "NxX2zuKyzVR9",
    "outputId": "1b9eb52c-f869-4932-cba7-8b9a7542d7e6"
   },
   "outputs": [
    {
     "name": "stdout",
     "output_type": "stream",
     "text": [
      "<class 'pandas.core.frame.DataFrame'>\n",
      "RangeIndex: 16232943 entries, 0 to 16232942\n",
      "Data columns (total 80 columns):\n",
      " #   Column             Dtype  \n",
      "---  ------             -----  \n",
      " 0   dst_port           int64  \n",
      " 1   protocol           int64  \n",
      " 2   timestamp          object \n",
      " 3   flow_duration      float64\n",
      " 4   tot_fwd_pkts       int64  \n",
      " 5   tot_bwd_pkts       int64  \n",
      " 6   totlen_fwd_pkts    int64  \n",
      " 7   totlen_bwd_pkts    int64  \n",
      " 8   fwd_pkt_len_max    int64  \n",
      " 9   fwd_pkt_len_min    int64  \n",
      " 10  fwd_pkt_len_mean   float64\n",
      " 11  fwd_pkt_len_std    float64\n",
      " 12  bwd_pkt_len_max    int64  \n",
      " 13  bwd_pkt_len_min    int64  \n",
      " 14  bwd_pkt_len_mean   float64\n",
      " 15  bwd_pkt_len_std    float64\n",
      " 16  flow_byts_s        float64\n",
      " 17  flow_pkts_s        float64\n",
      " 18  flow_iat_mean      float64\n",
      " 19  flow_iat_std       float64\n",
      " 20  flow_iat_max       float64\n",
      " 21  flow_iat_min       float64\n",
      " 22  fwd_iat_tot        float64\n",
      " 23  fwd_iat_mean       float64\n",
      " 24  fwd_iat_std        float64\n",
      " 25  fwd_iat_max        float64\n",
      " 26  fwd_iat_min        float64\n",
      " 27  bwd_iat_tot        int64  \n",
      " 28  bwd_iat_mean       float64\n",
      " 29  bwd_iat_std        float64\n",
      " 30  bwd_iat_max        int64  \n",
      " 31  bwd_iat_min        int64  \n",
      " 32  fwd_psh_flags      int64  \n",
      " 33  bwd_psh_flags      int64  \n",
      " 34  fwd_urg_flags      int64  \n",
      " 35  bwd_urg_flags      int64  \n",
      " 36  fwd_header_len     int64  \n",
      " 37  bwd_header_len     int64  \n",
      " 38  fwd_pkts_s         float64\n",
      " 39  bwd_pkts_s         float64\n",
      " 40  pkt_len_min        int64  \n",
      " 41  pkt_len_max        int64  \n",
      " 42  pkt_len_mean       float64\n",
      " 43  pkt_len_std        float64\n",
      " 44  pkt_len_var        float64\n",
      " 45  fin_flag_cnt       int64  \n",
      " 46  syn_flag_cnt       int64  \n",
      " 47  rst_flag_cnt       int64  \n",
      " 48  psh_flag_cnt       int64  \n",
      " 49  ack_flag_cnt       int64  \n",
      " 50  urg_flag_cnt       int64  \n",
      " 51  cwe_flag_count     int64  \n",
      " 52  ece_flag_cnt       int64  \n",
      " 53  down_up_ratio      int64  \n",
      " 54  pkt_size_avg       float64\n",
      " 55  fwd_seg_size_avg   float64\n",
      " 56  bwd_seg_size_avg   float64\n",
      " 57  fwd_byts_b_avg     int64  \n",
      " 58  fwd_pkts_b_avg     int64  \n",
      " 59  fwd_blk_rate_avg   int64  \n",
      " 60  bwd_byts_b_avg     int64  \n",
      " 61  bwd_pkts_b_avg     int64  \n",
      " 62  bwd_blk_rate_avg   int64  \n",
      " 63  subflow_fwd_pkts   int64  \n",
      " 64  subflow_fwd_byts   int64  \n",
      " 65  subflow_bwd_pkts   int64  \n",
      " 66  subflow_bwd_byts   int64  \n",
      " 67  init_fwd_win_byts  float64\n",
      " 68  init_bwd_win_byts  float64\n",
      " 69  fwd_act_data_pkts  int64  \n",
      " 70  fwd_seg_size_min   int64  \n",
      " 71  active_mean        float64\n",
      " 72  active_std         float64\n",
      " 73  active_max         int64  \n",
      " 74  active_min         int64  \n",
      " 75  idle_mean          float64\n",
      " 76  idle_std           float64\n",
      " 77  idle_max           int64  \n",
      " 78  idle_min           int64  \n",
      " 79  label              int64  \n",
      "dtypes: float64(32), int64(47), object(1)\n",
      "memory usage: 9.7+ GB\n"
     ]
    }
   ],
   "source": [
    "df.info()"
   ]
  },
  {
   "cell_type": "code",
   "execution_count": null,
   "metadata": {
    "colab": {
     "base_uri": "https://localhost:8080/"
    },
    "executionInfo": {
     "elapsed": 32,
     "status": "ok",
     "timestamp": 1637352991008,
     "user": {
      "displayName": "code ai",
      "photoUrl": "https://lh3.googleusercontent.com/a/default-user=s64",
      "userId": "17345359434679870937"
     },
     "user_tz": -120
    },
    "id": "F4M1JdBqAgeM",
    "outputId": "41312f9e-c6a3-4516-a772-f4014362b15e"
   },
   "outputs": [
    {
     "data": {
      "text/plain": [
       "Index(['dst_port', 'protocol', 'timestamp', 'flow_duration', 'tot_fwd_pkts',\n",
       "       'tot_bwd_pkts', 'totlen_fwd_pkts', 'totlen_bwd_pkts', 'fwd_pkt_len_max',\n",
       "       'fwd_pkt_len_min', 'fwd_pkt_len_mean', 'fwd_pkt_len_std',\n",
       "       'bwd_pkt_len_max', 'bwd_pkt_len_min', 'bwd_pkt_len_mean',\n",
       "       'bwd_pkt_len_std', 'flow_byts_s', 'flow_pkts_s', 'flow_iat_mean',\n",
       "       'flow_iat_std', 'flow_iat_max', 'flow_iat_min', 'fwd_iat_tot',\n",
       "       'fwd_iat_mean', 'fwd_iat_std', 'fwd_iat_max', 'fwd_iat_min',\n",
       "       'bwd_iat_tot', 'bwd_iat_mean', 'bwd_iat_std', 'bwd_iat_max',\n",
       "       'bwd_iat_min', 'fwd_psh_flags', 'bwd_psh_flags', 'fwd_urg_flags',\n",
       "       'bwd_urg_flags', 'fwd_header_len', 'bwd_header_len', 'fwd_pkts_s',\n",
       "       'bwd_pkts_s', 'pkt_len_min', 'pkt_len_max', 'pkt_len_mean',\n",
       "       'pkt_len_std', 'pkt_len_var', 'fin_flag_cnt', 'syn_flag_cnt',\n",
       "       'rst_flag_cnt', 'psh_flag_cnt', 'ack_flag_cnt', 'urg_flag_cnt',\n",
       "       'cwe_flag_count', 'ece_flag_cnt', 'down_up_ratio', 'pkt_size_avg',\n",
       "       'fwd_seg_size_avg', 'bwd_seg_size_avg', 'fwd_byts_b_avg',\n",
       "       'fwd_pkts_b_avg', 'fwd_blk_rate_avg', 'bwd_byts_b_avg',\n",
       "       'bwd_pkts_b_avg', 'bwd_blk_rate_avg', 'subflow_fwd_pkts',\n",
       "       'subflow_fwd_byts', 'subflow_bwd_pkts', 'subflow_bwd_byts',\n",
       "       'init_fwd_win_byts', 'init_bwd_win_byts', 'fwd_act_data_pkts',\n",
       "       'fwd_seg_size_min', 'active_mean', 'active_std', 'active_max',\n",
       "       'active_min', 'idle_mean', 'idle_std', 'idle_max', 'idle_min', 'label'],\n",
       "      dtype='object')"
      ]
     },
     "execution_count": 105,
     "metadata": {},
     "output_type": "execute_result"
    }
   ],
   "source": [
    "df.columns"
   ]
  },
  {
   "cell_type": "code",
   "execution_count": null,
   "metadata": {
    "colab": {
     "base_uri": "https://localhost:8080/",
     "height": 215
    },
    "executionInfo": {
     "elapsed": 26,
     "status": "ok",
     "timestamp": 1637352991009,
     "user": {
      "displayName": "code ai",
      "photoUrl": "https://lh3.googleusercontent.com/a/default-user=s64",
      "userId": "17345359434679870937"
     },
     "user_tz": -120
    },
    "id": "92YNRsEDL45W",
    "outputId": "04fa1a6a-a0c7-4f51-c484-465d0929819a"
   },
   "outputs": [
    {
     "data": {
      "text/html": [
       "<div>\n",
       "<style scoped>\n",
       "    .dataframe tbody tr th:only-of-type {\n",
       "        vertical-align: middle;\n",
       "    }\n",
       "\n",
       "    .dataframe tbody tr th {\n",
       "        vertical-align: top;\n",
       "    }\n",
       "\n",
       "    .dataframe thead th {\n",
       "        text-align: right;\n",
       "    }\n",
       "</style>\n",
       "<table border=\"1\" class=\"dataframe\">\n",
       "  <thead>\n",
       "    <tr style=\"text-align: right;\">\n",
       "      <th></th>\n",
       "      <th>dst_port</th>\n",
       "      <th>protocol</th>\n",
       "      <th>timestamp</th>\n",
       "      <th>flow_duration</th>\n",
       "      <th>tot_fwd_pkts</th>\n",
       "      <th>tot_bwd_pkts</th>\n",
       "      <th>totlen_fwd_pkts</th>\n",
       "      <th>totlen_bwd_pkts</th>\n",
       "      <th>fwd_pkt_len_max</th>\n",
       "      <th>fwd_pkt_len_min</th>\n",
       "      <th>fwd_pkt_len_mean</th>\n",
       "      <th>fwd_pkt_len_std</th>\n",
       "      <th>bwd_pkt_len_max</th>\n",
       "      <th>bwd_pkt_len_min</th>\n",
       "      <th>bwd_pkt_len_mean</th>\n",
       "      <th>bwd_pkt_len_std</th>\n",
       "      <th>flow_byts_s</th>\n",
       "      <th>flow_pkts_s</th>\n",
       "      <th>flow_iat_mean</th>\n",
       "      <th>flow_iat_std</th>\n",
       "      <th>flow_iat_max</th>\n",
       "      <th>flow_iat_min</th>\n",
       "      <th>fwd_iat_tot</th>\n",
       "      <th>fwd_iat_mean</th>\n",
       "      <th>fwd_iat_std</th>\n",
       "      <th>fwd_iat_max</th>\n",
       "      <th>fwd_iat_min</th>\n",
       "      <th>bwd_iat_tot</th>\n",
       "      <th>bwd_iat_mean</th>\n",
       "      <th>bwd_iat_std</th>\n",
       "      <th>bwd_iat_max</th>\n",
       "      <th>bwd_iat_min</th>\n",
       "      <th>fwd_psh_flags</th>\n",
       "      <th>bwd_psh_flags</th>\n",
       "      <th>fwd_urg_flags</th>\n",
       "      <th>bwd_urg_flags</th>\n",
       "      <th>fwd_header_len</th>\n",
       "      <th>bwd_header_len</th>\n",
       "      <th>fwd_pkts_s</th>\n",
       "      <th>bwd_pkts_s</th>\n",
       "      <th>pkt_len_min</th>\n",
       "      <th>pkt_len_max</th>\n",
       "      <th>pkt_len_mean</th>\n",
       "      <th>pkt_len_std</th>\n",
       "      <th>pkt_len_var</th>\n",
       "      <th>fin_flag_cnt</th>\n",
       "      <th>syn_flag_cnt</th>\n",
       "      <th>rst_flag_cnt</th>\n",
       "      <th>psh_flag_cnt</th>\n",
       "      <th>ack_flag_cnt</th>\n",
       "      <th>urg_flag_cnt</th>\n",
       "      <th>cwe_flag_count</th>\n",
       "      <th>ece_flag_cnt</th>\n",
       "      <th>down_up_ratio</th>\n",
       "      <th>pkt_size_avg</th>\n",
       "      <th>fwd_seg_size_avg</th>\n",
       "      <th>bwd_seg_size_avg</th>\n",
       "      <th>fwd_byts_b_avg</th>\n",
       "      <th>fwd_pkts_b_avg</th>\n",
       "      <th>fwd_blk_rate_avg</th>\n",
       "      <th>bwd_byts_b_avg</th>\n",
       "      <th>bwd_pkts_b_avg</th>\n",
       "      <th>bwd_blk_rate_avg</th>\n",
       "      <th>subflow_fwd_pkts</th>\n",
       "      <th>subflow_fwd_byts</th>\n",
       "      <th>subflow_bwd_pkts</th>\n",
       "      <th>subflow_bwd_byts</th>\n",
       "      <th>init_fwd_win_byts</th>\n",
       "      <th>init_bwd_win_byts</th>\n",
       "      <th>fwd_act_data_pkts</th>\n",
       "      <th>fwd_seg_size_min</th>\n",
       "      <th>active_mean</th>\n",
       "      <th>active_std</th>\n",
       "      <th>active_max</th>\n",
       "      <th>active_min</th>\n",
       "      <th>idle_mean</th>\n",
       "      <th>idle_std</th>\n",
       "      <th>idle_max</th>\n",
       "      <th>idle_min</th>\n",
       "      <th>label</th>\n",
       "    </tr>\n",
       "  </thead>\n",
       "  <tbody>\n",
       "    <tr>\n",
       "      <th>0</th>\n",
       "      <td>443</td>\n",
       "      <td>6</td>\n",
       "      <td>02/03/2018 08:47:38</td>\n",
       "      <td>141385.0</td>\n",
       "      <td>9</td>\n",
       "      <td>7</td>\n",
       "      <td>553</td>\n",
       "      <td>3773</td>\n",
       "      <td>202</td>\n",
       "      <td>0</td>\n",
       "      <td>61.444443</td>\n",
       "      <td>87.534440</td>\n",
       "      <td>1460</td>\n",
       "      <td>0</td>\n",
       "      <td>539.0</td>\n",
       "      <td>655.4329</td>\n",
       "      <td>30597.30523</td>\n",
       "      <td>113.166178</td>\n",
       "      <td>9425.667</td>\n",
       "      <td>19069.11700</td>\n",
       "      <td>73403.0</td>\n",
       "      <td>1.0</td>\n",
       "      <td>141385.0</td>\n",
       "      <td>17673.125</td>\n",
       "      <td>23965.324</td>\n",
       "      <td>73403.0</td>\n",
       "      <td>22.0</td>\n",
       "      <td>51417</td>\n",
       "      <td>8569.500</td>\n",
       "      <td>13036.891</td>\n",
       "      <td>31525</td>\n",
       "      <td>1</td>\n",
       "      <td>0</td>\n",
       "      <td>0</td>\n",
       "      <td>0</td>\n",
       "      <td>0</td>\n",
       "      <td>192</td>\n",
       "      <td>152</td>\n",
       "      <td>63.655975</td>\n",
       "      <td>49.510204</td>\n",
       "      <td>0</td>\n",
       "      <td>1460</td>\n",
       "      <td>254.47058</td>\n",
       "      <td>474.71295</td>\n",
       "      <td>225352.39000</td>\n",
       "      <td>0</td>\n",
       "      <td>0</td>\n",
       "      <td>1</td>\n",
       "      <td>1</td>\n",
       "      <td>0</td>\n",
       "      <td>0</td>\n",
       "      <td>0</td>\n",
       "      <td>1</td>\n",
       "      <td>0</td>\n",
       "      <td>270.375000</td>\n",
       "      <td>61.444443</td>\n",
       "      <td>539.0</td>\n",
       "      <td>0</td>\n",
       "      <td>0</td>\n",
       "      <td>0</td>\n",
       "      <td>0</td>\n",
       "      <td>0</td>\n",
       "      <td>0</td>\n",
       "      <td>9</td>\n",
       "      <td>553</td>\n",
       "      <td>7</td>\n",
       "      <td>3773</td>\n",
       "      <td>8192.0</td>\n",
       "      <td>119.0</td>\n",
       "      <td>4</td>\n",
       "      <td>20</td>\n",
       "      <td>0.0</td>\n",
       "      <td>0.0</td>\n",
       "      <td>0</td>\n",
       "      <td>0</td>\n",
       "      <td>0.0</td>\n",
       "      <td>0.0</td>\n",
       "      <td>0</td>\n",
       "      <td>0</td>\n",
       "      <td>0</td>\n",
       "    </tr>\n",
       "    <tr>\n",
       "      <th>1</th>\n",
       "      <td>49684</td>\n",
       "      <td>6</td>\n",
       "      <td>02/03/2018 08:47:38</td>\n",
       "      <td>281.0</td>\n",
       "      <td>2</td>\n",
       "      <td>1</td>\n",
       "      <td>38</td>\n",
       "      <td>0</td>\n",
       "      <td>38</td>\n",
       "      <td>0</td>\n",
       "      <td>19.000000</td>\n",
       "      <td>26.870058</td>\n",
       "      <td>0</td>\n",
       "      <td>0</td>\n",
       "      <td>0.0</td>\n",
       "      <td>0.0000</td>\n",
       "      <td>135231.31670</td>\n",
       "      <td>10676.156580</td>\n",
       "      <td>140.500</td>\n",
       "      <td>174.65538</td>\n",
       "      <td>264.0</td>\n",
       "      <td>17.0</td>\n",
       "      <td>281.0</td>\n",
       "      <td>281.000</td>\n",
       "      <td>0.000</td>\n",
       "      <td>281.0</td>\n",
       "      <td>281.0</td>\n",
       "      <td>0</td>\n",
       "      <td>0.000</td>\n",
       "      <td>0.000</td>\n",
       "      <td>0</td>\n",
       "      <td>0</td>\n",
       "      <td>1</td>\n",
       "      <td>0</td>\n",
       "      <td>0</td>\n",
       "      <td>0</td>\n",
       "      <td>40</td>\n",
       "      <td>20</td>\n",
       "      <td>7117.437500</td>\n",
       "      <td>3558.718800</td>\n",
       "      <td>0</td>\n",
       "      <td>38</td>\n",
       "      <td>19.00000</td>\n",
       "      <td>21.93931</td>\n",
       "      <td>481.33334</td>\n",
       "      <td>0</td>\n",
       "      <td>1</td>\n",
       "      <td>0</td>\n",
       "      <td>0</td>\n",
       "      <td>1</td>\n",
       "      <td>0</td>\n",
       "      <td>0</td>\n",
       "      <td>0</td>\n",
       "      <td>0</td>\n",
       "      <td>25.333334</td>\n",
       "      <td>19.000000</td>\n",
       "      <td>0.0</td>\n",
       "      <td>0</td>\n",
       "      <td>0</td>\n",
       "      <td>0</td>\n",
       "      <td>0</td>\n",
       "      <td>0</td>\n",
       "      <td>0</td>\n",
       "      <td>2</td>\n",
       "      <td>38</td>\n",
       "      <td>1</td>\n",
       "      <td>0</td>\n",
       "      <td>123.0</td>\n",
       "      <td>0.0</td>\n",
       "      <td>0</td>\n",
       "      <td>20</td>\n",
       "      <td>0.0</td>\n",
       "      <td>0.0</td>\n",
       "      <td>0</td>\n",
       "      <td>0</td>\n",
       "      <td>0.0</td>\n",
       "      <td>0.0</td>\n",
       "      <td>0</td>\n",
       "      <td>0</td>\n",
       "      <td>0</td>\n",
       "    </tr>\n",
       "    <tr>\n",
       "      <th>2</th>\n",
       "      <td>443</td>\n",
       "      <td>6</td>\n",
       "      <td>02/03/2018 08:47:40</td>\n",
       "      <td>279824.0</td>\n",
       "      <td>11</td>\n",
       "      <td>15</td>\n",
       "      <td>1086</td>\n",
       "      <td>10527</td>\n",
       "      <td>385</td>\n",
       "      <td>0</td>\n",
       "      <td>98.727270</td>\n",
       "      <td>129.392500</td>\n",
       "      <td>1460</td>\n",
       "      <td>0</td>\n",
       "      <td>701.8</td>\n",
       "      <td>636.3142</td>\n",
       "      <td>41501.08640</td>\n",
       "      <td>92.915547</td>\n",
       "      <td>11192.960</td>\n",
       "      <td>24379.45000</td>\n",
       "      <td>112589.0</td>\n",
       "      <td>1.0</td>\n",
       "      <td>279728.0</td>\n",
       "      <td>27972.800</td>\n",
       "      <td>36167.742</td>\n",
       "      <td>112589.0</td>\n",
       "      <td>94.0</td>\n",
       "      <td>258924</td>\n",
       "      <td>18494.572</td>\n",
       "      <td>36356.504</td>\n",
       "      <td>133669</td>\n",
       "      <td>1</td>\n",
       "      <td>0</td>\n",
       "      <td>0</td>\n",
       "      <td>0</td>\n",
       "      <td>0</td>\n",
       "      <td>232</td>\n",
       "      <td>312</td>\n",
       "      <td>39.310425</td>\n",
       "      <td>53.605120</td>\n",
       "      <td>0</td>\n",
       "      <td>1460</td>\n",
       "      <td>430.11110</td>\n",
       "      <td>566.23420</td>\n",
       "      <td>320621.20000</td>\n",
       "      <td>0</td>\n",
       "      <td>0</td>\n",
       "      <td>1</td>\n",
       "      <td>1</td>\n",
       "      <td>0</td>\n",
       "      <td>0</td>\n",
       "      <td>0</td>\n",
       "      <td>1</td>\n",
       "      <td>1</td>\n",
       "      <td>446.653840</td>\n",
       "      <td>98.727270</td>\n",
       "      <td>701.8</td>\n",
       "      <td>0</td>\n",
       "      <td>0</td>\n",
       "      <td>0</td>\n",
       "      <td>0</td>\n",
       "      <td>0</td>\n",
       "      <td>0</td>\n",
       "      <td>11</td>\n",
       "      <td>1086</td>\n",
       "      <td>15</td>\n",
       "      <td>10527</td>\n",
       "      <td>8192.0</td>\n",
       "      <td>1047.0</td>\n",
       "      <td>5</td>\n",
       "      <td>20</td>\n",
       "      <td>0.0</td>\n",
       "      <td>0.0</td>\n",
       "      <td>0</td>\n",
       "      <td>0</td>\n",
       "      <td>0.0</td>\n",
       "      <td>0.0</td>\n",
       "      <td>0</td>\n",
       "      <td>0</td>\n",
       "      <td>0</td>\n",
       "    </tr>\n",
       "  </tbody>\n",
       "</table>\n",
       "</div>"
      ],
      "text/plain": [
       "   dst_port  protocol            timestamp  ...  idle_max  idle_min  label\n",
       "0       443         6  02/03/2018 08:47:38  ...         0         0      0\n",
       "1     49684         6  02/03/2018 08:47:38  ...         0         0      0\n",
       "2       443         6  02/03/2018 08:47:40  ...         0         0      0\n",
       "\n",
       "[3 rows x 80 columns]"
      ]
     },
     "execution_count": 106,
     "metadata": {},
     "output_type": "execute_result"
    }
   ],
   "source": [
    "df.head(3)"
   ]
  },
  {
   "cell_type": "code",
   "execution_count": null,
   "metadata": {
    "id": "8gd-O-63laU8"
   },
   "outputs": [],
   "source": [
    "def replace_infinity_with_mean(df): #inf\n",
    "    inf_columns = [c for c in df.columns if df[df[c] == np.inf][c].count() > 0]\n",
    "    for col in inf_columns:\n",
    "        df[col].replace([np.inf, -np.inf], np.nan, inplace=True)\n",
    "        mean = df[col].mean()\n",
    "        df[col].fillna(mean, inplace=True)\n",
    "    return df  \n",
    "\n",
    "def replace_negative_values_with_mean(df):\n",
    "    numeric_cols = df.select_dtypes(include=[np.number]).columns.values\n",
    "    \n",
    "    columns = [c for c in numeric_cols if df[df[c] < 0][c].count() > 0]\n",
    "    for col in columns:\n",
    "        mask = df[col] < 0\n",
    "        df.loc[mask, col] = np.nan\n",
    "        mean = df[col].mean()\n",
    "        df[col].fillna(mean, inplace=True)\n",
    "    return df"
   ]
  },
  {
   "cell_type": "code",
   "execution_count": null,
   "metadata": {
    "colab": {
     "base_uri": "https://localhost:8080/"
    },
    "executionInfo": {
     "elapsed": 16,
     "status": "ok",
     "timestamp": 1637352991009,
     "user": {
      "displayName": "code ai",
      "photoUrl": "https://lh3.googleusercontent.com/a/default-user=s64",
      "userId": "17345359434679870937"
     },
     "user_tz": -120
    },
    "id": "jKFNWUmsNMU8",
    "outputId": "546000b7-0ff2-4c98-c60f-f6726c62afd0"
   },
   "outputs": [
    {
     "data": {
      "text/plain": [
       "(16232943, 80)"
      ]
     },
     "execution_count": 107,
     "metadata": {},
     "output_type": "execute_result"
    }
   ],
   "source": [
    "df.shape"
   ]
  },
  {
   "cell_type": "code",
   "execution_count": null,
   "metadata": {
    "id": "Z-grI8RHNsIo"
   },
   "outputs": [],
   "source": [
    "X = df.drop(columns=['label'])\n",
    "y = df.iloc[:, -1].values.reshape(-1,1)\n",
    "y = np.ravel(y)"
   ]
  },
  {
   "cell_type": "code",
   "execution_count": null,
   "metadata": {
    "id": "X6_10OSwOCxp"
   },
   "outputs": [],
   "source": [
    "X = X.drop(columns=['timestamp', 'dst_port'])"
   ]
  },
  {
   "cell_type": "code",
   "execution_count": null,
   "metadata": {
    "colab": {
     "base_uri": "https://localhost:8080/"
    },
    "executionInfo": {
     "elapsed": 20,
     "status": "ok",
     "timestamp": 1637353008054,
     "user": {
      "displayName": "code ai",
      "photoUrl": "https://lh3.googleusercontent.com/a/default-user=s64",
      "userId": "17345359434679870937"
     },
     "user_tz": -120
    },
    "id": "pMjRDadKEk0J",
    "outputId": "e92e453c-4aa8-4ab6-b0d7-bf6cf87530b7"
   },
   "outputs": [
    {
     "data": {
      "text/plain": [
       "0     13484708\n",
       "4       686012\n",
       "6       576191\n",
       "8       461912\n",
       "1       286191\n",
       "11      193360\n",
       "14      187589\n",
       "12      161934\n",
       "9       139890\n",
       "7        41508\n",
       "10       10990\n",
       "5         1730\n",
       "2          611\n",
       "3          230\n",
       "13          87\n",
       "dtype: int64"
      ]
     },
     "execution_count": 110,
     "metadata": {},
     "output_type": "execute_result"
    }
   ],
   "source": [
    "pd.Series(y).value_counts()"
   ]
  },
  {
   "cell_type": "code",
   "execution_count": null,
   "metadata": {
    "id": "y9jveuPlFNfS"
   },
   "outputs": [],
   "source": [
    "X_train, X_test, y_train, y_test = train_test_split(X,y, train_size = 0.8, test_size = 0.2, random_state = 0, stratify = y)"
   ]
  },
  {
   "cell_type": "code",
   "execution_count": null,
   "metadata": {
    "id": "I5xXzWfjKxHs"
   },
   "outputs": [],
   "source": [
    "X_train1, X_test1, y_train1, y_test1 = train_test_split(X_test,y_test, train_size = 0.6, test_size = 0.4, random_state = 0, stratify = y_test)"
   ]
  },
  {
   "cell_type": "code",
   "execution_count": null,
   "metadata": {
    "colab": {
     "base_uri": "https://localhost:8080/"
    },
    "executionInfo": {
     "elapsed": 312,
     "status": "ok",
     "timestamp": 1636300753517,
     "user": {
      "displayName": "code ai",
      "photoUrl": "https://lh3.googleusercontent.com/a/default-user=s64",
      "userId": "17345359434679870937"
     },
     "user_tz": -120
    },
    "id": "kYUzw3vDFNKo",
    "outputId": "3a4404fc-bc85-454a-9f5c-f0bb977018a8"
   },
   "outputs": [
    {
     "data": {
      "text/plain": [
       "(1298636, 77)"
      ]
     },
     "execution_count": 29,
     "metadata": {},
     "output_type": "execute_result"
    }
   ],
   "source": [
    "X_test1.shape"
   ]
  },
  {
   "cell_type": "code",
   "execution_count": null,
   "metadata": {
    "colab": {
     "base_uri": "https://localhost:8080/"
    },
    "executionInfo": {
     "elapsed": 392,
     "status": "ok",
     "timestamp": 1636300757749,
     "user": {
      "displayName": "code ai",
      "photoUrl": "https://lh3.googleusercontent.com/a/default-user=s64",
      "userId": "17345359434679870937"
     },
     "user_tz": -120
    },
    "id": "W4H2MOTnHLdp",
    "outputId": "0f4221a2-4a7b-4385-99ca-1c0399d55328"
   },
   "outputs": [
    {
     "data": {
      "text/plain": [
       "0     1078777\n",
       "4       54881\n",
       "6       46095\n",
       "8       36953\n",
       "1       22895\n",
       "11      15469\n",
       "14      15007\n",
       "12      12955\n",
       "9       11191\n",
       "7        3321\n",
       "10        879\n",
       "5         139\n",
       "2          49\n",
       "3          18\n",
       "13          7\n",
       "dtype: int64"
      ]
     },
     "execution_count": 30,
     "metadata": {},
     "output_type": "execute_result"
    }
   ],
   "source": [
    "pd.Series(y_test1).value_counts()"
   ]
  },
  {
   "cell_type": "code",
   "execution_count": null,
   "metadata": {
    "colab": {
     "base_uri": "https://localhost:8080/"
    },
    "executionInfo": {
     "elapsed": 7129,
     "status": "ok",
     "timestamp": 1632852716819,
     "user": {
      "displayName": "code ai",
      "photoUrl": "https://lh3.googleusercontent.com/a/default-user=s64",
      "userId": "17345359434679870937"
     },
     "user_tz": -180
    },
    "id": "1I91FxNsFNAS",
    "outputId": "74534590-70c9-46dc-a8eb-b80aeb7f9075"
   },
   "outputs": [
    {
     "name": "stdout",
     "output_type": "stream",
     "text": [
      "Done SMOTE for feature  13\n"
     ]
    },
    {
     "name": "stderr",
     "output_type": "stream",
     "text": [
      "/usr/local/lib/python3.7/dist-packages/sklearn/utils/deprecation.py:87: FutureWarning: Function safe_indexing is deprecated; safe_indexing is deprecated in version 0.22 and will be removed in version 0.24.\n",
      "  warnings.warn(msg, category=FutureWarning)\n"
     ]
    },
    {
     "name": "stdout",
     "output_type": "stream",
     "text": [
      "Done SMOTE for feature  3\n"
     ]
    },
    {
     "name": "stderr",
     "output_type": "stream",
     "text": [
      "/usr/local/lib/python3.7/dist-packages/sklearn/utils/deprecation.py:87: FutureWarning: Function safe_indexing is deprecated; safe_indexing is deprecated in version 0.22 and will be removed in version 0.24.\n",
      "  warnings.warn(msg, category=FutureWarning)\n"
     ]
    },
    {
     "name": "stdout",
     "output_type": "stream",
     "text": [
      "Done SMOTE for feature  2\n"
     ]
    },
    {
     "name": "stderr",
     "output_type": "stream",
     "text": [
      "/usr/local/lib/python3.7/dist-packages/sklearn/utils/deprecation.py:87: FutureWarning: Function safe_indexing is deprecated; safe_indexing is deprecated in version 0.22 and will be removed in version 0.24.\n",
      "  warnings.warn(msg, category=FutureWarning)\n"
     ]
    },
    {
     "name": "stdout",
     "output_type": "stream",
     "text": [
      "Done SMOTE for feature  5\n"
     ]
    },
    {
     "name": "stderr",
     "output_type": "stream",
     "text": [
      "/usr/local/lib/python3.7/dist-packages/sklearn/utils/deprecation.py:87: FutureWarning: Function safe_indexing is deprecated; safe_indexing is deprecated in version 0.22 and will be removed in version 0.24.\n",
      "  warnings.warn(msg, category=FutureWarning)\n"
     ]
    },
    {
     "name": "stdout",
     "output_type": "stream",
     "text": [
      "Done SMOTE for feature  10\n"
     ]
    },
    {
     "name": "stderr",
     "output_type": "stream",
     "text": [
      "/usr/local/lib/python3.7/dist-packages/sklearn/utils/deprecation.py:87: FutureWarning: Function safe_indexing is deprecated; safe_indexing is deprecated in version 0.22 and will be removed in version 0.24.\n",
      "  warnings.warn(msg, category=FutureWarning)\n"
     ]
    }
   ],
   "source": [
    "from imblearn.over_sampling import SMOTE \n",
    "low_features = [13,3,2,5,10]\n",
    "\n",
    "for i in low_features:\n",
    "  print (\"Done SMOTE for feature \",i)\n",
    "  smote = SMOTE(n_jobs = -1,sampling_strategy = {i:1000})\n",
    "  X_test1, y_test1 = smote.fit_sample(X_test1, y_test1)"
   ]
  },
  {
   "cell_type": "code",
   "execution_count": null,
   "metadata": {
    "colab": {
     "base_uri": "https://localhost:8080/"
    },
    "executionInfo": {
     "elapsed": 14,
     "status": "ok",
     "timestamp": 1632852716820,
     "user": {
      "displayName": "code ai",
      "photoUrl": "https://lh3.googleusercontent.com/a/default-user=s64",
      "userId": "17345359434679870937"
     },
     "user_tz": -180
    },
    "id": "qhHeigk8jvV8",
    "outputId": "6458e4e3-f0c2-45b5-e736-6b2ebf6b63b7"
   },
   "outputs": [
    {
     "data": {
      "text/plain": [
       "0     1078777\n",
       "4       54881\n",
       "6       46095\n",
       "8       36953\n",
       "1       22895\n",
       "11      15469\n",
       "14      15007\n",
       "12      12955\n",
       "9       11191\n",
       "7        3321\n",
       "13       1000\n",
       "10       1000\n",
       "5        1000\n",
       "3        1000\n",
       "2        1000\n",
       "dtype: int64"
      ]
     },
     "execution_count": 28,
     "metadata": {},
     "output_type": "execute_result"
    }
   ],
   "source": [
    "pd.Series(y_test1).value_counts()"
   ]
  },
  {
   "cell_type": "code",
   "execution_count": null,
   "metadata": {
    "colab": {
     "base_uri": "https://localhost:8080/"
    },
    "executionInfo": {
     "elapsed": 10,
     "status": "ok",
     "timestamp": 1632852716821,
     "user": {
      "displayName": "code ai",
      "photoUrl": "https://lh3.googleusercontent.com/a/default-user=s64",
      "userId": "17345359434679870937"
     },
     "user_tz": -180
    },
    "id": "B_xZBlPPOCXM",
    "outputId": "b411e032-1b14-44a0-b25c-99d44844c593"
   },
   "outputs": [
    {
     "data": {
      "text/plain": [
       "(1302544, 77)"
      ]
     },
     "execution_count": 29,
     "metadata": {},
     "output_type": "execute_result"
    }
   ],
   "source": [
    "X_test1.shape"
   ]
  },
  {
   "cell_type": "code",
   "execution_count": null,
   "metadata": {
    "id": "zrGfkfaIEY6q"
   },
   "outputs": [],
   "source": [
    "X_train2, X_test2, y_train2, y_test2 = train_test_split(X_test1,y_test1, train_size = 0.8, test_size = 0.2, random_state = 0, stratify = y_test1)\n",
    "X_train3, X_test3, y_train3, y_test3 = train_test_split(X_test2,y_test2, train_size = 0.8, test_size = 0.2, random_state = 0, stratify = y_test2)"
   ]
  },
  {
   "cell_type": "code",
   "execution_count": null,
   "metadata": {
    "colab": {
     "base_uri": "https://localhost:8080/"
    },
    "executionInfo": {
     "elapsed": 17,
     "status": "ok",
     "timestamp": 1632852718820,
     "user": {
      "displayName": "code ai",
      "photoUrl": "https://lh3.googleusercontent.com/a/default-user=s64",
      "userId": "17345359434679870937"
     },
     "user_tz": -180
    },
    "id": "4dOq5SRYEpzN",
    "outputId": "1270e6a3-37a5-49f8-8699-5a44fbd10093"
   },
   "outputs": [
    {
     "data": {
      "text/plain": [
       "0     215756\n",
       "4      10976\n",
       "6       9219\n",
       "8       7391\n",
       "1       4579\n",
       "11      3094\n",
       "14      3001\n",
       "12      2591\n",
       "9       2238\n",
       "7        664\n",
       "13       200\n",
       "10       200\n",
       "5        200\n",
       "3        200\n",
       "2        200\n",
       "dtype: int64"
      ]
     },
     "execution_count": 31,
     "metadata": {},
     "output_type": "execute_result"
    }
   ],
   "source": [
    "pd.Series(y_test2).value_counts()"
   ]
  },
  {
   "cell_type": "code",
   "execution_count": null,
   "metadata": {
    "colab": {
     "base_uri": "https://localhost:8080/"
    },
    "executionInfo": {
     "elapsed": 14,
     "status": "ok",
     "timestamp": 1632852718821,
     "user": {
      "displayName": "code ai",
      "photoUrl": "https://lh3.googleusercontent.com/a/default-user=s64",
      "userId": "17345359434679870937"
     },
     "user_tz": -180
    },
    "id": "fs1uv7TcPpRZ",
    "outputId": "2029ac92-930b-485a-c3c4-0ae0b184ea99"
   },
   "outputs": [
    {
     "name": "stdout",
     "output_type": "stream",
     "text": [
      "(208407, 77) (1042035, 77) (1947953, 77) (12986354, 77) (16232943, 77)\n"
     ]
    }
   ],
   "source": [
    "print (X_train3.shape , X_train2.shape, X_train1.shape , X_train.shape , X.shape)"
   ]
  },
  {
   "cell_type": "code",
   "execution_count": null,
   "metadata": {
    "colab": {
     "base_uri": "https://localhost:8080/"
    },
    "executionInfo": {
     "elapsed": 237,
     "status": "ok",
     "timestamp": 1632852884965,
     "user": {
      "displayName": "code ai",
      "photoUrl": "https://lh3.googleusercontent.com/a/default-user=s64",
      "userId": "17345359434679870937"
     },
     "user_tz": -180
    },
    "id": "a8unnGjgQYQL",
    "outputId": "8acd62b8-1745-4a90-85c5-7a1223e61f2b"
   },
   "outputs": [
    {
     "name": "stdout",
     "output_type": "stream",
     "text": [
      "<class 'numpy.ndarray'> <class 'numpy.ndarray'> <class 'pandas.core.frame.DataFrame'> <class 'pandas.core.frame.DataFrame'>\n",
      "<class 'numpy.ndarray'> <class 'numpy.ndarray'> <class 'numpy.ndarray'> <class 'pandas.core.frame.DataFrame'>\n",
      "<class 'numpy.ndarray'> <class 'numpy.ndarray'> <class 'numpy.ndarray'> <class 'numpy.ndarray'>\n",
      "<class 'numpy.ndarray'> <class 'numpy.ndarray'> <class 'numpy.ndarray'> <class 'numpy.ndarray'>\n"
     ]
    }
   ],
   "source": [
    "print (type(X_train3) , type(X_train2) , type(X_train1) , type(X_train))\n",
    "print (type(X_test3) , type(X_test2) , type(X_test1) , type(X_test))\n",
    "\n",
    "print (type(y_train3) , type(y_train2) , type(y_train1) , type(y_train))\n",
    "print (type(y_test3) , type(y_test2) , type(y_test1) , type(y_test))"
   ]
  },
  {
   "cell_type": "code",
   "execution_count": null,
   "metadata": {
    "colab": {
     "base_uri": "https://localhost:8080/",
     "height": 36
    },
    "executionInfo": {
     "elapsed": 501,
     "status": "ok",
     "timestamp": 1632852892648,
     "user": {
      "displayName": "code ai",
      "photoUrl": "https://lh3.googleusercontent.com/a/default-user=s64",
      "userId": "17345359434679870937"
     },
     "user_tz": -180
    },
    "id": "Us8k9poAEpgi",
    "outputId": "6f76e9a4-963d-49ea-cafb-1e549d1f262b"
   },
   "outputs": [
    {
     "data": {
      "application/vnd.google.colaboratory.intrinsic+json": {
       "type": "string"
      },
      "text/plain": [
       "'tot_fwd_pkts'"
      ]
     },
     "execution_count": 34,
     "metadata": {},
     "output_type": "execute_result"
    }
   ],
   "source": [
    "#cols = list(X_train2.head(0)) # Save name features in variable  \n",
    "cols = list(X.columns)\n",
    "cols[2]"
   ]
  },
  {
   "cell_type": "code",
   "execution_count": null,
   "metadata": {
    "id": "ylalbYs4RTlK"
   },
   "outputs": [],
   "source": [
    "X2 = pd.DataFrame(X_train2,columns = cols)\n",
    "y2 = pd.DataFrame(y_train2,columns = ['label']) "
   ]
  },
  {
   "cell_type": "code",
   "execution_count": null,
   "metadata": {
    "colab": {
     "base_uri": "https://localhost:8080/"
    },
    "executionInfo": {
     "elapsed": 265,
     "status": "ok",
     "timestamp": 1632852895408,
     "user": {
      "displayName": "code ai",
      "photoUrl": "https://lh3.googleusercontent.com/a/default-user=s64",
      "userId": "17345359434679870937"
     },
     "user_tz": -180
    },
    "id": "x1ctqyP9c42V",
    "outputId": "35771fff-4c5b-4ff0-8d2d-973e2d588fe1"
   },
   "outputs": [
    {
     "name": "stdout",
     "output_type": "stream",
     "text": [
      "<class 'pandas.core.frame.DataFrame'> <class 'pandas.core.frame.DataFrame'>\n"
     ]
    }
   ],
   "source": [
    "print (type(y2),type(X2))"
   ]
  },
  {
   "cell_type": "code",
   "execution_count": null,
   "metadata": {
    "colab": {
     "base_uri": "https://localhost:8080/",
     "height": 132
    },
    "executionInfo": {
     "elapsed": 232,
     "status": "ok",
     "timestamp": 1632852896628,
     "user": {
      "displayName": "code ai",
      "photoUrl": "https://lh3.googleusercontent.com/a/default-user=s64",
      "userId": "17345359434679870937"
     },
     "user_tz": -180
    },
    "id": "zYw5awKAmKlv",
    "outputId": "4bb46cff-6e68-4fac-bcda-3749883731f5"
   },
   "outputs": [
    {
     "data": {
      "text/html": [
       "<div>\n",
       "<style scoped>\n",
       "    .dataframe tbody tr th:only-of-type {\n",
       "        vertical-align: middle;\n",
       "    }\n",
       "\n",
       "    .dataframe tbody tr th {\n",
       "        vertical-align: top;\n",
       "    }\n",
       "\n",
       "    .dataframe thead th {\n",
       "        text-align: right;\n",
       "    }\n",
       "</style>\n",
       "<table border=\"1\" class=\"dataframe\">\n",
       "  <thead>\n",
       "    <tr style=\"text-align: right;\">\n",
       "      <th></th>\n",
       "      <th>protocol</th>\n",
       "      <th>flow_duration</th>\n",
       "      <th>tot_fwd_pkts</th>\n",
       "      <th>tot_bwd_pkts</th>\n",
       "      <th>totlen_fwd_pkts</th>\n",
       "      <th>totlen_bwd_pkts</th>\n",
       "      <th>fwd_pkt_len_max</th>\n",
       "      <th>fwd_pkt_len_min</th>\n",
       "      <th>fwd_pkt_len_mean</th>\n",
       "      <th>fwd_pkt_len_std</th>\n",
       "      <th>bwd_pkt_len_max</th>\n",
       "      <th>bwd_pkt_len_min</th>\n",
       "      <th>bwd_pkt_len_mean</th>\n",
       "      <th>bwd_pkt_len_std</th>\n",
       "      <th>flow_byts_s</th>\n",
       "      <th>flow_pkts_s</th>\n",
       "      <th>flow_iat_mean</th>\n",
       "      <th>flow_iat_std</th>\n",
       "      <th>flow_iat_max</th>\n",
       "      <th>flow_iat_min</th>\n",
       "      <th>fwd_iat_tot</th>\n",
       "      <th>fwd_iat_mean</th>\n",
       "      <th>fwd_iat_std</th>\n",
       "      <th>fwd_iat_max</th>\n",
       "      <th>fwd_iat_min</th>\n",
       "      <th>bwd_iat_tot</th>\n",
       "      <th>bwd_iat_mean</th>\n",
       "      <th>bwd_iat_std</th>\n",
       "      <th>bwd_iat_max</th>\n",
       "      <th>bwd_iat_min</th>\n",
       "      <th>fwd_psh_flags</th>\n",
       "      <th>bwd_psh_flags</th>\n",
       "      <th>fwd_urg_flags</th>\n",
       "      <th>bwd_urg_flags</th>\n",
       "      <th>fwd_header_len</th>\n",
       "      <th>bwd_header_len</th>\n",
       "      <th>fwd_pkts_s</th>\n",
       "      <th>bwd_pkts_s</th>\n",
       "      <th>pkt_len_min</th>\n",
       "      <th>pkt_len_max</th>\n",
       "      <th>pkt_len_mean</th>\n",
       "      <th>pkt_len_std</th>\n",
       "      <th>pkt_len_var</th>\n",
       "      <th>fin_flag_cnt</th>\n",
       "      <th>syn_flag_cnt</th>\n",
       "      <th>rst_flag_cnt</th>\n",
       "      <th>psh_flag_cnt</th>\n",
       "      <th>ack_flag_cnt</th>\n",
       "      <th>urg_flag_cnt</th>\n",
       "      <th>cwe_flag_count</th>\n",
       "      <th>ece_flag_cnt</th>\n",
       "      <th>down_up_ratio</th>\n",
       "      <th>pkt_size_avg</th>\n",
       "      <th>fwd_seg_size_avg</th>\n",
       "      <th>bwd_seg_size_avg</th>\n",
       "      <th>fwd_byts_b_avg</th>\n",
       "      <th>fwd_pkts_b_avg</th>\n",
       "      <th>fwd_blk_rate_avg</th>\n",
       "      <th>bwd_byts_b_avg</th>\n",
       "      <th>bwd_pkts_b_avg</th>\n",
       "      <th>bwd_blk_rate_avg</th>\n",
       "      <th>subflow_fwd_pkts</th>\n",
       "      <th>subflow_fwd_byts</th>\n",
       "      <th>subflow_bwd_pkts</th>\n",
       "      <th>subflow_bwd_byts</th>\n",
       "      <th>init_fwd_win_byts</th>\n",
       "      <th>init_bwd_win_byts</th>\n",
       "      <th>fwd_act_data_pkts</th>\n",
       "      <th>fwd_seg_size_min</th>\n",
       "      <th>active_mean</th>\n",
       "      <th>active_std</th>\n",
       "      <th>active_max</th>\n",
       "      <th>active_min</th>\n",
       "      <th>idle_mean</th>\n",
       "      <th>idle_std</th>\n",
       "      <th>idle_max</th>\n",
       "      <th>idle_min</th>\n",
       "    </tr>\n",
       "  </thead>\n",
       "  <tbody>\n",
       "    <tr>\n",
       "      <th>0</th>\n",
       "      <td>17.0</td>\n",
       "      <td>270.0</td>\n",
       "      <td>1.0</td>\n",
       "      <td>1.0</td>\n",
       "      <td>47.0</td>\n",
       "      <td>63.0</td>\n",
       "      <td>47.0</td>\n",
       "      <td>47.0</td>\n",
       "      <td>47.0</td>\n",
       "      <td>0.0</td>\n",
       "      <td>63.0</td>\n",
       "      <td>63.0</td>\n",
       "      <td>63.0</td>\n",
       "      <td>0.0</td>\n",
       "      <td>407407.407407</td>\n",
       "      <td>7407.407407</td>\n",
       "      <td>270.0</td>\n",
       "      <td>0.0</td>\n",
       "      <td>270.0</td>\n",
       "      <td>270.0</td>\n",
       "      <td>0.0</td>\n",
       "      <td>0.0</td>\n",
       "      <td>0.0</td>\n",
       "      <td>0.0</td>\n",
       "      <td>0.0</td>\n",
       "      <td>0.0</td>\n",
       "      <td>0.0</td>\n",
       "      <td>0.0</td>\n",
       "      <td>0.0</td>\n",
       "      <td>0.0</td>\n",
       "      <td>0.0</td>\n",
       "      <td>0.0</td>\n",
       "      <td>0.0</td>\n",
       "      <td>0.0</td>\n",
       "      <td>8.0</td>\n",
       "      <td>8.0</td>\n",
       "      <td>3703.7036</td>\n",
       "      <td>3703.7036</td>\n",
       "      <td>47.0</td>\n",
       "      <td>63.0</td>\n",
       "      <td>52.333332</td>\n",
       "      <td>9.237604</td>\n",
       "      <td>85.333336</td>\n",
       "      <td>0.0</td>\n",
       "      <td>0.0</td>\n",
       "      <td>0.0</td>\n",
       "      <td>0.0</td>\n",
       "      <td>0.0</td>\n",
       "      <td>0.0</td>\n",
       "      <td>0.0</td>\n",
       "      <td>0.0</td>\n",
       "      <td>1.0</td>\n",
       "      <td>78.5</td>\n",
       "      <td>47.0</td>\n",
       "      <td>63.0</td>\n",
       "      <td>0.0</td>\n",
       "      <td>0.0</td>\n",
       "      <td>0.0</td>\n",
       "      <td>0.0</td>\n",
       "      <td>0.0</td>\n",
       "      <td>0.0</td>\n",
       "      <td>1.0</td>\n",
       "      <td>47.0</td>\n",
       "      <td>1.0</td>\n",
       "      <td>63.0</td>\n",
       "      <td>12088.350041</td>\n",
       "      <td>17682.268468</td>\n",
       "      <td>0.0</td>\n",
       "      <td>8.0</td>\n",
       "      <td>0.0</td>\n",
       "      <td>0.0</td>\n",
       "      <td>0.0</td>\n",
       "      <td>0.0</td>\n",
       "      <td>0.0</td>\n",
       "      <td>0.0</td>\n",
       "      <td>0.0</td>\n",
       "      <td>0.0</td>\n",
       "    </tr>\n",
       "    <tr>\n",
       "      <th>1</th>\n",
       "      <td>6.0</td>\n",
       "      <td>29.0</td>\n",
       "      <td>1.0</td>\n",
       "      <td>1.0</td>\n",
       "      <td>0.0</td>\n",
       "      <td>0.0</td>\n",
       "      <td>0.0</td>\n",
       "      <td>0.0</td>\n",
       "      <td>0.0</td>\n",
       "      <td>0.0</td>\n",
       "      <td>0.0</td>\n",
       "      <td>0.0</td>\n",
       "      <td>0.0</td>\n",
       "      <td>0.0</td>\n",
       "      <td>0.000000</td>\n",
       "      <td>68965.517241</td>\n",
       "      <td>29.0</td>\n",
       "      <td>0.0</td>\n",
       "      <td>29.0</td>\n",
       "      <td>29.0</td>\n",
       "      <td>0.0</td>\n",
       "      <td>0.0</td>\n",
       "      <td>0.0</td>\n",
       "      <td>0.0</td>\n",
       "      <td>0.0</td>\n",
       "      <td>0.0</td>\n",
       "      <td>0.0</td>\n",
       "      <td>0.0</td>\n",
       "      <td>0.0</td>\n",
       "      <td>0.0</td>\n",
       "      <td>0.0</td>\n",
       "      <td>0.0</td>\n",
       "      <td>0.0</td>\n",
       "      <td>0.0</td>\n",
       "      <td>20.0</td>\n",
       "      <td>20.0</td>\n",
       "      <td>34482.7580</td>\n",
       "      <td>34482.7580</td>\n",
       "      <td>0.0</td>\n",
       "      <td>0.0</td>\n",
       "      <td>0.000000</td>\n",
       "      <td>0.000000</td>\n",
       "      <td>0.000000</td>\n",
       "      <td>0.0</td>\n",
       "      <td>0.0</td>\n",
       "      <td>0.0</td>\n",
       "      <td>0.0</td>\n",
       "      <td>1.0</td>\n",
       "      <td>1.0</td>\n",
       "      <td>0.0</td>\n",
       "      <td>0.0</td>\n",
       "      <td>1.0</td>\n",
       "      <td>0.0</td>\n",
       "      <td>0.0</td>\n",
       "      <td>0.0</td>\n",
       "      <td>0.0</td>\n",
       "      <td>0.0</td>\n",
       "      <td>0.0</td>\n",
       "      <td>0.0</td>\n",
       "      <td>0.0</td>\n",
       "      <td>0.0</td>\n",
       "      <td>1.0</td>\n",
       "      <td>0.0</td>\n",
       "      <td>1.0</td>\n",
       "      <td>0.0</td>\n",
       "      <td>115.000000</td>\n",
       "      <td>256.000000</td>\n",
       "      <td>0.0</td>\n",
       "      <td>20.0</td>\n",
       "      <td>0.0</td>\n",
       "      <td>0.0</td>\n",
       "      <td>0.0</td>\n",
       "      <td>0.0</td>\n",
       "      <td>0.0</td>\n",
       "      <td>0.0</td>\n",
       "      <td>0.0</td>\n",
       "      <td>0.0</td>\n",
       "    </tr>\n",
       "  </tbody>\n",
       "</table>\n",
       "</div>"
      ],
      "text/plain": [
       "   protocol  flow_duration  tot_fwd_pkts  ...  idle_std  idle_max  idle_min\n",
       "0      17.0          270.0           1.0  ...       0.0       0.0       0.0\n",
       "1       6.0           29.0           1.0  ...       0.0       0.0       0.0\n",
       "\n",
       "[2 rows x 77 columns]"
      ]
     },
     "execution_count": 37,
     "metadata": {},
     "output_type": "execute_result"
    }
   ],
   "source": [
    "X2.head(2)"
   ]
  },
  {
   "cell_type": "code",
   "execution_count": null,
   "metadata": {
    "id": "zFEnZE5RkYDs"
   },
   "outputs": [],
   "source": [
    "numeric_features = X2.dtypes[X2.dtypes != 'object'].index\n",
    "X2[numeric_features] = X2[numeric_features].apply(\n",
    "    lambda x: (x - x.min()) / (x.max()-x.min()))\n",
    "X2 = X2.fillna(0)"
   ]
  },
  {
   "cell_type": "code",
   "execution_count": null,
   "metadata": {
    "id": "knvVBFX0TDUR"
   },
   "outputs": [],
   "source": [
    "df2 = pd.concat([X2, y2], axis=1)"
   ]
  },
  {
   "cell_type": "code",
   "execution_count": null,
   "metadata": {
    "colab": {
     "base_uri": "https://localhost:8080/"
    },
    "executionInfo": {
     "elapsed": 349,
     "status": "ok",
     "timestamp": 1632852925487,
     "user": {
      "displayName": "code ai",
      "photoUrl": "https://lh3.googleusercontent.com/a/default-user=s64",
      "userId": "17345359434679870937"
     },
     "user_tz": -180
    },
    "id": "nSwEeE7Tehvp",
    "outputId": "05835ae0-b5bf-414d-d89e-edc8ff29e1e2"
   },
   "outputs": [
    {
     "data": {
      "text/plain": [
       "(1042035, 78)"
      ]
     },
     "execution_count": 40,
     "metadata": {},
     "output_type": "execute_result"
    }
   ],
   "source": [
    "df2.shape"
   ]
  },
  {
   "cell_type": "code",
   "execution_count": null,
   "metadata": {
    "id": "2IxtKThKlLgw"
   },
   "outputs": [],
   "source": [
    "df2 = replace_infinity_with_mean(df2)\n",
    "df2 = replace_negative_values_with_mean(df2)"
   ]
  },
  {
   "cell_type": "markdown",
   "metadata": {
    "id": "WweTIWywdxqo"
   },
   "source": [
    "### Pre-Model"
   ]
  },
  {
   "cell_type": "code",
   "execution_count": null,
   "metadata": {
    "id": "OTAfpY0_vAJu"
   },
   "outputs": [],
   "source": [
    "def print_report(ds_type, cls, X_vals, y_true, y_predict, plot_pr=False, plot_roc=False):\n",
    "    print(f\"Classification Report ({ds_type}):\")\n",
    "    print(classification_report(y_true, y_predict))\n",
    "    print(f\"Avg Precision Score: {average_precision_score(y_true, y_predict, average='weighted')}\")\n",
    "    \n",
    "    if plot_roc:\n",
    "        print(f\"ROC AUC Score: {roc_auc_score(y_true, y_predict)}\")\n",
    "        skplt.metrics.plot_roc(y_true, cls.predict_proba(X_vals))\n",
    "        plt.show()\n",
    "        \n",
    "    if plot_pr:\n",
    "        \n",
    "        skplt.metrics.plot_precision_recall(y_true, cls.predict_proba(X_vals))\n",
    "        plt.show()\n",
    "        \n",
    "    print('\\n')"
   ]
  },
  {
   "cell_type": "code",
   "execution_count": null,
   "metadata": {
    "id": "d8hPJpk33iRL"
   },
   "outputs": [],
   "source": [
    "def report_acc (model_score, y_true, y_predict):\n",
    "  print('Accuracy of Model: ' + str(model_score))\n",
    "  precision,recall,fscore,none= precision_recall_fscore_support(y_true, y_predict, average='weighted') \n",
    "  print('Precision of Model: ' + (str(precision)))\n",
    "  print('Recall of Model: ' + (str(recall)))\n",
    "  print('F1-score of Model: ' + (str(fscore)))\n",
    "  print(classification_report(y_true,y_predict))"
   ]
  },
  {
   "cell_type": "code",
   "execution_count": null,
   "metadata": {
    "id": "yOcNg0pGX1a7"
   },
   "outputs": [],
   "source": [
    "from sklearn.model_selection import learning_curve"
   ]
  },
  {
   "cell_type": "code",
   "execution_count": null,
   "metadata": {
    "id": "P6GzoYqtPB7Y"
   },
   "outputs": [],
   "source": [
    "rf = RandomForestClassifier(random_state = 0)\n",
    "xg = xgb.XGBClassifier(n_estimators = 10)\n",
    "cat = CatBoostClassifier()\n",
    "light = lgb.LGBMClassifier()\n",
    "\n",
    "def build_model (model,X_train,y_train,X_test,y_test):\n",
    "    start = time.perf_counter()\n",
    "\n",
    "    print(model)\n",
    "    model.fit(X_train, y_train)\n",
    "\n",
    "    model_score = model.score(X_test,y_test)\n",
    "    y_predict = model.predict(X_test)\n",
    "    y_true = y_test\n",
    "\n",
    "    report_acc (model_score, y_true, y_predict)\n",
    "\n",
    "    model_train=model.predict(X_train)\n",
    "    model_test=model.predict(X_test)\n",
    "    \n",
    "    print(\"mission accomplished! ---------------------------------- \")\n",
    "    end = time.perf_counter()\n",
    "    print(f\"Total Operation Time in {end - start:0.6f} seconds\")"
   ]
  },
  {
   "cell_type": "code",
   "execution_count": null,
   "metadata": {
    "id": "6ecOsZ6AXFQB"
   },
   "outputs": [],
   "source": [
    "def save_model(model,name_model,X_train,y_train,X_test,y_test):\n",
    "\n",
    "    filename = name_model + '.sav' ; \n",
    "    pickle.dump(model, open('./result_model/' + filename, 'wb'))\n",
    "    print(\"Done save model in drive: \" , filename)\n",
    "    loaded_model = pickle.load(open('./result_model/' + filename, 'rb'))\n",
    "    result = loaded_model.score(X_test, y_test)\n",
    "    print(\"Accuracy Model: \" , result)\n",
    "    train = name_model + 'train'\n",
    "    train = loaded_model.predict(X_train)\n",
    "    test = loaded_model.predict(X_test)\n",
    "\n",
    "    return train, test"
   ]
  },
  {
   "cell_type": "code",
   "execution_count": null,
   "metadata": {
    "id": "Oq3-H2wENT7m"
   },
   "outputs": [],
   "source": [
    "from sklearn import preprocessing\n",
    "le = preprocessing.LabelEncoder()\n",
    "from sklearn.pipeline import Pipeline\n",
    "from sklearn.model_selection import StratifiedKFold\n",
    "from sklearn.model_selection import cross_val_score"
   ]
  },
  {
   "cell_type": "code",
   "execution_count": null,
   "metadata": {
    "id": "VCCeCm46MaQZ"
   },
   "outputs": [],
   "source": [
    "from sklearn import preprocessing\n",
    "le = preprocessing.LabelEncoder()\n",
    "from sklearn.pipeline import Pipeline\n",
    "from sklearn.model_selection import StratifiedKFold\n",
    "from sklearn.model_selection import cross_val_score\n",
    "from sklearn.preprocessing import StandardScaler\n",
    "from sklearn.model_selection import learning_curve\n",
    "\n",
    "def learn_curve(X,y,c,m):\n",
    "    sc = StandardScaler() \n",
    "    model = m\n",
    "    lr = Pipeline(steps=(['scaler',sc], ['classifier',model]))\n",
    "    cv = StratifiedKFold(n_splits=5,random_state=11,shuffle=True) \n",
    "    cv_scores = cross_val_score(lr,X,y,scoring=\"accuracy\",cv=cv) \n",
    "    lr.fit(X,y) \n",
    "    train_score = lr.score(X,y)\n",
    "    train_size,train_scores,test_scores = learning_curve(estimator=lr,X=X,y=y,cv=cv,scoring=\"accuracy\",random_state=11)\n",
    "    train_scores = 1-np.mean(train_scores,axis=1)\n",
    "    test_scores = 1-np.mean(test_scores,axis=1)\n",
    "    lc = pd.DataFrame({\"Training_size\":train_size,\"Training_loss\":train_scores,\"Validation_loss\":test_scores}).melt(id_vars=\"Training_size\")\n",
    "    \n",
    "    return {\"cv_scores\":cv_scores, \"train_score\":train_score, \"learning_curve\":lc}"
   ]
  },
  {
   "cell_type": "code",
   "execution_count": null,
   "metadata": {
    "id": "oD0b1K7iPJEo"
   },
   "outputs": [],
   "source": [
    "def print_graph (lc):\n",
    "  \n",
    "    print(f'Cross Validation Accuracies:\\n{\"-\"*25}\\n{list(lc[\"cv_scores\"])}\\n\\n\\\n",
    "    Mean Cross Validation Accuracy:\\n{\"-\"*25}\\n{np.mean(lc[\"cv_scores\"])}\\n\\n\\\n",
    "    Standard Deviation of Cross Validation Accuracy:\\n{\"-\"*25}\\n{np.std(lc[\"cv_scores\"])}\\n\\n\\\n",
    "    Training Accuracy:\\n{\"-\"*15}\\n{lc[\"train_score\"]}\\n\\n')\n",
    "\n",
    "    sns.lineplot(data=lc[\"learning_curve\"],x=\"Training_size\",y=\"value\",hue=\"variable\")\n",
    "    plt.title(\"Learning Curve of Good Fit Model\")\n",
    "    plt.ylabel(\"Misclassification Rate/Loss\");"
   ]
  },
  {
   "cell_type": "markdown",
   "metadata": {
    "id": "uNn8LyPzvzYb"
   },
   "source": [
    "### Apply Model (Stage I)"
   ]
  },
  {
   "cell_type": "code",
   "execution_count": null,
   "metadata": {
    "colab": {
     "base_uri": "https://localhost:8080/"
    },
    "executionInfo": {
     "elapsed": 83515,
     "status": "ok",
     "timestamp": 1631891458398,
     "user": {
      "displayName": "code ai",
      "photoUrl": "https://lh3.googleusercontent.com/a/default-user=s64",
      "userId": "17345359434679870937"
     },
     "user_tz": -180
    },
    "id": "Q9zb79gKTjhI",
    "outputId": "37969847-86d2-4211-90d4-1136d182cacb"
   },
   "outputs": [
    {
     "name": "stdout",
     "output_type": "stream",
     "text": [
      "RandomForestClassifier(bootstrap=True, ccp_alpha=0.0, class_weight=None,\n",
      "                       criterion='gini', max_depth=None, max_features='auto',\n",
      "                       max_leaf_nodes=None, max_samples=None,\n",
      "                       min_impurity_decrease=0.0, min_impurity_split=None,\n",
      "                       min_samples_leaf=1, min_samples_split=2,\n",
      "                       min_weight_fraction_leaf=0.0, n_estimators=100,\n",
      "                       n_jobs=None, oob_score=False, random_state=0, verbose=0,\n",
      "                       warm_start=False)\n"
     ]
    },
    {
     "name": "stderr",
     "output_type": "stream",
     "text": [
      "/usr/local/lib/python3.7/dist-packages/ipykernel_launcher.py:10: DataConversionWarning: A column-vector y was passed when a 1d array was expected. Please change the shape of y to (n_samples,), for example using ravel().\n",
      "  # Remove the CWD from sys.path while we load stuff.\n"
     ]
    },
    {
     "name": "stdout",
     "output_type": "stream",
     "text": [
      "Accuracy of Model: 0.9818146921932729\n",
      "Precision of Model: 0.9777199547142116\n",
      "Recall of Model: 0.9818146921932729\n",
      "F1-score of Model: 0.9787514808943931\n",
      "              precision    recall  f1-score   support\n",
      "\n",
      "           0       0.99      1.00      0.99     34521\n",
      "           1       0.95      0.99      0.97       733\n",
      "           2       0.92      0.69      0.79        32\n",
      "           3       1.00      0.94      0.97        32\n",
      "           4       1.00      1.00      1.00      1756\n",
      "           5       0.97      1.00      0.98        32\n",
      "           6       1.00      0.99      1.00      1475\n",
      "           7       1.00      1.00      1.00       106\n",
      "           8       1.00      1.00      1.00      1183\n",
      "           9       0.76      0.52      0.62       358\n",
      "          10       0.91      1.00      0.96        32\n",
      "          11       0.72      0.88      0.79       495\n",
      "          12       0.38      0.12      0.18       415\n",
      "          13       0.97      0.91      0.94        32\n",
      "          14       1.00      1.00      1.00       480\n",
      "\n",
      "    accuracy                           0.98     41682\n",
      "   macro avg       0.90      0.87      0.88     41682\n",
      "weighted avg       0.98      0.98      0.98     41682\n",
      "\n",
      "mission accomplished! ---------------------------------- \n",
      "Total Operation Time in 73.426293 seconds\n",
      "/content/drive/My Drive/Colab Notebooks/Newi/2021Project3\n",
      "Done save model in drive:  rf_model.sav\n",
      "Accuracy Model:  0.9818146921932729\n"
     ]
    }
   ],
   "source": [
    "build_model(rf,X_train3,y_train3,X_test3,y_test3)\n",
    "rf_train , rf_test = save_model(rf,'rf_model',X_train3,y_train3,X_test3,y_test3)"
   ]
  },
  {
   "cell_type": "code",
   "execution_count": null,
   "metadata": {
    "colab": {
     "base_uri": "https://localhost:8080/"
    },
    "executionInfo": {
     "elapsed": 66128,
     "status": "ok",
     "timestamp": 1631891524520,
     "user": {
      "displayName": "code ai",
      "photoUrl": "https://lh3.googleusercontent.com/a/default-user=s64",
      "userId": "17345359434679870937"
     },
     "user_tz": -180
    },
    "id": "k_57kyDxTuEA",
    "outputId": "945a6b50-9df2-4bb5-f1e4-07b6dbb03cde"
   },
   "outputs": [
    {
     "name": "stdout",
     "output_type": "stream",
     "text": [
      "XGBClassifier(base_score=0.5, booster='gbtree', colsample_bylevel=1,\n",
      "              colsample_bynode=1, colsample_bytree=1, gamma=0,\n",
      "              learning_rate=0.1, max_delta_step=0, max_depth=3,\n",
      "              min_child_weight=1, missing=None, n_estimators=10, n_jobs=1,\n",
      "              nthread=None, objective='binary:logistic', random_state=0,\n",
      "              reg_alpha=0, reg_lambda=1, scale_pos_weight=1, seed=None,\n",
      "              silent=None, subsample=1, verbosity=1)\n"
     ]
    },
    {
     "name": "stderr",
     "output_type": "stream",
     "text": [
      "/usr/local/lib/python3.7/dist-packages/sklearn/preprocessing/_label.py:235: DataConversionWarning: A column-vector y was passed when a 1d array was expected. Please change the shape of y to (n_samples, ), for example using ravel().\n",
      "  y = column_or_1d(y, warn=True)\n",
      "/usr/local/lib/python3.7/dist-packages/sklearn/preprocessing/_label.py:268: DataConversionWarning: A column-vector y was passed when a 1d array was expected. Please change the shape of y to (n_samples, ), for example using ravel().\n",
      "  y = column_or_1d(y, warn=True)\n"
     ]
    },
    {
     "name": "stdout",
     "output_type": "stream",
     "text": [
      "Accuracy of Model: 0.9698191065687827\n",
      "Precision of Model: 0.9604120287740112\n",
      "Recall of Model: 0.9698191065687827\n",
      "F1-score of Model: 0.962514504923093\n",
      "              precision    recall  f1-score   support\n",
      "\n",
      "           0       0.97      1.00      0.99     34521\n",
      "           1       1.00      0.46      0.63       733\n",
      "           2       1.00      0.12      0.22        32\n",
      "           3       1.00      0.38      0.55        32\n",
      "           4       1.00      1.00      1.00      1756\n",
      "           5       0.97      1.00      0.98        32\n",
      "           6       0.99      0.97      0.98      1475\n",
      "           7       0.94      0.94      0.94       106\n",
      "           8       1.00      0.99      0.99      1183\n",
      "           9       0.65      0.56      0.60       358\n",
      "          10       1.00      0.62      0.77        32\n",
      "          11       0.71      0.78      0.74       495\n",
      "          12       0.00      0.00      0.00       415\n",
      "          13       1.00      0.19      0.32        32\n",
      "          14       1.00      1.00      1.00       480\n",
      "\n",
      "    accuracy                           0.97     41682\n",
      "   macro avg       0.88      0.67      0.71     41682\n",
      "weighted avg       0.96      0.97      0.96     41682\n",
      "\n"
     ]
    },
    {
     "name": "stderr",
     "output_type": "stream",
     "text": [
      "/usr/local/lib/python3.7/dist-packages/sklearn/metrics/_classification.py:1272: UndefinedMetricWarning: Precision and F-score are ill-defined and being set to 0.0 in labels with no predicted samples. Use `zero_division` parameter to control this behavior.\n",
      "  _warn_prf(average, modifier, msg_start, len(result))\n"
     ]
    },
    {
     "name": "stdout",
     "output_type": "stream",
     "text": [
      "mission accomplished! ---------------------------------- \n",
      "Total Operation Time in 63.364264 seconds\n",
      "/content/drive/My Drive/Colab Notebooks/Newi/2021Project3\n",
      "Done save model in drive:  xg_model.sav\n",
      "Accuracy Model:  0.9698191065687827\n"
     ]
    }
   ],
   "source": [
    "build_model(xg,X_train3,y_train3,X_test3,y_test3)\n",
    "xg_train , xg_test = save_model(xg,'xg_model',X_train3,y_train3,X_test3,y_test3)"
   ]
  },
  {
   "cell_type": "code",
   "execution_count": null,
   "metadata": {
    "colab": {
     "base_uri": "https://localhost:8080/"
    },
    "executionInfo": {
     "elapsed": 188921,
     "status": "ok",
     "timestamp": 1631891713438,
     "user": {
      "displayName": "code ai",
      "photoUrl": "https://lh3.googleusercontent.com/a/default-user=s64",
      "userId": "17345359434679870937"
     },
     "user_tz": -180
    },
    "id": "WG8ZU4fATwQK",
    "outputId": "1fd27991-0bb3-42b8-ae90-6b8d04793a62"
   },
   "outputs": [
    {
     "name": "stdout",
     "output_type": "stream",
     "text": [
      "<catboost.core.CatBoostClassifier object at 0x7fb60dec9e90>\n",
      "Learning rate set to 0.102718\n",
      "0:\tlearn: 1.5144671\ttotal: 266ms\tremaining: 4m 25s\n",
      "1:\tlearn: 1.2062462\ttotal: 448ms\tremaining: 3m 43s\n",
      "2:\tlearn: 1.0134313\ttotal: 641ms\tremaining: 3m 32s\n",
      "3:\tlearn: 0.8694785\ttotal: 825ms\tremaining: 3m 25s\n",
      "4:\tlearn: 0.7587259\ttotal: 1.01s\tremaining: 3m 20s\n",
      "5:\tlearn: 0.6685782\ttotal: 1.2s\tremaining: 3m 18s\n",
      "6:\tlearn: 0.5964746\ttotal: 1.38s\tremaining: 3m 16s\n",
      "7:\tlearn: 0.5339562\ttotal: 1.57s\tremaining: 3m 14s\n",
      "8:\tlearn: 0.4812258\ttotal: 1.76s\tremaining: 3m 13s\n",
      "9:\tlearn: 0.4361795\ttotal: 1.94s\tremaining: 3m 12s\n",
      "10:\tlearn: 0.3978175\ttotal: 2.13s\tremaining: 3m 11s\n",
      "11:\tlearn: 0.3649002\ttotal: 2.31s\tremaining: 3m 10s\n",
      "12:\tlearn: 0.3352917\ttotal: 2.5s\tremaining: 3m 9s\n",
      "13:\tlearn: 0.3099023\ttotal: 2.68s\tremaining: 3m 8s\n",
      "14:\tlearn: 0.2874443\ttotal: 2.86s\tremaining: 3m 7s\n",
      "15:\tlearn: 0.2675776\ttotal: 3.04s\tremaining: 3m 6s\n",
      "16:\tlearn: 0.2500313\ttotal: 3.23s\tremaining: 3m 6s\n",
      "17:\tlearn: 0.2340855\ttotal: 3.41s\tremaining: 3m 6s\n",
      "18:\tlearn: 0.2209215\ttotal: 3.59s\tremaining: 3m 5s\n",
      "19:\tlearn: 0.2086515\ttotal: 3.78s\tremaining: 3m 5s\n",
      "20:\tlearn: 0.1971927\ttotal: 3.96s\tremaining: 3m 4s\n",
      "21:\tlearn: 0.1878097\ttotal: 4.15s\tremaining: 3m 4s\n",
      "22:\tlearn: 0.1784664\ttotal: 4.33s\tremaining: 3m 4s\n",
      "23:\tlearn: 0.1707146\ttotal: 4.52s\tremaining: 3m 3s\n",
      "24:\tlearn: 0.1632915\ttotal: 4.7s\tremaining: 3m 3s\n",
      "25:\tlearn: 0.1560307\ttotal: 4.88s\tremaining: 3m 2s\n",
      "26:\tlearn: 0.1503223\ttotal: 5.07s\tremaining: 3m 2s\n",
      "27:\tlearn: 0.1443590\ttotal: 5.26s\tremaining: 3m 2s\n",
      "28:\tlearn: 0.1400261\ttotal: 5.44s\tremaining: 3m 2s\n",
      "29:\tlearn: 0.1356488\ttotal: 5.62s\tremaining: 3m 1s\n",
      "30:\tlearn: 0.1322771\ttotal: 5.8s\tremaining: 3m 1s\n",
      "31:\tlearn: 0.1287177\ttotal: 5.99s\tremaining: 3m 1s\n",
      "32:\tlearn: 0.1257386\ttotal: 6.17s\tremaining: 3m\n",
      "33:\tlearn: 0.1226280\ttotal: 6.37s\tremaining: 3m\n",
      "34:\tlearn: 0.1197412\ttotal: 6.55s\tremaining: 3m\n",
      "35:\tlearn: 0.1169938\ttotal: 6.74s\tremaining: 3m\n",
      "36:\tlearn: 0.1149101\ttotal: 6.92s\tremaining: 3m\n",
      "37:\tlearn: 0.1126039\ttotal: 7.1s\tremaining: 2m 59s\n",
      "38:\tlearn: 0.1109873\ttotal: 7.29s\tremaining: 2m 59s\n",
      "39:\tlearn: 0.1086613\ttotal: 7.47s\tremaining: 2m 59s\n",
      "40:\tlearn: 0.1070842\ttotal: 7.66s\tremaining: 2m 59s\n",
      "41:\tlearn: 0.1055253\ttotal: 7.84s\tremaining: 2m 58s\n",
      "42:\tlearn: 0.1036554\ttotal: 8.03s\tremaining: 2m 58s\n",
      "43:\tlearn: 0.1018379\ttotal: 8.21s\tremaining: 2m 58s\n",
      "44:\tlearn: 0.1006789\ttotal: 8.39s\tremaining: 2m 58s\n",
      "45:\tlearn: 0.0992046\ttotal: 8.57s\tremaining: 2m 57s\n",
      "46:\tlearn: 0.0978158\ttotal: 8.77s\tremaining: 2m 57s\n",
      "47:\tlearn: 0.0967687\ttotal: 8.95s\tremaining: 2m 57s\n",
      "48:\tlearn: 0.0956299\ttotal: 9.13s\tremaining: 2m 57s\n",
      "49:\tlearn: 0.0948221\ttotal: 9.32s\tremaining: 2m 57s\n",
      "50:\tlearn: 0.0938236\ttotal: 9.5s\tremaining: 2m 56s\n",
      "51:\tlearn: 0.0931456\ttotal: 9.68s\tremaining: 2m 56s\n",
      "52:\tlearn: 0.0923092\ttotal: 9.86s\tremaining: 2m 56s\n",
      "53:\tlearn: 0.0918374\ttotal: 10s\tremaining: 2m 55s\n",
      "54:\tlearn: 0.0910527\ttotal: 10.2s\tremaining: 2m 55s\n",
      "55:\tlearn: 0.0898809\ttotal: 10.4s\tremaining: 2m 55s\n",
      "56:\tlearn: 0.0893640\ttotal: 10.6s\tremaining: 2m 55s\n",
      "57:\tlearn: 0.0888410\ttotal: 10.8s\tremaining: 2m 55s\n",
      "58:\tlearn: 0.0880307\ttotal: 11s\tremaining: 2m 55s\n",
      "59:\tlearn: 0.0878099\ttotal: 11.2s\tremaining: 2m 54s\n",
      "60:\tlearn: 0.0872093\ttotal: 11.4s\tremaining: 2m 54s\n",
      "61:\tlearn: 0.0868057\ttotal: 11.5s\tremaining: 2m 54s\n",
      "62:\tlearn: 0.0861836\ttotal: 11.7s\tremaining: 2m 54s\n",
      "63:\tlearn: 0.0855300\ttotal: 11.9s\tremaining: 2m 54s\n",
      "64:\tlearn: 0.0846980\ttotal: 12.1s\tremaining: 2m 53s\n",
      "65:\tlearn: 0.0839660\ttotal: 12.3s\tremaining: 2m 53s\n",
      "66:\tlearn: 0.0835382\ttotal: 12.5s\tremaining: 2m 53s\n",
      "67:\tlearn: 0.0830697\ttotal: 12.6s\tremaining: 2m 53s\n",
      "68:\tlearn: 0.0826847\ttotal: 12.8s\tremaining: 2m 53s\n",
      "69:\tlearn: 0.0820022\ttotal: 13s\tremaining: 2m 52s\n",
      "70:\tlearn: 0.0813307\ttotal: 13.2s\tremaining: 2m 52s\n",
      "71:\tlearn: 0.0810589\ttotal: 13.4s\tremaining: 2m 52s\n",
      "72:\tlearn: 0.0803773\ttotal: 13.6s\tremaining: 2m 52s\n",
      "73:\tlearn: 0.0798994\ttotal: 13.8s\tremaining: 2m 52s\n",
      "74:\tlearn: 0.0795474\ttotal: 14s\tremaining: 2m 52s\n",
      "75:\tlearn: 0.0792990\ttotal: 14.1s\tremaining: 2m 51s\n",
      "76:\tlearn: 0.0791570\ttotal: 14.3s\tremaining: 2m 51s\n",
      "77:\tlearn: 0.0787404\ttotal: 14.5s\tremaining: 2m 51s\n",
      "78:\tlearn: 0.0778652\ttotal: 14.7s\tremaining: 2m 51s\n",
      "79:\tlearn: 0.0775308\ttotal: 14.9s\tremaining: 2m 51s\n",
      "80:\tlearn: 0.0772341\ttotal: 15.1s\tremaining: 2m 50s\n",
      "81:\tlearn: 0.0765891\ttotal: 15.2s\tremaining: 2m 50s\n",
      "82:\tlearn: 0.0763805\ttotal: 15.4s\tremaining: 2m 50s\n",
      "83:\tlearn: 0.0761423\ttotal: 15.6s\tremaining: 2m 50s\n",
      "84:\tlearn: 0.0759429\ttotal: 15.8s\tremaining: 2m 49s\n",
      "85:\tlearn: 0.0757669\ttotal: 16s\tremaining: 2m 49s\n",
      "86:\tlearn: 0.0755816\ttotal: 16.2s\tremaining: 2m 49s\n",
      "87:\tlearn: 0.0755440\ttotal: 16.3s\tremaining: 2m 49s\n",
      "88:\tlearn: 0.0750913\ttotal: 16.5s\tremaining: 2m 49s\n",
      "89:\tlearn: 0.0749646\ttotal: 16.7s\tremaining: 2m 48s\n",
      "90:\tlearn: 0.0747648\ttotal: 16.9s\tremaining: 2m 48s\n",
      "91:\tlearn: 0.0745579\ttotal: 17.1s\tremaining: 2m 48s\n",
      "92:\tlearn: 0.0743957\ttotal: 17.3s\tremaining: 2m 48s\n",
      "93:\tlearn: 0.0742626\ttotal: 17.5s\tremaining: 2m 48s\n",
      "94:\tlearn: 0.0742225\ttotal: 17.6s\tremaining: 2m 48s\n",
      "95:\tlearn: 0.0739795\ttotal: 17.8s\tremaining: 2m 47s\n",
      "96:\tlearn: 0.0738339\ttotal: 18s\tremaining: 2m 47s\n",
      "97:\tlearn: 0.0733909\ttotal: 18.2s\tremaining: 2m 47s\n",
      "98:\tlearn: 0.0733377\ttotal: 18.4s\tremaining: 2m 47s\n",
      "99:\tlearn: 0.0729968\ttotal: 18.6s\tremaining: 2m 47s\n",
      "100:\tlearn: 0.0728690\ttotal: 18.8s\tremaining: 2m 47s\n",
      "101:\tlearn: 0.0727209\ttotal: 19s\tremaining: 2m 46s\n",
      "102:\tlearn: 0.0725109\ttotal: 19.2s\tremaining: 2m 46s\n",
      "103:\tlearn: 0.0722901\ttotal: 19.3s\tremaining: 2m 46s\n",
      "104:\tlearn: 0.0720012\ttotal: 19.5s\tremaining: 2m 46s\n",
      "105:\tlearn: 0.0719213\ttotal: 19.7s\tremaining: 2m 46s\n",
      "106:\tlearn: 0.0718848\ttotal: 19.9s\tremaining: 2m 46s\n",
      "107:\tlearn: 0.0716788\ttotal: 20.1s\tremaining: 2m 45s\n",
      "108:\tlearn: 0.0716086\ttotal: 20.3s\tremaining: 2m 45s\n",
      "109:\tlearn: 0.0715103\ttotal: 20.5s\tremaining: 2m 45s\n",
      "110:\tlearn: 0.0714463\ttotal: 20.7s\tremaining: 2m 45s\n",
      "111:\tlearn: 0.0713508\ttotal: 20.8s\tremaining: 2m 45s\n",
      "112:\tlearn: 0.0712686\ttotal: 21s\tremaining: 2m 45s\n",
      "113:\tlearn: 0.0709027\ttotal: 21.2s\tremaining: 2m 45s\n",
      "114:\tlearn: 0.0708444\ttotal: 21.4s\tremaining: 2m 44s\n",
      "115:\tlearn: 0.0707292\ttotal: 21.6s\tremaining: 2m 44s\n",
      "116:\tlearn: 0.0706779\ttotal: 21.8s\tremaining: 2m 44s\n",
      "117:\tlearn: 0.0706531\ttotal: 22s\tremaining: 2m 44s\n",
      "118:\tlearn: 0.0705200\ttotal: 22.2s\tremaining: 2m 44s\n",
      "119:\tlearn: 0.0705042\ttotal: 22.4s\tremaining: 2m 43s\n",
      "120:\tlearn: 0.0704250\ttotal: 22.5s\tremaining: 2m 43s\n",
      "121:\tlearn: 0.0702328\ttotal: 22.7s\tremaining: 2m 43s\n",
      "122:\tlearn: 0.0701401\ttotal: 22.9s\tremaining: 2m 43s\n",
      "123:\tlearn: 0.0700082\ttotal: 23.1s\tremaining: 2m 43s\n",
      "124:\tlearn: 0.0699375\ttotal: 23.3s\tremaining: 2m 43s\n",
      "125:\tlearn: 0.0699263\ttotal: 23.5s\tremaining: 2m 42s\n",
      "126:\tlearn: 0.0698097\ttotal: 23.7s\tremaining: 2m 42s\n",
      "127:\tlearn: 0.0696567\ttotal: 23.9s\tremaining: 2m 42s\n",
      "128:\tlearn: 0.0695093\ttotal: 24.1s\tremaining: 2m 42s\n",
      "129:\tlearn: 0.0694510\ttotal: 24.2s\tremaining: 2m 42s\n",
      "130:\tlearn: 0.0693409\ttotal: 24.4s\tremaining: 2m 42s\n",
      "131:\tlearn: 0.0693156\ttotal: 24.6s\tremaining: 2m 41s\n",
      "132:\tlearn: 0.0691460\ttotal: 24.8s\tremaining: 2m 41s\n",
      "133:\tlearn: 0.0690220\ttotal: 25s\tremaining: 2m 41s\n",
      "134:\tlearn: 0.0689556\ttotal: 25.2s\tremaining: 2m 41s\n",
      "135:\tlearn: 0.0685608\ttotal: 25.4s\tremaining: 2m 41s\n",
      "136:\tlearn: 0.0684145\ttotal: 25.5s\tremaining: 2m 40s\n",
      "137:\tlearn: 0.0683090\ttotal: 25.7s\tremaining: 2m 40s\n",
      "138:\tlearn: 0.0679907\ttotal: 25.9s\tremaining: 2m 40s\n",
      "139:\tlearn: 0.0679010\ttotal: 26.1s\tremaining: 2m 40s\n",
      "140:\tlearn: 0.0676589\ttotal: 26.3s\tremaining: 2m 40s\n",
      "141:\tlearn: 0.0676138\ttotal: 26.5s\tremaining: 2m 40s\n",
      "142:\tlearn: 0.0675186\ttotal: 26.7s\tremaining: 2m 39s\n",
      "143:\tlearn: 0.0674216\ttotal: 26.9s\tremaining: 2m 39s\n",
      "144:\tlearn: 0.0673049\ttotal: 27.1s\tremaining: 2m 39s\n",
      "145:\tlearn: 0.0672322\ttotal: 27.3s\tremaining: 2m 39s\n",
      "146:\tlearn: 0.0671879\ttotal: 27.4s\tremaining: 2m 39s\n",
      "147:\tlearn: 0.0670253\ttotal: 27.6s\tremaining: 2m 39s\n",
      "148:\tlearn: 0.0668045\ttotal: 27.8s\tremaining: 2m 38s\n",
      "149:\tlearn: 0.0667610\ttotal: 28s\tremaining: 2m 38s\n",
      "150:\tlearn: 0.0665234\ttotal: 28.2s\tremaining: 2m 38s\n",
      "151:\tlearn: 0.0664771\ttotal: 28.4s\tremaining: 2m 38s\n",
      "152:\tlearn: 0.0663845\ttotal: 28.6s\tremaining: 2m 38s\n",
      "153:\tlearn: 0.0663119\ttotal: 28.8s\tremaining: 2m 37s\n",
      "154:\tlearn: 0.0661899\ttotal: 28.9s\tremaining: 2m 37s\n",
      "155:\tlearn: 0.0661376\ttotal: 29.1s\tremaining: 2m 37s\n",
      "156:\tlearn: 0.0660319\ttotal: 29.3s\tremaining: 2m 37s\n",
      "157:\tlearn: 0.0659403\ttotal: 29.5s\tremaining: 2m 37s\n",
      "158:\tlearn: 0.0658104\ttotal: 29.7s\tremaining: 2m 37s\n",
      "159:\tlearn: 0.0657559\ttotal: 29.9s\tremaining: 2m 37s\n",
      "160:\tlearn: 0.0656709\ttotal: 30.1s\tremaining: 2m 36s\n",
      "161:\tlearn: 0.0655659\ttotal: 30.3s\tremaining: 2m 36s\n",
      "162:\tlearn: 0.0654851\ttotal: 30.5s\tremaining: 2m 36s\n",
      "163:\tlearn: 0.0654559\ttotal: 30.6s\tremaining: 2m 36s\n",
      "164:\tlearn: 0.0654196\ttotal: 30.8s\tremaining: 2m 36s\n",
      "165:\tlearn: 0.0654100\ttotal: 31s\tremaining: 2m 35s\n",
      "166:\tlearn: 0.0653688\ttotal: 31.2s\tremaining: 2m 35s\n",
      "167:\tlearn: 0.0652633\ttotal: 31.4s\tremaining: 2m 35s\n",
      "168:\tlearn: 0.0652350\ttotal: 31.6s\tremaining: 2m 35s\n",
      "169:\tlearn: 0.0651610\ttotal: 31.8s\tremaining: 2m 35s\n",
      "170:\tlearn: 0.0650511\ttotal: 32s\tremaining: 2m 34s\n",
      "171:\tlearn: 0.0648737\ttotal: 32.2s\tremaining: 2m 34s\n",
      "172:\tlearn: 0.0648008\ttotal: 32.3s\tremaining: 2m 34s\n",
      "173:\tlearn: 0.0647791\ttotal: 32.5s\tremaining: 2m 34s\n",
      "174:\tlearn: 0.0647633\ttotal: 32.7s\tremaining: 2m 34s\n",
      "175:\tlearn: 0.0647218\ttotal: 32.9s\tremaining: 2m 34s\n",
      "176:\tlearn: 0.0646487\ttotal: 33.1s\tremaining: 2m 33s\n",
      "177:\tlearn: 0.0646114\ttotal: 33.3s\tremaining: 2m 33s\n",
      "178:\tlearn: 0.0645802\ttotal: 33.5s\tremaining: 2m 33s\n",
      "179:\tlearn: 0.0645112\ttotal: 33.6s\tremaining: 2m 33s\n",
      "180:\tlearn: 0.0644365\ttotal: 33.8s\tremaining: 2m 33s\n",
      "181:\tlearn: 0.0643830\ttotal: 34s\tremaining: 2m 32s\n",
      "182:\tlearn: 0.0643576\ttotal: 34.2s\tremaining: 2m 32s\n",
      "183:\tlearn: 0.0643474\ttotal: 34.4s\tremaining: 2m 32s\n",
      "184:\tlearn: 0.0643136\ttotal: 34.6s\tremaining: 2m 32s\n",
      "185:\tlearn: 0.0642879\ttotal: 34.8s\tremaining: 2m 32s\n",
      "186:\tlearn: 0.0642607\ttotal: 34.9s\tremaining: 2m 31s\n",
      "187:\tlearn: 0.0641169\ttotal: 35.1s\tremaining: 2m 31s\n",
      "188:\tlearn: 0.0640695\ttotal: 35.3s\tremaining: 2m 31s\n",
      "189:\tlearn: 0.0639154\ttotal: 35.5s\tremaining: 2m 31s\n",
      "190:\tlearn: 0.0637931\ttotal: 35.7s\tremaining: 2m 31s\n",
      "191:\tlearn: 0.0637247\ttotal: 35.9s\tremaining: 2m 30s\n",
      "192:\tlearn: 0.0636389\ttotal: 36.1s\tremaining: 2m 30s\n",
      "193:\tlearn: 0.0635767\ttotal: 36.3s\tremaining: 2m 30s\n",
      "194:\tlearn: 0.0635584\ttotal: 36.4s\tremaining: 2m 30s\n",
      "195:\tlearn: 0.0635437\ttotal: 36.6s\tremaining: 2m 30s\n",
      "196:\tlearn: 0.0635074\ttotal: 36.8s\tremaining: 2m 30s\n",
      "197:\tlearn: 0.0634456\ttotal: 37s\tremaining: 2m 29s\n",
      "198:\tlearn: 0.0633823\ttotal: 37.2s\tremaining: 2m 29s\n",
      "199:\tlearn: 0.0633137\ttotal: 37.4s\tremaining: 2m 29s\n",
      "200:\tlearn: 0.0632807\ttotal: 37.6s\tremaining: 2m 29s\n",
      "201:\tlearn: 0.0632758\ttotal: 37.8s\tremaining: 2m 29s\n",
      "202:\tlearn: 0.0632116\ttotal: 37.9s\tremaining: 2m 28s\n",
      "203:\tlearn: 0.0631751\ttotal: 38.1s\tremaining: 2m 28s\n",
      "204:\tlearn: 0.0631219\ttotal: 38.3s\tremaining: 2m 28s\n",
      "205:\tlearn: 0.0630636\ttotal: 38.5s\tremaining: 2m 28s\n",
      "206:\tlearn: 0.0630348\ttotal: 38.7s\tremaining: 2m 28s\n",
      "207:\tlearn: 0.0629862\ttotal: 38.9s\tremaining: 2m 27s\n",
      "208:\tlearn: 0.0629631\ttotal: 39.1s\tremaining: 2m 27s\n",
      "209:\tlearn: 0.0628558\ttotal: 39.2s\tremaining: 2m 27s\n",
      "210:\tlearn: 0.0628134\ttotal: 39.4s\tremaining: 2m 27s\n",
      "211:\tlearn: 0.0627984\ttotal: 39.6s\tremaining: 2m 27s\n",
      "212:\tlearn: 0.0627630\ttotal: 39.8s\tremaining: 2m 27s\n",
      "213:\tlearn: 0.0627509\ttotal: 40s\tremaining: 2m 26s\n",
      "214:\tlearn: 0.0627098\ttotal: 40.2s\tremaining: 2m 26s\n",
      "215:\tlearn: 0.0626732\ttotal: 40.4s\tremaining: 2m 26s\n",
      "216:\tlearn: 0.0626247\ttotal: 40.6s\tremaining: 2m 26s\n",
      "217:\tlearn: 0.0625195\ttotal: 40.7s\tremaining: 2m 26s\n",
      "218:\tlearn: 0.0625066\ttotal: 40.9s\tremaining: 2m 25s\n",
      "219:\tlearn: 0.0624850\ttotal: 41.1s\tremaining: 2m 25s\n",
      "220:\tlearn: 0.0624152\ttotal: 41.3s\tremaining: 2m 25s\n",
      "221:\tlearn: 0.0623583\ttotal: 41.5s\tremaining: 2m 25s\n",
      "222:\tlearn: 0.0623418\ttotal: 41.7s\tremaining: 2m 25s\n",
      "223:\tlearn: 0.0623350\ttotal: 41.9s\tremaining: 2m 25s\n",
      "224:\tlearn: 0.0622230\ttotal: 42.1s\tremaining: 2m 24s\n",
      "225:\tlearn: 0.0621716\ttotal: 42.2s\tremaining: 2m 24s\n",
      "226:\tlearn: 0.0621492\ttotal: 42.4s\tremaining: 2m 24s\n",
      "227:\tlearn: 0.0621263\ttotal: 42.6s\tremaining: 2m 24s\n",
      "228:\tlearn: 0.0621201\ttotal: 42.8s\tremaining: 2m 24s\n",
      "229:\tlearn: 0.0621038\ttotal: 43s\tremaining: 2m 23s\n",
      "230:\tlearn: 0.0620772\ttotal: 43.2s\tremaining: 2m 23s\n",
      "231:\tlearn: 0.0620441\ttotal: 43.4s\tremaining: 2m 23s\n",
      "232:\tlearn: 0.0619629\ttotal: 43.6s\tremaining: 2m 23s\n",
      "233:\tlearn: 0.0619568\ttotal: 43.8s\tremaining: 2m 23s\n",
      "234:\tlearn: 0.0619262\ttotal: 44s\tremaining: 2m 23s\n",
      "235:\tlearn: 0.0618978\ttotal: 44.2s\tremaining: 2m 22s\n",
      "236:\tlearn: 0.0618674\ttotal: 44.4s\tremaining: 2m 22s\n",
      "237:\tlearn: 0.0618459\ttotal: 44.5s\tremaining: 2m 22s\n",
      "238:\tlearn: 0.0618107\ttotal: 44.7s\tremaining: 2m 22s\n",
      "239:\tlearn: 0.0617899\ttotal: 44.9s\tremaining: 2m 22s\n",
      "240:\tlearn: 0.0617588\ttotal: 45.1s\tremaining: 2m 22s\n",
      "241:\tlearn: 0.0616958\ttotal: 45.3s\tremaining: 2m 21s\n",
      "242:\tlearn: 0.0616350\ttotal: 45.5s\tremaining: 2m 21s\n",
      "243:\tlearn: 0.0616177\ttotal: 45.7s\tremaining: 2m 21s\n",
      "244:\tlearn: 0.0615947\ttotal: 45.9s\tremaining: 2m 21s\n",
      "245:\tlearn: 0.0615811\ttotal: 46.1s\tremaining: 2m 21s\n",
      "246:\tlearn: 0.0615257\ttotal: 46.3s\tremaining: 2m 21s\n",
      "247:\tlearn: 0.0615010\ttotal: 46.4s\tremaining: 2m 20s\n",
      "248:\tlearn: 0.0614788\ttotal: 46.6s\tremaining: 2m 20s\n",
      "249:\tlearn: 0.0614188\ttotal: 46.8s\tremaining: 2m 20s\n",
      "250:\tlearn: 0.0613953\ttotal: 47s\tremaining: 2m 20s\n",
      "251:\tlearn: 0.0613857\ttotal: 47.2s\tremaining: 2m 20s\n",
      "252:\tlearn: 0.0613851\ttotal: 47.4s\tremaining: 2m 19s\n",
      "253:\tlearn: 0.0613431\ttotal: 47.6s\tremaining: 2m 19s\n",
      "254:\tlearn: 0.0613135\ttotal: 47.8s\tremaining: 2m 19s\n",
      "255:\tlearn: 0.0612861\ttotal: 48s\tremaining: 2m 19s\n",
      "256:\tlearn: 0.0612856\ttotal: 48.2s\tremaining: 2m 19s\n",
      "257:\tlearn: 0.0612473\ttotal: 48.4s\tremaining: 2m 19s\n",
      "258:\tlearn: 0.0612131\ttotal: 48.5s\tremaining: 2m 18s\n",
      "259:\tlearn: 0.0612025\ttotal: 48.7s\tremaining: 2m 18s\n",
      "260:\tlearn: 0.0611923\ttotal: 48.9s\tremaining: 2m 18s\n",
      "261:\tlearn: 0.0611787\ttotal: 49.1s\tremaining: 2m 18s\n",
      "262:\tlearn: 0.0611388\ttotal: 49.3s\tremaining: 2m 18s\n",
      "263:\tlearn: 0.0610848\ttotal: 49.5s\tremaining: 2m 17s\n",
      "264:\tlearn: 0.0610794\ttotal: 49.7s\tremaining: 2m 17s\n",
      "265:\tlearn: 0.0610575\ttotal: 49.9s\tremaining: 2m 17s\n",
      "266:\tlearn: 0.0610510\ttotal: 50.1s\tremaining: 2m 17s\n",
      "267:\tlearn: 0.0610169\ttotal: 50.2s\tremaining: 2m 17s\n",
      "268:\tlearn: 0.0610041\ttotal: 50.4s\tremaining: 2m 17s\n",
      "269:\tlearn: 0.0609680\ttotal: 50.6s\tremaining: 2m 16s\n",
      "270:\tlearn: 0.0609527\ttotal: 50.8s\tremaining: 2m 16s\n",
      "271:\tlearn: 0.0609023\ttotal: 51s\tremaining: 2m 16s\n",
      "272:\tlearn: 0.0608801\ttotal: 51.2s\tremaining: 2m 16s\n",
      "273:\tlearn: 0.0608716\ttotal: 51.4s\tremaining: 2m 16s\n",
      "274:\tlearn: 0.0608606\ttotal: 51.6s\tremaining: 2m 16s\n",
      "275:\tlearn: 0.0608181\ttotal: 51.8s\tremaining: 2m 15s\n",
      "276:\tlearn: 0.0607996\ttotal: 52s\tremaining: 2m 15s\n",
      "277:\tlearn: 0.0607725\ttotal: 52.2s\tremaining: 2m 15s\n",
      "278:\tlearn: 0.0607439\ttotal: 52.4s\tremaining: 2m 15s\n",
      "279:\tlearn: 0.0607128\ttotal: 52.6s\tremaining: 2m 15s\n",
      "280:\tlearn: 0.0607072\ttotal: 52.7s\tremaining: 2m 14s\n",
      "281:\tlearn: 0.0606938\ttotal: 52.9s\tremaining: 2m 14s\n",
      "282:\tlearn: 0.0606827\ttotal: 53.1s\tremaining: 2m 14s\n",
      "283:\tlearn: 0.0606721\ttotal: 53.3s\tremaining: 2m 14s\n",
      "284:\tlearn: 0.0606646\ttotal: 53.5s\tremaining: 2m 14s\n",
      "285:\tlearn: 0.0606490\ttotal: 53.7s\tremaining: 2m 14s\n",
      "286:\tlearn: 0.0606416\ttotal: 53.9s\tremaining: 2m 13s\n",
      "287:\tlearn: 0.0606226\ttotal: 54.1s\tremaining: 2m 13s\n",
      "288:\tlearn: 0.0606214\ttotal: 54.2s\tremaining: 2m 13s\n",
      "289:\tlearn: 0.0606114\ttotal: 54.4s\tremaining: 2m 13s\n",
      "290:\tlearn: 0.0605924\ttotal: 54.6s\tremaining: 2m 13s\n",
      "291:\tlearn: 0.0605723\ttotal: 54.8s\tremaining: 2m 12s\n",
      "292:\tlearn: 0.0605719\ttotal: 55s\tremaining: 2m 12s\n",
      "293:\tlearn: 0.0605378\ttotal: 55.2s\tremaining: 2m 12s\n",
      "294:\tlearn: 0.0604618\ttotal: 55.4s\tremaining: 2m 12s\n",
      "295:\tlearn: 0.0604450\ttotal: 55.6s\tremaining: 2m 12s\n",
      "296:\tlearn: 0.0604388\ttotal: 55.8s\tremaining: 2m 11s\n",
      "297:\tlearn: 0.0603916\ttotal: 55.9s\tremaining: 2m 11s\n",
      "298:\tlearn: 0.0603745\ttotal: 56.1s\tremaining: 2m 11s\n",
      "299:\tlearn: 0.0603668\ttotal: 56.3s\tremaining: 2m 11s\n",
      "300:\tlearn: 0.0603637\ttotal: 56.5s\tremaining: 2m 11s\n",
      "301:\tlearn: 0.0603528\ttotal: 56.7s\tremaining: 2m 11s\n",
      "302:\tlearn: 0.0603340\ttotal: 56.9s\tremaining: 2m 10s\n",
      "303:\tlearn: 0.0602979\ttotal: 57.1s\tremaining: 2m 10s\n",
      "304:\tlearn: 0.0602444\ttotal: 57.3s\tremaining: 2m 10s\n",
      "305:\tlearn: 0.0602377\ttotal: 57.5s\tremaining: 2m 10s\n",
      "306:\tlearn: 0.0602273\ttotal: 57.6s\tremaining: 2m 10s\n",
      "307:\tlearn: 0.0602098\ttotal: 57.8s\tremaining: 2m 9s\n",
      "308:\tlearn: 0.0601867\ttotal: 58s\tremaining: 2m 9s\n",
      "309:\tlearn: 0.0601642\ttotal: 58.2s\tremaining: 2m 9s\n",
      "310:\tlearn: 0.0601593\ttotal: 58.4s\tremaining: 2m 9s\n",
      "311:\tlearn: 0.0601518\ttotal: 58.6s\tremaining: 2m 9s\n",
      "312:\tlearn: 0.0601447\ttotal: 58.8s\tremaining: 2m 8s\n",
      "313:\tlearn: 0.0601362\ttotal: 59s\tremaining: 2m 8s\n",
      "314:\tlearn: 0.0600475\ttotal: 59.2s\tremaining: 2m 8s\n",
      "315:\tlearn: 0.0600176\ttotal: 59.4s\tremaining: 2m 8s\n",
      "316:\tlearn: 0.0599920\ttotal: 59.5s\tremaining: 2m 8s\n",
      "317:\tlearn: 0.0599903\ttotal: 59.7s\tremaining: 2m 8s\n",
      "318:\tlearn: 0.0599733\ttotal: 59.9s\tremaining: 2m 7s\n",
      "319:\tlearn: 0.0599430\ttotal: 1m\tremaining: 2m 7s\n",
      "320:\tlearn: 0.0599291\ttotal: 1m\tremaining: 2m 7s\n",
      "321:\tlearn: 0.0599087\ttotal: 1m\tremaining: 2m 7s\n",
      "322:\tlearn: 0.0598966\ttotal: 1m\tremaining: 2m 7s\n",
      "323:\tlearn: 0.0598876\ttotal: 1m\tremaining: 2m 6s\n",
      "324:\tlearn: 0.0598800\ttotal: 1m 1s\tremaining: 2m 6s\n",
      "325:\tlearn: 0.0598727\ttotal: 1m 1s\tremaining: 2m 6s\n",
      "326:\tlearn: 0.0598684\ttotal: 1m 1s\tremaining: 2m 6s\n",
      "327:\tlearn: 0.0598585\ttotal: 1m 1s\tremaining: 2m 6s\n",
      "328:\tlearn: 0.0598176\ttotal: 1m 1s\tremaining: 2m 5s\n",
      "329:\tlearn: 0.0598091\ttotal: 1m 1s\tremaining: 2m 5s\n",
      "330:\tlearn: 0.0597992\ttotal: 1m 2s\tremaining: 2m 5s\n",
      "331:\tlearn: 0.0597252\ttotal: 1m 2s\tremaining: 2m 5s\n",
      "332:\tlearn: 0.0597187\ttotal: 1m 2s\tremaining: 2m 5s\n",
      "333:\tlearn: 0.0597114\ttotal: 1m 2s\tremaining: 2m 5s\n",
      "334:\tlearn: 0.0596842\ttotal: 1m 2s\tremaining: 2m 4s\n",
      "335:\tlearn: 0.0596742\ttotal: 1m 3s\tremaining: 2m 4s\n",
      "336:\tlearn: 0.0596649\ttotal: 1m 3s\tremaining: 2m 4s\n",
      "337:\tlearn: 0.0596529\ttotal: 1m 3s\tremaining: 2m 4s\n",
      "338:\tlearn: 0.0596487\ttotal: 1m 3s\tremaining: 2m 4s\n",
      "339:\tlearn: 0.0596317\ttotal: 1m 3s\tremaining: 2m 3s\n",
      "340:\tlearn: 0.0595937\ttotal: 1m 4s\tremaining: 2m 3s\n",
      "341:\tlearn: 0.0595820\ttotal: 1m 4s\tremaining: 2m 3s\n",
      "342:\tlearn: 0.0595587\ttotal: 1m 4s\tremaining: 2m 3s\n",
      "343:\tlearn: 0.0595504\ttotal: 1m 4s\tremaining: 2m 3s\n",
      "344:\tlearn: 0.0595077\ttotal: 1m 4s\tremaining: 2m 2s\n",
      "345:\tlearn: 0.0595038\ttotal: 1m 4s\tremaining: 2m 2s\n",
      "346:\tlearn: 0.0594799\ttotal: 1m 5s\tremaining: 2m 2s\n",
      "347:\tlearn: 0.0594204\ttotal: 1m 5s\tremaining: 2m 2s\n",
      "348:\tlearn: 0.0593703\ttotal: 1m 5s\tremaining: 2m 2s\n",
      "349:\tlearn: 0.0593259\ttotal: 1m 5s\tremaining: 2m 2s\n",
      "350:\tlearn: 0.0593040\ttotal: 1m 5s\tremaining: 2m 1s\n",
      "351:\tlearn: 0.0592828\ttotal: 1m 6s\tremaining: 2m 1s\n",
      "352:\tlearn: 0.0592732\ttotal: 1m 6s\tremaining: 2m 1s\n",
      "353:\tlearn: 0.0592589\ttotal: 1m 6s\tremaining: 2m 1s\n",
      "354:\tlearn: 0.0592103\ttotal: 1m 6s\tremaining: 2m 1s\n",
      "355:\tlearn: 0.0592037\ttotal: 1m 6s\tremaining: 2m\n",
      "356:\tlearn: 0.0591835\ttotal: 1m 7s\tremaining: 2m\n",
      "357:\tlearn: 0.0591253\ttotal: 1m 7s\tremaining: 2m\n",
      "358:\tlearn: 0.0591091\ttotal: 1m 7s\tremaining: 2m\n",
      "359:\tlearn: 0.0590909\ttotal: 1m 7s\tremaining: 2m\n",
      "360:\tlearn: 0.0590641\ttotal: 1m 7s\tremaining: 2m\n",
      "361:\tlearn: 0.0590512\ttotal: 1m 8s\tremaining: 1m 59s\n",
      "362:\tlearn: 0.0590310\ttotal: 1m 8s\tremaining: 1m 59s\n",
      "363:\tlearn: 0.0590160\ttotal: 1m 8s\tremaining: 1m 59s\n",
      "364:\tlearn: 0.0590036\ttotal: 1m 8s\tremaining: 1m 59s\n",
      "365:\tlearn: 0.0589827\ttotal: 1m 8s\tremaining: 1m 59s\n",
      "366:\tlearn: 0.0589272\ttotal: 1m 8s\tremaining: 1m 58s\n",
      "367:\tlearn: 0.0588878\ttotal: 1m 9s\tremaining: 1m 58s\n",
      "368:\tlearn: 0.0588823\ttotal: 1m 9s\tremaining: 1m 58s\n",
      "369:\tlearn: 0.0588684\ttotal: 1m 9s\tremaining: 1m 58s\n",
      "370:\tlearn: 0.0588645\ttotal: 1m 9s\tremaining: 1m 58s\n",
      "371:\tlearn: 0.0588459\ttotal: 1m 9s\tremaining: 1m 58s\n",
      "372:\tlearn: 0.0588300\ttotal: 1m 10s\tremaining: 1m 57s\n",
      "373:\tlearn: 0.0588115\ttotal: 1m 10s\tremaining: 1m 57s\n",
      "374:\tlearn: 0.0588060\ttotal: 1m 10s\tremaining: 1m 57s\n",
      "375:\tlearn: 0.0587889\ttotal: 1m 10s\tremaining: 1m 57s\n",
      "376:\tlearn: 0.0587761\ttotal: 1m 10s\tremaining: 1m 57s\n",
      "377:\tlearn: 0.0587556\ttotal: 1m 11s\tremaining: 1m 56s\n",
      "378:\tlearn: 0.0587451\ttotal: 1m 11s\tremaining: 1m 56s\n",
      "379:\tlearn: 0.0587259\ttotal: 1m 11s\tremaining: 1m 56s\n",
      "380:\tlearn: 0.0587144\ttotal: 1m 11s\tremaining: 1m 56s\n",
      "381:\tlearn: 0.0586591\ttotal: 1m 11s\tremaining: 1m 56s\n",
      "382:\tlearn: 0.0586550\ttotal: 1m 12s\tremaining: 1m 56s\n",
      "383:\tlearn: 0.0586273\ttotal: 1m 12s\tremaining: 1m 55s\n",
      "384:\tlearn: 0.0585833\ttotal: 1m 12s\tremaining: 1m 55s\n",
      "385:\tlearn: 0.0585768\ttotal: 1m 12s\tremaining: 1m 55s\n",
      "386:\tlearn: 0.0585642\ttotal: 1m 12s\tremaining: 1m 55s\n",
      "387:\tlearn: 0.0585579\ttotal: 1m 12s\tremaining: 1m 55s\n",
      "388:\tlearn: 0.0585482\ttotal: 1m 13s\tremaining: 1m 54s\n",
      "389:\tlearn: 0.0585377\ttotal: 1m 13s\tremaining: 1m 54s\n",
      "390:\tlearn: 0.0585084\ttotal: 1m 13s\tremaining: 1m 54s\n",
      "391:\tlearn: 0.0584990\ttotal: 1m 13s\tremaining: 1m 54s\n",
      "392:\tlearn: 0.0584727\ttotal: 1m 13s\tremaining: 1m 54s\n",
      "393:\tlearn: 0.0584589\ttotal: 1m 14s\tremaining: 1m 53s\n",
      "394:\tlearn: 0.0584303\ttotal: 1m 14s\tremaining: 1m 53s\n",
      "395:\tlearn: 0.0584213\ttotal: 1m 14s\tremaining: 1m 53s\n",
      "396:\tlearn: 0.0584072\ttotal: 1m 14s\tremaining: 1m 53s\n",
      "397:\tlearn: 0.0583926\ttotal: 1m 14s\tremaining: 1m 53s\n",
      "398:\tlearn: 0.0583865\ttotal: 1m 15s\tremaining: 1m 53s\n",
      "399:\tlearn: 0.0583682\ttotal: 1m 15s\tremaining: 1m 52s\n",
      "400:\tlearn: 0.0583624\ttotal: 1m 15s\tremaining: 1m 52s\n",
      "401:\tlearn: 0.0583258\ttotal: 1m 15s\tremaining: 1m 52s\n",
      "402:\tlearn: 0.0583207\ttotal: 1m 15s\tremaining: 1m 52s\n",
      "403:\tlearn: 0.0582972\ttotal: 1m 15s\tremaining: 1m 52s\n",
      "404:\tlearn: 0.0582918\ttotal: 1m 16s\tremaining: 1m 51s\n",
      "405:\tlearn: 0.0582791\ttotal: 1m 16s\tremaining: 1m 51s\n",
      "406:\tlearn: 0.0582759\ttotal: 1m 16s\tremaining: 1m 51s\n",
      "407:\tlearn: 0.0582642\ttotal: 1m 16s\tremaining: 1m 51s\n",
      "408:\tlearn: 0.0582515\ttotal: 1m 16s\tremaining: 1m 51s\n",
      "409:\tlearn: 0.0582368\ttotal: 1m 17s\tremaining: 1m 50s\n",
      "410:\tlearn: 0.0582331\ttotal: 1m 17s\tremaining: 1m 50s\n",
      "411:\tlearn: 0.0582214\ttotal: 1m 17s\tremaining: 1m 50s\n",
      "412:\tlearn: 0.0582089\ttotal: 1m 17s\tremaining: 1m 50s\n",
      "413:\tlearn: 0.0582034\ttotal: 1m 17s\tremaining: 1m 50s\n",
      "414:\tlearn: 0.0581985\ttotal: 1m 17s\tremaining: 1m 49s\n",
      "415:\tlearn: 0.0581786\ttotal: 1m 18s\tremaining: 1m 49s\n",
      "416:\tlearn: 0.0580765\ttotal: 1m 18s\tremaining: 1m 49s\n",
      "417:\tlearn: 0.0580701\ttotal: 1m 18s\tremaining: 1m 49s\n",
      "418:\tlearn: 0.0580475\ttotal: 1m 18s\tremaining: 1m 49s\n",
      "419:\tlearn: 0.0580275\ttotal: 1m 18s\tremaining: 1m 48s\n",
      "420:\tlearn: 0.0580217\ttotal: 1m 19s\tremaining: 1m 48s\n",
      "421:\tlearn: 0.0580184\ttotal: 1m 19s\tremaining: 1m 48s\n",
      "422:\tlearn: 0.0580085\ttotal: 1m 19s\tremaining: 1m 48s\n",
      "423:\tlearn: 0.0580053\ttotal: 1m 19s\tremaining: 1m 48s\n",
      "424:\tlearn: 0.0579912\ttotal: 1m 19s\tremaining: 1m 48s\n",
      "425:\tlearn: 0.0579612\ttotal: 1m 20s\tremaining: 1m 47s\n",
      "426:\tlearn: 0.0579264\ttotal: 1m 20s\tremaining: 1m 47s\n",
      "427:\tlearn: 0.0579122\ttotal: 1m 20s\tremaining: 1m 47s\n",
      "428:\tlearn: 0.0579056\ttotal: 1m 20s\tremaining: 1m 47s\n",
      "429:\tlearn: 0.0579031\ttotal: 1m 20s\tremaining: 1m 47s\n",
      "430:\tlearn: 0.0579002\ttotal: 1m 20s\tremaining: 1m 46s\n",
      "431:\tlearn: 0.0578883\ttotal: 1m 21s\tremaining: 1m 46s\n",
      "432:\tlearn: 0.0578668\ttotal: 1m 21s\tremaining: 1m 46s\n",
      "433:\tlearn: 0.0578135\ttotal: 1m 21s\tremaining: 1m 46s\n",
      "434:\tlearn: 0.0577880\ttotal: 1m 21s\tremaining: 1m 46s\n",
      "435:\tlearn: 0.0577555\ttotal: 1m 21s\tremaining: 1m 45s\n",
      "436:\tlearn: 0.0577481\ttotal: 1m 22s\tremaining: 1m 45s\n",
      "437:\tlearn: 0.0577256\ttotal: 1m 22s\tremaining: 1m 45s\n",
      "438:\tlearn: 0.0577133\ttotal: 1m 22s\tremaining: 1m 45s\n",
      "439:\tlearn: 0.0577043\ttotal: 1m 22s\tremaining: 1m 45s\n",
      "440:\tlearn: 0.0577004\ttotal: 1m 22s\tremaining: 1m 44s\n",
      "441:\tlearn: 0.0576900\ttotal: 1m 22s\tremaining: 1m 44s\n",
      "442:\tlearn: 0.0576748\ttotal: 1m 23s\tremaining: 1m 44s\n",
      "443:\tlearn: 0.0576710\ttotal: 1m 23s\tremaining: 1m 44s\n",
      "444:\tlearn: 0.0576657\ttotal: 1m 23s\tremaining: 1m 44s\n",
      "445:\tlearn: 0.0576632\ttotal: 1m 23s\tremaining: 1m 43s\n",
      "446:\tlearn: 0.0576515\ttotal: 1m 23s\tremaining: 1m 43s\n",
      "447:\tlearn: 0.0576443\ttotal: 1m 24s\tremaining: 1m 43s\n",
      "448:\tlearn: 0.0576381\ttotal: 1m 24s\tremaining: 1m 43s\n",
      "449:\tlearn: 0.0576277\ttotal: 1m 24s\tremaining: 1m 43s\n",
      "450:\tlearn: 0.0576192\ttotal: 1m 24s\tremaining: 1m 43s\n",
      "451:\tlearn: 0.0576154\ttotal: 1m 24s\tremaining: 1m 42s\n",
      "452:\tlearn: 0.0576094\ttotal: 1m 24s\tremaining: 1m 42s\n",
      "453:\tlearn: 0.0576061\ttotal: 1m 25s\tremaining: 1m 42s\n",
      "454:\tlearn: 0.0575982\ttotal: 1m 25s\tremaining: 1m 42s\n",
      "455:\tlearn: 0.0575927\ttotal: 1m 25s\tremaining: 1m 42s\n",
      "456:\tlearn: 0.0575885\ttotal: 1m 25s\tremaining: 1m 41s\n",
      "457:\tlearn: 0.0575737\ttotal: 1m 25s\tremaining: 1m 41s\n",
      "458:\tlearn: 0.0575555\ttotal: 1m 26s\tremaining: 1m 41s\n",
      "459:\tlearn: 0.0575022\ttotal: 1m 26s\tremaining: 1m 41s\n",
      "460:\tlearn: 0.0574711\ttotal: 1m 26s\tremaining: 1m 41s\n",
      "461:\tlearn: 0.0574497\ttotal: 1m 26s\tremaining: 1m 40s\n",
      "462:\tlearn: 0.0574386\ttotal: 1m 26s\tremaining: 1m 40s\n",
      "463:\tlearn: 0.0574280\ttotal: 1m 27s\tremaining: 1m 40s\n",
      "464:\tlearn: 0.0574241\ttotal: 1m 27s\tremaining: 1m 40s\n",
      "465:\tlearn: 0.0574133\ttotal: 1m 27s\tremaining: 1m 40s\n",
      "466:\tlearn: 0.0573965\ttotal: 1m 27s\tremaining: 1m 39s\n",
      "467:\tlearn: 0.0573875\ttotal: 1m 27s\tremaining: 1m 39s\n",
      "468:\tlearn: 0.0573846\ttotal: 1m 27s\tremaining: 1m 39s\n",
      "469:\tlearn: 0.0573765\ttotal: 1m 28s\tremaining: 1m 39s\n",
      "470:\tlearn: 0.0573744\ttotal: 1m 28s\tremaining: 1m 39s\n",
      "471:\tlearn: 0.0573449\ttotal: 1m 28s\tremaining: 1m 39s\n",
      "472:\tlearn: 0.0573297\ttotal: 1m 28s\tremaining: 1m 38s\n",
      "473:\tlearn: 0.0573212\ttotal: 1m 28s\tremaining: 1m 38s\n",
      "474:\tlearn: 0.0573164\ttotal: 1m 29s\tremaining: 1m 38s\n",
      "475:\tlearn: 0.0573039\ttotal: 1m 29s\tremaining: 1m 38s\n",
      "476:\tlearn: 0.0572943\ttotal: 1m 29s\tremaining: 1m 38s\n",
      "477:\tlearn: 0.0572740\ttotal: 1m 29s\tremaining: 1m 37s\n",
      "478:\tlearn: 0.0572668\ttotal: 1m 29s\tremaining: 1m 37s\n",
      "479:\tlearn: 0.0572434\ttotal: 1m 30s\tremaining: 1m 37s\n",
      "480:\tlearn: 0.0572317\ttotal: 1m 30s\tremaining: 1m 37s\n",
      "481:\tlearn: 0.0572237\ttotal: 1m 30s\tremaining: 1m 37s\n",
      "482:\tlearn: 0.0572222\ttotal: 1m 30s\tremaining: 1m 36s\n",
      "483:\tlearn: 0.0572076\ttotal: 1m 30s\tremaining: 1m 36s\n",
      "484:\tlearn: 0.0571986\ttotal: 1m 30s\tremaining: 1m 36s\n",
      "485:\tlearn: 0.0571920\ttotal: 1m 31s\tremaining: 1m 36s\n",
      "486:\tlearn: 0.0571794\ttotal: 1m 31s\tremaining: 1m 36s\n",
      "487:\tlearn: 0.0571654\ttotal: 1m 31s\tremaining: 1m 36s\n",
      "488:\tlearn: 0.0571540\ttotal: 1m 31s\tremaining: 1m 35s\n",
      "489:\tlearn: 0.0571393\ttotal: 1m 31s\tremaining: 1m 35s\n",
      "490:\tlearn: 0.0571250\ttotal: 1m 32s\tremaining: 1m 35s\n",
      "491:\tlearn: 0.0571191\ttotal: 1m 32s\tremaining: 1m 35s\n",
      "492:\tlearn: 0.0571112\ttotal: 1m 32s\tremaining: 1m 35s\n",
      "493:\tlearn: 0.0570987\ttotal: 1m 32s\tremaining: 1m 34s\n",
      "494:\tlearn: 0.0570878\ttotal: 1m 32s\tremaining: 1m 34s\n",
      "495:\tlearn: 0.0570717\ttotal: 1m 32s\tremaining: 1m 34s\n",
      "496:\tlearn: 0.0570515\ttotal: 1m 33s\tremaining: 1m 34s\n",
      "497:\tlearn: 0.0570419\ttotal: 1m 33s\tremaining: 1m 34s\n",
      "498:\tlearn: 0.0570329\ttotal: 1m 33s\tremaining: 1m 33s\n",
      "499:\tlearn: 0.0570254\ttotal: 1m 33s\tremaining: 1m 33s\n",
      "500:\tlearn: 0.0570193\ttotal: 1m 33s\tremaining: 1m 33s\n",
      "501:\tlearn: 0.0570029\ttotal: 1m 34s\tremaining: 1m 33s\n",
      "502:\tlearn: 0.0570004\ttotal: 1m 34s\tremaining: 1m 33s\n",
      "503:\tlearn: 0.0569718\ttotal: 1m 34s\tremaining: 1m 32s\n",
      "504:\tlearn: 0.0569570\ttotal: 1m 34s\tremaining: 1m 32s\n",
      "505:\tlearn: 0.0569506\ttotal: 1m 34s\tremaining: 1m 32s\n",
      "506:\tlearn: 0.0569437\ttotal: 1m 34s\tremaining: 1m 32s\n",
      "507:\tlearn: 0.0569318\ttotal: 1m 35s\tremaining: 1m 32s\n",
      "508:\tlearn: 0.0569059\ttotal: 1m 35s\tremaining: 1m 31s\n",
      "509:\tlearn: 0.0568973\ttotal: 1m 35s\tremaining: 1m 31s\n",
      "510:\tlearn: 0.0568879\ttotal: 1m 35s\tremaining: 1m 31s\n",
      "511:\tlearn: 0.0568794\ttotal: 1m 35s\tremaining: 1m 31s\n",
      "512:\tlearn: 0.0568561\ttotal: 1m 36s\tremaining: 1m 31s\n",
      "513:\tlearn: 0.0568502\ttotal: 1m 36s\tremaining: 1m 31s\n",
      "514:\tlearn: 0.0568342\ttotal: 1m 36s\tremaining: 1m 30s\n",
      "515:\tlearn: 0.0568125\ttotal: 1m 36s\tremaining: 1m 30s\n",
      "516:\tlearn: 0.0567980\ttotal: 1m 36s\tremaining: 1m 30s\n",
      "517:\tlearn: 0.0567921\ttotal: 1m 36s\tremaining: 1m 30s\n",
      "518:\tlearn: 0.0567750\ttotal: 1m 37s\tremaining: 1m 30s\n",
      "519:\tlearn: 0.0567690\ttotal: 1m 37s\tremaining: 1m 29s\n",
      "520:\tlearn: 0.0567616\ttotal: 1m 37s\tremaining: 1m 29s\n",
      "521:\tlearn: 0.0567576\ttotal: 1m 37s\tremaining: 1m 29s\n",
      "522:\tlearn: 0.0567491\ttotal: 1m 37s\tremaining: 1m 29s\n",
      "523:\tlearn: 0.0567431\ttotal: 1m 38s\tremaining: 1m 29s\n",
      "524:\tlearn: 0.0567389\ttotal: 1m 38s\tremaining: 1m 28s\n",
      "525:\tlearn: 0.0567027\ttotal: 1m 38s\tremaining: 1m 28s\n",
      "526:\tlearn: 0.0566781\ttotal: 1m 38s\tremaining: 1m 28s\n",
      "527:\tlearn: 0.0566715\ttotal: 1m 38s\tremaining: 1m 28s\n",
      "528:\tlearn: 0.0566348\ttotal: 1m 38s\tremaining: 1m 28s\n",
      "529:\tlearn: 0.0566200\ttotal: 1m 39s\tremaining: 1m 27s\n",
      "530:\tlearn: 0.0566137\ttotal: 1m 39s\tremaining: 1m 27s\n",
      "531:\tlearn: 0.0565979\ttotal: 1m 39s\tremaining: 1m 27s\n",
      "532:\tlearn: 0.0565681\ttotal: 1m 39s\tremaining: 1m 27s\n",
      "533:\tlearn: 0.0565612\ttotal: 1m 39s\tremaining: 1m 27s\n",
      "534:\tlearn: 0.0565532\ttotal: 1m 40s\tremaining: 1m 26s\n",
      "535:\tlearn: 0.0565452\ttotal: 1m 40s\tremaining: 1m 26s\n",
      "536:\tlearn: 0.0565342\ttotal: 1m 40s\tremaining: 1m 26s\n",
      "537:\tlearn: 0.0565317\ttotal: 1m 40s\tremaining: 1m 26s\n",
      "538:\tlearn: 0.0565281\ttotal: 1m 40s\tremaining: 1m 26s\n",
      "539:\tlearn: 0.0565199\ttotal: 1m 40s\tremaining: 1m 26s\n",
      "540:\tlearn: 0.0565176\ttotal: 1m 41s\tremaining: 1m 25s\n",
      "541:\tlearn: 0.0565128\ttotal: 1m 41s\tremaining: 1m 25s\n",
      "542:\tlearn: 0.0565031\ttotal: 1m 41s\tremaining: 1m 25s\n",
      "543:\tlearn: 0.0564934\ttotal: 1m 41s\tremaining: 1m 25s\n",
      "544:\tlearn: 0.0564716\ttotal: 1m 41s\tremaining: 1m 25s\n",
      "545:\tlearn: 0.0564582\ttotal: 1m 42s\tremaining: 1m 24s\n",
      "546:\tlearn: 0.0564507\ttotal: 1m 42s\tremaining: 1m 24s\n",
      "547:\tlearn: 0.0564238\ttotal: 1m 42s\tremaining: 1m 24s\n",
      "548:\tlearn: 0.0564084\ttotal: 1m 42s\tremaining: 1m 24s\n",
      "549:\tlearn: 0.0563926\ttotal: 1m 42s\tremaining: 1m 24s\n",
      "550:\tlearn: 0.0563901\ttotal: 1m 42s\tremaining: 1m 23s\n",
      "551:\tlearn: 0.0563874\ttotal: 1m 43s\tremaining: 1m 23s\n",
      "552:\tlearn: 0.0563837\ttotal: 1m 43s\tremaining: 1m 23s\n",
      "553:\tlearn: 0.0563786\ttotal: 1m 43s\tremaining: 1m 23s\n",
      "554:\tlearn: 0.0563576\ttotal: 1m 43s\tremaining: 1m 23s\n",
      "555:\tlearn: 0.0563542\ttotal: 1m 43s\tremaining: 1m 22s\n",
      "556:\tlearn: 0.0563505\ttotal: 1m 44s\tremaining: 1m 22s\n",
      "557:\tlearn: 0.0563444\ttotal: 1m 44s\tremaining: 1m 22s\n",
      "558:\tlearn: 0.0563409\ttotal: 1m 44s\tremaining: 1m 22s\n",
      "559:\tlearn: 0.0563168\ttotal: 1m 44s\tremaining: 1m 22s\n",
      "560:\tlearn: 0.0563111\ttotal: 1m 44s\tremaining: 1m 22s\n",
      "561:\tlearn: 0.0562832\ttotal: 1m 45s\tremaining: 1m 21s\n",
      "562:\tlearn: 0.0562655\ttotal: 1m 45s\tremaining: 1m 21s\n",
      "563:\tlearn: 0.0562502\ttotal: 1m 45s\tremaining: 1m 21s\n",
      "564:\tlearn: 0.0562471\ttotal: 1m 45s\tremaining: 1m 21s\n",
      "565:\tlearn: 0.0562236\ttotal: 1m 45s\tremaining: 1m 21s\n",
      "566:\tlearn: 0.0562092\ttotal: 1m 45s\tremaining: 1m 20s\n",
      "567:\tlearn: 0.0562070\ttotal: 1m 46s\tremaining: 1m 20s\n",
      "568:\tlearn: 0.0561995\ttotal: 1m 46s\tremaining: 1m 20s\n",
      "569:\tlearn: 0.0561937\ttotal: 1m 46s\tremaining: 1m 20s\n",
      "570:\tlearn: 0.0561865\ttotal: 1m 46s\tremaining: 1m 20s\n",
      "571:\tlearn: 0.0561789\ttotal: 1m 46s\tremaining: 1m 19s\n",
      "572:\tlearn: 0.0561697\ttotal: 1m 47s\tremaining: 1m 19s\n",
      "573:\tlearn: 0.0561605\ttotal: 1m 47s\tremaining: 1m 19s\n",
      "574:\tlearn: 0.0561543\ttotal: 1m 47s\tremaining: 1m 19s\n",
      "575:\tlearn: 0.0561391\ttotal: 1m 47s\tremaining: 1m 19s\n",
      "576:\tlearn: 0.0561362\ttotal: 1m 47s\tremaining: 1m 19s\n",
      "577:\tlearn: 0.0561322\ttotal: 1m 47s\tremaining: 1m 18s\n",
      "578:\tlearn: 0.0561274\ttotal: 1m 48s\tremaining: 1m 18s\n",
      "579:\tlearn: 0.0561254\ttotal: 1m 48s\tremaining: 1m 18s\n",
      "580:\tlearn: 0.0561161\ttotal: 1m 48s\tremaining: 1m 18s\n",
      "581:\tlearn: 0.0560787\ttotal: 1m 48s\tremaining: 1m 18s\n",
      "582:\tlearn: 0.0560742\ttotal: 1m 48s\tremaining: 1m 17s\n",
      "583:\tlearn: 0.0560707\ttotal: 1m 49s\tremaining: 1m 17s\n",
      "584:\tlearn: 0.0560533\ttotal: 1m 49s\tremaining: 1m 17s\n",
      "585:\tlearn: 0.0560307\ttotal: 1m 49s\tremaining: 1m 17s\n",
      "586:\tlearn: 0.0560222\ttotal: 1m 49s\tremaining: 1m 17s\n",
      "587:\tlearn: 0.0560180\ttotal: 1m 49s\tremaining: 1m 16s\n",
      "588:\tlearn: 0.0560110\ttotal: 1m 50s\tremaining: 1m 16s\n",
      "589:\tlearn: 0.0559990\ttotal: 1m 50s\tremaining: 1m 16s\n",
      "590:\tlearn: 0.0559946\ttotal: 1m 50s\tremaining: 1m 16s\n",
      "591:\tlearn: 0.0559764\ttotal: 1m 50s\tremaining: 1m 16s\n",
      "592:\tlearn: 0.0559716\ttotal: 1m 50s\tremaining: 1m 16s\n",
      "593:\tlearn: 0.0559663\ttotal: 1m 50s\tremaining: 1m 15s\n",
      "594:\tlearn: 0.0559349\ttotal: 1m 51s\tremaining: 1m 15s\n",
      "595:\tlearn: 0.0559255\ttotal: 1m 51s\tremaining: 1m 15s\n",
      "596:\tlearn: 0.0559225\ttotal: 1m 51s\tremaining: 1m 15s\n",
      "597:\tlearn: 0.0559174\ttotal: 1m 51s\tremaining: 1m 15s\n",
      "598:\tlearn: 0.0559137\ttotal: 1m 51s\tremaining: 1m 14s\n",
      "599:\tlearn: 0.0559077\ttotal: 1m 52s\tremaining: 1m 14s\n",
      "600:\tlearn: 0.0558974\ttotal: 1m 52s\tremaining: 1m 14s\n",
      "601:\tlearn: 0.0558929\ttotal: 1m 52s\tremaining: 1m 14s\n",
      "602:\tlearn: 0.0558855\ttotal: 1m 52s\tremaining: 1m 14s\n",
      "603:\tlearn: 0.0558806\ttotal: 1m 52s\tremaining: 1m 13s\n",
      "604:\tlearn: 0.0558770\ttotal: 1m 53s\tremaining: 1m 13s\n",
      "605:\tlearn: 0.0558739\ttotal: 1m 53s\tremaining: 1m 13s\n",
      "606:\tlearn: 0.0558702\ttotal: 1m 53s\tremaining: 1m 13s\n",
      "607:\tlearn: 0.0558553\ttotal: 1m 53s\tremaining: 1m 13s\n",
      "608:\tlearn: 0.0558528\ttotal: 1m 53s\tremaining: 1m 13s\n",
      "609:\tlearn: 0.0558475\ttotal: 1m 53s\tremaining: 1m 12s\n",
      "610:\tlearn: 0.0558417\ttotal: 1m 54s\tremaining: 1m 12s\n",
      "611:\tlearn: 0.0558345\ttotal: 1m 54s\tremaining: 1m 12s\n",
      "612:\tlearn: 0.0558260\ttotal: 1m 54s\tremaining: 1m 12s\n",
      "613:\tlearn: 0.0558205\ttotal: 1m 54s\tremaining: 1m 12s\n",
      "614:\tlearn: 0.0558163\ttotal: 1m 54s\tremaining: 1m 11s\n",
      "615:\tlearn: 0.0558088\ttotal: 1m 55s\tremaining: 1m 11s\n",
      "616:\tlearn: 0.0558036\ttotal: 1m 55s\tremaining: 1m 11s\n",
      "617:\tlearn: 0.0557920\ttotal: 1m 55s\tremaining: 1m 11s\n",
      "618:\tlearn: 0.0557866\ttotal: 1m 55s\tremaining: 1m 11s\n",
      "619:\tlearn: 0.0557813\ttotal: 1m 55s\tremaining: 1m 10s\n",
      "620:\tlearn: 0.0557736\ttotal: 1m 56s\tremaining: 1m 10s\n",
      "621:\tlearn: 0.0557652\ttotal: 1m 56s\tremaining: 1m 10s\n",
      "622:\tlearn: 0.0557592\ttotal: 1m 56s\tremaining: 1m 10s\n",
      "623:\tlearn: 0.0557488\ttotal: 1m 56s\tremaining: 1m 10s\n",
      "624:\tlearn: 0.0557344\ttotal: 1m 56s\tremaining: 1m 10s\n",
      "625:\tlearn: 0.0557223\ttotal: 1m 56s\tremaining: 1m 9s\n",
      "626:\tlearn: 0.0557183\ttotal: 1m 57s\tremaining: 1m 9s\n",
      "627:\tlearn: 0.0557136\ttotal: 1m 57s\tremaining: 1m 9s\n",
      "628:\tlearn: 0.0557066\ttotal: 1m 57s\tremaining: 1m 9s\n",
      "629:\tlearn: 0.0557008\ttotal: 1m 57s\tremaining: 1m 9s\n",
      "630:\tlearn: 0.0556714\ttotal: 1m 57s\tremaining: 1m 8s\n",
      "631:\tlearn: 0.0556637\ttotal: 1m 58s\tremaining: 1m 8s\n",
      "632:\tlearn: 0.0556515\ttotal: 1m 58s\tremaining: 1m 8s\n",
      "633:\tlearn: 0.0556465\ttotal: 1m 58s\tremaining: 1m 8s\n",
      "634:\tlearn: 0.0556436\ttotal: 1m 58s\tremaining: 1m 8s\n",
      "635:\tlearn: 0.0556319\ttotal: 1m 58s\tremaining: 1m 7s\n",
      "636:\tlearn: 0.0556288\ttotal: 1m 58s\tremaining: 1m 7s\n",
      "637:\tlearn: 0.0556198\ttotal: 1m 59s\tremaining: 1m 7s\n",
      "638:\tlearn: 0.0556182\ttotal: 1m 59s\tremaining: 1m 7s\n",
      "639:\tlearn: 0.0556118\ttotal: 1m 59s\tremaining: 1m 7s\n",
      "640:\tlearn: 0.0556032\ttotal: 1m 59s\tremaining: 1m 7s\n",
      "641:\tlearn: 0.0555988\ttotal: 1m 59s\tremaining: 1m 6s\n",
      "642:\tlearn: 0.0555961\ttotal: 2m\tremaining: 1m 6s\n",
      "643:\tlearn: 0.0555915\ttotal: 2m\tremaining: 1m 6s\n",
      "644:\tlearn: 0.0555902\ttotal: 2m\tremaining: 1m 6s\n",
      "645:\tlearn: 0.0555849\ttotal: 2m\tremaining: 1m 6s\n",
      "646:\tlearn: 0.0555736\ttotal: 2m\tremaining: 1m 5s\n",
      "647:\tlearn: 0.0555665\ttotal: 2m\tremaining: 1m 5s\n",
      "648:\tlearn: 0.0555581\ttotal: 2m 1s\tremaining: 1m 5s\n",
      "649:\tlearn: 0.0555459\ttotal: 2m 1s\tremaining: 1m 5s\n",
      "650:\tlearn: 0.0555382\ttotal: 2m 1s\tremaining: 1m 5s\n",
      "651:\tlearn: 0.0555156\ttotal: 2m 1s\tremaining: 1m 4s\n",
      "652:\tlearn: 0.0554983\ttotal: 2m 1s\tremaining: 1m 4s\n",
      "653:\tlearn: 0.0554868\ttotal: 2m 2s\tremaining: 1m 4s\n",
      "654:\tlearn: 0.0554772\ttotal: 2m 2s\tremaining: 1m 4s\n",
      "655:\tlearn: 0.0554585\ttotal: 2m 2s\tremaining: 1m 4s\n",
      "656:\tlearn: 0.0554556\ttotal: 2m 2s\tremaining: 1m 4s\n",
      "657:\tlearn: 0.0554536\ttotal: 2m 2s\tremaining: 1m 3s\n",
      "658:\tlearn: 0.0554530\ttotal: 2m 2s\tremaining: 1m 3s\n",
      "659:\tlearn: 0.0554481\ttotal: 2m 3s\tremaining: 1m 3s\n",
      "660:\tlearn: 0.0554458\ttotal: 2m 3s\tremaining: 1m 3s\n",
      "661:\tlearn: 0.0553798\ttotal: 2m 3s\tremaining: 1m 3s\n",
      "662:\tlearn: 0.0553731\ttotal: 2m 3s\tremaining: 1m 2s\n",
      "663:\tlearn: 0.0553691\ttotal: 2m 3s\tremaining: 1m 2s\n",
      "664:\tlearn: 0.0553507\ttotal: 2m 4s\tremaining: 1m 2s\n",
      "665:\tlearn: 0.0553482\ttotal: 2m 4s\tremaining: 1m 2s\n",
      "666:\tlearn: 0.0553316\ttotal: 2m 4s\tremaining: 1m 2s\n",
      "667:\tlearn: 0.0553280\ttotal: 2m 4s\tremaining: 1m 1s\n",
      "668:\tlearn: 0.0553251\ttotal: 2m 4s\tremaining: 1m 1s\n",
      "669:\tlearn: 0.0553183\ttotal: 2m 4s\tremaining: 1m 1s\n",
      "670:\tlearn: 0.0553069\ttotal: 2m 5s\tremaining: 1m 1s\n",
      "671:\tlearn: 0.0552870\ttotal: 2m 5s\tremaining: 1m 1s\n",
      "672:\tlearn: 0.0552791\ttotal: 2m 5s\tremaining: 1m\n",
      "673:\tlearn: 0.0552750\ttotal: 2m 5s\tremaining: 1m\n",
      "674:\tlearn: 0.0552433\ttotal: 2m 5s\tremaining: 1m\n",
      "675:\tlearn: 0.0552395\ttotal: 2m 6s\tremaining: 1m\n",
      "676:\tlearn: 0.0552381\ttotal: 2m 6s\tremaining: 1m\n",
      "677:\tlearn: 0.0552326\ttotal: 2m 6s\tremaining: 1m\n",
      "678:\tlearn: 0.0552271\ttotal: 2m 6s\tremaining: 59.9s\n",
      "679:\tlearn: 0.0552224\ttotal: 2m 6s\tremaining: 59.7s\n",
      "680:\tlearn: 0.0552184\ttotal: 2m 6s\tremaining: 59.5s\n",
      "681:\tlearn: 0.0552124\ttotal: 2m 7s\tremaining: 59.3s\n",
      "682:\tlearn: 0.0551950\ttotal: 2m 7s\tremaining: 59.1s\n",
      "683:\tlearn: 0.0551875\ttotal: 2m 7s\tremaining: 58.9s\n",
      "684:\tlearn: 0.0551747\ttotal: 2m 7s\tremaining: 58.7s\n",
      "685:\tlearn: 0.0551708\ttotal: 2m 7s\tremaining: 58.5s\n",
      "686:\tlearn: 0.0551644\ttotal: 2m 8s\tremaining: 58.3s\n",
      "687:\tlearn: 0.0551518\ttotal: 2m 8s\tremaining: 58.2s\n",
      "688:\tlearn: 0.0551487\ttotal: 2m 8s\tremaining: 58s\n",
      "689:\tlearn: 0.0551439\ttotal: 2m 8s\tremaining: 57.8s\n",
      "690:\tlearn: 0.0551325\ttotal: 2m 8s\tremaining: 57.6s\n",
      "691:\tlearn: 0.0551073\ttotal: 2m 8s\tremaining: 57.4s\n",
      "692:\tlearn: 0.0551033\ttotal: 2m 9s\tremaining: 57.2s\n",
      "693:\tlearn: 0.0550963\ttotal: 2m 9s\tremaining: 57s\n",
      "694:\tlearn: 0.0550888\ttotal: 2m 9s\tremaining: 56.8s\n",
      "695:\tlearn: 0.0550873\ttotal: 2m 9s\tremaining: 56.7s\n",
      "696:\tlearn: 0.0550815\ttotal: 2m 9s\tremaining: 56.5s\n",
      "697:\tlearn: 0.0550740\ttotal: 2m 10s\tremaining: 56.3s\n",
      "698:\tlearn: 0.0550649\ttotal: 2m 10s\tremaining: 56.1s\n",
      "699:\tlearn: 0.0550551\ttotal: 2m 10s\tremaining: 55.9s\n",
      "700:\tlearn: 0.0550452\ttotal: 2m 10s\tremaining: 55.7s\n",
      "701:\tlearn: 0.0550376\ttotal: 2m 10s\tremaining: 55.5s\n",
      "702:\tlearn: 0.0550220\ttotal: 2m 10s\tremaining: 55.3s\n",
      "703:\tlearn: 0.0550185\ttotal: 2m 11s\tremaining: 55.1s\n",
      "704:\tlearn: 0.0550153\ttotal: 2m 11s\tremaining: 55s\n",
      "705:\tlearn: 0.0550108\ttotal: 2m 11s\tremaining: 54.8s\n",
      "706:\tlearn: 0.0550087\ttotal: 2m 11s\tremaining: 54.6s\n",
      "707:\tlearn: 0.0550050\ttotal: 2m 11s\tremaining: 54.4s\n",
      "708:\tlearn: 0.0550013\ttotal: 2m 12s\tremaining: 54.2s\n",
      "709:\tlearn: 0.0549987\ttotal: 2m 12s\tremaining: 54s\n",
      "710:\tlearn: 0.0549899\ttotal: 2m 12s\tremaining: 53.8s\n",
      "711:\tlearn: 0.0549814\ttotal: 2m 12s\tremaining: 53.6s\n",
      "712:\tlearn: 0.0549791\ttotal: 2m 12s\tremaining: 53.4s\n",
      "713:\tlearn: 0.0549549\ttotal: 2m 12s\tremaining: 53.3s\n",
      "714:\tlearn: 0.0549426\ttotal: 2m 13s\tremaining: 53.1s\n",
      "715:\tlearn: 0.0549327\ttotal: 2m 13s\tremaining: 52.9s\n",
      "716:\tlearn: 0.0549293\ttotal: 2m 13s\tremaining: 52.7s\n",
      "717:\tlearn: 0.0548989\ttotal: 2m 13s\tremaining: 52.5s\n",
      "718:\tlearn: 0.0548941\ttotal: 2m 13s\tremaining: 52.3s\n",
      "719:\tlearn: 0.0548911\ttotal: 2m 14s\tremaining: 52.1s\n",
      "720:\tlearn: 0.0548874\ttotal: 2m 14s\tremaining: 51.9s\n",
      "721:\tlearn: 0.0548845\ttotal: 2m 14s\tremaining: 51.7s\n",
      "722:\tlearn: 0.0548824\ttotal: 2m 14s\tremaining: 51.6s\n",
      "723:\tlearn: 0.0548648\ttotal: 2m 14s\tremaining: 51.4s\n",
      "724:\tlearn: 0.0548549\ttotal: 2m 14s\tremaining: 51.2s\n",
      "725:\tlearn: 0.0548425\ttotal: 2m 15s\tremaining: 51s\n",
      "726:\tlearn: 0.0548378\ttotal: 2m 15s\tremaining: 50.8s\n",
      "727:\tlearn: 0.0548269\ttotal: 2m 15s\tremaining: 50.6s\n",
      "728:\tlearn: 0.0548183\ttotal: 2m 15s\tremaining: 50.4s\n",
      "729:\tlearn: 0.0548105\ttotal: 2m 15s\tremaining: 50.2s\n",
      "730:\tlearn: 0.0547942\ttotal: 2m 16s\tremaining: 50s\n",
      "731:\tlearn: 0.0547841\ttotal: 2m 16s\tremaining: 49.9s\n",
      "732:\tlearn: 0.0547832\ttotal: 2m 16s\tremaining: 49.7s\n",
      "733:\tlearn: 0.0547813\ttotal: 2m 16s\tremaining: 49.5s\n",
      "734:\tlearn: 0.0547632\ttotal: 2m 16s\tremaining: 49.3s\n",
      "735:\tlearn: 0.0547565\ttotal: 2m 16s\tremaining: 49.1s\n",
      "736:\tlearn: 0.0547470\ttotal: 2m 17s\tremaining: 48.9s\n",
      "737:\tlearn: 0.0547428\ttotal: 2m 17s\tremaining: 48.7s\n",
      "738:\tlearn: 0.0547299\ttotal: 2m 17s\tremaining: 48.5s\n",
      "739:\tlearn: 0.0547236\ttotal: 2m 17s\tremaining: 48.4s\n",
      "740:\tlearn: 0.0547201\ttotal: 2m 17s\tremaining: 48.2s\n",
      "741:\tlearn: 0.0547173\ttotal: 2m 18s\tremaining: 48s\n",
      "742:\tlearn: 0.0547125\ttotal: 2m 18s\tremaining: 47.8s\n",
      "743:\tlearn: 0.0547114\ttotal: 2m 18s\tremaining: 47.6s\n",
      "744:\tlearn: 0.0546993\ttotal: 2m 18s\tremaining: 47.4s\n",
      "745:\tlearn: 0.0546965\ttotal: 2m 18s\tremaining: 47.2s\n",
      "746:\tlearn: 0.0546903\ttotal: 2m 18s\tremaining: 47s\n",
      "747:\tlearn: 0.0546734\ttotal: 2m 19s\tremaining: 46.9s\n",
      "748:\tlearn: 0.0546666\ttotal: 2m 19s\tremaining: 46.7s\n",
      "749:\tlearn: 0.0546609\ttotal: 2m 19s\tremaining: 46.5s\n",
      "750:\tlearn: 0.0546554\ttotal: 2m 19s\tremaining: 46.3s\n",
      "751:\tlearn: 0.0546546\ttotal: 2m 19s\tremaining: 46.1s\n",
      "752:\tlearn: 0.0546454\ttotal: 2m 20s\tremaining: 45.9s\n",
      "753:\tlearn: 0.0546381\ttotal: 2m 20s\tremaining: 45.7s\n",
      "754:\tlearn: 0.0546348\ttotal: 2m 20s\tremaining: 45.5s\n",
      "755:\tlearn: 0.0546239\ttotal: 2m 20s\tremaining: 45.4s\n",
      "756:\tlearn: 0.0546095\ttotal: 2m 20s\tremaining: 45.2s\n",
      "757:\tlearn: 0.0545819\ttotal: 2m 20s\tremaining: 45s\n",
      "758:\tlearn: 0.0545723\ttotal: 2m 21s\tremaining: 44.8s\n",
      "759:\tlearn: 0.0545696\ttotal: 2m 21s\tremaining: 44.6s\n",
      "760:\tlearn: 0.0545628\ttotal: 2m 21s\tremaining: 44.4s\n",
      "761:\tlearn: 0.0545613\ttotal: 2m 21s\tremaining: 44.2s\n",
      "762:\tlearn: 0.0545411\ttotal: 2m 21s\tremaining: 44s\n",
      "763:\tlearn: 0.0545366\ttotal: 2m 21s\tremaining: 43.9s\n",
      "764:\tlearn: 0.0545339\ttotal: 2m 22s\tremaining: 43.7s\n",
      "765:\tlearn: 0.0545289\ttotal: 2m 22s\tremaining: 43.5s\n",
      "766:\tlearn: 0.0545257\ttotal: 2m 22s\tremaining: 43.3s\n",
      "767:\tlearn: 0.0545228\ttotal: 2m 22s\tremaining: 43.1s\n",
      "768:\tlearn: 0.0545148\ttotal: 2m 22s\tremaining: 42.9s\n",
      "769:\tlearn: 0.0545097\ttotal: 2m 23s\tremaining: 42.7s\n",
      "770:\tlearn: 0.0545079\ttotal: 2m 23s\tremaining: 42.5s\n",
      "771:\tlearn: 0.0545022\ttotal: 2m 23s\tremaining: 42.4s\n",
      "772:\tlearn: 0.0544933\ttotal: 2m 23s\tremaining: 42.2s\n",
      "773:\tlearn: 0.0544782\ttotal: 2m 23s\tremaining: 42s\n",
      "774:\tlearn: 0.0544769\ttotal: 2m 23s\tremaining: 41.8s\n",
      "775:\tlearn: 0.0544728\ttotal: 2m 24s\tremaining: 41.6s\n",
      "776:\tlearn: 0.0544537\ttotal: 2m 24s\tremaining: 41.4s\n",
      "777:\tlearn: 0.0544520\ttotal: 2m 24s\tremaining: 41.2s\n",
      "778:\tlearn: 0.0544487\ttotal: 2m 24s\tremaining: 41s\n",
      "779:\tlearn: 0.0544459\ttotal: 2m 24s\tremaining: 40.9s\n",
      "780:\tlearn: 0.0544236\ttotal: 2m 25s\tremaining: 40.7s\n",
      "781:\tlearn: 0.0544214\ttotal: 2m 25s\tremaining: 40.5s\n",
      "782:\tlearn: 0.0544189\ttotal: 2m 25s\tremaining: 40.3s\n",
      "783:\tlearn: 0.0543974\ttotal: 2m 25s\tremaining: 40.1s\n",
      "784:\tlearn: 0.0543897\ttotal: 2m 25s\tremaining: 39.9s\n",
      "785:\tlearn: 0.0543868\ttotal: 2m 25s\tremaining: 39.7s\n",
      "786:\tlearn: 0.0543823\ttotal: 2m 26s\tremaining: 39.6s\n",
      "787:\tlearn: 0.0543639\ttotal: 2m 26s\tremaining: 39.4s\n",
      "788:\tlearn: 0.0543627\ttotal: 2m 26s\tremaining: 39.2s\n",
      "789:\tlearn: 0.0543253\ttotal: 2m 26s\tremaining: 39s\n",
      "790:\tlearn: 0.0543247\ttotal: 2m 26s\tremaining: 38.8s\n",
      "791:\tlearn: 0.0543235\ttotal: 2m 27s\tremaining: 38.6s\n",
      "792:\tlearn: 0.0543049\ttotal: 2m 27s\tremaining: 38.4s\n",
      "793:\tlearn: 0.0543014\ttotal: 2m 27s\tremaining: 38.2s\n",
      "794:\tlearn: 0.0542983\ttotal: 2m 27s\tremaining: 38.1s\n",
      "795:\tlearn: 0.0542878\ttotal: 2m 27s\tremaining: 37.9s\n",
      "796:\tlearn: 0.0542796\ttotal: 2m 27s\tremaining: 37.7s\n",
      "797:\tlearn: 0.0542599\ttotal: 2m 28s\tremaining: 37.5s\n",
      "798:\tlearn: 0.0542554\ttotal: 2m 28s\tremaining: 37.3s\n",
      "799:\tlearn: 0.0542533\ttotal: 2m 28s\tremaining: 37.1s\n",
      "800:\tlearn: 0.0542490\ttotal: 2m 28s\tremaining: 36.9s\n",
      "801:\tlearn: 0.0542458\ttotal: 2m 28s\tremaining: 36.7s\n",
      "802:\tlearn: 0.0542443\ttotal: 2m 29s\tremaining: 36.6s\n",
      "803:\tlearn: 0.0542418\ttotal: 2m 29s\tremaining: 36.4s\n",
      "804:\tlearn: 0.0542345\ttotal: 2m 29s\tremaining: 36.2s\n",
      "805:\tlearn: 0.0542308\ttotal: 2m 29s\tremaining: 36s\n",
      "806:\tlearn: 0.0542243\ttotal: 2m 29s\tremaining: 35.8s\n",
      "807:\tlearn: 0.0542080\ttotal: 2m 29s\tremaining: 35.6s\n",
      "808:\tlearn: 0.0542023\ttotal: 2m 30s\tremaining: 35.4s\n",
      "809:\tlearn: 0.0541984\ttotal: 2m 30s\tremaining: 35.3s\n",
      "810:\tlearn: 0.0541953\ttotal: 2m 30s\tremaining: 35.1s\n",
      "811:\tlearn: 0.0541821\ttotal: 2m 30s\tremaining: 34.9s\n",
      "812:\tlearn: 0.0541814\ttotal: 2m 30s\tremaining: 34.7s\n",
      "813:\tlearn: 0.0541796\ttotal: 2m 31s\tremaining: 34.5s\n",
      "814:\tlearn: 0.0541744\ttotal: 2m 31s\tremaining: 34.3s\n",
      "815:\tlearn: 0.0541702\ttotal: 2m 31s\tremaining: 34.1s\n",
      "816:\tlearn: 0.0541634\ttotal: 2m 31s\tremaining: 34s\n",
      "817:\tlearn: 0.0541604\ttotal: 2m 31s\tremaining: 33.8s\n",
      "818:\tlearn: 0.0541461\ttotal: 2m 31s\tremaining: 33.6s\n",
      "819:\tlearn: 0.0541419\ttotal: 2m 32s\tremaining: 33.4s\n",
      "820:\tlearn: 0.0541407\ttotal: 2m 32s\tremaining: 33.2s\n",
      "821:\tlearn: 0.0541361\ttotal: 2m 32s\tremaining: 33s\n",
      "822:\tlearn: 0.0541299\ttotal: 2m 32s\tremaining: 32.8s\n",
      "823:\tlearn: 0.0541277\ttotal: 2m 32s\tremaining: 32.7s\n",
      "824:\tlearn: 0.0541236\ttotal: 2m 33s\tremaining: 32.5s\n",
      "825:\tlearn: 0.0541140\ttotal: 2m 33s\tremaining: 32.3s\n",
      "826:\tlearn: 0.0541090\ttotal: 2m 33s\tremaining: 32.1s\n",
      "827:\tlearn: 0.0540995\ttotal: 2m 33s\tremaining: 31.9s\n",
      "828:\tlearn: 0.0540952\ttotal: 2m 33s\tremaining: 31.7s\n",
      "829:\tlearn: 0.0540888\ttotal: 2m 34s\tremaining: 31.5s\n",
      "830:\tlearn: 0.0540829\ttotal: 2m 34s\tremaining: 31.4s\n",
      "831:\tlearn: 0.0540759\ttotal: 2m 34s\tremaining: 31.2s\n",
      "832:\tlearn: 0.0540729\ttotal: 2m 34s\tremaining: 31s\n",
      "833:\tlearn: 0.0540681\ttotal: 2m 34s\tremaining: 30.8s\n",
      "834:\tlearn: 0.0540663\ttotal: 2m 34s\tremaining: 30.6s\n",
      "835:\tlearn: 0.0540511\ttotal: 2m 35s\tremaining: 30.4s\n",
      "836:\tlearn: 0.0540194\ttotal: 2m 35s\tremaining: 30.2s\n",
      "837:\tlearn: 0.0540180\ttotal: 2m 35s\tremaining: 30.1s\n",
      "838:\tlearn: 0.0540088\ttotal: 2m 35s\tremaining: 29.9s\n",
      "839:\tlearn: 0.0540004\ttotal: 2m 35s\tremaining: 29.7s\n",
      "840:\tlearn: 0.0539978\ttotal: 2m 36s\tremaining: 29.5s\n",
      "841:\tlearn: 0.0539792\ttotal: 2m 36s\tremaining: 29.3s\n",
      "842:\tlearn: 0.0539753\ttotal: 2m 36s\tremaining: 29.1s\n",
      "843:\tlearn: 0.0539715\ttotal: 2m 36s\tremaining: 28.9s\n",
      "844:\tlearn: 0.0539707\ttotal: 2m 36s\tremaining: 28.8s\n",
      "845:\tlearn: 0.0539657\ttotal: 2m 36s\tremaining: 28.6s\n",
      "846:\tlearn: 0.0539629\ttotal: 2m 37s\tremaining: 28.4s\n",
      "847:\tlearn: 0.0539549\ttotal: 2m 37s\tremaining: 28.2s\n",
      "848:\tlearn: 0.0539457\ttotal: 2m 37s\tremaining: 28s\n",
      "849:\tlearn: 0.0539440\ttotal: 2m 37s\tremaining: 27.8s\n",
      "850:\tlearn: 0.0539416\ttotal: 2m 37s\tremaining: 27.6s\n",
      "851:\tlearn: 0.0539397\ttotal: 2m 38s\tremaining: 27.5s\n",
      "852:\tlearn: 0.0539322\ttotal: 2m 38s\tremaining: 27.3s\n",
      "853:\tlearn: 0.0539189\ttotal: 2m 38s\tremaining: 27.1s\n",
      "854:\tlearn: 0.0539157\ttotal: 2m 38s\tremaining: 26.9s\n",
      "855:\tlearn: 0.0539125\ttotal: 2m 38s\tremaining: 26.7s\n",
      "856:\tlearn: 0.0538871\ttotal: 2m 38s\tremaining: 26.5s\n",
      "857:\tlearn: 0.0538780\ttotal: 2m 39s\tremaining: 26.3s\n",
      "858:\tlearn: 0.0538775\ttotal: 2m 39s\tremaining: 26.2s\n",
      "859:\tlearn: 0.0538734\ttotal: 2m 39s\tremaining: 26s\n",
      "860:\tlearn: 0.0538677\ttotal: 2m 39s\tremaining: 25.8s\n",
      "861:\tlearn: 0.0538579\ttotal: 2m 39s\tremaining: 25.6s\n",
      "862:\tlearn: 0.0538546\ttotal: 2m 40s\tremaining: 25.4s\n",
      "863:\tlearn: 0.0538475\ttotal: 2m 40s\tremaining: 25.2s\n",
      "864:\tlearn: 0.0538396\ttotal: 2m 40s\tremaining: 25s\n",
      "865:\tlearn: 0.0538382\ttotal: 2m 40s\tremaining: 24.9s\n",
      "866:\tlearn: 0.0538229\ttotal: 2m 40s\tremaining: 24.7s\n",
      "867:\tlearn: 0.0538180\ttotal: 2m 40s\tremaining: 24.5s\n",
      "868:\tlearn: 0.0538149\ttotal: 2m 41s\tremaining: 24.3s\n",
      "869:\tlearn: 0.0538132\ttotal: 2m 41s\tremaining: 24.1s\n",
      "870:\tlearn: 0.0538084\ttotal: 2m 41s\tremaining: 23.9s\n",
      "871:\tlearn: 0.0538070\ttotal: 2m 41s\tremaining: 23.7s\n",
      "872:\tlearn: 0.0538057\ttotal: 2m 41s\tremaining: 23.6s\n",
      "873:\tlearn: 0.0537917\ttotal: 2m 42s\tremaining: 23.4s\n",
      "874:\tlearn: 0.0537896\ttotal: 2m 42s\tremaining: 23.2s\n",
      "875:\tlearn: 0.0537865\ttotal: 2m 42s\tremaining: 23s\n",
      "876:\tlearn: 0.0537827\ttotal: 2m 42s\tremaining: 22.8s\n",
      "877:\tlearn: 0.0537755\ttotal: 2m 42s\tremaining: 22.6s\n",
      "878:\tlearn: 0.0537681\ttotal: 2m 42s\tremaining: 22.4s\n",
      "879:\tlearn: 0.0537645\ttotal: 2m 43s\tremaining: 22.3s\n",
      "880:\tlearn: 0.0537616\ttotal: 2m 43s\tremaining: 22.1s\n",
      "881:\tlearn: 0.0537585\ttotal: 2m 43s\tremaining: 21.9s\n",
      "882:\tlearn: 0.0537380\ttotal: 2m 43s\tremaining: 21.7s\n",
      "883:\tlearn: 0.0537335\ttotal: 2m 43s\tremaining: 21.5s\n",
      "884:\tlearn: 0.0537319\ttotal: 2m 44s\tremaining: 21.3s\n",
      "885:\tlearn: 0.0537290\ttotal: 2m 44s\tremaining: 21.1s\n",
      "886:\tlearn: 0.0537275\ttotal: 2m 44s\tremaining: 20.9s\n",
      "887:\tlearn: 0.0537171\ttotal: 2m 44s\tremaining: 20.8s\n",
      "888:\tlearn: 0.0537152\ttotal: 2m 44s\tremaining: 20.6s\n",
      "889:\tlearn: 0.0537070\ttotal: 2m 45s\tremaining: 20.4s\n",
      "890:\tlearn: 0.0537025\ttotal: 2m 45s\tremaining: 20.2s\n",
      "891:\tlearn: 0.0536993\ttotal: 2m 45s\tremaining: 20s\n",
      "892:\tlearn: 0.0536932\ttotal: 2m 45s\tremaining: 19.8s\n",
      "893:\tlearn: 0.0536908\ttotal: 2m 45s\tremaining: 19.7s\n",
      "894:\tlearn: 0.0536880\ttotal: 2m 45s\tremaining: 19.5s\n",
      "895:\tlearn: 0.0536822\ttotal: 2m 46s\tremaining: 19.3s\n",
      "896:\tlearn: 0.0536784\ttotal: 2m 46s\tremaining: 19.1s\n",
      "897:\tlearn: 0.0536747\ttotal: 2m 46s\tremaining: 18.9s\n",
      "898:\tlearn: 0.0536712\ttotal: 2m 46s\tremaining: 18.7s\n",
      "899:\tlearn: 0.0536678\ttotal: 2m 46s\tremaining: 18.5s\n",
      "900:\tlearn: 0.0536630\ttotal: 2m 47s\tremaining: 18.4s\n",
      "901:\tlearn: 0.0536531\ttotal: 2m 47s\tremaining: 18.2s\n",
      "902:\tlearn: 0.0536491\ttotal: 2m 47s\tremaining: 18s\n",
      "903:\tlearn: 0.0536475\ttotal: 2m 47s\tremaining: 17.8s\n",
      "904:\tlearn: 0.0536411\ttotal: 2m 47s\tremaining: 17.6s\n",
      "905:\tlearn: 0.0536386\ttotal: 2m 47s\tremaining: 17.4s\n",
      "906:\tlearn: 0.0536347\ttotal: 2m 48s\tremaining: 17.2s\n",
      "907:\tlearn: 0.0536251\ttotal: 2m 48s\tremaining: 17.1s\n",
      "908:\tlearn: 0.0536082\ttotal: 2m 48s\tremaining: 16.9s\n",
      "909:\tlearn: 0.0535891\ttotal: 2m 48s\tremaining: 16.7s\n",
      "910:\tlearn: 0.0535779\ttotal: 2m 48s\tremaining: 16.5s\n",
      "911:\tlearn: 0.0535695\ttotal: 2m 49s\tremaining: 16.3s\n",
      "912:\tlearn: 0.0535665\ttotal: 2m 49s\tremaining: 16.1s\n",
      "913:\tlearn: 0.0535578\ttotal: 2m 49s\tremaining: 15.9s\n",
      "914:\tlearn: 0.0535562\ttotal: 2m 49s\tremaining: 15.8s\n",
      "915:\tlearn: 0.0535491\ttotal: 2m 49s\tremaining: 15.6s\n",
      "916:\tlearn: 0.0535479\ttotal: 2m 49s\tremaining: 15.4s\n",
      "917:\tlearn: 0.0535454\ttotal: 2m 50s\tremaining: 15.2s\n",
      "918:\tlearn: 0.0535407\ttotal: 2m 50s\tremaining: 15s\n",
      "919:\tlearn: 0.0535372\ttotal: 2m 50s\tremaining: 14.8s\n",
      "920:\tlearn: 0.0535330\ttotal: 2m 50s\tremaining: 14.6s\n",
      "921:\tlearn: 0.0535306\ttotal: 2m 50s\tremaining: 14.5s\n",
      "922:\tlearn: 0.0535279\ttotal: 2m 51s\tremaining: 14.3s\n",
      "923:\tlearn: 0.0535246\ttotal: 2m 51s\tremaining: 14.1s\n",
      "924:\tlearn: 0.0535223\ttotal: 2m 51s\tremaining: 13.9s\n",
      "925:\tlearn: 0.0535087\ttotal: 2m 51s\tremaining: 13.7s\n",
      "926:\tlearn: 0.0534951\ttotal: 2m 51s\tremaining: 13.5s\n",
      "927:\tlearn: 0.0534917\ttotal: 2m 52s\tremaining: 13.3s\n",
      "928:\tlearn: 0.0534819\ttotal: 2m 52s\tremaining: 13.2s\n",
      "929:\tlearn: 0.0534788\ttotal: 2m 52s\tremaining: 13s\n",
      "930:\tlearn: 0.0534769\ttotal: 2m 52s\tremaining: 12.8s\n",
      "931:\tlearn: 0.0534750\ttotal: 2m 52s\tremaining: 12.6s\n",
      "932:\tlearn: 0.0534702\ttotal: 2m 52s\tremaining: 12.4s\n",
      "933:\tlearn: 0.0534689\ttotal: 2m 53s\tremaining: 12.2s\n",
      "934:\tlearn: 0.0534664\ttotal: 2m 53s\tremaining: 12s\n",
      "935:\tlearn: 0.0534610\ttotal: 2m 53s\tremaining: 11.9s\n",
      "936:\tlearn: 0.0534569\ttotal: 2m 53s\tremaining: 11.7s\n",
      "937:\tlearn: 0.0534504\ttotal: 2m 53s\tremaining: 11.5s\n",
      "938:\tlearn: 0.0534474\ttotal: 2m 54s\tremaining: 11.3s\n",
      "939:\tlearn: 0.0534457\ttotal: 2m 54s\tremaining: 11.1s\n",
      "940:\tlearn: 0.0534375\ttotal: 2m 54s\tremaining: 10.9s\n",
      "941:\tlearn: 0.0534284\ttotal: 2m 54s\tremaining: 10.8s\n",
      "942:\tlearn: 0.0534251\ttotal: 2m 54s\tremaining: 10.6s\n",
      "943:\tlearn: 0.0534203\ttotal: 2m 54s\tremaining: 10.4s\n",
      "944:\tlearn: 0.0534082\ttotal: 2m 55s\tremaining: 10.2s\n",
      "945:\tlearn: 0.0533995\ttotal: 2m 55s\tremaining: 10s\n",
      "946:\tlearn: 0.0533954\ttotal: 2m 55s\tremaining: 9.82s\n",
      "947:\tlearn: 0.0533878\ttotal: 2m 55s\tremaining: 9.64s\n",
      "948:\tlearn: 0.0533845\ttotal: 2m 55s\tremaining: 9.45s\n",
      "949:\tlearn: 0.0533797\ttotal: 2m 56s\tremaining: 9.27s\n",
      "950:\tlearn: 0.0533770\ttotal: 2m 56s\tremaining: 9.09s\n",
      "951:\tlearn: 0.0533689\ttotal: 2m 56s\tremaining: 8.9s\n",
      "952:\tlearn: 0.0533641\ttotal: 2m 56s\tremaining: 8.71s\n",
      "953:\tlearn: 0.0533572\ttotal: 2m 56s\tremaining: 8.53s\n",
      "954:\tlearn: 0.0533556\ttotal: 2m 57s\tremaining: 8.34s\n",
      "955:\tlearn: 0.0533536\ttotal: 2m 57s\tremaining: 8.16s\n",
      "956:\tlearn: 0.0533476\ttotal: 2m 57s\tremaining: 7.97s\n",
      "957:\tlearn: 0.0533459\ttotal: 2m 57s\tremaining: 7.79s\n",
      "958:\tlearn: 0.0533403\ttotal: 2m 57s\tremaining: 7.6s\n",
      "959:\tlearn: 0.0533338\ttotal: 2m 58s\tremaining: 7.42s\n",
      "960:\tlearn: 0.0533294\ttotal: 2m 58s\tremaining: 7.23s\n",
      "961:\tlearn: 0.0533269\ttotal: 2m 58s\tremaining: 7.05s\n",
      "962:\tlearn: 0.0533199\ttotal: 2m 58s\tremaining: 6.86s\n",
      "963:\tlearn: 0.0533169\ttotal: 2m 58s\tremaining: 6.68s\n",
      "964:\tlearn: 0.0533131\ttotal: 2m 59s\tremaining: 6.49s\n",
      "965:\tlearn: 0.0533006\ttotal: 2m 59s\tremaining: 6.31s\n",
      "966:\tlearn: 0.0532917\ttotal: 2m 59s\tremaining: 6.12s\n",
      "967:\tlearn: 0.0532887\ttotal: 2m 59s\tremaining: 5.94s\n",
      "968:\tlearn: 0.0532832\ttotal: 2m 59s\tremaining: 5.75s\n",
      "969:\tlearn: 0.0532819\ttotal: 3m\tremaining: 5.57s\n",
      "970:\tlearn: 0.0532758\ttotal: 3m\tremaining: 5.38s\n",
      "971:\tlearn: 0.0532744\ttotal: 3m\tremaining: 5.2s\n",
      "972:\tlearn: 0.0532724\ttotal: 3m\tremaining: 5.01s\n",
      "973:\tlearn: 0.0532711\ttotal: 3m\tremaining: 4.83s\n",
      "974:\tlearn: 0.0532662\ttotal: 3m\tremaining: 4.64s\n",
      "975:\tlearn: 0.0532618\ttotal: 3m 1s\tremaining: 4.45s\n",
      "976:\tlearn: 0.0532453\ttotal: 3m 1s\tremaining: 4.27s\n",
      "977:\tlearn: 0.0532422\ttotal: 3m 1s\tremaining: 4.08s\n",
      "978:\tlearn: 0.0532391\ttotal: 3m 1s\tremaining: 3.9s\n",
      "979:\tlearn: 0.0532337\ttotal: 3m 1s\tremaining: 3.71s\n",
      "980:\tlearn: 0.0532288\ttotal: 3m 2s\tremaining: 3.53s\n",
      "981:\tlearn: 0.0532261\ttotal: 3m 2s\tremaining: 3.34s\n",
      "982:\tlearn: 0.0532188\ttotal: 3m 2s\tremaining: 3.15s\n",
      "983:\tlearn: 0.0532063\ttotal: 3m 2s\tremaining: 2.97s\n",
      "984:\tlearn: 0.0532053\ttotal: 3m 2s\tremaining: 2.78s\n",
      "985:\tlearn: 0.0532019\ttotal: 3m 3s\tremaining: 2.6s\n",
      "986:\tlearn: 0.0531998\ttotal: 3m 3s\tremaining: 2.41s\n",
      "987:\tlearn: 0.0531932\ttotal: 3m 3s\tremaining: 2.23s\n",
      "988:\tlearn: 0.0531892\ttotal: 3m 3s\tremaining: 2.04s\n",
      "989:\tlearn: 0.0531723\ttotal: 3m 3s\tremaining: 1.86s\n",
      "990:\tlearn: 0.0531661\ttotal: 3m 3s\tremaining: 1.67s\n",
      "991:\tlearn: 0.0531619\ttotal: 3m 4s\tremaining: 1.49s\n",
      "992:\tlearn: 0.0531581\ttotal: 3m 4s\tremaining: 1.3s\n",
      "993:\tlearn: 0.0531549\ttotal: 3m 4s\tremaining: 1.11s\n",
      "994:\tlearn: 0.0531325\ttotal: 3m 4s\tremaining: 928ms\n",
      "995:\tlearn: 0.0531073\ttotal: 3m 4s\tremaining: 743ms\n",
      "996:\tlearn: 0.0530995\ttotal: 3m 5s\tremaining: 557ms\n",
      "997:\tlearn: 0.0530858\ttotal: 3m 5s\tremaining: 371ms\n",
      "998:\tlearn: 0.0530796\ttotal: 3m 5s\tremaining: 186ms\n",
      "999:\tlearn: 0.0530767\ttotal: 3m 5s\tremaining: 0us\n",
      "Accuracy of Model: 0.9835660476944484\n",
      "Precision of Model: 0.9795598425889624\n",
      "Recall of Model: 0.9835660476944484\n",
      "F1-score of Model: 0.9798724881057679\n",
      "              precision    recall  f1-score   support\n",
      "\n",
      "           0       0.99      1.00      0.99     34521\n",
      "           1       0.99      0.99      0.99       733\n",
      "           2       0.81      0.78      0.79        32\n",
      "           3       1.00      0.97      0.98        32\n",
      "           4       1.00      1.00      1.00      1756\n",
      "           5       0.97      1.00      0.98        32\n",
      "           6       1.00      1.00      1.00      1475\n",
      "           7       1.00      1.00      1.00       106\n",
      "           8       1.00      1.00      1.00      1183\n",
      "           9       0.76      0.52      0.62       358\n",
      "          10       0.97      0.97      0.97        32\n",
      "          11       0.72      0.88      0.79       495\n",
      "          12       0.49      0.09      0.15       415\n",
      "          13       1.00      0.94      0.97        32\n",
      "          14       1.00      1.00      1.00       480\n",
      "\n",
      "    accuracy                           0.98     41682\n",
      "   macro avg       0.91      0.88      0.88     41682\n",
      "weighted avg       0.98      0.98      0.98     41682\n",
      "\n",
      "mission accomplished! ---------------------------------- \n",
      "Total Operation Time in 188.504980 seconds\n",
      "/content/drive/My Drive/Colab Notebooks/Newi/2021Project3\n",
      "Done save model in drive:  cat_model.sav\n",
      "Accuracy Model:  0.9835660476944484\n"
     ]
    }
   ],
   "source": [
    "build_model(cat,X_train3,y_train3,X_test3,y_test3)\n",
    "cat_train , cat_test = save_model(cat,'cat_model',X_train3,y_train3,X_test3,y_test3)"
   ]
  },
  {
   "cell_type": "code",
   "execution_count": null,
   "metadata": {
    "colab": {
     "base_uri": "https://localhost:8080/"
    },
    "executionInfo": {
     "elapsed": 151068,
     "status": "ok",
     "timestamp": 1631891864499,
     "user": {
      "displayName": "code ai",
      "photoUrl": "https://lh3.googleusercontent.com/a/default-user=s64",
      "userId": "17345359434679870937"
     },
     "user_tz": -180
    },
    "id": "GHRUCJJmTyTQ",
    "outputId": "e43aa1a9-b2fb-45f5-d172-d8726b7ccd16"
   },
   "outputs": [
    {
     "name": "stdout",
     "output_type": "stream",
     "text": [
      "LGBMClassifier(boosting_type='gbdt', class_weight=None, colsample_bytree=1.0,\n",
      "               importance_type='split', learning_rate=0.1, max_depth=-1,\n",
      "               min_child_samples=20, min_child_weight=0.001, min_split_gain=0.0,\n",
      "               n_estimators=100, n_jobs=-1, num_leaves=31, objective=None,\n",
      "               random_state=None, reg_alpha=0.0, reg_lambda=0.0, silent=True,\n",
      "               subsample=1.0, subsample_for_bin=200000, subsample_freq=0)\n"
     ]
    },
    {
     "name": "stderr",
     "output_type": "stream",
     "text": [
      "/usr/local/lib/python3.7/dist-packages/sklearn/preprocessing/_label.py:235: DataConversionWarning: A column-vector y was passed when a 1d array was expected. Please change the shape of y to (n_samples, ), for example using ravel().\n",
      "  y = column_or_1d(y, warn=True)\n",
      "/usr/local/lib/python3.7/dist-packages/sklearn/preprocessing/_label.py:268: DataConversionWarning: A column-vector y was passed when a 1d array was expected. Please change the shape of y to (n_samples, ), for example using ravel().\n",
      "  y = column_or_1d(y, warn=True)\n"
     ]
    },
    {
     "name": "stdout",
     "output_type": "stream",
     "text": [
      "Accuracy of Model: 0.7221822369368073\n",
      "Precision of Model: 0.7388633780508689\n",
      "Recall of Model: 0.7221822369368073\n",
      "F1-score of Model: 0.7258102489128943\n",
      "              precision    recall  f1-score   support\n",
      "\n",
      "           0       0.85      0.83      0.84     34521\n",
      "           1       0.29      0.45      0.35       733\n",
      "           2       0.00      0.00      0.00        32\n",
      "           3       0.00      0.00      0.00        32\n",
      "           4       0.08      0.23      0.12      1756\n",
      "           5       0.00      0.00      0.00        32\n",
      "           6       0.75      0.42      0.54      1475\n",
      "           7       1.00      0.01      0.02       106\n",
      "           8       0.00      0.00      0.00      1183\n",
      "           9       0.00      0.00      0.00       358\n",
      "          10       0.00      0.00      0.00        32\n",
      "          11       0.00      0.00      0.00       495\n",
      "          12       0.00      0.00      0.00       415\n",
      "          13       0.00      0.00      0.00        32\n",
      "          14       0.00      0.00      0.00       480\n",
      "\n",
      "    accuracy                           0.72     41682\n",
      "   macro avg       0.20      0.13      0.13     41682\n",
      "weighted avg       0.74      0.72      0.73     41682\n",
      "\n"
     ]
    },
    {
     "name": "stderr",
     "output_type": "stream",
     "text": [
      "/usr/local/lib/python3.7/dist-packages/sklearn/metrics/_classification.py:1272: UndefinedMetricWarning: Precision and F-score are ill-defined and being set to 0.0 in labels with no predicted samples. Use `zero_division` parameter to control this behavior.\n",
      "  _warn_prf(average, modifier, msg_start, len(result))\n"
     ]
    },
    {
     "name": "stdout",
     "output_type": "stream",
     "text": [
      "mission accomplished! ---------------------------------- \n",
      "Total Operation Time in 123.187570 seconds\n",
      "/content/drive/My Drive/Colab Notebooks/Newi/2021Project3\n",
      "Done save model in drive:  light_model.sav\n",
      "Accuracy Model:  0.7221822369368073\n"
     ]
    }
   ],
   "source": [
    "build_model(light,X_train3,y_train3,X_test3,y_test3)\n",
    "light_train , light_test = save_model(light,'light_model',X_train3,y_train3,X_test3,y_test3)"
   ]
  },
  {
   "cell_type": "markdown",
   "metadata": {
    "id": "gBlRuIuq2wfS"
   },
   "source": [
    "### Features Selection"
   ]
  },
  {
   "cell_type": "code",
   "execution_count": null,
   "metadata": {
    "colab": {
     "base_uri": "https://localhost:8080/"
    },
    "executionInfo": {
     "elapsed": 148187,
     "status": "ok",
     "timestamp": 1632853564718,
     "user": {
      "displayName": "code ai",
      "photoUrl": "https://lh3.googleusercontent.com/a/default-user=s64",
      "userId": "17345359434679870937"
     },
     "user_tz": -180
    },
    "id": "UsIb05PR7WWz",
    "outputId": "b0605ddd-0276-4ea6-820c-267de5bf9b60"
   },
   "outputs": [
    {
     "name": "stderr",
     "output_type": "stream",
     "text": [
      "/usr/local/lib/python3.7/dist-packages/ipykernel_launcher.py:5: DataConversionWarning: A column-vector y was passed when a 1d array was expected. Please change the shape of y to (n_samples,), for example using ravel().\n",
      "  \"\"\"\n"
     ]
    },
    {
     "data": {
      "text/plain": [
       "RandomForestClassifier(bootstrap=True, ccp_alpha=0.0, class_weight=None,\n",
       "                       criterion='gini', max_depth=None, max_features='auto',\n",
       "                       max_leaf_nodes=None, max_samples=None,\n",
       "                       min_impurity_decrease=0.0, min_impurity_split=None,\n",
       "                       min_samples_leaf=1, min_samples_split=2,\n",
       "                       min_weight_fraction_leaf=0.0, n_estimators=250,\n",
       "                       n_jobs=None, oob_score=False, random_state=0, verbose=0,\n",
       "                       warm_start=False)"
      ]
     },
     "execution_count": 40,
     "metadata": {},
     "output_type": "execute_result"
    }
   ],
   "source": [
    "from sklearn.ensemble import RandomForestClassifier\n",
    "\n",
    "feature_names = [f'feature {i}' for i in range(X3.shape[1])]\n",
    "forest = RandomForestClassifier(n_estimators=250,random_state=0)\n",
    "forest.fit(X_train3, y_train3)"
   ]
  },
  {
   "cell_type": "code",
   "execution_count": null,
   "metadata": {
    "colab": {
     "base_uri": "https://localhost:8080/"
    },
    "executionInfo": {
     "elapsed": 16,
     "status": "ok",
     "timestamp": 1632854699627,
     "user": {
      "displayName": "code ai",
      "photoUrl": "https://lh3.googleusercontent.com/a/default-user=s64",
      "userId": "17345359434679870937"
     },
     "user_tz": -180
    },
    "id": "0Zg0bQdhwwjY",
    "outputId": "abcc6da2-facb-464d-a5d1-6334a5a1049c"
   },
   "outputs": [
    {
     "data": {
      "text/plain": [
       "(208407, 78)"
      ]
     },
     "execution_count": 43,
     "metadata": {},
     "output_type": "execute_result"
    }
   ],
   "source": [
    "df3.shape"
   ]
  },
  {
   "cell_type": "code",
   "execution_count": null,
   "metadata": {
    "colab": {
     "base_uri": "https://localhost:8080/",
     "height": 528
    },
    "executionInfo": {
     "elapsed": 1770,
     "status": "ok",
     "timestamp": 1632854699626,
     "user": {
      "displayName": "code ai",
      "photoUrl": "https://lh3.googleusercontent.com/a/default-user=s64",
      "userId": "17345359434679870937"
     },
     "user_tz": -180
    },
    "id": "cPGmcIp3mEQ8",
    "outputId": "799689f3-43aa-4020-fd5e-d5c3b772dd4b"
   },
   "outputs": [
    {
     "data": {
      "image/png": "[encoded data removed]",
      "text/plain": [
       "<Figure size 1080x504 with 1 Axes>"
      ]
     },
     "metadata": {
      "needs_background": "light"
     },
     "output_type": "display_data"
    }
   ],
   "source": [
    "importances = forest.feature_importances_\n",
    "indices = np.argsort(importances)[::-1]\n",
    "refclasscol=list(df3.columns.values)\n",
    "impocol = pd.DataFrame({'Features':refclasscol[0:69],'importance':importances[0:69]})\n",
    "impocol = impocol.sort_values('importance',ascending=False).set_index('Features')\n",
    "\n",
    "plt.rcParams['figure.figsize'] = (15, 7)\n",
    "impocol.plot.bar();"
   ]
  },
  {
   "cell_type": "code",
   "execution_count": null,
   "metadata": {
    "colab": {
     "base_uri": "https://localhost:8080/",
     "height": 1000
    },
    "executionInfo": {
     "elapsed": 266,
     "status": "ok",
     "timestamp": 1632854708198,
     "user": {
      "displayName": "code ai",
      "photoUrl": "https://lh3.googleusercontent.com/a/default-user=s64",
      "userId": "17345359434679870937"
     },
     "user_tz": -180
    },
    "id": "tZXAORac3AjE",
    "outputId": "a19f4ddc-7e99-42d4-ffe3-6b6f9a3c4b59"
   },
   "outputs": [
    {
     "data": {
      "text/html": [
       "<div>\n",
       "<style scoped>\n",
       "    .dataframe tbody tr th:only-of-type {\n",
       "        vertical-align: middle;\n",
       "    }\n",
       "\n",
       "    .dataframe tbody tr th {\n",
       "        vertical-align: top;\n",
       "    }\n",
       "\n",
       "    .dataframe thead th {\n",
       "        text-align: right;\n",
       "    }\n",
       "</style>\n",
       "<table border=\"1\" class=\"dataframe\">\n",
       "  <thead>\n",
       "    <tr style=\"text-align: right;\">\n",
       "      <th></th>\n",
       "      <th>importance</th>\n",
       "    </tr>\n",
       "    <tr>\n",
       "      <th>Features</th>\n",
       "      <th></th>\n",
       "    </tr>\n",
       "  </thead>\n",
       "  <tbody>\n",
       "    <tr>\n",
       "      <th>init_fwd_win_byts</th>\n",
       "      <td>0.108490</td>\n",
       "    </tr>\n",
       "    <tr>\n",
       "      <th>fwd_seg_size_min</th>\n",
       "      <td>0.078871</td>\n",
       "    </tr>\n",
       "    <tr>\n",
       "      <th>flow_pkts_s</th>\n",
       "      <td>0.052779</td>\n",
       "    </tr>\n",
       "    <tr>\n",
       "      <th>fwd_pkts_s</th>\n",
       "      <td>0.045252</td>\n",
       "    </tr>\n",
       "    <tr>\n",
       "      <th>fwd_header_len</th>\n",
       "      <td>0.042329</td>\n",
       "    </tr>\n",
       "    <tr>\n",
       "      <th>totlen_fwd_pkts</th>\n",
       "      <td>0.032058</td>\n",
       "    </tr>\n",
       "    <tr>\n",
       "      <th>fwd_pkt_len_max</th>\n",
       "      <td>0.030269</td>\n",
       "    </tr>\n",
       "    <tr>\n",
       "      <th>flow_duration</th>\n",
       "      <td>0.030234</td>\n",
       "    </tr>\n",
       "    <tr>\n",
       "      <th>fwd_iat_tot</th>\n",
       "      <td>0.029618</td>\n",
       "    </tr>\n",
       "    <tr>\n",
       "      <th>fwd_iat_mean</th>\n",
       "      <td>0.027873</td>\n",
       "    </tr>\n",
       "    <tr>\n",
       "      <th>flow_iat_min</th>\n",
       "      <td>0.026558</td>\n",
       "    </tr>\n",
       "    <tr>\n",
       "      <th>subflow_fwd_byts</th>\n",
       "      <td>0.026248</td>\n",
       "    </tr>\n",
       "    <tr>\n",
       "      <th>flow_iat_max</th>\n",
       "      <td>0.025326</td>\n",
       "    </tr>\n",
       "    <tr>\n",
       "      <th>flow_iat_mean</th>\n",
       "      <td>0.024267</td>\n",
       "    </tr>\n",
       "    <tr>\n",
       "      <th>bwd_pkts_s</th>\n",
       "      <td>0.023788</td>\n",
       "    </tr>\n",
       "    <tr>\n",
       "      <th>fwd_iat_max</th>\n",
       "      <td>0.023777</td>\n",
       "    </tr>\n",
       "    <tr>\n",
       "      <th>init_bwd_win_byts</th>\n",
       "      <td>0.020853</td>\n",
       "    </tr>\n",
       "    <tr>\n",
       "      <th>fwd_iat_min</th>\n",
       "      <td>0.020844</td>\n",
       "    </tr>\n",
       "    <tr>\n",
       "      <th>fwd_pkt_len_mean</th>\n",
       "      <td>0.020657</td>\n",
       "    </tr>\n",
       "    <tr>\n",
       "      <th>fwd_seg_size_avg</th>\n",
       "      <td>0.019307</td>\n",
       "    </tr>\n",
       "    <tr>\n",
       "      <th>bwd_header_len</th>\n",
       "      <td>0.015548</td>\n",
       "    </tr>\n",
       "    <tr>\n",
       "      <th>bwd_pkt_len_mean</th>\n",
       "      <td>0.015290</td>\n",
       "    </tr>\n",
       "    <tr>\n",
       "      <th>fwd_pkt_len_std</th>\n",
       "      <td>0.015251</td>\n",
       "    </tr>\n",
       "    <tr>\n",
       "      <th>pkt_len_max</th>\n",
       "      <td>0.014083</td>\n",
       "    </tr>\n",
       "    <tr>\n",
       "      <th>bwd_pkt_len_std</th>\n",
       "      <td>0.013870</td>\n",
       "    </tr>\n",
       "    <tr>\n",
       "      <th>tot_fwd_pkts</th>\n",
       "      <td>0.013443</td>\n",
       "    </tr>\n",
       "    <tr>\n",
       "      <th>subflow_fwd_pkts</th>\n",
       "      <td>0.012821</td>\n",
       "    </tr>\n",
       "    <tr>\n",
       "      <th>pkt_size_avg</th>\n",
       "      <td>0.012633</td>\n",
       "    </tr>\n",
       "    <tr>\n",
       "      <th>bwd_seg_size_avg</th>\n",
       "      <td>0.011841</td>\n",
       "    </tr>\n",
       "    <tr>\n",
       "      <th>tot_bwd_pkts</th>\n",
       "      <td>0.011354</td>\n",
       "    </tr>\n",
       "    <tr>\n",
       "      <th>subflow_bwd_pkts</th>\n",
       "      <td>0.010449</td>\n",
       "    </tr>\n",
       "    <tr>\n",
       "      <th>bwd_pkt_len_max</th>\n",
       "      <td>0.010338</td>\n",
       "    </tr>\n",
       "    <tr>\n",
       "      <th>ack_flag_cnt</th>\n",
       "      <td>0.009970</td>\n",
       "    </tr>\n",
       "    <tr>\n",
       "      <th>subflow_bwd_byts</th>\n",
       "      <td>0.009889</td>\n",
       "    </tr>\n",
       "    <tr>\n",
       "      <th>pkt_len_mean</th>\n",
       "      <td>0.009104</td>\n",
       "    </tr>\n",
       "    <tr>\n",
       "      <th>totlen_bwd_pkts</th>\n",
       "      <td>0.009036</td>\n",
       "    </tr>\n",
       "    <tr>\n",
       "      <th>pkt_len_std</th>\n",
       "      <td>0.008417</td>\n",
       "    </tr>\n",
       "    <tr>\n",
       "      <th>pkt_len_var</th>\n",
       "      <td>0.007667</td>\n",
       "    </tr>\n",
       "    <tr>\n",
       "      <th>psh_flag_cnt</th>\n",
       "      <td>0.006244</td>\n",
       "    </tr>\n",
       "    <tr>\n",
       "      <th>fwd_act_data_pkts</th>\n",
       "      <td>0.004735</td>\n",
       "    </tr>\n",
       "    <tr>\n",
       "      <th>flow_byts_s</th>\n",
       "      <td>0.004700</td>\n",
       "    </tr>\n",
       "    <tr>\n",
       "      <th>bwd_iat_max</th>\n",
       "      <td>0.004567</td>\n",
       "    </tr>\n",
       "    <tr>\n",
       "      <th>bwd_iat_std</th>\n",
       "      <td>0.004219</td>\n",
       "    </tr>\n",
       "    <tr>\n",
       "      <th>urg_flag_cnt</th>\n",
       "      <td>0.003949</td>\n",
       "    </tr>\n",
       "    <tr>\n",
       "      <th>bwd_iat_tot</th>\n",
       "      <td>0.003873</td>\n",
       "    </tr>\n",
       "    <tr>\n",
       "      <th>bwd_iat_mean</th>\n",
       "      <td>0.003758</td>\n",
       "    </tr>\n",
       "    <tr>\n",
       "      <th>ece_flag_cnt</th>\n",
       "      <td>0.003152</td>\n",
       "    </tr>\n",
       "    <tr>\n",
       "      <th>rst_flag_cnt</th>\n",
       "      <td>0.002689</td>\n",
       "    </tr>\n",
       "    <tr>\n",
       "      <th>down_up_ratio</th>\n",
       "      <td>0.002655</td>\n",
       "    </tr>\n",
       "    <tr>\n",
       "      <th>bwd_iat_min</th>\n",
       "      <td>0.002447</td>\n",
       "    </tr>\n",
       "    <tr>\n",
       "      <th>flow_iat_std</th>\n",
       "      <td>0.002343</td>\n",
       "    </tr>\n",
       "    <tr>\n",
       "      <th>fwd_iat_std</th>\n",
       "      <td>0.001777</td>\n",
       "    </tr>\n",
       "    <tr>\n",
       "      <th>protocol</th>\n",
       "      <td>0.001656</td>\n",
       "    </tr>\n",
       "    <tr>\n",
       "      <th>pkt_len_min</th>\n",
       "      <td>0.001123</td>\n",
       "    </tr>\n",
       "    <tr>\n",
       "      <th>bwd_pkt_len_min</th>\n",
       "      <td>0.000836</td>\n",
       "    </tr>\n",
       "  </tbody>\n",
       "</table>\n",
       "</div>"
      ],
      "text/plain": [
       "                   importance\n",
       "Features                     \n",
       "init_fwd_win_byts    0.108490\n",
       "fwd_seg_size_min     0.078871\n",
       "flow_pkts_s          0.052779\n",
       "fwd_pkts_s           0.045252\n",
       "fwd_header_len       0.042329\n",
       "totlen_fwd_pkts      0.032058\n",
       "fwd_pkt_len_max      0.030269\n",
       "flow_duration        0.030234\n",
       "fwd_iat_tot          0.029618\n",
       "fwd_iat_mean         0.027873\n",
       "flow_iat_min         0.026558\n",
       "subflow_fwd_byts     0.026248\n",
       "flow_iat_max         0.025326\n",
       "flow_iat_mean        0.024267\n",
       "bwd_pkts_s           0.023788\n",
       "fwd_iat_max          0.023777\n",
       "init_bwd_win_byts    0.020853\n",
       "fwd_iat_min          0.020844\n",
       "fwd_pkt_len_mean     0.020657\n",
       "fwd_seg_size_avg     0.019307\n",
       "bwd_header_len       0.015548\n",
       "bwd_pkt_len_mean     0.015290\n",
       "fwd_pkt_len_std      0.015251\n",
       "pkt_len_max          0.014083\n",
       "bwd_pkt_len_std      0.013870\n",
       "tot_fwd_pkts         0.013443\n",
       "subflow_fwd_pkts     0.012821\n",
       "pkt_size_avg         0.012633\n",
       "bwd_seg_size_avg     0.011841\n",
       "tot_bwd_pkts         0.011354\n",
       "subflow_bwd_pkts     0.010449\n",
       "bwd_pkt_len_max      0.010338\n",
       "ack_flag_cnt         0.009970\n",
       "subflow_bwd_byts     0.009889\n",
       "pkt_len_mean         0.009104\n",
       "totlen_bwd_pkts      0.009036\n",
       "pkt_len_std          0.008417\n",
       "pkt_len_var          0.007667\n",
       "psh_flag_cnt         0.006244\n",
       "fwd_act_data_pkts    0.004735\n",
       "flow_byts_s          0.004700\n",
       "bwd_iat_max          0.004567\n",
       "bwd_iat_std          0.004219\n",
       "urg_flag_cnt         0.003949\n",
       "bwd_iat_tot          0.003873\n",
       "bwd_iat_mean         0.003758\n",
       "ece_flag_cnt         0.003152\n",
       "rst_flag_cnt         0.002689\n",
       "down_up_ratio        0.002655\n",
       "bwd_iat_min          0.002447\n",
       "flow_iat_std         0.002343\n",
       "fwd_iat_std          0.001777\n",
       "protocol             0.001656\n",
       "pkt_len_min          0.001123\n",
       "bwd_pkt_len_min      0.000836"
      ]
     },
     "execution_count": 44,
     "metadata": {},
     "output_type": "execute_result"
    }
   ],
   "source": [
    "impocol.head(55)"
   ]
  },
  {
   "cell_type": "code",
   "execution_count": null,
   "metadata": {
    "id": "T0VyZYgNG5wu"
   },
   "outputs": [],
   "source": [
    "X_train3.shape"
   ]
  },
  {
   "cell_type": "code",
   "execution_count": null,
   "metadata": {
    "id": "byBi31GvV9Kz"
   },
   "outputs": [],
   "source": [
    "impocol.tail(14) "
   ]
  },
  {
   "cell_type": "code",
   "execution_count": null,
   "metadata": {
    "id": "kcF5kbLegao9"
   },
   "outputs": [],
   "source": [
    "impocol = pd.DataFrame({'Features':refclasscol[0:63],'importance':importances[0:63]}) "
   ]
  },
  {
   "cell_type": "code",
   "execution_count": null,
   "metadata": {
    "id": "J0jW5WapVAae"
   },
   "outputs": [],
   "source": [
    "implist = impocol['Features']\n",
    "implist.values.tolist()"
   ]
  },
  {
   "cell_type": "code",
   "execution_count": null,
   "metadata": {
    "id": "InHhZSqgY_Y0"
   },
   "outputs": [],
   "source": [
    "implist = ['dst_port',  'protocol',  'timestamp',  'flow_duration',  'tot_fwd_pkts',  'tot_bwd_pkts',  'totlen_fwd_pkts',  \n",
    "           'totlen_bwd_pkts',  'fwd_pkt_len_max',  'fwd_pkt_len_min',  'fwd_pkt_len_mean',  'fwd_pkt_len_std',  'bwd_pkt_len_max',  \n",
    "           'bwd_pkt_len_min',  'bwd_pkt_len_mean',  'bwd_pkt_len_std',  'flow_byts_s',  'flow_pkts_s',  'flow_iat_mean',  'flow_iat_std',  \n",
    "           'flow_iat_max',  'flow_iat_min',  'fwd_iat_tot',  'fwd_iat_mean',  'fwd_iat_std',  'fwd_iat_max',  'fwd_iat_min',  'bwd_iat_tot',  \n",
    "           'bwd_iat_mean',  'bwd_iat_std',  'bwd_iat_max',  'bwd_iat_min',  'fwd_psh_flags',  'bwd_psh_flags',  'fwd_urg_flags',  'bwd_urg_flags',  \n",
    "           'fwd_header_len',  'bwd_header_len',  'fwd_pkts_s',  'bwd_pkts_s',  'pkt_len_min',  'pkt_len_max',  'pkt_len_mean',  'pkt_len_std',  \n",
    "           'pkt_len_var',  'fin_flag_cnt',  'syn_flag_cnt',  'rst_flag_cnt',  'psh_flag_cnt',  'ack_flag_cnt',  'urg_flag_cnt',  'cwe_flag_count', \n",
    "           'ece_flag_cnt',  'down_up_ratio',  'pkt_size_avg']  "
   ]
  },
  {
   "cell_type": "code",
   "execution_count": null,
   "metadata": {
    "id": "GmETJB6YmzLZ"
   },
   "outputs": [],
   "source": [
    "impocol = list(implist)\n",
    "print (impocol)\n",
    "print (type(impocol))"
   ]
  },
  {
   "cell_type": "code",
   "execution_count": null,
   "metadata": {
    "id": "HcJBgJ42P4o6"
   },
   "outputs": [],
   "source": [
    "len(impocol)"
   ]
  },
  {
   "cell_type": "code",
   "execution_count": null,
   "metadata": {
    "id": "VU-ylLsEja56"
   },
   "outputs": [],
   "source": [
    "impocol.remove('bwd_urg_flags') \n",
    "impocol.remove('dst_port')      \n",
    "impocol.remove('timestamp')     \n",
    "impocol.remove('bwd_psh_flags') "
   ]
  },
  {
   "cell_type": "code",
   "execution_count": null,
   "metadata": {
    "id": "KHWvMzvC3AXY"
   },
   "outputs": [],
   "source": [
    "X_new = X3[impocol]\n",
    "print(\"Remaining amount of features:\" , {len(X_new.columns)})"
   ]
  },
  {
   "cell_type": "code",
   "execution_count": null,
   "metadata": {
    "id": "iSIoLhVWUgHW"
   },
   "outputs": [],
   "source": [
    "print (X_new.shape,y3.shape)"
   ]
  },
  {
   "cell_type": "code",
   "execution_count": null,
   "metadata": {
    "id": "m7gSVzyxRP2o"
   },
   "outputs": [],
   "source": [
    "X_train4, X_test4, y_train4, y_test4 = train_test_split(X_new,y3, train_size = 0.8, test_size = 0.2, random_state = 0, stratify = y3)"
   ]
  },
  {
   "cell_type": "markdown",
   "metadata": {
    "id": "C6nLbynH4wIf"
   },
   "source": [
    "### 5. SMOTE ENN"
   ]
  },
  {
   "cell_type": "code",
   "execution_count": null,
   "metadata": {
    "id": "94cMpaA3XRWy"
   },
   "outputs": [],
   "source": [
    "y_train4 = np.ravel(y_train4)"
   ]
  },
  {
   "cell_type": "code",
   "execution_count": null,
   "metadata": {
    "colab": {
     "base_uri": "https://localhost:8080/"
    },
    "executionInfo": {
     "elapsed": 240,
     "status": "ok",
     "timestamp": 1631892176610,
     "user": {
      "displayName": "code ai",
      "photoUrl": "https://lh3.googleusercontent.com/a/default-user=s64",
      "userId": "17345359434679870937"
     },
     "user_tz": -180
    },
    "id": "va2fUjxD4OuI",
    "outputId": "3f8d19f7-6676-442b-94bb-51d60acd3267"
   },
   "outputs": [
    {
     "data": {
      "text/plain": [
       "0     138083\n",
       "4       7025\n",
       "6       5900\n",
       "8       4730\n",
       "1       2930\n",
       "11      1980\n",
       "14      1921\n",
       "12      1658\n",
       "9       1433\n",
       "7        425\n",
       "13       128\n",
       "10       128\n",
       "5        128\n",
       "3        128\n",
       "2        128\n",
       "dtype: int64"
      ]
     },
     "execution_count": 69,
     "metadata": {},
     "output_type": "execute_result"
    }
   ],
   "source": [
    "pd.Series(y_train4).value_counts()"
   ]
  },
  {
   "cell_type": "code",
   "execution_count": null,
   "metadata": {
    "id": "Y1J27pAb7O1w"
   },
   "outputs": [],
   "source": [
    "from imblearn.combine import SMOTEENN \n",
    "smenn = SMOTEENN()"
   ]
  },
  {
   "cell_type": "code",
   "execution_count": null,
   "metadata": {
    "colab": {
     "base_uri": "https://localhost:8080/"
    },
    "executionInfo": {
     "elapsed": 1314784,
     "status": "ok",
     "timestamp": 1630467850672,
     "user": {
      "displayName": "code ai",
      "photoUrl": "",
      "userId": "17345359434679870937"
     },
     "user_tz": -180
    },
    "id": "hoUjFgLq4ddk",
    "outputId": "1563ea0d-2c4b-4a70-86e5-2b7db45c9981"
   },
   "outputs": [
    {
     "name": "stdout",
     "output_type": "stream",
     "text": [
      "2  ---------------------------------------------\n"
     ]
    },
    {
     "name": "stderr",
     "output_type": "stream",
     "text": [
      "/usr/local/lib/python3.7/dist-packages/sklearn/utils/deprecation.py:87: FutureWarning: Function safe_indexing is deprecated; safe_indexing is deprecated in version 0.22 and will be removed in version 0.24.\n",
      "  warnings.warn(msg, category=FutureWarning)\n",
      "/usr/local/lib/python3.7/dist-packages/sklearn/utils/deprecation.py:87: FutureWarning: Function safe_indexing is deprecated; safe_indexing is deprecated in version 0.22 and will be removed in version 0.24.\n",
      "  warnings.warn(msg, category=FutureWarning)\n",
      "/usr/local/lib/python3.7/dist-packages/sklearn/utils/deprecation.py:87: FutureWarning: Function safe_indexing is deprecated; safe_indexing is deprecated in version 0.22 and will be removed in version 0.24.\n",
      "  warnings.warn(msg, category=FutureWarning)\n",
      "/usr/local/lib/python3.7/dist-packages/sklearn/utils/deprecation.py:87: FutureWarning: Function safe_indexing is deprecated; safe_indexing is deprecated in version 0.22 and will be removed in version 0.24.\n",
      "  warnings.warn(msg, category=FutureWarning)\n",
      "/usr/local/lib/python3.7/dist-packages/sklearn/utils/deprecation.py:87: FutureWarning: Function safe_indexing is deprecated; safe_indexing is deprecated in version 0.22 and will be removed in version 0.24.\n",
      "  warnings.warn(msg, category=FutureWarning)\n",
      "/usr/local/lib/python3.7/dist-packages/sklearn/utils/deprecation.py:87: FutureWarning: Function safe_indexing is deprecated; safe_indexing is deprecated in version 0.22 and will be removed in version 0.24.\n",
      "  warnings.warn(msg, category=FutureWarning)\n",
      "/usr/local/lib/python3.7/dist-packages/sklearn/utils/deprecation.py:87: FutureWarning: Function safe_indexing is deprecated; safe_indexing is deprecated in version 0.22 and will be removed in version 0.24.\n",
      "  warnings.warn(msg, category=FutureWarning)\n",
      "/usr/local/lib/python3.7/dist-packages/sklearn/utils/deprecation.py:87: FutureWarning: Function safe_indexing is deprecated; safe_indexing is deprecated in version 0.22 and will be removed in version 0.24.\n",
      "  warnings.warn(msg, category=FutureWarning)\n",
      "/usr/local/lib/python3.7/dist-packages/sklearn/utils/deprecation.py:87: FutureWarning: Function safe_indexing is deprecated; safe_indexing is deprecated in version 0.22 and will be removed in version 0.24.\n",
      "  warnings.warn(msg, category=FutureWarning)\n",
      "/usr/local/lib/python3.7/dist-packages/sklearn/utils/deprecation.py:87: FutureWarning: Function safe_indexing is deprecated; safe_indexing is deprecated in version 0.22 and will be removed in version 0.24.\n",
      "  warnings.warn(msg, category=FutureWarning)\n",
      "/usr/local/lib/python3.7/dist-packages/sklearn/utils/deprecation.py:87: FutureWarning: Function safe_indexing is deprecated; safe_indexing is deprecated in version 0.22 and will be removed in version 0.24.\n",
      "  warnings.warn(msg, category=FutureWarning)\n",
      "/usr/local/lib/python3.7/dist-packages/sklearn/utils/deprecation.py:87: FutureWarning: Function safe_indexing is deprecated; safe_indexing is deprecated in version 0.22 and will be removed in version 0.24.\n",
      "  warnings.warn(msg, category=FutureWarning)\n",
      "/usr/local/lib/python3.7/dist-packages/sklearn/utils/deprecation.py:87: FutureWarning: Function safe_indexing is deprecated; safe_indexing is deprecated in version 0.22 and will be removed in version 0.24.\n",
      "  warnings.warn(msg, category=FutureWarning)\n",
      "/usr/local/lib/python3.7/dist-packages/sklearn/utils/deprecation.py:87: FutureWarning: Function safe_indexing is deprecated; safe_indexing is deprecated in version 0.22 and will be removed in version 0.24.\n",
      "  warnings.warn(msg, category=FutureWarning)\n",
      "/usr/local/lib/python3.7/dist-packages/sklearn/utils/deprecation.py:87: FutureWarning: Function safe_indexing is deprecated; safe_indexing is deprecated in version 0.22 and will be removed in version 0.24.\n",
      "  warnings.warn(msg, category=FutureWarning)\n",
      "/usr/local/lib/python3.7/dist-packages/sklearn/utils/deprecation.py:87: FutureWarning: Function safe_indexing is deprecated; safe_indexing is deprecated in version 0.22 and will be removed in version 0.24.\n",
      "  warnings.warn(msg, category=FutureWarning)\n",
      "/usr/local/lib/python3.7/dist-packages/sklearn/utils/deprecation.py:87: FutureWarning: Function safe_indexing is deprecated; safe_indexing is deprecated in version 0.22 and will be removed in version 0.24.\n",
      "  warnings.warn(msg, category=FutureWarning)\n",
      "/usr/local/lib/python3.7/dist-packages/sklearn/utils/deprecation.py:87: FutureWarning: Function safe_indexing is deprecated; safe_indexing is deprecated in version 0.22 and will be removed in version 0.24.\n",
      "  warnings.warn(msg, category=FutureWarning)\n"
     ]
    },
    {
     "name": "stdout",
     "output_type": "stream",
     "text": [
      "3  ---------------------------------------------\n"
     ]
    },
    {
     "name": "stderr",
     "output_type": "stream",
     "text": [
      "/usr/local/lib/python3.7/dist-packages/sklearn/utils/deprecation.py:87: FutureWarning: Function safe_indexing is deprecated; safe_indexing is deprecated in version 0.22 and will be removed in version 0.24.\n",
      "  warnings.warn(msg, category=FutureWarning)\n",
      "/usr/local/lib/python3.7/dist-packages/sklearn/utils/deprecation.py:87: FutureWarning: Function safe_indexing is deprecated; safe_indexing is deprecated in version 0.22 and will be removed in version 0.24.\n",
      "  warnings.warn(msg, category=FutureWarning)\n",
      "/usr/local/lib/python3.7/dist-packages/sklearn/utils/deprecation.py:87: FutureWarning: Function safe_indexing is deprecated; safe_indexing is deprecated in version 0.22 and will be removed in version 0.24.\n",
      "  warnings.warn(msg, category=FutureWarning)\n",
      "/usr/local/lib/python3.7/dist-packages/sklearn/utils/deprecation.py:87: FutureWarning: Function safe_indexing is deprecated; safe_indexing is deprecated in version 0.22 and will be removed in version 0.24.\n",
      "  warnings.warn(msg, category=FutureWarning)\n",
      "/usr/local/lib/python3.7/dist-packages/sklearn/utils/deprecation.py:87: FutureWarning: Function safe_indexing is deprecated; safe_indexing is deprecated in version 0.22 and will be removed in version 0.24.\n",
      "  warnings.warn(msg, category=FutureWarning)\n",
      "/usr/local/lib/python3.7/dist-packages/sklearn/utils/deprecation.py:87: FutureWarning: Function safe_indexing is deprecated; safe_indexing is deprecated in version 0.22 and will be removed in version 0.24.\n",
      "  warnings.warn(msg, category=FutureWarning)\n",
      "/usr/local/lib/python3.7/dist-packages/sklearn/utils/deprecation.py:87: FutureWarning: Function safe_indexing is deprecated; safe_indexing is deprecated in version 0.22 and will be removed in version 0.24.\n",
      "  warnings.warn(msg, category=FutureWarning)\n",
      "/usr/local/lib/python3.7/dist-packages/sklearn/utils/deprecation.py:87: FutureWarning: Function safe_indexing is deprecated; safe_indexing is deprecated in version 0.22 and will be removed in version 0.24.\n",
      "  warnings.warn(msg, category=FutureWarning)\n",
      "/usr/local/lib/python3.7/dist-packages/sklearn/utils/deprecation.py:87: FutureWarning: Function safe_indexing is deprecated; safe_indexing is deprecated in version 0.22 and will be removed in version 0.24.\n",
      "  warnings.warn(msg, category=FutureWarning)\n",
      "/usr/local/lib/python3.7/dist-packages/sklearn/utils/deprecation.py:87: FutureWarning: Function safe_indexing is deprecated; safe_indexing is deprecated in version 0.22 and will be removed in version 0.24.\n",
      "  warnings.warn(msg, category=FutureWarning)\n",
      "/usr/local/lib/python3.7/dist-packages/sklearn/utils/deprecation.py:87: FutureWarning: Function safe_indexing is deprecated; safe_indexing is deprecated in version 0.22 and will be removed in version 0.24.\n",
      "  warnings.warn(msg, category=FutureWarning)\n",
      "/usr/local/lib/python3.7/dist-packages/sklearn/utils/deprecation.py:87: FutureWarning: Function safe_indexing is deprecated; safe_indexing is deprecated in version 0.22 and will be removed in version 0.24.\n",
      "  warnings.warn(msg, category=FutureWarning)\n",
      "/usr/local/lib/python3.7/dist-packages/sklearn/utils/deprecation.py:87: FutureWarning: Function safe_indexing is deprecated; safe_indexing is deprecated in version 0.22 and will be removed in version 0.24.\n",
      "  warnings.warn(msg, category=FutureWarning)\n",
      "/usr/local/lib/python3.7/dist-packages/sklearn/utils/deprecation.py:87: FutureWarning: Function safe_indexing is deprecated; safe_indexing is deprecated in version 0.22 and will be removed in version 0.24.\n",
      "  warnings.warn(msg, category=FutureWarning)\n",
      "/usr/local/lib/python3.7/dist-packages/sklearn/utils/deprecation.py:87: FutureWarning: Function safe_indexing is deprecated; safe_indexing is deprecated in version 0.22 and will be removed in version 0.24.\n",
      "  warnings.warn(msg, category=FutureWarning)\n",
      "/usr/local/lib/python3.7/dist-packages/sklearn/utils/deprecation.py:87: FutureWarning: Function safe_indexing is deprecated; safe_indexing is deprecated in version 0.22 and will be removed in version 0.24.\n",
      "  warnings.warn(msg, category=FutureWarning)\n",
      "/usr/local/lib/python3.7/dist-packages/sklearn/utils/deprecation.py:87: FutureWarning: Function safe_indexing is deprecated; safe_indexing is deprecated in version 0.22 and will be removed in version 0.24.\n",
      "  warnings.warn(msg, category=FutureWarning)\n"
     ]
    },
    {
     "name": "stdout",
     "output_type": "stream",
     "text": [
      "5  ---------------------------------------------\n"
     ]
    },
    {
     "name": "stderr",
     "output_type": "stream",
     "text": [
      "/usr/local/lib/python3.7/dist-packages/sklearn/utils/deprecation.py:87: FutureWarning: Function safe_indexing is deprecated; safe_indexing is deprecated in version 0.22 and will be removed in version 0.24.\n",
      "  warnings.warn(msg, category=FutureWarning)\n",
      "/usr/local/lib/python3.7/dist-packages/sklearn/utils/deprecation.py:87: FutureWarning: Function safe_indexing is deprecated; safe_indexing is deprecated in version 0.22 and will be removed in version 0.24.\n",
      "  warnings.warn(msg, category=FutureWarning)\n",
      "/usr/local/lib/python3.7/dist-packages/sklearn/utils/deprecation.py:87: FutureWarning: Function safe_indexing is deprecated; safe_indexing is deprecated in version 0.22 and will be removed in version 0.24.\n",
      "  warnings.warn(msg, category=FutureWarning)\n",
      "/usr/local/lib/python3.7/dist-packages/sklearn/utils/deprecation.py:87: FutureWarning: Function safe_indexing is deprecated; safe_indexing is deprecated in version 0.22 and will be removed in version 0.24.\n",
      "  warnings.warn(msg, category=FutureWarning)\n",
      "/usr/local/lib/python3.7/dist-packages/sklearn/utils/deprecation.py:87: FutureWarning: Function safe_indexing is deprecated; safe_indexing is deprecated in version 0.22 and will be removed in version 0.24.\n",
      "  warnings.warn(msg, category=FutureWarning)\n",
      "/usr/local/lib/python3.7/dist-packages/sklearn/utils/deprecation.py:87: FutureWarning: Function safe_indexing is deprecated; safe_indexing is deprecated in version 0.22 and will be removed in version 0.24.\n",
      "  warnings.warn(msg, category=FutureWarning)\n",
      "/usr/local/lib/python3.7/dist-packages/sklearn/utils/deprecation.py:87: FutureWarning: Function safe_indexing is deprecated; safe_indexing is deprecated in version 0.22 and will be removed in version 0.24.\n",
      "  warnings.warn(msg, category=FutureWarning)\n",
      "/usr/local/lib/python3.7/dist-packages/sklearn/utils/deprecation.py:87: FutureWarning: Function safe_indexing is deprecated; safe_indexing is deprecated in version 0.22 and will be removed in version 0.24.\n",
      "  warnings.warn(msg, category=FutureWarning)\n",
      "/usr/local/lib/python3.7/dist-packages/sklearn/utils/deprecation.py:87: FutureWarning: Function safe_indexing is deprecated; safe_indexing is deprecated in version 0.22 and will be removed in version 0.24.\n",
      "  warnings.warn(msg, category=FutureWarning)\n",
      "/usr/local/lib/python3.7/dist-packages/sklearn/utils/deprecation.py:87: FutureWarning: Function safe_indexing is deprecated; safe_indexing is deprecated in version 0.22 and will be removed in version 0.24.\n",
      "  warnings.warn(msg, category=FutureWarning)\n",
      "/usr/local/lib/python3.7/dist-packages/sklearn/utils/deprecation.py:87: FutureWarning: Function safe_indexing is deprecated; safe_indexing is deprecated in version 0.22 and will be removed in version 0.24.\n",
      "  warnings.warn(msg, category=FutureWarning)\n",
      "/usr/local/lib/python3.7/dist-packages/sklearn/utils/deprecation.py:87: FutureWarning: Function safe_indexing is deprecated; safe_indexing is deprecated in version 0.22 and will be removed in version 0.24.\n",
      "  warnings.warn(msg, category=FutureWarning)\n",
      "/usr/local/lib/python3.7/dist-packages/sklearn/utils/deprecation.py:87: FutureWarning: Function safe_indexing is deprecated; safe_indexing is deprecated in version 0.22 and will be removed in version 0.24.\n",
      "  warnings.warn(msg, category=FutureWarning)\n",
      "/usr/local/lib/python3.7/dist-packages/sklearn/utils/deprecation.py:87: FutureWarning: Function safe_indexing is deprecated; safe_indexing is deprecated in version 0.22 and will be removed in version 0.24.\n",
      "  warnings.warn(msg, category=FutureWarning)\n",
      "/usr/local/lib/python3.7/dist-packages/sklearn/utils/deprecation.py:87: FutureWarning: Function safe_indexing is deprecated; safe_indexing is deprecated in version 0.22 and will be removed in version 0.24.\n",
      "  warnings.warn(msg, category=FutureWarning)\n",
      "/usr/local/lib/python3.7/dist-packages/sklearn/utils/deprecation.py:87: FutureWarning: Function safe_indexing is deprecated; safe_indexing is deprecated in version 0.22 and will be removed in version 0.24.\n",
      "  warnings.warn(msg, category=FutureWarning)\n",
      "/usr/local/lib/python3.7/dist-packages/sklearn/utils/deprecation.py:87: FutureWarning: Function safe_indexing is deprecated; safe_indexing is deprecated in version 0.22 and will be removed in version 0.24.\n",
      "  warnings.warn(msg, category=FutureWarning)\n"
     ]
    },
    {
     "name": "stdout",
     "output_type": "stream",
     "text": [
      "10  ---------------------------------------------\n"
     ]
    },
    {
     "name": "stderr",
     "output_type": "stream",
     "text": [
      "/usr/local/lib/python3.7/dist-packages/sklearn/utils/deprecation.py:87: FutureWarning: Function safe_indexing is deprecated; safe_indexing is deprecated in version 0.22 and will be removed in version 0.24.\n",
      "  warnings.warn(msg, category=FutureWarning)\n",
      "/usr/local/lib/python3.7/dist-packages/sklearn/utils/deprecation.py:87: FutureWarning: Function safe_indexing is deprecated; safe_indexing is deprecated in version 0.22 and will be removed in version 0.24.\n",
      "  warnings.warn(msg, category=FutureWarning)\n",
      "/usr/local/lib/python3.7/dist-packages/sklearn/utils/deprecation.py:87: FutureWarning: Function safe_indexing is deprecated; safe_indexing is deprecated in version 0.22 and will be removed in version 0.24.\n",
      "  warnings.warn(msg, category=FutureWarning)\n",
      "/usr/local/lib/python3.7/dist-packages/sklearn/utils/deprecation.py:87: FutureWarning: Function safe_indexing is deprecated; safe_indexing is deprecated in version 0.22 and will be removed in version 0.24.\n",
      "  warnings.warn(msg, category=FutureWarning)\n",
      "/usr/local/lib/python3.7/dist-packages/sklearn/utils/deprecation.py:87: FutureWarning: Function safe_indexing is deprecated; safe_indexing is deprecated in version 0.22 and will be removed in version 0.24.\n",
      "  warnings.warn(msg, category=FutureWarning)\n",
      "/usr/local/lib/python3.7/dist-packages/sklearn/utils/deprecation.py:87: FutureWarning: Function safe_indexing is deprecated; safe_indexing is deprecated in version 0.22 and will be removed in version 0.24.\n",
      "  warnings.warn(msg, category=FutureWarning)\n",
      "/usr/local/lib/python3.7/dist-packages/sklearn/utils/deprecation.py:87: FutureWarning: Function safe_indexing is deprecated; safe_indexing is deprecated in version 0.22 and will be removed in version 0.24.\n",
      "  warnings.warn(msg, category=FutureWarning)\n",
      "/usr/local/lib/python3.7/dist-packages/sklearn/utils/deprecation.py:87: FutureWarning: Function safe_indexing is deprecated; safe_indexing is deprecated in version 0.22 and will be removed in version 0.24.\n",
      "  warnings.warn(msg, category=FutureWarning)\n",
      "/usr/local/lib/python3.7/dist-packages/sklearn/utils/deprecation.py:87: FutureWarning: Function safe_indexing is deprecated; safe_indexing is deprecated in version 0.22 and will be removed in version 0.24.\n",
      "  warnings.warn(msg, category=FutureWarning)\n",
      "/usr/local/lib/python3.7/dist-packages/sklearn/utils/deprecation.py:87: FutureWarning: Function safe_indexing is deprecated; safe_indexing is deprecated in version 0.22 and will be removed in version 0.24.\n",
      "  warnings.warn(msg, category=FutureWarning)\n",
      "/usr/local/lib/python3.7/dist-packages/sklearn/utils/deprecation.py:87: FutureWarning: Function safe_indexing is deprecated; safe_indexing is deprecated in version 0.22 and will be removed in version 0.24.\n",
      "  warnings.warn(msg, category=FutureWarning)\n",
      "/usr/local/lib/python3.7/dist-packages/sklearn/utils/deprecation.py:87: FutureWarning: Function safe_indexing is deprecated; safe_indexing is deprecated in version 0.22 and will be removed in version 0.24.\n",
      "  warnings.warn(msg, category=FutureWarning)\n",
      "/usr/local/lib/python3.7/dist-packages/sklearn/utils/deprecation.py:87: FutureWarning: Function safe_indexing is deprecated; safe_indexing is deprecated in version 0.22 and will be removed in version 0.24.\n",
      "  warnings.warn(msg, category=FutureWarning)\n",
      "/usr/local/lib/python3.7/dist-packages/sklearn/utils/deprecation.py:87: FutureWarning: Function safe_indexing is deprecated; safe_indexing is deprecated in version 0.22 and will be removed in version 0.24.\n",
      "  warnings.warn(msg, category=FutureWarning)\n",
      "/usr/local/lib/python3.7/dist-packages/sklearn/utils/deprecation.py:87: FutureWarning: Function safe_indexing is deprecated; safe_indexing is deprecated in version 0.22 and will be removed in version 0.24.\n",
      "  warnings.warn(msg, category=FutureWarning)\n",
      "/usr/local/lib/python3.7/dist-packages/sklearn/utils/deprecation.py:87: FutureWarning: Function safe_indexing is deprecated; safe_indexing is deprecated in version 0.22 and will be removed in version 0.24.\n",
      "  warnings.warn(msg, category=FutureWarning)\n",
      "/usr/local/lib/python3.7/dist-packages/sklearn/utils/deprecation.py:87: FutureWarning: Function safe_indexing is deprecated; safe_indexing is deprecated in version 0.22 and will be removed in version 0.24.\n",
      "  warnings.warn(msg, category=FutureWarning)\n"
     ]
    },
    {
     "name": "stdout",
     "output_type": "stream",
     "text": [
      "13  ---------------------------------------------\n"
     ]
    },
    {
     "name": "stderr",
     "output_type": "stream",
     "text": [
      "/usr/local/lib/python3.7/dist-packages/sklearn/utils/deprecation.py:87: FutureWarning: Function safe_indexing is deprecated; safe_indexing is deprecated in version 0.22 and will be removed in version 0.24.\n",
      "  warnings.warn(msg, category=FutureWarning)\n",
      "/usr/local/lib/python3.7/dist-packages/sklearn/utils/deprecation.py:87: FutureWarning: Function safe_indexing is deprecated; safe_indexing is deprecated in version 0.22 and will be removed in version 0.24.\n",
      "  warnings.warn(msg, category=FutureWarning)\n",
      "/usr/local/lib/python3.7/dist-packages/sklearn/utils/deprecation.py:87: FutureWarning: Function safe_indexing is deprecated; safe_indexing is deprecated in version 0.22 and will be removed in version 0.24.\n",
      "  warnings.warn(msg, category=FutureWarning)\n",
      "/usr/local/lib/python3.7/dist-packages/sklearn/utils/deprecation.py:87: FutureWarning: Function safe_indexing is deprecated; safe_indexing is deprecated in version 0.22 and will be removed in version 0.24.\n",
      "  warnings.warn(msg, category=FutureWarning)\n",
      "/usr/local/lib/python3.7/dist-packages/sklearn/utils/deprecation.py:87: FutureWarning: Function safe_indexing is deprecated; safe_indexing is deprecated in version 0.22 and will be removed in version 0.24.\n",
      "  warnings.warn(msg, category=FutureWarning)\n",
      "/usr/local/lib/python3.7/dist-packages/sklearn/utils/deprecation.py:87: FutureWarning: Function safe_indexing is deprecated; safe_indexing is deprecated in version 0.22 and will be removed in version 0.24.\n",
      "  warnings.warn(msg, category=FutureWarning)\n",
      "/usr/local/lib/python3.7/dist-packages/sklearn/utils/deprecation.py:87: FutureWarning: Function safe_indexing is deprecated; safe_indexing is deprecated in version 0.22 and will be removed in version 0.24.\n",
      "  warnings.warn(msg, category=FutureWarning)\n",
      "/usr/local/lib/python3.7/dist-packages/sklearn/utils/deprecation.py:87: FutureWarning: Function safe_indexing is deprecated; safe_indexing is deprecated in version 0.22 and will be removed in version 0.24.\n",
      "  warnings.warn(msg, category=FutureWarning)\n",
      "/usr/local/lib/python3.7/dist-packages/sklearn/utils/deprecation.py:87: FutureWarning: Function safe_indexing is deprecated; safe_indexing is deprecated in version 0.22 and will be removed in version 0.24.\n",
      "  warnings.warn(msg, category=FutureWarning)\n",
      "/usr/local/lib/python3.7/dist-packages/sklearn/utils/deprecation.py:87: FutureWarning: Function safe_indexing is deprecated; safe_indexing is deprecated in version 0.22 and will be removed in version 0.24.\n",
      "  warnings.warn(msg, category=FutureWarning)\n",
      "/usr/local/lib/python3.7/dist-packages/sklearn/utils/deprecation.py:87: FutureWarning: Function safe_indexing is deprecated; safe_indexing is deprecated in version 0.22 and will be removed in version 0.24.\n",
      "  warnings.warn(msg, category=FutureWarning)\n",
      "/usr/local/lib/python3.7/dist-packages/sklearn/utils/deprecation.py:87: FutureWarning: Function safe_indexing is deprecated; safe_indexing is deprecated in version 0.22 and will be removed in version 0.24.\n",
      "  warnings.warn(msg, category=FutureWarning)\n",
      "/usr/local/lib/python3.7/dist-packages/sklearn/utils/deprecation.py:87: FutureWarning: Function safe_indexing is deprecated; safe_indexing is deprecated in version 0.22 and will be removed in version 0.24.\n",
      "  warnings.warn(msg, category=FutureWarning)\n",
      "/usr/local/lib/python3.7/dist-packages/sklearn/utils/deprecation.py:87: FutureWarning: Function safe_indexing is deprecated; safe_indexing is deprecated in version 0.22 and will be removed in version 0.24.\n",
      "  warnings.warn(msg, category=FutureWarning)\n",
      "/usr/local/lib/python3.7/dist-packages/sklearn/utils/deprecation.py:87: FutureWarning: Function safe_indexing is deprecated; safe_indexing is deprecated in version 0.22 and will be removed in version 0.24.\n",
      "  warnings.warn(msg, category=FutureWarning)\n",
      "/usr/local/lib/python3.7/dist-packages/sklearn/utils/deprecation.py:87: FutureWarning: Function safe_indexing is deprecated; safe_indexing is deprecated in version 0.22 and will be removed in version 0.24.\n",
      "  warnings.warn(msg, category=FutureWarning)\n",
      "/usr/local/lib/python3.7/dist-packages/sklearn/utils/deprecation.py:87: FutureWarning: Function safe_indexing is deprecated; safe_indexing is deprecated in version 0.22 and will be removed in version 0.24.\n",
      "  warnings.warn(msg, category=FutureWarning)\n"
     ]
    },
    {
     "name": "stdout",
     "output_type": "stream",
     "text": [
      "7  ---------------------------------------------\n"
     ]
    },
    {
     "name": "stderr",
     "output_type": "stream",
     "text": [
      "/usr/local/lib/python3.7/dist-packages/sklearn/utils/deprecation.py:87: FutureWarning: Function safe_indexing is deprecated; safe_indexing is deprecated in version 0.22 and will be removed in version 0.24.\n",
      "  warnings.warn(msg, category=FutureWarning)\n",
      "/usr/local/lib/python3.7/dist-packages/sklearn/utils/deprecation.py:87: FutureWarning: Function safe_indexing is deprecated; safe_indexing is deprecated in version 0.22 and will be removed in version 0.24.\n",
      "  warnings.warn(msg, category=FutureWarning)\n",
      "/usr/local/lib/python3.7/dist-packages/sklearn/utils/deprecation.py:87: FutureWarning: Function safe_indexing is deprecated; safe_indexing is deprecated in version 0.22 and will be removed in version 0.24.\n",
      "  warnings.warn(msg, category=FutureWarning)\n",
      "/usr/local/lib/python3.7/dist-packages/sklearn/utils/deprecation.py:87: FutureWarning: Function safe_indexing is deprecated; safe_indexing is deprecated in version 0.22 and will be removed in version 0.24.\n",
      "  warnings.warn(msg, category=FutureWarning)\n",
      "/usr/local/lib/python3.7/dist-packages/sklearn/utils/deprecation.py:87: FutureWarning: Function safe_indexing is deprecated; safe_indexing is deprecated in version 0.22 and will be removed in version 0.24.\n",
      "  warnings.warn(msg, category=FutureWarning)\n",
      "/usr/local/lib/python3.7/dist-packages/sklearn/utils/deprecation.py:87: FutureWarning: Function safe_indexing is deprecated; safe_indexing is deprecated in version 0.22 and will be removed in version 0.24.\n",
      "  warnings.warn(msg, category=FutureWarning)\n",
      "/usr/local/lib/python3.7/dist-packages/sklearn/utils/deprecation.py:87: FutureWarning: Function safe_indexing is deprecated; safe_indexing is deprecated in version 0.22 and will be removed in version 0.24.\n",
      "  warnings.warn(msg, category=FutureWarning)\n",
      "/usr/local/lib/python3.7/dist-packages/sklearn/utils/deprecation.py:87: FutureWarning: Function safe_indexing is deprecated; safe_indexing is deprecated in version 0.22 and will be removed in version 0.24.\n",
      "  warnings.warn(msg, category=FutureWarning)\n",
      "/usr/local/lib/python3.7/dist-packages/sklearn/utils/deprecation.py:87: FutureWarning: Function safe_indexing is deprecated; safe_indexing is deprecated in version 0.22 and will be removed in version 0.24.\n",
      "  warnings.warn(msg, category=FutureWarning)\n",
      "/usr/local/lib/python3.7/dist-packages/sklearn/utils/deprecation.py:87: FutureWarning: Function safe_indexing is deprecated; safe_indexing is deprecated in version 0.22 and will be removed in version 0.24.\n",
      "  warnings.warn(msg, category=FutureWarning)\n",
      "/usr/local/lib/python3.7/dist-packages/sklearn/utils/deprecation.py:87: FutureWarning: Function safe_indexing is deprecated; safe_indexing is deprecated in version 0.22 and will be removed in version 0.24.\n",
      "  warnings.warn(msg, category=FutureWarning)\n",
      "/usr/local/lib/python3.7/dist-packages/sklearn/utils/deprecation.py:87: FutureWarning: Function safe_indexing is deprecated; safe_indexing is deprecated in version 0.22 and will be removed in version 0.24.\n",
      "  warnings.warn(msg, category=FutureWarning)\n",
      "/usr/local/lib/python3.7/dist-packages/sklearn/utils/deprecation.py:87: FutureWarning: Function safe_indexing is deprecated; safe_indexing is deprecated in version 0.22 and will be removed in version 0.24.\n",
      "  warnings.warn(msg, category=FutureWarning)\n",
      "/usr/local/lib/python3.7/dist-packages/sklearn/utils/deprecation.py:87: FutureWarning: Function safe_indexing is deprecated; safe_indexing is deprecated in version 0.22 and will be removed in version 0.24.\n",
      "  warnings.warn(msg, category=FutureWarning)\n",
      "/usr/local/lib/python3.7/dist-packages/sklearn/utils/deprecation.py:87: FutureWarning: Function safe_indexing is deprecated; safe_indexing is deprecated in version 0.22 and will be removed in version 0.24.\n",
      "  warnings.warn(msg, category=FutureWarning)\n",
      "/usr/local/lib/python3.7/dist-packages/sklearn/utils/deprecation.py:87: FutureWarning: Function safe_indexing is deprecated; safe_indexing is deprecated in version 0.22 and will be removed in version 0.24.\n",
      "  warnings.warn(msg, category=FutureWarning)\n"
     ]
    }
   ],
   "source": [
    "low = [2,3,5,10,13,7]\n",
    "for i in low:\n",
    "  print (i , ' ---------------------------------------------')\n",
    "  smote = SMOTEENN(sampling_strategy = {i:1400})  \n",
    "  X_train4, y_train4 = smote.fit_sample(X_train4, y_train4)"
   ]
  },
  {
   "cell_type": "code",
   "execution_count": null,
   "metadata": {
    "colab": {
     "base_uri": "https://localhost:8080/"
    },
    "executionInfo": {
     "elapsed": 268,
     "status": "ok",
     "timestamp": 1630468232069,
     "user": {
      "displayName": "code ai",
      "photoUrl": "",
      "userId": "17345359434679870937"
     },
     "user_tz": -180
    },
    "id": "IItoYcqkM0Lh",
    "outputId": "ce9625a6-d6b3-4de7-ec88-ce6f674120cc"
   },
   "outputs": [
    {
     "data": {
      "text/plain": [
       "0     133260\n",
       "6       5465\n",
       "4       5419\n",
       "8       4502\n",
       "1       2469\n",
       "14      1905\n",
       "13      1400\n",
       "10      1400\n",
       "5       1400\n",
       "7       1395\n",
       "3       1394\n",
       "11      1036\n",
       "2        988\n",
       "9        661\n",
       "12        61\n",
       "dtype: int64"
      ]
     },
     "execution_count": 151,
     "metadata": {},
     "output_type": "execute_result"
    }
   ],
   "source": [
    "pd.Series(y_train4).value_counts()"
   ]
  },
  {
   "cell_type": "code",
   "execution_count": null,
   "metadata": {
    "colab": {
     "base_uri": "https://localhost:8080/"
    },
    "executionInfo": {
     "elapsed": 952941,
     "status": "ok",
     "timestamp": 1630473491902,
     "user": {
      "displayName": "code ai",
      "photoUrl": "",
      "userId": "17345359434679870937"
     },
     "user_tz": -180
    },
    "id": "Ojc0V8LjuYic",
    "outputId": "dbbe00cd-4db8-4416-cd58-b14a49ec2856"
   },
   "outputs": [
    {
     "name": "stdout",
     "output_type": "stream",
     "text": [
      "12  ---------------------------------------------\n"
     ]
    },
    {
     "name": "stderr",
     "output_type": "stream",
     "text": [
      "/usr/local/lib/python3.7/dist-packages/sklearn/utils/deprecation.py:87: FutureWarning: Function safe_indexing is deprecated; safe_indexing is deprecated in version 0.22 and will be removed in version 0.24.\n",
      "  warnings.warn(msg, category=FutureWarning)\n",
      "/usr/local/lib/python3.7/dist-packages/sklearn/utils/deprecation.py:87: FutureWarning: Function safe_indexing is deprecated; safe_indexing is deprecated in version 0.22 and will be removed in version 0.24.\n",
      "  warnings.warn(msg, category=FutureWarning)\n",
      "/usr/local/lib/python3.7/dist-packages/sklearn/utils/deprecation.py:87: FutureWarning: Function safe_indexing is deprecated; safe_indexing is deprecated in version 0.22 and will be removed in version 0.24.\n",
      "  warnings.warn(msg, category=FutureWarning)\n",
      "/usr/local/lib/python3.7/dist-packages/sklearn/utils/deprecation.py:87: FutureWarning: Function safe_indexing is deprecated; safe_indexing is deprecated in version 0.22 and will be removed in version 0.24.\n",
      "  warnings.warn(msg, category=FutureWarning)\n",
      "/usr/local/lib/python3.7/dist-packages/sklearn/utils/deprecation.py:87: FutureWarning: Function safe_indexing is deprecated; safe_indexing is deprecated in version 0.22 and will be removed in version 0.24.\n",
      "  warnings.warn(msg, category=FutureWarning)\n",
      "/usr/local/lib/python3.7/dist-packages/sklearn/utils/deprecation.py:87: FutureWarning: Function safe_indexing is deprecated; safe_indexing is deprecated in version 0.22 and will be removed in version 0.24.\n",
      "  warnings.warn(msg, category=FutureWarning)\n",
      "/usr/local/lib/python3.7/dist-packages/sklearn/utils/deprecation.py:87: FutureWarning: Function safe_indexing is deprecated; safe_indexing is deprecated in version 0.22 and will be removed in version 0.24.\n",
      "  warnings.warn(msg, category=FutureWarning)\n",
      "/usr/local/lib/python3.7/dist-packages/sklearn/utils/deprecation.py:87: FutureWarning: Function safe_indexing is deprecated; safe_indexing is deprecated in version 0.22 and will be removed in version 0.24.\n",
      "  warnings.warn(msg, category=FutureWarning)\n",
      "/usr/local/lib/python3.7/dist-packages/sklearn/utils/deprecation.py:87: FutureWarning: Function safe_indexing is deprecated; safe_indexing is deprecated in version 0.22 and will be removed in version 0.24.\n",
      "  warnings.warn(msg, category=FutureWarning)\n",
      "/usr/local/lib/python3.7/dist-packages/sklearn/utils/deprecation.py:87: FutureWarning: Function safe_indexing is deprecated; safe_indexing is deprecated in version 0.22 and will be removed in version 0.24.\n",
      "  warnings.warn(msg, category=FutureWarning)\n",
      "/usr/local/lib/python3.7/dist-packages/sklearn/utils/deprecation.py:87: FutureWarning: Function safe_indexing is deprecated; safe_indexing is deprecated in version 0.22 and will be removed in version 0.24.\n",
      "  warnings.warn(msg, category=FutureWarning)\n",
      "/usr/local/lib/python3.7/dist-packages/sklearn/utils/deprecation.py:87: FutureWarning: Function safe_indexing is deprecated; safe_indexing is deprecated in version 0.22 and will be removed in version 0.24.\n",
      "  warnings.warn(msg, category=FutureWarning)\n",
      "/usr/local/lib/python3.7/dist-packages/sklearn/utils/deprecation.py:87: FutureWarning: Function safe_indexing is deprecated; safe_indexing is deprecated in version 0.22 and will be removed in version 0.24.\n",
      "  warnings.warn(msg, category=FutureWarning)\n",
      "/usr/local/lib/python3.7/dist-packages/sklearn/utils/deprecation.py:87: FutureWarning: Function safe_indexing is deprecated; safe_indexing is deprecated in version 0.22 and will be removed in version 0.24.\n",
      "  warnings.warn(msg, category=FutureWarning)\n",
      "/usr/local/lib/python3.7/dist-packages/sklearn/utils/deprecation.py:87: FutureWarning: Function safe_indexing is deprecated; safe_indexing is deprecated in version 0.22 and will be removed in version 0.24.\n",
      "  warnings.warn(msg, category=FutureWarning)\n",
      "/usr/local/lib/python3.7/dist-packages/sklearn/utils/deprecation.py:87: FutureWarning: Function safe_indexing is deprecated; safe_indexing is deprecated in version 0.22 and will be removed in version 0.24.\n",
      "  warnings.warn(msg, category=FutureWarning)\n",
      "/usr/local/lib/python3.7/dist-packages/sklearn/utils/deprecation.py:87: FutureWarning: Function safe_indexing is deprecated; safe_indexing is deprecated in version 0.22 and will be removed in version 0.24.\n",
      "  warnings.warn(msg, category=FutureWarning)\n",
      "/usr/local/lib/python3.7/dist-packages/sklearn/utils/deprecation.py:87: FutureWarning: Function safe_indexing is deprecated; safe_indexing is deprecated in version 0.22 and will be removed in version 0.24.\n",
      "  warnings.warn(msg, category=FutureWarning)\n"
     ]
    },
    {
     "name": "stdout",
     "output_type": "stream",
     "text": [
      "9  ---------------------------------------------\n"
     ]
    },
    {
     "name": "stderr",
     "output_type": "stream",
     "text": [
      "/usr/local/lib/python3.7/dist-packages/sklearn/utils/deprecation.py:87: FutureWarning: Function safe_indexing is deprecated; safe_indexing is deprecated in version 0.22 and will be removed in version 0.24.\n",
      "  warnings.warn(msg, category=FutureWarning)\n",
      "/usr/local/lib/python3.7/dist-packages/sklearn/utils/deprecation.py:87: FutureWarning: Function safe_indexing is deprecated; safe_indexing is deprecated in version 0.22 and will be removed in version 0.24.\n",
      "  warnings.warn(msg, category=FutureWarning)\n",
      "/usr/local/lib/python3.7/dist-packages/sklearn/utils/deprecation.py:87: FutureWarning: Function safe_indexing is deprecated; safe_indexing is deprecated in version 0.22 and will be removed in version 0.24.\n",
      "  warnings.warn(msg, category=FutureWarning)\n",
      "/usr/local/lib/python3.7/dist-packages/sklearn/utils/deprecation.py:87: FutureWarning: Function safe_indexing is deprecated; safe_indexing is deprecated in version 0.22 and will be removed in version 0.24.\n",
      "  warnings.warn(msg, category=FutureWarning)\n",
      "/usr/local/lib/python3.7/dist-packages/sklearn/utils/deprecation.py:87: FutureWarning: Function safe_indexing is deprecated; safe_indexing is deprecated in version 0.22 and will be removed in version 0.24.\n",
      "  warnings.warn(msg, category=FutureWarning)\n",
      "/usr/local/lib/python3.7/dist-packages/sklearn/utils/deprecation.py:87: FutureWarning: Function safe_indexing is deprecated; safe_indexing is deprecated in version 0.22 and will be removed in version 0.24.\n",
      "  warnings.warn(msg, category=FutureWarning)\n",
      "/usr/local/lib/python3.7/dist-packages/sklearn/utils/deprecation.py:87: FutureWarning: Function safe_indexing is deprecated; safe_indexing is deprecated in version 0.22 and will be removed in version 0.24.\n",
      "  warnings.warn(msg, category=FutureWarning)\n",
      "/usr/local/lib/python3.7/dist-packages/sklearn/utils/deprecation.py:87: FutureWarning: Function safe_indexing is deprecated; safe_indexing is deprecated in version 0.22 and will be removed in version 0.24.\n",
      "  warnings.warn(msg, category=FutureWarning)\n",
      "/usr/local/lib/python3.7/dist-packages/sklearn/utils/deprecation.py:87: FutureWarning: Function safe_indexing is deprecated; safe_indexing is deprecated in version 0.22 and will be removed in version 0.24.\n",
      "  warnings.warn(msg, category=FutureWarning)\n",
      "/usr/local/lib/python3.7/dist-packages/sklearn/utils/deprecation.py:87: FutureWarning: Function safe_indexing is deprecated; safe_indexing is deprecated in version 0.22 and will be removed in version 0.24.\n",
      "  warnings.warn(msg, category=FutureWarning)\n",
      "/usr/local/lib/python3.7/dist-packages/sklearn/utils/deprecation.py:87: FutureWarning: Function safe_indexing is deprecated; safe_indexing is deprecated in version 0.22 and will be removed in version 0.24.\n",
      "  warnings.warn(msg, category=FutureWarning)\n",
      "/usr/local/lib/python3.7/dist-packages/sklearn/utils/deprecation.py:87: FutureWarning: Function safe_indexing is deprecated; safe_indexing is deprecated in version 0.22 and will be removed in version 0.24.\n",
      "  warnings.warn(msg, category=FutureWarning)\n",
      "/usr/local/lib/python3.7/dist-packages/sklearn/utils/deprecation.py:87: FutureWarning: Function safe_indexing is deprecated; safe_indexing is deprecated in version 0.22 and will be removed in version 0.24.\n",
      "  warnings.warn(msg, category=FutureWarning)\n",
      "/usr/local/lib/python3.7/dist-packages/sklearn/utils/deprecation.py:87: FutureWarning: Function safe_indexing is deprecated; safe_indexing is deprecated in version 0.22 and will be removed in version 0.24.\n",
      "  warnings.warn(msg, category=FutureWarning)\n",
      "/usr/local/lib/python3.7/dist-packages/sklearn/utils/deprecation.py:87: FutureWarning: Function safe_indexing is deprecated; safe_indexing is deprecated in version 0.22 and will be removed in version 0.24.\n",
      "  warnings.warn(msg, category=FutureWarning)\n",
      "/usr/local/lib/python3.7/dist-packages/sklearn/utils/deprecation.py:87: FutureWarning: Function safe_indexing is deprecated; safe_indexing is deprecated in version 0.22 and will be removed in version 0.24.\n",
      "  warnings.warn(msg, category=FutureWarning)\n",
      "/usr/local/lib/python3.7/dist-packages/sklearn/utils/deprecation.py:87: FutureWarning: Function safe_indexing is deprecated; safe_indexing is deprecated in version 0.22 and will be removed in version 0.24.\n",
      "  warnings.warn(msg, category=FutureWarning)\n"
     ]
    },
    {
     "name": "stdout",
     "output_type": "stream",
     "text": [
      "2  ---------------------------------------------\n"
     ]
    },
    {
     "name": "stderr",
     "output_type": "stream",
     "text": [
      "/usr/local/lib/python3.7/dist-packages/sklearn/utils/deprecation.py:87: FutureWarning: Function safe_indexing is deprecated; safe_indexing is deprecated in version 0.22 and will be removed in version 0.24.\n",
      "  warnings.warn(msg, category=FutureWarning)\n",
      "/usr/local/lib/python3.7/dist-packages/sklearn/utils/deprecation.py:87: FutureWarning: Function safe_indexing is deprecated; safe_indexing is deprecated in version 0.22 and will be removed in version 0.24.\n",
      "  warnings.warn(msg, category=FutureWarning)\n",
      "/usr/local/lib/python3.7/dist-packages/sklearn/utils/deprecation.py:87: FutureWarning: Function safe_indexing is deprecated; safe_indexing is deprecated in version 0.22 and will be removed in version 0.24.\n",
      "  warnings.warn(msg, category=FutureWarning)\n",
      "/usr/local/lib/python3.7/dist-packages/sklearn/utils/deprecation.py:87: FutureWarning: Function safe_indexing is deprecated; safe_indexing is deprecated in version 0.22 and will be removed in version 0.24.\n",
      "  warnings.warn(msg, category=FutureWarning)\n",
      "/usr/local/lib/python3.7/dist-packages/sklearn/utils/deprecation.py:87: FutureWarning: Function safe_indexing is deprecated; safe_indexing is deprecated in version 0.22 and will be removed in version 0.24.\n",
      "  warnings.warn(msg, category=FutureWarning)\n",
      "/usr/local/lib/python3.7/dist-packages/sklearn/utils/deprecation.py:87: FutureWarning: Function safe_indexing is deprecated; safe_indexing is deprecated in version 0.22 and will be removed in version 0.24.\n",
      "  warnings.warn(msg, category=FutureWarning)\n",
      "/usr/local/lib/python3.7/dist-packages/sklearn/utils/deprecation.py:87: FutureWarning: Function safe_indexing is deprecated; safe_indexing is deprecated in version 0.22 and will be removed in version 0.24.\n",
      "  warnings.warn(msg, category=FutureWarning)\n",
      "/usr/local/lib/python3.7/dist-packages/sklearn/utils/deprecation.py:87: FutureWarning: Function safe_indexing is deprecated; safe_indexing is deprecated in version 0.22 and will be removed in version 0.24.\n",
      "  warnings.warn(msg, category=FutureWarning)\n",
      "/usr/local/lib/python3.7/dist-packages/sklearn/utils/deprecation.py:87: FutureWarning: Function safe_indexing is deprecated; safe_indexing is deprecated in version 0.22 and will be removed in version 0.24.\n",
      "  warnings.warn(msg, category=FutureWarning)\n",
      "/usr/local/lib/python3.7/dist-packages/sklearn/utils/deprecation.py:87: FutureWarning: Function safe_indexing is deprecated; safe_indexing is deprecated in version 0.22 and will be removed in version 0.24.\n",
      "  warnings.warn(msg, category=FutureWarning)\n",
      "/usr/local/lib/python3.7/dist-packages/sklearn/utils/deprecation.py:87: FutureWarning: Function safe_indexing is deprecated; safe_indexing is deprecated in version 0.22 and will be removed in version 0.24.\n",
      "  warnings.warn(msg, category=FutureWarning)\n",
      "/usr/local/lib/python3.7/dist-packages/sklearn/utils/deprecation.py:87: FutureWarning: Function safe_indexing is deprecated; safe_indexing is deprecated in version 0.22 and will be removed in version 0.24.\n",
      "  warnings.warn(msg, category=FutureWarning)\n",
      "/usr/local/lib/python3.7/dist-packages/sklearn/utils/deprecation.py:87: FutureWarning: Function safe_indexing is deprecated; safe_indexing is deprecated in version 0.22 and will be removed in version 0.24.\n",
      "  warnings.warn(msg, category=FutureWarning)\n",
      "/usr/local/lib/python3.7/dist-packages/sklearn/utils/deprecation.py:87: FutureWarning: Function safe_indexing is deprecated; safe_indexing is deprecated in version 0.22 and will be removed in version 0.24.\n",
      "  warnings.warn(msg, category=FutureWarning)\n",
      "/usr/local/lib/python3.7/dist-packages/sklearn/utils/deprecation.py:87: FutureWarning: Function safe_indexing is deprecated; safe_indexing is deprecated in version 0.22 and will be removed in version 0.24.\n",
      "  warnings.warn(msg, category=FutureWarning)\n",
      "/usr/local/lib/python3.7/dist-packages/sklearn/utils/deprecation.py:87: FutureWarning: Function safe_indexing is deprecated; safe_indexing is deprecated in version 0.22 and will be removed in version 0.24.\n",
      "  warnings.warn(msg, category=FutureWarning)\n"
     ]
    }
   ],
   "source": [
    "low = [12,9,2]\n",
    "for i in low:\n",
    "  print (i , ' ---------------------------------------------')\n",
    "  smote = SMOTEENN(sampling_strategy = {i:1400})  \n",
    "  X_train4, y_train4 = smote.fit_sample(X_train4, y_train4)"
   ]
  },
  {
   "cell_type": "code",
   "execution_count": null,
   "metadata": {
    "colab": {
     "base_uri": "https://localhost:8080/"
    },
    "executionInfo": {
     "elapsed": 270,
     "status": "ok",
     "timestamp": 1630473914769,
     "user": {
      "displayName": "code ai",
      "photoUrl": "",
      "userId": "17345359434679870937"
     },
     "user_tz": -180
    },
    "id": "47zUmjKGu5eG",
    "outputId": "e3366b85-3fc5-4c8d-9f23-b54f6951b990"
   },
   "outputs": [
    {
     "data": {
      "text/plain": [
       "0     133130\n",
       "4       5477\n",
       "6       5475\n",
       "8       4482\n",
       "1       2474\n",
       "14      1901\n",
       "9       1282\n",
       "2       1280\n",
       "7       1177\n",
       "10      1144\n",
       "5       1142\n",
       "13      1137\n",
       "3       1130\n",
       "11      1070\n",
       "12       322\n",
       "dtype: int64"
      ]
     },
     "execution_count": 197,
     "metadata": {},
     "output_type": "execute_result"
    }
   ],
   "source": [
    "pd.Series(y_train4).value_counts()"
   ]
  },
  {
   "cell_type": "code",
   "execution_count": null,
   "metadata": {
    "colab": {
     "base_uri": "https://localhost:8080/"
    },
    "executionInfo": {
     "elapsed": 211189,
     "status": "ok",
     "timestamp": 1630474165104,
     "user": {
      "displayName": "code ai",
      "photoUrl": "",
      "userId": "17345359434679870937"
     },
     "user_tz": -180
    },
    "id": "jEUzKRRY0cOR",
    "outputId": "84f653a2-324b-459e-f45c-57681a00450f"
   },
   "outputs": [
    {
     "name": "stdout",
     "output_type": "stream",
     "text": [
      "12  ---------------------------------------------\n"
     ]
    },
    {
     "name": "stderr",
     "output_type": "stream",
     "text": [
      "/usr/local/lib/python3.7/dist-packages/sklearn/utils/deprecation.py:87: FutureWarning: Function safe_indexing is deprecated; safe_indexing is deprecated in version 0.22 and will be removed in version 0.24.\n",
      "  warnings.warn(msg, category=FutureWarning)\n",
      "/usr/local/lib/python3.7/dist-packages/sklearn/utils/deprecation.py:87: FutureWarning: Function safe_indexing is deprecated; safe_indexing is deprecated in version 0.22 and will be removed in version 0.24.\n",
      "  warnings.warn(msg, category=FutureWarning)\n",
      "/usr/local/lib/python3.7/dist-packages/sklearn/utils/deprecation.py:87: FutureWarning: Function safe_indexing is deprecated; safe_indexing is deprecated in version 0.22 and will be removed in version 0.24.\n",
      "  warnings.warn(msg, category=FutureWarning)\n",
      "/usr/local/lib/python3.7/dist-packages/sklearn/utils/deprecation.py:87: FutureWarning: Function safe_indexing is deprecated; safe_indexing is deprecated in version 0.22 and will be removed in version 0.24.\n",
      "  warnings.warn(msg, category=FutureWarning)\n",
      "/usr/local/lib/python3.7/dist-packages/sklearn/utils/deprecation.py:87: FutureWarning: Function safe_indexing is deprecated; safe_indexing is deprecated in version 0.22 and will be removed in version 0.24.\n",
      "  warnings.warn(msg, category=FutureWarning)\n",
      "/usr/local/lib/python3.7/dist-packages/sklearn/utils/deprecation.py:87: FutureWarning: Function safe_indexing is deprecated; safe_indexing is deprecated in version 0.22 and will be removed in version 0.24.\n",
      "  warnings.warn(msg, category=FutureWarning)\n",
      "/usr/local/lib/python3.7/dist-packages/sklearn/utils/deprecation.py:87: FutureWarning: Function safe_indexing is deprecated; safe_indexing is deprecated in version 0.22 and will be removed in version 0.24.\n",
      "  warnings.warn(msg, category=FutureWarning)\n",
      "/usr/local/lib/python3.7/dist-packages/sklearn/utils/deprecation.py:87: FutureWarning: Function safe_indexing is deprecated; safe_indexing is deprecated in version 0.22 and will be removed in version 0.24.\n",
      "  warnings.warn(msg, category=FutureWarning)\n",
      "/usr/local/lib/python3.7/dist-packages/sklearn/utils/deprecation.py:87: FutureWarning: Function safe_indexing is deprecated; safe_indexing is deprecated in version 0.22 and will be removed in version 0.24.\n",
      "  warnings.warn(msg, category=FutureWarning)\n",
      "/usr/local/lib/python3.7/dist-packages/sklearn/utils/deprecation.py:87: FutureWarning: Function safe_indexing is deprecated; safe_indexing is deprecated in version 0.22 and will be removed in version 0.24.\n",
      "  warnings.warn(msg, category=FutureWarning)\n",
      "/usr/local/lib/python3.7/dist-packages/sklearn/utils/deprecation.py:87: FutureWarning: Function safe_indexing is deprecated; safe_indexing is deprecated in version 0.22 and will be removed in version 0.24.\n",
      "  warnings.warn(msg, category=FutureWarning)\n",
      "/usr/local/lib/python3.7/dist-packages/sklearn/utils/deprecation.py:87: FutureWarning: Function safe_indexing is deprecated; safe_indexing is deprecated in version 0.22 and will be removed in version 0.24.\n",
      "  warnings.warn(msg, category=FutureWarning)\n",
      "/usr/local/lib/python3.7/dist-packages/sklearn/utils/deprecation.py:87: FutureWarning: Function safe_indexing is deprecated; safe_indexing is deprecated in version 0.22 and will be removed in version 0.24.\n",
      "  warnings.warn(msg, category=FutureWarning)\n",
      "/usr/local/lib/python3.7/dist-packages/sklearn/utils/deprecation.py:87: FutureWarning: Function safe_indexing is deprecated; safe_indexing is deprecated in version 0.22 and will be removed in version 0.24.\n",
      "  warnings.warn(msg, category=FutureWarning)\n",
      "/usr/local/lib/python3.7/dist-packages/sklearn/utils/deprecation.py:87: FutureWarning: Function safe_indexing is deprecated; safe_indexing is deprecated in version 0.22 and will be removed in version 0.24.\n",
      "  warnings.warn(msg, category=FutureWarning)\n",
      "/usr/local/lib/python3.7/dist-packages/sklearn/utils/deprecation.py:87: FutureWarning: Function safe_indexing is deprecated; safe_indexing is deprecated in version 0.22 and will be removed in version 0.24.\n",
      "  warnings.warn(msg, category=FutureWarning)\n",
      "/usr/local/lib/python3.7/dist-packages/sklearn/utils/deprecation.py:87: FutureWarning: Function safe_indexing is deprecated; safe_indexing is deprecated in version 0.22 and will be removed in version 0.24.\n",
      "  warnings.warn(msg, category=FutureWarning)\n"
     ]
    }
   ],
   "source": [
    "low = [12]\n",
    "for i in low:\n",
    "  print (i , ' ---------------------------------------------')\n",
    "  smote = SMOTEENN(sampling_strategy = {i:1000})  \n",
    "  X_train4, y_train4 = smote.fit_sample(X_train4, y_train4)"
   ]
  },
  {
   "cell_type": "code",
   "execution_count": null,
   "metadata": {
    "colab": {
     "base_uri": "https://localhost:8080/"
    },
    "executionInfo": {
     "elapsed": 281,
     "status": "ok",
     "timestamp": 1630474220058,
     "user": {
      "displayName": "code ai",
      "photoUrl": "",
      "userId": "17345359434679870937"
     },
     "user_tz": -180
    },
    "id": "CFKuaDtW1iJY",
    "outputId": "3207b8f5-ab16-42b6-e131-b7cf822d3c5a"
   },
   "outputs": [
    {
     "data": {
      "text/plain": [
       "0     132827\n",
       "6       5452\n",
       "4       5425\n",
       "8       4450\n",
       "1       2441\n",
       "14      1900\n",
       "2       1271\n",
       "9       1250\n",
       "7       1173\n",
       "10      1142\n",
       "5       1142\n",
       "13      1135\n",
       "3       1127\n",
       "11      1032\n",
       "12       799\n",
       "dtype: int64"
      ]
     },
     "execution_count": 199,
     "metadata": {},
     "output_type": "execute_result"
    }
   ],
   "source": [
    "pd.Series(y_train4).value_counts()"
   ]
  },
  {
   "cell_type": "markdown",
   "metadata": {
    "id": "0VZD2kAnVPvp"
   },
   "source": [
    "### Apply Model (Stage II)"
   ]
  },
  {
   "cell_type": "code",
   "execution_count": null,
   "metadata": {
    "colab": {
     "base_uri": "https://localhost:8080/"
    },
    "executionInfo": {
     "elapsed": 212368,
     "status": "ok",
     "timestamp": 1631904832799,
     "user": {
      "displayName": "code ai",
      "photoUrl": "https://lh3.googleusercontent.com/a/default-user=s64",
      "userId": "17345359434679870937"
     },
     "user_tz": -180
    },
    "id": "swznh7YApOHH",
    "outputId": "f71812f1-64b7-4e6c-d296-296ade00d359"
   },
   "outputs": [
    {
     "name": "stdout",
     "output_type": "stream",
     "text": [
      "RandomForestClassifier(bootstrap=True, ccp_alpha=0.0, class_weight=None,\n",
      "                       criterion='gini', max_depth=None,\n",
      "                       max_features=0.5500000000000002, max_leaf_nodes=None,\n",
      "                       max_samples=None, min_impurity_decrease=0.0,\n",
      "                       min_impurity_split=None, min_samples_leaf=1,\n",
      "                       min_samples_split=2, min_weight_fraction_leaf=0.0,\n",
      "                       n_estimators=95, n_jobs=None, oob_score=False,\n",
      "                       random_state=None, verbose=0, warm_start=False)\n",
      "Accuracy of Model: 0.9987206298437692\n",
      "Precision of Model: 0.9987855989310361\n",
      "Recall of Model: 0.9987206298437692\n",
      "F1-score of Model: 0.9987126452582226\n",
      "              precision    recall  f1-score   support\n",
      "\n",
      "           0       1.00      1.00      1.00     33222\n",
      "           1       1.00      1.00      1.00       612\n",
      "           2       1.00      0.99      1.00       318\n",
      "           3       1.00      1.00      1.00       282\n",
      "           4       1.00      1.00      1.00      1359\n",
      "           5       1.00      1.00      1.00       286\n",
      "           6       1.00      1.00      1.00      1364\n",
      "           7       0.99      1.00      1.00       293\n",
      "           8       1.00      1.00      1.00      1114\n",
      "           9       0.91      1.00      0.95       314\n",
      "          10       1.00      1.00      1.00       286\n",
      "          11       1.00      0.88      0.94       260\n",
      "          12       1.00      0.95      0.98       176\n",
      "          13       1.00      1.00      1.00       284\n",
      "          14       1.00      1.00      1.00       475\n",
      "\n",
      "    accuracy                           1.00     40645\n",
      "   macro avg       0.99      0.99      0.99     40645\n",
      "weighted avg       1.00      1.00      1.00     40645\n",
      "\n",
      "mission accomplished! ---------------------------------- \n",
      "Total Operation Time in 204.458406 seconds\n",
      "/content/drive/My Drive/Colab Notebooks/Newi/2021Project3\n",
      "Done save model in drive:  rf_model_new.sav\n",
      "Accuracy Model:  0.9987206298437692\n"
     ]
    }
   ],
   "source": [
    "build_model(rf,X_train4,y_train4,X_test4,y_test4) \n",
    "rf_train_new , rf_test_new = save_model(rf,'rf_model_new',X_train4,y_train4,X_test4,y_test4)"
   ]
  },
  {
   "cell_type": "code",
   "execution_count": null,
   "metadata": {
    "colab": {
     "base_uri": "https://localhost:8080/"
    },
    "executionInfo": {
     "elapsed": 664240,
     "status": "ok",
     "timestamp": 1631905497023,
     "user": {
      "displayName": "code ai",
      "photoUrl": "https://lh3.googleusercontent.com/a/default-user=s64",
      "userId": "17345359434679870937"
     },
     "user_tz": -180
    },
    "id": "bYOf1qBIVPMz",
    "outputId": "858d6c3d-40d3-4db0-ef80-8b1bfc4e0bd2"
   },
   "outputs": [
    {
     "name": "stdout",
     "output_type": "stream",
     "text": [
      "XGBClassifier(base_score=0.5, booster='gbtree', colsample_bylevel=1,\n",
      "              colsample_bynode=1, colsample_bytree=0.8, gamma=2,\n",
      "              learning_rate=0.1, max_delta_step=0, max_depth=5,\n",
      "              min_child_weight=5, missing=None, n_estimators=100, n_jobs=1,\n",
      "              nthread=None, objective='multi:softprob', random_state=0,\n",
      "              reg_alpha=0, reg_lambda=1, scale_pos_weight=1, seed=None,\n",
      "              silent=None, subsample=0.8, verbosity=1)\n",
      "Accuracy of Model: 0.9980071349489482\n",
      "Precision of Model: 0.9980648182479999\n",
      "Recall of Model: 0.9980071349489482\n",
      "F1-score of Model: 0.9979959544193503\n",
      "              precision    recall  f1-score   support\n",
      "\n",
      "           0       1.00      1.00      1.00     33222\n",
      "           1       1.00      1.00      1.00       612\n",
      "           2       1.00      0.97      0.98       318\n",
      "           3       1.00      1.00      1.00       282\n",
      "           4       1.00      1.00      1.00      1359\n",
      "           5       1.00      1.00      1.00       286\n",
      "           6       1.00      1.00      1.00      1364\n",
      "           7       0.99      0.98      0.99       293\n",
      "           8       1.00      1.00      1.00      1114\n",
      "           9       0.91      1.00      0.95       314\n",
      "          10       1.00      1.00      1.00       286\n",
      "          11       1.00      0.88      0.94       260\n",
      "          12       0.96      0.93      0.95       176\n",
      "          13       1.00      1.00      1.00       284\n",
      "          14       1.00      1.00      1.00       475\n",
      "\n",
      "    accuracy                           1.00     40645\n",
      "   macro avg       0.99      0.98      0.99     40645\n",
      "weighted avg       1.00      1.00      1.00     40645\n",
      "\n",
      "mission accomplished! ---------------------------------- \n",
      "Total Operation Time in 650.598394 seconds\n",
      "/content/drive/My Drive/Colab Notebooks/Newi/2021Project3\n",
      "Done save model in drive:  xg_model_new.sav\n",
      "Accuracy Model:  0.9980071349489482\n"
     ]
    }
   ],
   "source": [
    "build_model(xg, X_train4 , y_train4 , X_test4 , y_test4) \n",
    "xg_train_new , xg_test_new = save_model(xg,'xg_model_new', X_train4 , y_train4 , X_test4 , y_test4)"
   ]
  },
  {
   "cell_type": "code",
   "execution_count": null,
   "metadata": {
    "colab": {
     "base_uri": "https://localhost:8080/"
    },
    "executionInfo": {
     "elapsed": 22188,
     "status": "ok",
     "timestamp": 1631905519192,
     "user": {
      "displayName": "code ai",
      "photoUrl": "https://lh3.googleusercontent.com/a/default-user=s64",
      "userId": "17345359434679870937"
     },
     "user_tz": -180
    },
    "id": "O2S4XeE1VPEF",
    "outputId": "8232443f-41af-4b0a-b46f-401909c69234"
   },
   "outputs": [
    {
     "name": "stdout",
     "output_type": "stream",
     "text": [
      "<catboost.core.CatBoostClassifier object at 0x7fb4ee66d110>\n",
      "0:\tlearn: 0.3654221\ttotal: 760ms\tremaining: 48.6s\n",
      "1:\tlearn: 0.2617605\ttotal: 1.05s\tremaining: 33.1s\n",
      "2:\tlearn: 0.2013279\ttotal: 1.34s\tremaining: 27.6s\n",
      "3:\tlearn: 0.1593994\ttotal: 1.63s\tremaining: 24.9s\n",
      "4:\tlearn: 0.1278701\ttotal: 1.94s\tremaining: 23.2s\n",
      "5:\tlearn: 0.1135756\ttotal: 2.24s\tremaining: 22s\n",
      "6:\tlearn: 0.0866831\ttotal: 2.53s\tremaining: 21s\n",
      "7:\tlearn: 0.0792478\ttotal: 2.83s\tremaining: 20.2s\n",
      "8:\tlearn: 0.0738321\ttotal: 3.13s\tremaining: 19.5s\n",
      "9:\tlearn: 0.0656904\ttotal: 3.42s\tremaining: 18.8s\n",
      "10:\tlearn: 0.0612626\ttotal: 3.71s\tremaining: 18.2s\n",
      "11:\tlearn: 0.0557798\ttotal: 4s\tremaining: 17.7s\n",
      "12:\tlearn: 0.0507043\ttotal: 4.32s\tremaining: 17.3s\n",
      "13:\tlearn: 0.0482542\ttotal: 4.62s\tremaining: 16.8s\n",
      "14:\tlearn: 0.0431714\ttotal: 4.9s\tremaining: 16.3s\n",
      "15:\tlearn: 0.0401822\ttotal: 5.22s\tremaining: 16s\n",
      "16:\tlearn: 0.0382204\ttotal: 5.52s\tremaining: 15.6s\n",
      "17:\tlearn: 0.0363021\ttotal: 5.82s\tremaining: 15.2s\n",
      "18:\tlearn: 0.0346583\ttotal: 6.12s\tremaining: 14.8s\n",
      "19:\tlearn: 0.0330883\ttotal: 6.44s\tremaining: 14.5s\n",
      "20:\tlearn: 0.0314951\ttotal: 6.73s\tremaining: 14.1s\n",
      "21:\tlearn: 0.0296407\ttotal: 7.03s\tremaining: 13.7s\n",
      "22:\tlearn: 0.0282611\ttotal: 7.34s\tremaining: 13.4s\n",
      "23:\tlearn: 0.0275905\ttotal: 7.64s\tremaining: 13.1s\n",
      "24:\tlearn: 0.0271243\ttotal: 7.95s\tremaining: 12.7s\n",
      "25:\tlearn: 0.0267271\ttotal: 8.25s\tremaining: 12.4s\n",
      "26:\tlearn: 0.0262781\ttotal: 8.6s\tremaining: 12.1s\n",
      "27:\tlearn: 0.0250272\ttotal: 8.9s\tremaining: 11.8s\n",
      "28:\tlearn: 0.0243759\ttotal: 9.23s\tremaining: 11.5s\n",
      "29:\tlearn: 0.0231917\ttotal: 9.55s\tremaining: 11.1s\n",
      "30:\tlearn: 0.0223013\ttotal: 9.85s\tremaining: 10.8s\n",
      "31:\tlearn: 0.0207665\ttotal: 10.2s\tremaining: 10.5s\n",
      "32:\tlearn: 0.0204444\ttotal: 10.5s\tremaining: 10.1s\n",
      "33:\tlearn: 0.0201476\ttotal: 10.8s\tremaining: 9.83s\n",
      "34:\tlearn: 0.0198418\ttotal: 11.1s\tremaining: 9.51s\n",
      "35:\tlearn: 0.0196047\ttotal: 11.4s\tremaining: 9.2s\n",
      "36:\tlearn: 0.0193068\ttotal: 11.7s\tremaining: 8.87s\n",
      "37:\tlearn: 0.0187272\ttotal: 12s\tremaining: 8.55s\n",
      "38:\tlearn: 0.0180954\ttotal: 12.4s\tremaining: 8.25s\n",
      "39:\tlearn: 0.0177523\ttotal: 12.7s\tremaining: 7.94s\n",
      "40:\tlearn: 0.0173960\ttotal: 13s\tremaining: 7.63s\n",
      "41:\tlearn: 0.0170916\ttotal: 13.3s\tremaining: 7.31s\n",
      "42:\tlearn: 0.0168487\ttotal: 13.7s\tremaining: 6.99s\n",
      "43:\tlearn: 0.0164581\ttotal: 14s\tremaining: 6.68s\n",
      "44:\tlearn: 0.0162776\ttotal: 14.3s\tremaining: 6.36s\n",
      "45:\tlearn: 0.0159047\ttotal: 14.7s\tremaining: 6.06s\n",
      "46:\tlearn: 0.0155567\ttotal: 15s\tremaining: 5.75s\n",
      "47:\tlearn: 0.0152462\ttotal: 15.3s\tremaining: 5.43s\n",
      "48:\tlearn: 0.0149760\ttotal: 15.7s\tremaining: 5.12s\n",
      "49:\tlearn: 0.0148758\ttotal: 16s\tremaining: 4.8s\n",
      "50:\tlearn: 0.0146608\ttotal: 16.3s\tremaining: 4.48s\n",
      "51:\tlearn: 0.0139075\ttotal: 16.6s\tremaining: 4.16s\n",
      "52:\tlearn: 0.0136107\ttotal: 17s\tremaining: 3.84s\n",
      "53:\tlearn: 0.0135259\ttotal: 17.3s\tremaining: 3.53s\n",
      "54:\tlearn: 0.0134297\ttotal: 17.7s\tremaining: 3.21s\n",
      "55:\tlearn: 0.0132366\ttotal: 18s\tremaining: 2.89s\n",
      "56:\tlearn: 0.0131889\ttotal: 18.3s\tremaining: 2.57s\n",
      "57:\tlearn: 0.0127460\ttotal: 18.7s\tremaining: 2.25s\n",
      "58:\tlearn: 0.0125483\ttotal: 19s\tremaining: 1.94s\n",
      "59:\tlearn: 0.0123294\ttotal: 19.4s\tremaining: 1.62s\n",
      "60:\tlearn: 0.0121998\ttotal: 19.7s\tremaining: 1.29s\n",
      "61:\tlearn: 0.0120406\ttotal: 20.1s\tremaining: 972ms\n",
      "62:\tlearn: 0.0119978\ttotal: 20.4s\tremaining: 648ms\n",
      "63:\tlearn: 0.0117774\ttotal: 20.7s\tremaining: 324ms\n",
      "64:\tlearn: 0.0117098\ttotal: 21.1s\tremaining: 0us\n",
      "Accuracy of Model: 0.9975150695042441\n",
      "Precision of Model: 0.9975780149625776\n",
      "Recall of Model: 0.9975150695042441\n",
      "F1-score of Model: 0.9974937553541506\n",
      "              precision    recall  f1-score   support\n",
      "\n",
      "           0       1.00      1.00      1.00     33222\n",
      "           1       1.00      1.00      1.00       612\n",
      "           2       1.00      0.92      0.96       318\n",
      "           3       1.00      1.00      1.00       282\n",
      "           4       0.99      1.00      1.00      1359\n",
      "           5       1.00      1.00      1.00       286\n",
      "           6       1.00      1.00      1.00      1364\n",
      "           7       0.98      1.00      0.99       293\n",
      "           8       1.00      1.00      1.00      1114\n",
      "           9       0.91      1.00      0.95       314\n",
      "          10       1.00      1.00      1.00       286\n",
      "          11       1.00      0.88      0.94       260\n",
      "          12       0.95      0.93      0.94       176\n",
      "          13       1.00      1.00      1.00       284\n",
      "          14       1.00      1.00      1.00       475\n",
      "\n",
      "    accuracy                           1.00     40645\n",
      "   macro avg       0.99      0.98      0.98     40645\n",
      "weighted avg       1.00      1.00      1.00     40645\n",
      "\n",
      "mission accomplished! ---------------------------------- \n",
      "Total Operation Time in 21.641231 seconds\n",
      "/content/drive/My Drive/Colab Notebooks/Newi/2021Project3\n",
      "Done save model in drive:  cat_model_new.sav\n",
      "Accuracy Model:  0.9975150695042441\n"
     ]
    }
   ],
   "source": [
    "build_model (cat, X_train4 , y_train4 , X_test4 , y_test4) \n",
    "cat_train_new , cat_test_new = save_model (cat,'cat_model_new', X_train4 , y_train4 , X_test4 , y_test4)"
   ]
  },
  {
   "cell_type": "code",
   "execution_count": null,
   "metadata": {
    "colab": {
     "base_uri": "https://localhost:8080/"
    },
    "executionInfo": {
     "elapsed": 118613,
     "status": "ok",
     "timestamp": 1631905637795,
     "user": {
      "displayName": "code ai",
      "photoUrl": "https://lh3.googleusercontent.com/a/default-user=s64",
      "userId": "17345359434679870937"
     },
     "user_tz": -180
    },
    "id": "8ausBTxBWM47",
    "outputId": "73d53ced-1461-42f6-d7ed-631e18b22171"
   },
   "outputs": [
    {
     "name": "stdout",
     "output_type": "stream",
     "text": [
      "LGBMClassifier(boosting_type='gbdt', class_weight=None,\n",
      "               colsample_bytree=0.952164731370897, importance_type='split',\n",
      "               learning_rate=0.1, max_depth=-1, min_child_samples=111,\n",
      "               min_child_weight=0.01, min_split_gain=0.0, n_estimators=100,\n",
      "               n_jobs=-1, num_leaves=38, objective=None, random_state=None,\n",
      "               reg_alpha=0, reg_lambda=0.1, silent=True,\n",
      "               subsample=0.3029313662262354, subsample_for_bin=200000,\n",
      "               subsample_freq=0)\n",
      "Accuracy of Model: 0.999286505105179\n",
      "Precision of Model: 0.9992842664551821\n",
      "Recall of Model: 0.999286505105179\n",
      "F1-score of Model: 0.9992844219636421\n",
      "              precision    recall  f1-score   support\n",
      "\n",
      "           0       1.00      1.00      1.00     33222\n",
      "           1       1.00      1.00      1.00       612\n",
      "           2       1.00      0.99      0.99       318\n",
      "           3       1.00      1.00      1.00       282\n",
      "           4       1.00      1.00      1.00      1359\n",
      "           5       1.00      1.00      1.00       286\n",
      "           6       1.00      1.00      1.00      1364\n",
      "           7       0.99      1.00      1.00       293\n",
      "           8       1.00      1.00      1.00      1114\n",
      "           9       1.00      1.00      1.00       314\n",
      "          10       1.00      1.00      1.00       286\n",
      "          11       1.00      1.00      1.00       260\n",
      "          12       0.97      0.95      0.96       176\n",
      "          13       0.99      1.00      1.00       284\n",
      "          14       1.00      1.00      1.00       475\n",
      "\n",
      "    accuracy                           1.00     40645\n",
      "   macro avg       1.00      1.00      1.00     40645\n",
      "weighted avg       1.00      1.00      1.00     40645\n",
      "\n",
      "mission accomplished! ---------------------------------- \n",
      "Total Operation Time in 99.541561 seconds\n",
      "/content/drive/My Drive/Colab Notebooks/Newi/2021Project3\n",
      "Done save model in drive:  light_model_new.sav\n",
      "Accuracy Model:  0.999286505105179\n"
     ]
    }
   ],
   "source": [
    "build_model (light, X_train4 , y_train4 , X_test4 , y_test4) \n",
    "light_train_new , light_test_new = save_model(light,'light_model_new', X_train4 , y_train4 , X_test4 , y_test4)"
   ]
  },
  {
   "cell_type": "markdown",
   "metadata": {
    "id": "y4L0d5_zbhhY"
   },
   "source": [
    "### Hyperparameter by AutoML"
   ]
  },
  {
   "cell_type": "code",
   "execution_count": null,
   "metadata": {
    "id": "RfhNrPE_yZwb"
   },
   "outputs": [],
   "source": [
    "def run_model (X_train, y_train, X_test, y_test, model, strsave):\n",
    "\n",
    "    build_model (model, X_train , y_train , X_test , y_test) \n",
    "    model_train_param, model_test_param = save_model (model, strsave, X_train , y_train , X_test , y_test) \n",
    "     \n",
    "    lc = learn_curve(X_train, y_train,1, model)  \n",
    "    print_graph(lc)\n",
    "\n",
    "    return model_train_param, model_test_param"
   ]
  },
  {
   "cell_type": "code",
   "execution_count": null,
   "metadata": {
    "id": "3mLaNlNcbxnO"
   },
   "outputs": [],
   "source": [
    "from flaml import AutoML\n",
    "automl = AutoML()"
   ]
  },
  {
   "cell_type": "code",
   "execution_count": null,
   "metadata": {
    "id": "ObvBXgjNM96D"
   },
   "outputs": [],
   "source": [
    "def auto_param (X_train, y_train, strmodel):    \n",
    "\n",
    "    automl_settings = {\n",
    "        \"time_budget\": 100,\n",
    "        \"metric\": 'accuracy',\n",
    "        \"task\": 'classification',\n",
    "        \"custom_hpo_args\": {\"output_dir\": \"data/output/\"},\n",
    "        \"gpu_per_trial\": 1\n",
    "    }\n",
    "\n",
    "    automl.fit(X_train, y_train, automl_settings , estimator_list=[strmodel])\n",
    "\n",
    "    print(\"-----------------------------------------------------------------\")\n",
    "    print(automl.predict_proba(X_train))\n",
    "    print(\"-----------------------------------------------------------------\")\n",
    "    print(automl.model.estimator)\n",
    "    print(\"-----------------------------------------------------------------\")\n",
    "    print (automl.model.params)"
   ]
  },
  {
   "cell_type": "markdown",
   "metadata": {
    "id": "VdDTfbJ8yV8w"
   },
   "source": [
    "### Stage III"
   ]
  },
  {
   "cell_type": "code",
   "execution_count": null,
   "metadata": {
    "colab": {
     "base_uri": "https://localhost:8080/"
    },
    "executionInfo": {
     "elapsed": 63196,
     "status": "ok",
     "timestamp": 1637431669952,
     "user": {
      "displayName": "code ai",
      "photoUrl": "https://lh3.googleusercontent.com/a/default-user=s64",
      "userId": "17345359434679870937"
     },
     "user_tz": -120
    },
    "id": "rUct-XdoM93G",
    "outputId": "13ac77ed-d6cf-4e19-c26f-1ece1f14fed4"
   },
   "outputs": [
    {
     "name": "stderr",
     "output_type": "stream",
     "text": [
      "[flaml.automl: 11-20 18:06:49] {1485} INFO - Data split method: stratified\n",
      "[flaml.automl: 11-20 18:06:49] {1489} INFO - Evaluation method: holdout\n",
      "[flaml.automl: 11-20 18:06:49] {1540} INFO - Minimizing error metric: log_loss\n",
      "[flaml.automl: 11-20 18:06:49] {1577} INFO - List of ML learners in AutoML Run: ['rf']\n",
      "[flaml.automl: 11-20 18:06:49] {1826} INFO - iteration 0, current learner rf\n",
      "[flaml.automl: 11-20 18:06:50] {1944} INFO - Estimated sufficient time budget=81933s. Estimated necessary time budget=82s.\n",
      "[flaml.automl: 11-20 18:06:50] {2029} INFO -  at 3.0s,\testimator rf's best error=0.6304,\tbest estimator rf's best error=0.6304\n",
      "[flaml.automl: 11-20 18:06:50] {1826} INFO - iteration 1, current learner rf\n",
      "[flaml.automl: 11-20 18:06:50] {2029} INFO -  at 3.4s,\testimator rf's best error=0.3744,\tbest estimator rf's best error=0.3744\n",
      "[flaml.automl: 11-20 18:06:50] {1826} INFO - iteration 2, current learner rf\n",
      "[flaml.automl: 11-20 18:06:51] {2029} INFO -  at 3.7s,\testimator rf's best error=0.3744,\tbest estimator rf's best error=0.3744\n",
      "[flaml.automl: 11-20 18:06:51] {1826} INFO - iteration 3, current learner rf\n",
      "[flaml.automl: 11-20 18:06:51] {2029} INFO -  at 4.3s,\testimator rf's best error=0.3351,\tbest estimator rf's best error=0.3351\n",
      "[flaml.automl: 11-20 18:06:51] {1826} INFO - iteration 4, current learner rf\n",
      "[flaml.automl: 11-20 18:06:52] {2029} INFO -  at 4.8s,\testimator rf's best error=0.2698,\tbest estimator rf's best error=0.2698\n",
      "[flaml.automl: 11-20 18:06:52] {1826} INFO - iteration 5, current learner rf\n",
      "[flaml.automl: 11-20 18:06:53] {2029} INFO -  at 5.6s,\testimator rf's best error=0.2698,\tbest estimator rf's best error=0.2698\n",
      "[flaml.automl: 11-20 18:06:53] {1826} INFO - iteration 6, current learner rf\n",
      "[flaml.automl: 11-20 18:06:53] {2029} INFO -  at 6.1s,\testimator rf's best error=0.1926,\tbest estimator rf's best error=0.1926\n",
      "[flaml.automl: 11-20 18:06:53] {1826} INFO - iteration 7, current learner rf\n",
      "[flaml.automl: 11-20 18:06:54] {2029} INFO -  at 6.9s,\testimator rf's best error=0.0622,\tbest estimator rf's best error=0.0622\n",
      "[flaml.automl: 11-20 18:06:54] {1826} INFO - iteration 8, current learner rf\n",
      "[flaml.automl: 11-20 18:06:55] {2029} INFO -  at 7.5s,\testimator rf's best error=0.0622,\tbest estimator rf's best error=0.0622\n",
      "[flaml.automl: 11-20 18:06:55] {1826} INFO - iteration 9, current learner rf\n",
      "[flaml.automl: 11-20 18:06:55] {2029} INFO -  at 8.3s,\testimator rf's best error=0.0622,\tbest estimator rf's best error=0.0622\n",
      "[flaml.automl: 11-20 18:06:55] {1826} INFO - iteration 10, current learner rf\n",
      "[flaml.automl: 11-20 18:06:56] {2029} INFO -  at 8.9s,\testimator rf's best error=0.0622,\tbest estimator rf's best error=0.0622\n",
      "[flaml.automl: 11-20 18:06:56] {1826} INFO - iteration 11, current learner rf\n",
      "[flaml.automl: 11-20 18:06:56] {2029} INFO -  at 9.2s,\testimator rf's best error=0.0622,\tbest estimator rf's best error=0.0622\n",
      "[flaml.automl: 11-20 18:06:56] {1826} INFO - iteration 12, current learner rf\n",
      "[flaml.automl: 11-20 18:06:57] {2029} INFO -  at 10.4s,\testimator rf's best error=0.0395,\tbest estimator rf's best error=0.0395\n",
      "[flaml.automl: 11-20 18:06:57] {1826} INFO - iteration 13, current learner rf\n",
      "[flaml.automl: 11-20 18:06:58] {2029} INFO -  at 11.2s,\testimator rf's best error=0.0395,\tbest estimator rf's best error=0.0395\n",
      "[flaml.automl: 11-20 18:06:58] {1826} INFO - iteration 14, current learner rf\n",
      "[flaml.automl: 11-20 18:06:59] {2029} INFO -  at 12.0s,\testimator rf's best error=0.0395,\tbest estimator rf's best error=0.0395\n",
      "[flaml.automl: 11-20 18:06:59] {1826} INFO - iteration 15, current learner rf\n",
      "[flaml.automl: 11-20 18:07:00] {2029} INFO -  at 13.0s,\testimator rf's best error=0.0395,\tbest estimator rf's best error=0.0395\n",
      "[flaml.automl: 11-20 18:07:00] {1826} INFO - iteration 16, current learner rf\n",
      "[flaml.automl: 11-20 18:07:00] {2029} INFO -  at 13.3s,\testimator rf's best error=0.0395,\tbest estimator rf's best error=0.0395\n",
      "[flaml.automl: 11-20 18:07:00] {1826} INFO - iteration 17, current learner rf\n",
      "[flaml.automl: 11-20 18:07:01] {2029} INFO -  at 14.2s,\testimator rf's best error=0.0395,\tbest estimator rf's best error=0.0395\n",
      "[flaml.automl: 11-20 18:07:01] {1826} INFO - iteration 18, current learner rf\n",
      "[flaml.automl: 11-20 18:07:02] {2029} INFO -  at 14.8s,\testimator rf's best error=0.0395,\tbest estimator rf's best error=0.0395\n",
      "[flaml.automl: 11-20 18:07:02] {1826} INFO - iteration 19, current learner rf\n",
      "[flaml.automl: 11-20 18:07:03] {2029} INFO -  at 15.5s,\testimator rf's best error=0.0395,\tbest estimator rf's best error=0.0395\n",
      "[flaml.automl: 11-20 18:07:03] {1826} INFO - iteration 20, current learner rf\n",
      "[flaml.automl: 11-20 18:07:11] {2029} INFO -  at 24.3s,\testimator rf's best error=0.0285,\tbest estimator rf's best error=0.0285\n",
      "[flaml.automl: 11-20 18:07:11] {1826} INFO - iteration 21, current learner rf\n",
      "[flaml.automl: 11-20 18:07:17] {2029} INFO -  at 29.7s,\testimator rf's best error=0.0285,\tbest estimator rf's best error=0.0285\n",
      "[flaml.automl: 11-20 18:07:17] {1826} INFO - iteration 22, current learner rf\n",
      "[flaml.automl: 11-20 18:07:21] {2029} INFO -  at 34.3s,\testimator rf's best error=0.0285,\tbest estimator rf's best error=0.0285\n",
      "[flaml.automl: 11-20 18:07:21] {1826} INFO - iteration 23, current learner rf\n",
      "[flaml.automl: 11-20 18:07:27] {2029} INFO -  at 40.0s,\testimator rf's best error=0.0285,\tbest estimator rf's best error=0.0285\n",
      "[flaml.automl: 11-20 18:07:27] {1826} INFO - iteration 24, current learner rf\n",
      "[flaml.automl: 11-20 18:07:32] {2029} INFO -  at 45.5s,\testimator rf's best error=0.0228,\tbest estimator rf's best error=0.0228\n",
      "[flaml.automl: 11-20 18:07:32] {1826} INFO - iteration 25, current learner rf\n",
      "[flaml.automl: 11-20 18:07:39] {2029} INFO -  at 51.8s,\testimator rf's best error=0.0228,\tbest estimator rf's best error=0.0228\n",
      "[flaml.automl: 11-20 18:07:39] {1826} INFO - iteration 26, current learner rf\n",
      "[flaml.automl: 11-20 18:07:44] {2029} INFO -  at 57.1s,\testimator rf's best error=0.0228,\tbest estimator rf's best error=0.0228\n",
      "[flaml.automl: 11-20 18:07:50] {2242} INFO - retrain rf for 5.8s\n",
      "[flaml.automl: 11-20 18:07:50] {2247} INFO - retrained model: RandomForestClassifier(criterion='entropy', max_features=1.0, max_leaf_nodes=85,\n",
      "                       n_estimators=4, n_jobs=-1)\n",
      "[flaml.automl: 11-20 18:07:50] {1608} INFO - fit succeeded\n",
      "[flaml.automl: 11-20 18:07:50] {1610} INFO - Time taken to find the best model: 45.51337432861328\n",
      "[flaml.automl: 11-20 18:07:50] {1624} WARNING - Time taken to find the best model is 76% of the provided time budget and not all estimators' hyperparameter search converged. Consider increasing the time budget.\n"
     ]
    },
    {
     "name": "stdout",
     "output_type": "stream",
     "text": [
      "-----------------------------------------------------------------\n",
      "-----------------------------------------------------------------\n",
      "RandomForestClassifier(criterion='entropy', max_features=1.0, max_leaf_nodes=85,\n",
      "                       n_estimators=4, n_jobs=-1)\n",
      "-----------------------------------------------------------------\n",
      "{'n_estimators': 4, 'max_features': 1.0, 'criterion': 'entropy', 'n_jobs': -1, 'max_leaf_nodes': 85, 'verbose': 0}\n"
     ]
    }
   ],
   "source": [
    "auto_param (X_train4, y_train4, 'rf')"
   ]
  },
  {
   "cell_type": "code",
   "execution_count": null,
   "metadata": {
    "id": "UMeS8VtE0MOe"
   },
   "outputs": [],
   "source": [
    "autorf = RandomForestClassifier(criterion='entropy', max_features=0.7948210682168718,\n",
    "                       max_leaf_nodes=170, n_estimators=4, n_jobs=-1)"
   ]
  },
  {
   "cell_type": "code",
   "execution_count": null,
   "metadata": {
    "colab": {
     "base_uri": "https://localhost:8080/",
     "height": 1000
    },
    "executionInfo": {
     "elapsed": 83979,
     "status": "ok",
     "timestamp": 1637431816453,
     "user": {
      "displayName": "code ai",
      "photoUrl": "https://lh3.googleusercontent.com/a/default-user=s64",
      "userId": "17345359434679870937"
     },
     "user_tz": -120
    },
    "id": "btvyTcid3-V8",
    "outputId": "e8b85430-bcc3-4dc6-9d81-5d4dda326c69"
   },
   "outputs": [
    {
     "name": "stdout",
     "output_type": "stream",
     "text": [
      "RandomForestClassifier(max_features=1.0, max_leaf_nodes=282, n_estimators=4,\n",
      "                       n_jobs=-1)\n",
      "Accuracy of Model: 0.9984992003936524\n",
      "Precision of Model: 0.9985618062804095\n",
      "Recall of Model: 0.9984992003936524\n",
      "F1-score of Model: 0.9984900037167838\n",
      "              precision    recall  f1-score   support\n",
      "\n",
      "           0       1.00      1.00      1.00     33222\n",
      "           1       1.00      1.00      1.00       612\n",
      "           2       1.00      0.99      0.99       318\n",
      "           3       1.00      1.00      1.00       282\n",
      "           4       1.00      1.00      1.00      1359\n",
      "           5       1.00      1.00      1.00       286\n",
      "           6       1.00      1.00      1.00      1364\n",
      "           7       0.99      1.00      1.00       293\n",
      "           8       1.00      1.00      1.00      1114\n",
      "           9       0.91      1.00      0.95       314\n",
      "          10       1.00      1.00      1.00       286\n",
      "          11       1.00      0.88      0.94       260\n",
      "          12       0.99      0.94      0.97       176\n",
      "          13       1.00      1.00      1.00       284\n",
      "          14       1.00      1.00      1.00       475\n",
      "\n",
      "    accuracy                           1.00     40645\n",
      "   macro avg       0.99      0.99      0.99     40645\n",
      "weighted avg       1.00      1.00      1.00     40645\n",
      "\n",
      "mission accomplished! ---------------------------------- \n",
      "Total Operation Time in 4.740039 seconds\n",
      "/content/drive/My Drive/Colab Notebooks/Newi/2021Project3\n",
      "Done save model in drive:  autorf_model_para.sav\n",
      "Accuracy Model:  0.9984992003936524\n",
      "Cross Validation Accuracies:\n",
      "-------------------------\n",
      "[0.9980009841308894, 0.9982777709435355, 0.9981854528679072, 0.9982777179763186, 0.9980931877594956]\n",
      "\n",
      "    Mean Cross Validation Accuracy:\n",
      "-------------------------\n",
      "0.9981670227356293\n",
      "\n",
      "    Standard Deviation of Cross Validation Accuracy:\n",
      "-------------------------\n",
      "0.00010759060703063271\n",
      "\n",
      "    Training Accuracy:\n",
      "---------------\n",
      "0.9987944174145175\n",
      "\n",
      "\n"
     ]
    },
    {
     "data": {
      "image/png": "[encoded data removed]",
      "text/plain": [
       "<Figure size 432x288 with 1 Axes>"
      ]
     },
     "metadata": {
      "needs_background": "light"
     },
     "output_type": "display_data"
    }
   ],
   "source": [
    "autorf_train_param, autorf_test_param = run_model (X_train4, y_train4, X_test4, y_test4, autorf, 'autorf_model_para')"
   ]
  },
  {
   "cell_type": "code",
   "execution_count": null,
   "metadata": {
    "colab": {
     "base_uri": "https://localhost:8080/"
    },
    "executionInfo": {
     "elapsed": 69214,
     "status": "ok",
     "timestamp": 1637430611275,
     "user": {
      "displayName": "code ai",
      "photoUrl": "https://lh3.googleusercontent.com/a/default-user=s64",
      "userId": "17345359434679870937"
     },
     "user_tz": -120
    },
    "id": "s5j_hEbVdZDr",
    "outputId": "0c82faef-68b0-4691-c342-52d216b26a67"
   },
   "outputs": [
    {
     "name": "stderr",
     "output_type": "stream",
     "text": [
      "[flaml.automl: 11-20 17:49:05] {1485} INFO - Data split method: stratified\n",
      "[flaml.automl: 11-20 17:49:05] {1489} INFO - Evaluation method: holdout\n",
      "[flaml.automl: 11-20 17:49:05] {1540} INFO - Minimizing error metric: log_loss\n",
      "[flaml.automl: 11-20 17:49:05] {1577} INFO - List of ML learners in AutoML Run: ['xgboost']\n",
      "[flaml.automl: 11-20 17:49:05] {1826} INFO - iteration 0, current learner xgboost\n",
      "[flaml.automl: 11-20 17:49:06] {1944} INFO - Estimated sufficient time budget=133160s. Estimated necessary time budget=133s.\n",
      "[flaml.automl: 11-20 17:49:06] {2029} INFO -  at 4.0s,\testimator xgboost's best error=1.3770,\tbest estimator xgboost's best error=1.3770\n",
      "[flaml.automl: 11-20 17:49:06] {1826} INFO - iteration 1, current learner xgboost\n",
      "[flaml.automl: 11-20 17:49:07] {2029} INFO -  at 4.9s,\testimator xgboost's best error=1.3770,\tbest estimator xgboost's best error=1.3770\n",
      "[flaml.automl: 11-20 17:49:07] {1826} INFO - iteration 2, current learner xgboost\n",
      "[flaml.automl: 11-20 17:49:08] {2029} INFO -  at 5.8s,\testimator xgboost's best error=0.5862,\tbest estimator xgboost's best error=0.5862\n",
      "[flaml.automl: 11-20 17:49:08] {1826} INFO - iteration 3, current learner xgboost\n",
      "[flaml.automl: 11-20 17:49:09] {2029} INFO -  at 6.7s,\testimator xgboost's best error=0.3902,\tbest estimator xgboost's best error=0.3902\n",
      "[flaml.automl: 11-20 17:49:09] {1826} INFO - iteration 4, current learner xgboost\n",
      "[flaml.automl: 11-20 17:49:10] {2029} INFO -  at 7.7s,\testimator xgboost's best error=0.3902,\tbest estimator xgboost's best error=0.3902\n",
      "[flaml.automl: 11-20 17:49:10] {1826} INFO - iteration 5, current learner xgboost\n",
      "[flaml.automl: 11-20 17:49:11] {2029} INFO -  at 8.5s,\testimator xgboost's best error=0.1825,\tbest estimator xgboost's best error=0.1825\n",
      "[flaml.automl: 11-20 17:49:11] {1826} INFO - iteration 6, current learner xgboost\n",
      "[flaml.automl: 11-20 17:49:12] {2029} INFO -  at 9.4s,\testimator xgboost's best error=0.1825,\tbest estimator xgboost's best error=0.1825\n",
      "[flaml.automl: 11-20 17:49:12] {1826} INFO - iteration 7, current learner xgboost\n",
      "[flaml.automl: 11-20 17:49:13] {2029} INFO -  at 10.3s,\testimator xgboost's best error=0.1825,\tbest estimator xgboost's best error=0.1825\n",
      "[flaml.automl: 11-20 17:49:13] {1826} INFO - iteration 8, current learner xgboost\n",
      "[flaml.automl: 11-20 17:49:13] {2029} INFO -  at 11.2s,\testimator xgboost's best error=0.1825,\tbest estimator xgboost's best error=0.1825\n",
      "[flaml.automl: 11-20 17:49:13] {1826} INFO - iteration 9, current learner xgboost\n",
      "[flaml.automl: 11-20 17:49:14] {2029} INFO -  at 12.1s,\testimator xgboost's best error=0.1159,\tbest estimator xgboost's best error=0.1159\n",
      "[flaml.automl: 11-20 17:49:14] {1826} INFO - iteration 10, current learner xgboost\n",
      "[flaml.automl: 11-20 17:49:15] {2029} INFO -  at 13.0s,\testimator xgboost's best error=0.1159,\tbest estimator xgboost's best error=0.1159\n",
      "[flaml.automl: 11-20 17:49:15] {1826} INFO - iteration 11, current learner xgboost\n",
      "[flaml.automl: 11-20 17:49:16] {2029} INFO -  at 13.9s,\testimator xgboost's best error=0.1159,\tbest estimator xgboost's best error=0.1159\n",
      "[flaml.automl: 11-20 17:49:16] {1826} INFO - iteration 12, current learner xgboost\n",
      "[flaml.automl: 11-20 17:49:18] {2029} INFO -  at 15.5s,\testimator xgboost's best error=0.1159,\tbest estimator xgboost's best error=0.1159\n",
      "[flaml.automl: 11-20 17:49:18] {1826} INFO - iteration 13, current learner xgboost\n",
      "[flaml.automl: 11-20 17:49:19] {2029} INFO -  at 16.5s,\testimator xgboost's best error=0.1159,\tbest estimator xgboost's best error=0.1159\n",
      "[flaml.automl: 11-20 17:49:19] {1826} INFO - iteration 14, current learner xgboost\n",
      "[flaml.automl: 11-20 17:49:29] {2029} INFO -  at 26.9s,\testimator xgboost's best error=0.0894,\tbest estimator xgboost's best error=0.0894\n",
      "[flaml.automl: 11-20 17:49:29] {1826} INFO - iteration 15, current learner xgboost\n",
      "[flaml.automl: 11-20 17:49:39] {2029} INFO -  at 36.8s,\testimator xgboost's best error=0.0894,\tbest estimator xgboost's best error=0.0894\n",
      "[flaml.automl: 11-20 17:49:39] {1826} INFO - iteration 16, current learner xgboost\n",
      "[flaml.automl: 11-20 17:49:50] {2029} INFO -  at 47.5s,\testimator xgboost's best error=0.0894,\tbest estimator xgboost's best error=0.0894\n",
      "[flaml.automl: 11-20 17:49:50] {1826} INFO - iteration 17, current learner xgboost\n",
      "[flaml.automl: 11-20 17:50:00] {2029} INFO -  at 57.5s,\testimator xgboost's best error=0.0894,\tbest estimator xgboost's best error=0.0894\n",
      "[flaml.automl: 11-20 17:50:11] {2242} INFO - retrain xgboost for 11.3s\n",
      "[flaml.automl: 11-20 17:50:11] {2247} INFO - retrained model: XGBClassifier(colsample_bylevel=0.8461545925967309,\n",
      "              colsample_bytree=0.7578325666214893, grow_policy='lossguide',\n",
      "              learning_rate=0.6461109884314401, max_depth=0, max_leaves=12,\n",
      "              min_child_weight=0.8466284808746228, n_estimators=4, n_jobs=-1,\n",
      "              objective='multi:softprob', reg_alpha=0.0633928775829671,\n",
      "              reg_lambda=3.2153305687342706, subsample=0.8471714262755639,\n",
      "              tree_method='hist', use_label_encoder=False, verbosity=0)\n",
      "[flaml.automl: 11-20 17:50:11] {1608} INFO - fit succeeded\n",
      "[flaml.automl: 11-20 17:50:11] {1610} INFO - Time taken to find the best model: 26.9312002658844\n"
     ]
    },
    {
     "name": "stdout",
     "output_type": "stream",
     "text": [
      "-----------------------------------------------------------------\n",
      "-----------------------------------------------------------------\n",
      "XGBClassifier(colsample_bylevel=0.8461545925967309,\n",
      "              colsample_bytree=0.7578325666214893, grow_policy='lossguide',\n",
      "              learning_rate=0.6461109884314401, max_depth=0, max_leaves=12,\n",
      "              min_child_weight=0.8466284808746228, n_estimators=4, n_jobs=-1,\n",
      "              objective='multi:softprob', reg_alpha=0.0633928775829671,\n",
      "              reg_lambda=3.2153305687342706, subsample=0.8471714262755639,\n",
      "              tree_method='hist', use_label_encoder=False, verbosity=0)\n",
      "-----------------------------------------------------------------\n",
      "{'n_estimators': 4, 'max_leaves': 12, 'min_child_weight': 0.8466284808746228, 'learning_rate': 0.6461109884314401, 'subsample': 0.8471714262755639, 'colsample_bylevel': 0.8461545925967309, 'colsample_bytree': 0.7578325666214893, 'reg_alpha': 0.0633928775829671, 'reg_lambda': 3.2153305687342706, 'n_jobs': -1, 'max_depth': 0, 'grow_policy': 'lossguide', 'booster': 'gbtree', 'use_label_encoder': False, 'tree_method': 'hist', 'verbosity': 0}\n"
     ]
    }
   ],
   "source": [
    "auto_param (X_train4, y_train4, 'xgboost')"
   ]
  },
  {
   "cell_type": "code",
   "execution_count": null,
   "metadata": {
    "id": "U_OvSOZ9eOyg"
   },
   "outputs": [],
   "source": [
    "autoxg = XGBClassifier(colsample_bylevel=0.8461545925967309,\n",
    "              colsample_bytree=0.7578325666214893, grow_policy='lossguide',\n",
    "              learning_rate=0.6461109884314401, max_depth=0, max_leaves=12,\n",
    "              min_child_weight=0.8466284808746228, n_estimators=4, n_jobs=-1,\n",
    "              objective='multi:softprob', reg_alpha=0.0633928775829671,\n",
    "              reg_lambda=3.2153305687342706, subsample=0.8471714262755639,\n",
    "              tree_method='hist', use_label_encoder=False, verbosity=0)"
   ]
  },
  {
   "cell_type": "code",
   "execution_count": null,
   "metadata": {
    "colab": {
     "base_uri": "https://localhost:8080/",
     "height": 1000
    },
    "executionInfo": {
     "elapsed": 149779,
     "status": "ok",
     "timestamp": 1637430845507,
     "user": {
      "displayName": "code ai",
      "photoUrl": "https://lh3.googleusercontent.com/a/default-user=s64",
      "userId": "17345359434679870937"
     },
     "user_tz": -120
    },
    "id": "HOrOOcEOeWAB",
    "outputId": "cfe1e508-7dee-4cf9-c1e0-8dbfc0bdfd18"
   },
   "outputs": [
    {
     "name": "stdout",
     "output_type": "stream",
     "text": [
      "XGBClassifier(colsample_bylevel=0.8461545925967309,\n",
      "              colsample_bytree=0.7578325666214893, grow_policy='lossguide',\n",
      "              learning_rate=0.6461109884314401, max_depth=0, max_leaves=12,\n",
      "              min_child_weight=0.8466284808746228, n_estimators=4, n_jobs=-1,\n",
      "              objective='multi:softprob', reg_alpha=0.0633928775829671,\n",
      "              reg_lambda=3.2153305687342706, subsample=0.8471714262755639,\n",
      "              tree_method='hist', use_label_encoder=False, verbosity=0)\n",
      "Accuracy of Model: 0.9968753844261287\n",
      "Precision of Model: 0.9969219657884284\n",
      "Recall of Model: 0.9968753844261287\n",
      "F1-score of Model: 0.9968384410165624\n",
      "              precision    recall  f1-score   support\n",
      "\n",
      "           0       1.00      1.00      1.00     33222\n",
      "           1       1.00      0.99      1.00       612\n",
      "           2       0.99      0.91      0.95       318\n",
      "           3       1.00      0.99      1.00       282\n",
      "           4       0.99      1.00      1.00      1359\n",
      "           5       1.00      1.00      1.00       286\n",
      "           6       1.00      1.00      1.00      1364\n",
      "           7       0.98      0.98      0.98       293\n",
      "           8       1.00      1.00      1.00      1114\n",
      "           9       0.91      1.00      0.95       314\n",
      "          10       1.00      1.00      1.00       286\n",
      "          11       1.00      0.88      0.94       260\n",
      "          12       0.95      0.89      0.92       176\n",
      "          13       0.99      1.00      1.00       284\n",
      "          14       1.00      1.00      1.00       475\n",
      "\n",
      "    accuracy                           1.00     40645\n",
      "   macro avg       0.99      0.98      0.98     40645\n",
      "weighted avg       1.00      1.00      1.00     40645\n",
      "\n",
      "mission accomplished! ---------------------------------- \n",
      "Total Operation Time in 9.152857 seconds\n",
      "/content/drive/My Drive/Colab Notebooks/Newi/2021Project3\n",
      "Done save model in drive:  autoxg_model_para.sav\n",
      "Accuracy Model:  0.9968753844261287\n",
      "Cross Validation Accuracies:\n",
      "-------------------------\n",
      "[0.9955406569073687, 0.996371017345307, 0.995971090266031, 0.9956020298323851, 0.9951714593264647]\n",
      "\n",
      "    Mean Cross Validation Accuracy:\n",
      "-------------------------\n",
      "0.9957312507355114\n",
      "\n",
      "    Standard Deviation of Cross Validation Accuracy:\n",
      "-------------------------\n",
      "0.00040821925142809945\n",
      "\n",
      "    Training Accuracy:\n",
      "---------------\n",
      "0.9966969497530401\n",
      "\n",
      "\n"
     ]
    },
    {
     "data": {
      "image/png": "[encoded data removed]",
      "text/plain": [
       "<Figure size 432x288 with 1 Axes>"
      ]
     },
     "metadata": {
      "needs_background": "light"
     },
     "output_type": "display_data"
    }
   ],
   "source": [
    "autoxg_train_param, autoxg_test_param = run_model (X_train4, y_train4, X_test4, y_test4, autoxg, 'autoxg_model_para')"
   ]
  },
  {
   "cell_type": "code",
   "execution_count": null,
   "metadata": {
    "colab": {
     "base_uri": "https://localhost:8080/"
    },
    "executionInfo": {
     "elapsed": 80162,
     "status": "ok",
     "timestamp": 1637430036296,
     "user": {
      "displayName": "code ai",
      "photoUrl": "https://lh3.googleusercontent.com/a/default-user=s64",
      "userId": "17345359434679870937"
     },
     "user_tz": -120
    },
    "id": "G8uoctqLbgXN",
    "outputId": "fcaa5fb0-a842-4217-826a-5f49812c7e8c"
   },
   "outputs": [
    {
     "name": "stderr",
     "output_type": "stream",
     "text": [
      "[flaml.automl: 11-20 17:39:19] {1485} INFO - Data split method: stratified\n",
      "[flaml.automl: 11-20 17:39:19] {1489} INFO - Evaluation method: holdout\n",
      "[flaml.automl: 11-20 17:39:19] {1540} INFO - Minimizing error metric: log_loss\n",
      "[flaml.automl: 11-20 17:39:19] {1577} INFO - List of ML learners in AutoML Run: ['catboost']\n",
      "[flaml.automl: 11-20 17:39:19] {1826} INFO - iteration 0, current learner catboost\n",
      "[flaml.automl: 11-20 17:39:21] {1944} INFO - Estimated sufficient time budget=290802s. Estimated necessary time budget=291s.\n",
      "[flaml.automl: 11-20 17:39:21] {2029} INFO -  at 4.8s,\testimator catboost's best error=0.1271,\tbest estimator catboost's best error=0.1271\n",
      "[flaml.automl: 11-20 17:39:21] {1826} INFO - iteration 1, current learner catboost\n",
      "[flaml.automl: 11-20 17:39:23] {2029} INFO -  at 6.6s,\testimator catboost's best error=0.1271,\tbest estimator catboost's best error=0.1271\n",
      "[flaml.automl: 11-20 17:39:23] {1826} INFO - iteration 2, current learner catboost\n",
      "[flaml.automl: 11-20 17:39:25] {2029} INFO -  at 8.5s,\testimator catboost's best error=0.0988,\tbest estimator catboost's best error=0.0988\n",
      "[flaml.automl: 11-20 17:39:25] {1826} INFO - iteration 3, current learner catboost\n",
      "[flaml.automl: 11-20 17:39:26] {2029} INFO -  at 10.2s,\testimator catboost's best error=0.0988,\tbest estimator catboost's best error=0.0988\n",
      "[flaml.automl: 11-20 17:39:26] {1826} INFO - iteration 4, current learner catboost\n",
      "[flaml.automl: 11-20 17:39:28] {2029} INFO -  at 11.9s,\testimator catboost's best error=0.0988,\tbest estimator catboost's best error=0.0988\n",
      "[flaml.automl: 11-20 17:39:28] {1826} INFO - iteration 5, current learner catboost\n",
      "[flaml.automl: 11-20 17:40:16] {2029} INFO -  at 59.9s,\testimator catboost's best error=0.0646,\tbest estimator catboost's best error=0.0646\n",
      "[flaml.automl: 11-20 17:40:36] {2242} INFO - retrain catboost for 20.0s\n",
      "[flaml.automl: 11-20 17:40:36] {2247} INFO - retrained model: <catboost.core.CatBoostClassifier object at 0x7fde00fa80d0>\n",
      "[flaml.automl: 11-20 17:40:36] {1608} INFO - fit succeeded\n",
      "[flaml.automl: 11-20 17:40:36] {1610} INFO - Time taken to find the best model: 59.90137839317322\n",
      "[flaml.automl: 11-20 17:40:36] {1624} WARNING - Time taken to find the best model is 100% of the provided time budget and not all estimators' hyperparameter search converged. Consider increasing the time budget.\n"
     ]
    },
    {
     "name": "stdout",
     "output_type": "stream",
     "text": [
      "-----------------------------------------------------------------\n",
      "-----------------------------------------------------------------\n",
      "<catboost.core.CatBoostClassifier object at 0x7fde00fa80d0>\n",
      "-----------------------------------------------------------------\n",
      "{'early_stopping_rounds': 11, 'learning_rate': 0.2, 'n_estimators': 126, 'thread_count': -1, 'verbose': False, 'random_seed': 10242048}\n"
     ]
    }
   ],
   "source": [
    "auto_param (X_train4, y_train4, 'catboost')"
   ]
  },
  {
   "cell_type": "code",
   "execution_count": null,
   "metadata": {
    "id": "wOlKToRsFsI9"
   },
   "outputs": [],
   "source": [
    "autocat = CatBoostClassifier(early_stopping_rounds = 11, learning_rate = 0.2, n_estimators = 126,\n",
    "                             thread_count =  -1, verbose = False, random_seed =  10242048)"
   ]
  },
  {
   "cell_type": "code",
   "execution_count": null,
   "metadata": {
    "colab": {
     "base_uri": "https://localhost:8080/",
     "height": 1000
    },
    "executionInfo": {
     "elapsed": 316621,
     "status": "ok",
     "timestamp": 1637430411371,
     "user": {
      "displayName": "code ai",
      "photoUrl": "https://lh3.googleusercontent.com/a/default-user=s64",
      "userId": "17345359434679870937"
     },
     "user_tz": -120
    },
    "id": "lcXveBlRcGFH",
    "outputId": "428572e3-16f1-487c-a24d-b5e212430bf1"
   },
   "outputs": [
    {
     "name": "stdout",
     "output_type": "stream",
     "text": [
      "<catboost.core.CatBoostClassifier object at 0x7fde00f3b590>\n",
      "Accuracy of Model: 0.9976380858654201\n",
      "Precision of Model: 0.9977009234967827\n",
      "Recall of Model: 0.9976380858654201\n",
      "F1-score of Model: 0.9976156600321622\n",
      "              precision    recall  f1-score   support\n",
      "\n",
      "           0       1.00      1.00      1.00     33222\n",
      "           1       1.00      0.99      1.00       612\n",
      "           2       0.99      0.92      0.95       318\n",
      "           3       1.00      1.00      1.00       282\n",
      "           4       1.00      1.00      1.00      1359\n",
      "           5       1.00      1.00      1.00       286\n",
      "           6       1.00      1.00      1.00      1364\n",
      "           7       0.99      1.00      1.00       293\n",
      "           8       1.00      1.00      1.00      1114\n",
      "           9       0.91      1.00      0.95       314\n",
      "          10       0.99      1.00      1.00       286\n",
      "          11       1.00      0.88      0.94       260\n",
      "          12       0.95      0.94      0.95       176\n",
      "          13       1.00      1.00      1.00       284\n",
      "          14       1.00      1.00      1.00       475\n",
      "\n",
      "    accuracy                           1.00     40645\n",
      "   macro avg       0.99      0.98      0.98     40645\n",
      "weighted avg       1.00      1.00      1.00     40645\n",
      "\n",
      "mission accomplished! ---------------------------------- \n",
      "Total Operation Time in 16.344849 seconds\n",
      "/content/drive/My Drive/Colab Notebooks/Newi/2021Project3\n",
      "Done save model in drive:  autocat_model_para.sav\n",
      "Accuracy Model:  0.9976380858654201\n",
      "Cross Validation Accuracies:\n",
      "-------------------------\n",
      "[0.9969860991511871, 0.9979702300405954, 0.9969552514224205, 0.9975088420728895, 0.9966169460249116]\n",
      "\n",
      "    Mean Cross Validation Accuracy:\n",
      "-------------------------\n",
      "0.9972074737424007\n",
      "\n",
      "    Standard Deviation of Cross Validation Accuracy:\n",
      "-------------------------\n",
      "0.00047622806185930634\n",
      "\n",
      "    Training Accuracy:\n",
      "---------------\n",
      "0.9977364571864409\n",
      "\n",
      "\n"
     ]
    },
    {
     "data": {
      "image/png": "[encoded data removed]",
      "text/plain": [
       "<Figure size 432x288 with 1 Axes>"
      ]
     },
     "metadata": {
      "needs_background": "light"
     },
     "output_type": "display_data"
    }
   ],
   "source": [
    "autocat_train_param, autocat_test_param = run_model (X_train4, y_train4, X_test4, y_test4, autocat, 'autocat_model_para')"
   ]
  },
  {
   "cell_type": "code",
   "execution_count": null,
   "metadata": {
    "colab": {
     "base_uri": "https://localhost:8080/"
    },
    "executionInfo": {
     "elapsed": 75482,
     "status": "ok",
     "timestamp": 1637429903840,
     "user": {
      "displayName": "code ai",
      "photoUrl": "https://lh3.googleusercontent.com/a/default-user=s64",
      "userId": "17345359434679870937"
     },
     "user_tz": -120
    },
    "id": "sMNzChSDFNY5",
    "outputId": "d001ec3a-eb26-4170-b4a7-8271296f96b8"
   },
   "outputs": [
    {
     "name": "stderr",
     "output_type": "stream",
     "text": [
      "[flaml.automl: 11-20 17:37:11] {1485} INFO - Data split method: stratified\n",
      "[flaml.automl: 11-20 17:37:11] {1489} INFO - Evaluation method: holdout\n",
      "[flaml.automl: 11-20 17:37:12] {1540} INFO - Minimizing error metric: log_loss\n",
      "[flaml.automl: 11-20 17:37:12] {1577} INFO - List of ML learners in AutoML Run: ['lgbm']\n",
      "[flaml.automl: 11-20 17:37:12] {1826} INFO - iteration 0, current learner lgbm\n",
      "[flaml.automl: 11-20 17:37:12] {1944} INFO - Estimated sufficient time budget=45319s. Estimated necessary time budget=45s.\n",
      "[flaml.automl: 11-20 17:37:12] {2029} INFO -  at 3.6s,\testimator lgbm's best error=0.4347,\tbest estimator lgbm's best error=0.4347\n",
      "[flaml.automl: 11-20 17:37:12] {1826} INFO - iteration 1, current learner lgbm\n",
      "[flaml.automl: 11-20 17:37:12] {2029} INFO -  at 3.9s,\testimator lgbm's best error=0.4347,\tbest estimator lgbm's best error=0.4347\n",
      "[flaml.automl: 11-20 17:37:12] {1826} INFO - iteration 2, current learner lgbm\n",
      "[flaml.automl: 11-20 17:37:13] {2029} INFO -  at 4.2s,\testimator lgbm's best error=0.2299,\tbest estimator lgbm's best error=0.2299\n",
      "[flaml.automl: 11-20 17:37:13] {1826} INFO - iteration 3, current learner lgbm\n",
      "[flaml.automl: 11-20 17:37:13] {2029} INFO -  at 5.0s,\testimator lgbm's best error=0.0924,\tbest estimator lgbm's best error=0.0924\n",
      "[flaml.automl: 11-20 17:37:13] {1826} INFO - iteration 4, current learner lgbm\n",
      "[flaml.automl: 11-20 17:37:14] {2029} INFO -  at 5.2s,\testimator lgbm's best error=0.0924,\tbest estimator lgbm's best error=0.0924\n",
      "[flaml.automl: 11-20 17:37:14] {1826} INFO - iteration 5, current learner lgbm\n",
      "[flaml.automl: 11-20 17:37:14] {2029} INFO -  at 5.9s,\testimator lgbm's best error=0.0924,\tbest estimator lgbm's best error=0.0924\n",
      "[flaml.automl: 11-20 17:37:14] {1826} INFO - iteration 6, current learner lgbm\n",
      "[flaml.automl: 11-20 17:37:15] {2029} INFO -  at 6.7s,\testimator lgbm's best error=0.0924,\tbest estimator lgbm's best error=0.0924\n",
      "[flaml.automl: 11-20 17:37:15] {1826} INFO - iteration 7, current learner lgbm\n",
      "[flaml.automl: 11-20 17:37:16] {2029} INFO -  at 7.1s,\testimator lgbm's best error=0.0924,\tbest estimator lgbm's best error=0.0924\n",
      "[flaml.automl: 11-20 17:37:16] {1826} INFO - iteration 8, current learner lgbm\n",
      "[flaml.automl: 11-20 17:37:17] {2029} INFO -  at 8.9s,\testimator lgbm's best error=0.0924,\tbest estimator lgbm's best error=0.0924\n",
      "[flaml.automl: 11-20 17:37:17] {1826} INFO - iteration 9, current learner lgbm\n",
      "[flaml.automl: 11-20 17:37:24] {2029} INFO -  at 15.9s,\testimator lgbm's best error=0.0924,\tbest estimator lgbm's best error=0.0924\n",
      "[flaml.automl: 11-20 17:37:24] {1826} INFO - iteration 10, current learner lgbm\n",
      "[flaml.automl: 11-20 17:37:28] {2029} INFO -  at 19.2s,\testimator lgbm's best error=0.0924,\tbest estimator lgbm's best error=0.0924\n",
      "[flaml.automl: 11-20 17:37:28] {1826} INFO - iteration 11, current learner lgbm\n",
      "[flaml.automl: 11-20 17:37:55] {2029} INFO -  at 46.9s,\testimator lgbm's best error=0.0569,\tbest estimator lgbm's best error=0.0569\n",
      "[flaml.automl: 11-20 17:38:23] {2242} INFO - retrain lgbm for 27.9s\n",
      "[flaml.automl: 11-20 17:38:23] {2247} INFO - retrained model: LGBMClassifier(colsample_bytree=0.832361601243933,\n",
      "               learning_rate=0.30134099897732936, max_bin=511,\n",
      "               min_child_samples=8, n_estimators=43, num_leaves=20,\n",
      "               reg_alpha=0.002606008350542268, reg_lambda=0.5487740986174037,\n",
      "               verbose=-1)\n",
      "[flaml.automl: 11-20 17:38:23] {1608} INFO - fit succeeded\n",
      "[flaml.automl: 11-20 17:38:23] {1610} INFO - Time taken to find the best model: 46.89142823219299\n",
      "[flaml.automl: 11-20 17:38:23] {1624} WARNING - Time taken to find the best model is 78% of the provided time budget and not all estimators' hyperparameter search converged. Consider increasing the time budget.\n"
     ]
    },
    {
     "name": "stdout",
     "output_type": "stream",
     "text": [
      "-----------------------------------------------------------------\n",
      "-----------------------------------------------------------------\n",
      "LGBMClassifier(colsample_bytree=0.832361601243933,\n",
      "               learning_rate=0.30134099897732936, max_bin=511,\n",
      "               min_child_samples=8, n_estimators=43, num_leaves=20,\n",
      "               reg_alpha=0.002606008350542268, reg_lambda=0.5487740986174037,\n",
      "               verbose=-1)\n",
      "-----------------------------------------------------------------\n",
      "{'n_estimators': 43, 'num_leaves': 20, 'min_child_samples': 8, 'learning_rate': 0.30134099897732936, 'colsample_bytree': 0.832361601243933, 'reg_alpha': 0.002606008350542268, 'reg_lambda': 0.5487740986174037, 'n_jobs': -1, 'max_bin': 511, 'verbose': -1}\n"
     ]
    }
   ],
   "source": [
    "auto_param (X_train4, y_train4, 'lgbm')"
   ]
  },
  {
   "cell_type": "code",
   "execution_count": null,
   "metadata": {
    "id": "6-xmbRMoYRQJ"
   },
   "outputs": [],
   "source": [
    "autolight = lgb.LGBMClassifier(colsample_bytree=0.832361601243933,\n",
    "                  learning_rate=0.30134099897732936, max_bin=511,\n",
    "                  min_child_samples=8, n_estimators=43, num_leaves=20,\n",
    "                  reg_alpha=0.002606008350542268, reg_lambda=0.5487740986174037,\n",
    "                  verbose=-1)"
   ]
  },
  {
   "cell_type": "code",
   "execution_count": null,
   "metadata": {
    "colab": {
     "base_uri": "https://localhost:8080/",
     "height": 1000
    },
    "executionInfo": {
     "elapsed": 571963,
     "status": "ok",
     "timestamp": 1637429731949,
     "user": {
      "displayName": "code ai",
      "photoUrl": "https://lh3.googleusercontent.com/a/default-user=s64",
      "userId": "17345359434679870937"
     },
     "user_tz": -120
    },
    "id": "Nz85WhZaYf3g",
    "outputId": "9d95c1d3-0c27-41e5-876a-fe40c0613dc2"
   },
   "outputs": [
    {
     "name": "stdout",
     "output_type": "stream",
     "text": [
      "LGBMClassifier(colsample_bytree=0.832361601243933,\n",
      "               learning_rate=0.30134099897732936, max_bin=511,\n",
      "               min_child_samples=8, n_estimators=43, num_leaves=20,\n",
      "               reg_alpha=0.002606008350542268, reg_lambda=0.5487740986174037,\n",
      "               verbose=-1)\n",
      "Accuracy of Model: 0.9992372985607085\n",
      "Precision of Model: 0.999237077279667\n",
      "Recall of Model: 0.9992372985607085\n",
      "F1-score of Model: 0.9992366124516587\n",
      "              precision    recall  f1-score   support\n",
      "\n",
      "           0       1.00      1.00      1.00     33222\n",
      "           1       1.00      1.00      1.00       612\n",
      "           2       1.00      0.99      1.00       318\n",
      "           3       1.00      1.00      1.00       282\n",
      "           4       1.00      1.00      1.00      1359\n",
      "           5       1.00      1.00      1.00       286\n",
      "           6       1.00      1.00      1.00      1364\n",
      "           7       0.99      0.99      0.99       293\n",
      "           8       1.00      1.00      1.00      1114\n",
      "           9       0.99      1.00      1.00       314\n",
      "          10       1.00      1.00      1.00       286\n",
      "          11       1.00      0.99      1.00       260\n",
      "          12       0.97      0.96      0.97       176\n",
      "          13       1.00      1.00      1.00       284\n",
      "          14       1.00      1.00      1.00       475\n",
      "\n",
      "    accuracy                           1.00     40645\n",
      "   macro avg       1.00      1.00      1.00     40645\n",
      "weighted avg       1.00      1.00      1.00     40645\n",
      "\n",
      "mission accomplished! ---------------------------------- \n",
      "Total Operation Time in 32.220073 seconds\n",
      "/content/drive/My Drive/Colab Notebooks/Newi/2021Project3\n",
      "Done save model in drive:  autolight_model_para.sav\n",
      "Accuracy Model:  0.9992372985607085\n",
      "Cross Validation Accuracies:\n",
      "-------------------------\n",
      "[0.9989543609300037, 0.9993849181941198, 0.999077348915885, 0.9990465938797478, 0.9989850838074735]\n",
      "\n",
      "    Mean Cross Validation Accuracy:\n",
      "-------------------------\n",
      "0.999089661145446\n",
      "\n",
      "    Standard Deviation of Cross Validation Accuracy:\n",
      "-------------------------\n",
      "0.00015389975508699568\n",
      "\n",
      "    Training Accuracy:\n",
      "---------------\n",
      "0.9998093211216839\n",
      "\n",
      "\n"
     ]
    },
    {
     "data": {
      "image/png": "[encoded data removed]",
      "text/plain": [
       "<Figure size 432x288 with 1 Axes>"
      ]
     },
     "metadata": {
      "needs_background": "light"
     },
     "output_type": "display_data"
    }
   ],
   "source": [
    "autolight_train_param, autolight_test_param = run_model (X_train4, y_train4, X_test4, y_test4, autolight, 'autolight_model_para')"
   ]
  },
  {
   "cell_type": "markdown",
   "metadata": {
    "id": "26oueYEM9Kwh"
   },
   "source": [
    "### Stacking"
   ]
  },
  {
   "cell_type": "code",
   "execution_count": null,
   "metadata": {
    "id": "dzmh4v6MA48w"
   },
   "outputs": [],
   "source": [
    " def load_model(file,X_traino,X_testo,y_traino,y_testo): \n",
    "  loaded_model = pickle.load(open('./result_model/' + file , 'rb'))\n",
    "  result = loaded_model.score(X_testo, y_testo)\n",
    "  print(\"Accuracy Model \", result)\n",
    "\n",
    "  train = loaded_model.predict(X_traino)\n",
    "  test = loaded_model.predict(X_testo)\n",
    "\n",
    "  return train, test"
   ]
  },
  {
   "cell_type": "code",
   "execution_count": null,
   "metadata": {
    "colab": {
     "base_uri": "https://localhost:8080/"
    },
    "executionInfo": {
     "elapsed": 23,
     "status": "ok",
     "timestamp": 1637449999980,
     "user": {
      "displayName": "code ai",
      "photoUrl": "https://lh3.googleusercontent.com/a/default-user=s64",
      "userId": "17345359434679870937"
     },
     "user_tz": -120
    },
    "id": "r-kw8tlMDRcT",
    "outputId": "735a277c-401c-43fc-84c3-c47e973a53a3"
   },
   "outputs": [
    {
     "data": {
      "text/plain": [
       "((162577, 63), (40645, 63), (162577,), (40645,))"
      ]
     },
     "execution_count": 90,
     "metadata": {},
     "output_type": "execute_result"
    }
   ],
   "source": [
    "X_train4.shape , X_test4.shape , y_train4.shape , y_test4.shape "
   ]
  },
  {
   "cell_type": "code",
   "execution_count": null,
   "metadata": {
    "id": "1DwQ7pVU7g0L"
   },
   "outputs": [],
   "source": [
    "from xgboost import XGBClassifier"
   ]
  },
  {
   "cell_type": "code",
   "execution_count": null,
   "metadata": {
    "id": "8iJpsa1O6x1a"
   },
   "outputs": [],
   "source": [
    "rf = RandomForestClassifier(max_features = 0.5500000000000002, n_estimators = 95) \n",
    "xg = XGBClassifier (colsample_bytree = 0.8, gamma = 2 , max_depth = 5, min_child_weight = 5, subsample = 0.8)\n",
    "cat = CatBoostClassifier (depth = 8, iterations = 65 , learning_rate = 0.43573845045893345 )\n",
    "light = lgb.LGBMClassifier (colsample_bytree = 0.952164731370897, min_child_samples = 111, min_child_weight = 0.01, \n",
    "                            num_leaves = 38, reg_alpha = 0, reg_lambda = 0.1, subsample = 0.3029313662262354 )\n",
    "\n",
    "autolight = lgb.LGBMClassifier(colsample_bytree=0.832361601243933,\n",
    "                               learning_rate=0.30134099897732936, max_bin=511,\n",
    "                               min_child_samples=8, n_estimators=43, num_leaves=20,\n",
    "                               reg_alpha=0.002606008350542268, reg_lambda=0.5487740986174037,\n",
    "                               verbose=-1)"
   ]
  },
  {
   "cell_type": "code",
   "execution_count": null,
   "metadata": {
    "colab": {
     "base_uri": "https://localhost:8080/"
    },
    "executionInfo": {
     "elapsed": 1028,
     "status": "ok",
     "timestamp": 1637457943693,
     "user": {
      "displayName": "code ai",
      "photoUrl": "https://lh3.googleusercontent.com/a/default-user=s64",
      "userId": "17345359434679870937"
     },
     "user_tz": -120
    },
    "id": "8dZ94bn1LRVZ",
    "outputId": "720f1b2a-477f-466a-fc30-33b68271ca8e"
   },
   "outputs": [
    {
     "name": "stdout",
     "output_type": "stream",
     "text": [
      "Accuracy Model  0.9984992003936524\n"
     ]
    }
   ],
   "source": [
    "autorf_train_param , autorf_test_param = load_model('autorf_model_para.sav',X_train4,X_test4,y_train4,y_test4)  "
   ]
  },
  {
   "cell_type": "code",
   "execution_count": null,
   "metadata": {
    "colab": {
     "base_uri": "https://localhost:8080/"
    },
    "executionInfo": {
     "elapsed": 976,
     "status": "ok",
     "timestamp": 1637457946486,
     "user": {
      "displayName": "code ai",
      "photoUrl": "https://lh3.googleusercontent.com/a/default-user=s64",
      "userId": "17345359434679870937"
     },
     "user_tz": -120
    },
    "id": "wYcjLAhkjL2A",
    "outputId": "51c58e71-5504-4327-a5f3-d7ced9eba2e7"
   },
   "outputs": [
    {
     "name": "stdout",
     "output_type": "stream",
     "text": [
      "Accuracy Model  0.9968753844261287\n"
     ]
    }
   ],
   "source": [
    "autoxg_train_param , autoxg_test_param = load_model('autoxg_model_para.sav',X_train4,X_test4,y_train4,y_test4)  "
   ]
  },
  {
   "cell_type": "code",
   "execution_count": null,
   "metadata": {
    "colab": {
     "base_uri": "https://localhost:8080/"
    },
    "executionInfo": {
     "elapsed": 13,
     "status": "ok",
     "timestamp": 1637457949342,
     "user": {
      "displayName": "code ai",
      "photoUrl": "https://lh3.googleusercontent.com/a/default-user=s64",
      "userId": "17345359434679870937"
     },
     "user_tz": -120
    },
    "id": "h95Tr9NdjLU-",
    "outputId": "f09f7a1d-cdd0-42be-ecb2-89efa7848ddb"
   },
   "outputs": [
    {
     "name": "stdout",
     "output_type": "stream",
     "text": [
      "Accuracy Model  0.9976380858654201\n"
     ]
    }
   ],
   "source": [
    "autocat_train_param , autocat_test_param = load_model('autocat_model_para.sav',X_train4,X_test4,y_train4,y_test4)  "
   ]
  },
  {
   "cell_type": "code",
   "execution_count": null,
   "metadata": {
    "colab": {
     "base_uri": "https://localhost:8080/"
    },
    "executionInfo": {
     "elapsed": 5,
     "status": "ok",
     "timestamp": 1637457950356,
     "user": {
      "displayName": "code ai",
      "photoUrl": "https://lh3.googleusercontent.com/a/default-user=s64",
      "userId": "17345359434679870937"
     },
     "user_tz": -120
    },
    "id": "LlbTR_gqjLLX",
    "outputId": "fb034633-e4fb-4ac6-8c58-f03bc3feb428"
   },
   "outputs": [
    {
     "name": "stdout",
     "output_type": "stream",
     "text": [
      "Accuracy Model  0.9992372985607085\n"
     ]
    }
   ],
   "source": [
    "autolight_train_param , autolight_test_param = load_model('autolight_model_para.sav',X_train4,X_test4,y_train4,y_test4)  "
   ]
  },
  {
   "cell_type": "code",
   "execution_count": null,
   "metadata": {
    "colab": {
     "base_uri": "https://localhost:8080/",
     "height": 331
    },
    "executionInfo": {
     "elapsed": 280,
     "status": "ok",
     "timestamp": 1637459886481,
     "user": {
      "displayName": "code ai",
      "photoUrl": "https://lh3.googleusercontent.com/a/default-user=s64",
      "userId": "17345359434679870937"
     },
     "user_tz": -120
    },
    "id": "J-xALz3Y-Kng",
    "outputId": "ebb9e904-cf47-4070-bcb7-2c6a5820add3"
   },
   "outputs": [
    {
     "data": {
      "text/html": [
       "<div>\n",
       "<style scoped>\n",
       "    .dataframe tbody tr th:only-of-type {\n",
       "        vertical-align: middle;\n",
       "    }\n",
       "\n",
       "    .dataframe tbody tr th {\n",
       "        vertical-align: top;\n",
       "    }\n",
       "\n",
       "    .dataframe thead th {\n",
       "        text-align: right;\n",
       "    }\n",
       "</style>\n",
       "<table border=\"1\" class=\"dataframe\">\n",
       "  <thead>\n",
       "    <tr style=\"text-align: right;\">\n",
       "      <th></th>\n",
       "      <th>XgBoost</th>\n",
       "      <th>CatBoost</th>\n",
       "      <th>Lightgbm</th>\n",
       "    </tr>\n",
       "  </thead>\n",
       "  <tbody>\n",
       "    <tr>\n",
       "      <th>0</th>\n",
       "      <td>3</td>\n",
       "      <td>3</td>\n",
       "      <td>3</td>\n",
       "    </tr>\n",
       "    <tr>\n",
       "      <th>1</th>\n",
       "      <td>0</td>\n",
       "      <td>0</td>\n",
       "      <td>0</td>\n",
       "    </tr>\n",
       "    <tr>\n",
       "      <th>2</th>\n",
       "      <td>0</td>\n",
       "      <td>0</td>\n",
       "      <td>0</td>\n",
       "    </tr>\n",
       "    <tr>\n",
       "      <th>3</th>\n",
       "      <td>0</td>\n",
       "      <td>0</td>\n",
       "      <td>0</td>\n",
       "    </tr>\n",
       "    <tr>\n",
       "      <th>4</th>\n",
       "      <td>4</td>\n",
       "      <td>4</td>\n",
       "      <td>4</td>\n",
       "    </tr>\n",
       "    <tr>\n",
       "      <th>5</th>\n",
       "      <td>0</td>\n",
       "      <td>0</td>\n",
       "      <td>0</td>\n",
       "    </tr>\n",
       "    <tr>\n",
       "      <th>6</th>\n",
       "      <td>0</td>\n",
       "      <td>0</td>\n",
       "      <td>0</td>\n",
       "    </tr>\n",
       "    <tr>\n",
       "      <th>7</th>\n",
       "      <td>0</td>\n",
       "      <td>0</td>\n",
       "      <td>0</td>\n",
       "    </tr>\n",
       "    <tr>\n",
       "      <th>8</th>\n",
       "      <td>0</td>\n",
       "      <td>0</td>\n",
       "      <td>0</td>\n",
       "    </tr>\n",
       "  </tbody>\n",
       "</table>\n",
       "</div>"
      ],
      "text/plain": [
       "   XgBoost  CatBoost  Lightgbm\n",
       "0        3         3         3\n",
       "1        0         0         0\n",
       "2        0         0         0\n",
       "3        0         0         0\n",
       "4        4         4         4\n",
       "5        0         0         0\n",
       "6        0         0         0\n",
       "7        0         0         0\n",
       "8        0         0         0"
      ]
     },
     "execution_count": 131,
     "metadata": {},
     "output_type": "execute_result"
    }
   ],
   "source": [
    "base_predictions_train = pd.DataFrame( {\n",
    "    #'RandomForest': autorf_train_param.ravel(),\n",
    "    'XgBoost': autoxg_train_param.ravel(),\n",
    "    'CatBoost': autocat_train_param.ravel(), \n",
    "    'Lightgbm': autolight_train_param.ravel(),\n",
    "    })\n",
    "base_predictions_train.head(9) "
   ]
  },
  {
   "cell_type": "code",
   "execution_count": null,
   "metadata": {
    "id": "wc1XAjnK-KgL"
   },
   "outputs": [],
   "source": [
    "autorf_train_param = autorf_train_param.reshape(-1, 1)\n",
    "autoxg_train_param = autoxg_train_param.reshape(-1, 1)\n",
    "autocat_train_param = autocat_train_param.reshape(-1, 1)\n",
    "autolight_train_param = autolight_train_param.reshape(-1, 1)\n",
    "\n",
    "autorf_test_param = autorf_test_param.reshape(-1, 1)\n",
    "autoxg_test_param = autoxg_test_param.reshape(-1, 1)\n",
    "autocat_test_param = autocat_test_param.reshape(-1, 1)\n",
    "autolight_test_param = autolight_test_param.reshape(-1, 1)\n"
   ]
  },
  {
   "cell_type": "code",
   "execution_count": null,
   "metadata": {
    "id": "tgfZ8qaemebi"
   },
   "outputs": [],
   "source": [
    "#X_train_stack = np.concatenate(( autorf_train_param, autoxg_train_param, autocat_train_param, autolight_train_param), axis=1)\n",
    "#X_test_stack = np.concatenate((  autorf_test_param, autoxg_test_param, autocat_test_param, autolight_test_param), axis=1)\n",
    "\n",
    "X_train_stack = np.concatenate(( autoxg_train_param, autocat_train_param, autolight_train_param), axis=1)\n",
    "X_test_stack = np.concatenate((  autoxg_test_param, autocat_test_param, autolight_test_param), axis=1)"
   ]
  },
  {
   "cell_type": "markdown",
   "metadata": {
    "id": "eV2NECDdrf6f"
   },
   "source": [
    "### Stage IV"
   ]
  },
  {
   "cell_type": "code",
   "execution_count": null,
   "metadata": {
    "colab": {
     "base_uri": "https://localhost:8080/",
     "height": 1000
    },
    "executionInfo": {
     "elapsed": 89097,
     "status": "ok",
     "timestamp": 1637460080665,
     "user": {
      "displayName": "code ai",
      "photoUrl": "https://lh3.googleusercontent.com/a/default-user=s64",
      "userId": "17345359434679870937"
     },
     "user_tz": -120
    },
    "id": "qjjGpL4eOIp9",
    "outputId": "39bb795e-45ab-4179-bc61-f8f243fd4a6b"
   },
   "outputs": [
    {
     "name": "stdout",
     "output_type": "stream",
     "text": [
      "XGBClassifier(colsample_bylevel=0.8461545925967309,\n",
      "              colsample_bytree=0.7578325666214893, grow_policy='lossguide',\n",
      "              learning_rate=0.6461109884314401, max_depth=0, max_leaves=12,\n",
      "              min_child_weight=0.8466284808746228, n_estimators=4, n_jobs=-1,\n",
      "              objective='multi:softprob', reg_alpha=0.0633928775829671,\n",
      "              reg_lambda=3.2153305687342706, subsample=0.8471714262755639,\n",
      "              tree_method='hist', use_label_encoder=False, verbosity=0)\n",
      "Accuracy of Model: 0.9993111083774142\n",
      "Precision of Model: 0.9993102580826004\n",
      "Recall of Model: 0.9993111083774142\n",
      "F1-score of Model: 0.9993098651395923\n",
      "              precision    recall  f1-score   support\n",
      "\n",
      "           0       1.00      1.00      1.00     33222\n",
      "           1       1.00      1.00      1.00       612\n",
      "           2       0.99      1.00      1.00       318\n",
      "           3       1.00      1.00      1.00       282\n",
      "           4       1.00      1.00      1.00      1359\n",
      "           5       1.00      1.00      1.00       286\n",
      "           6       1.00      1.00      1.00      1364\n",
      "           7       0.99      0.99      0.99       293\n",
      "           8       1.00      1.00      1.00      1114\n",
      "           9       0.99      1.00      1.00       314\n",
      "          10       1.00      1.00      1.00       286\n",
      "          11       1.00      0.99      1.00       260\n",
      "          12       0.98      0.96      0.97       176\n",
      "          13       1.00      1.00      1.00       284\n",
      "          14       1.00      1.00      1.00       475\n",
      "\n",
      "    accuracy                           1.00     40645\n",
      "   macro avg       1.00      1.00      1.00     40645\n",
      "weighted avg       1.00      1.00      1.00     40645\n",
      "\n",
      "mission accomplished! ---------------------------------- \n",
      "Total Operation Time in 2.175211 seconds\n",
      "/content/drive/My Drive/Colab Notebooks/Newi/2021Project3\n",
      "Done save model in drive:  autoxg_stack_para.sav\n",
      "Accuracy Model:  0.9993111083774142\n",
      "Cross Validation Accuracies:\n",
      "-------------------------\n",
      "[0.99969245909706, 0.99969245909706, 0.9996616946024912, 0.9996616946024912, 0.999630939566354]\n",
      "\n",
      "    Mean Cross Validation Accuracy:\n",
      "-------------------------\n",
      "0.9996678493930913\n",
      "\n",
      "    Standard Deviation of Cross Validation Accuracy:\n",
      "-------------------------\n",
      "2.3019006335162996e-05\n",
      "\n",
      "    Training Accuracy:\n",
      "---------------\n",
      "0.999674000627395\n",
      "\n",
      "\n"
     ]
    },
    {
     "data": {
      "image/png": "[encoded data removed]",
      "text/plain": [
       "<Figure size 432x288 with 1 Axes>"
      ]
     },
     "metadata": {
      "needs_background": "light"
     },
     "output_type": "display_data"
    }
   ],
   "source": [
    "autoxg_train_param, autoxg_test_param = run_model (X_train_stack, y_train4, X_test_stack, y_test4, autoxg, 'autoxg_stack_para') #Stack 3"
   ]
  },
  {
   "cell_type": "code",
   "execution_count": null,
   "metadata": {
    "colab": {
     "base_uri": "https://localhost:8080/",
     "height": 1000
    },
    "executionInfo": {
     "elapsed": 97647,
     "status": "ok",
     "timestamp": 1637458579877,
     "user": {
      "displayName": "code ai",
      "photoUrl": "https://lh3.googleusercontent.com/a/default-user=s64",
      "userId": "17345359434679870937"
     },
     "user_tz": -120
    },
    "id": "8a78fRKfkls_",
    "outputId": "7d369384-9b35-40c9-e24f-25c78ec494a7"
   },
   "outputs": [
    {
     "name": "stdout",
     "output_type": "stream",
     "text": [
      "XGBClassifier(colsample_bylevel=0.8461545925967309,\n",
      "              colsample_bytree=0.7578325666214893, grow_policy='lossguide',\n",
      "              learning_rate=0.6461109884314401, max_depth=0, max_leaves=12,\n",
      "              min_child_weight=0.8466284808746228, n_estimators=4, n_jobs=-1,\n",
      "              objective='multi:softprob', reg_alpha=0.0633928775829671,\n",
      "              reg_lambda=3.2153305687342706, subsample=0.8471714262755639,\n",
      "              tree_method='hist', use_label_encoder=False, verbosity=0)\n",
      "Accuracy of Model: 0.9991142821995326\n",
      "Precision of Model: 0.9991145755338966\n",
      "Recall of Model: 0.9991142821995326\n",
      "F1-score of Model: 0.9991124508384596\n",
      "              precision    recall  f1-score   support\n",
      "\n",
      "           0       1.00      1.00      1.00     33222\n",
      "           1       1.00      1.00      1.00       612\n",
      "           2       0.98      0.99      0.98       318\n",
      "           3       1.00      1.00      1.00       282\n",
      "           4       1.00      1.00      1.00      1359\n",
      "           5       1.00      1.00      1.00       286\n",
      "           6       1.00      1.00      1.00      1364\n",
      "           7       0.99      0.99      0.99       293\n",
      "           8       1.00      1.00      1.00      1114\n",
      "           9       0.99      1.00      1.00       314\n",
      "          10       1.00      1.00      1.00       286\n",
      "          11       1.00      0.99      1.00       260\n",
      "          12       0.98      0.94      0.96       176\n",
      "          13       1.00      1.00      1.00       284\n",
      "          14       1.00      1.00      1.00       475\n",
      "\n",
      "    accuracy                           1.00     40645\n",
      "   macro avg       1.00      0.99      0.99     40645\n",
      "weighted avg       1.00      1.00      1.00     40645\n",
      "\n",
      "mission accomplished! ---------------------------------- \n",
      "Total Operation Time in 2.785940 seconds\n",
      "/content/drive/My Drive/Colab Notebooks/Newi/2021Project3\n",
      "Done save model in drive:  autoxg_stack_para.sav\n",
      "Accuracy Model:  0.9991142821995326\n",
      "Cross Validation Accuracies:\n",
      "-------------------------\n",
      "[0.9997232131873539, 0.9995079345552959, 0.9995694294940797, 0.999630939566354, 0.9995079194218053]\n",
      "\n",
      "    Mean Cross Validation Accuracy:\n",
      "-------------------------\n",
      "0.9995878872449776\n",
      "\n",
      "    Standard Deviation of Cross Validation Accuracy:\n",
      "-------------------------\n",
      "8.160218986571978e-05\n",
      "\n",
      "    Training Accuracy:\n",
      "---------------\n",
      "0.9996124913118092\n",
      "\n",
      "\n"
     ]
    },
    {
     "data": {
      "image/png": "[encoded data removed]",
      "text/plain": [
       "<Figure size 432x288 with 1 Axes>"
      ]
     },
     "metadata": {
      "needs_background": "light"
     },
     "output_type": "display_data"
    }
   ],
   "source": [
    "autoxg_train_param, autoxg_test_param = run_model (X_train_stack, y_train4, X_test_stack, y_test4, autoxg, 'autoxg_stack_para') # Stack 4 "
   ]
  },
  {
   "cell_type": "code",
   "execution_count": null,
   "metadata": {
    "id": "AXxR7Tr9nKt_"
   },
   "outputs": [],
   "source": []
  }
 ],
 "metadata": {
  "accelerator": "TPU",
  "colab": {
   "collapsed_sections": [
    "WKWZTWdPyDPm",
    "t0qdjkFuxi6A",
    "LEW159AXQ-JD",
    "WweTIWywdxqo",
    "uNn8LyPzvzYb",
    "gBlRuIuq2wfS",
    "C6nLbynH4wIf",
    "0VZD2kAnVPvp",
    "HNMU79TpuzHW",
    "4J2nORvtVHba",
    "quud7ZacYiRT"
   ],
   "machine_shape": "hm",
   "name": "Data2018v3.ipynb",
   "provenance": [
    {
     "file_id": "10T4Z52FeM9va46aD9idMiWjHNddQWqCa",
     "timestamp": 1638557484069
    },
    {
     "file_id": "1leBHI4uwNTWQXgYC5-e5YqmTKesIywhr",
     "timestamp": 1629872490090
    },
    {
     "file_id": "1a70Px3bdHFTheGarP0o2Z58-2Juvi4TF",
     "timestamp": 1627856685375
    },
    {
     "file_id": "1EaLAnAvzOQEXkBYZD7vpGfn_ZJyj48Uw",
     "timestamp": 1620742708793
    }
   ]
  },
  "kernelspec": {
   "display_name": "Python 3",
   "language": "python",
   "name": "python3"
  },
  "language_info": {
   "codemirror_mode": {
    "name": "ipython",
    "version": 3
   },
   "file_extension": ".py",
   "mimetype": "text/x-python",
   "name": "python",
   "nbconvert_exporter": "python",
   "pygments_lexer": "ipython3",
   "version": "3.8.8"
  }
 },
 "nbformat": 4,
 "nbformat_minor": 1
}
